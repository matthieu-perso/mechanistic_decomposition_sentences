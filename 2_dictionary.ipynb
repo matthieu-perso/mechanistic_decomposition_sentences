{
 "cells": [
  {
   "cell_type": "markdown",
   "metadata": {
    "id": "LMBRhdDbKgwn"
   },
   "source": [
    "# Supervised Dictionary Learning for Sentence Decomposition\n",
    "\n",
    "We learn a **sparse dictionary** over contextual embeddings. The goal is to decompose each embedding into a set of **interpretable atoms** that reveal underlying linguistic structure.\n",
    "\n",
    "To guide this decomposition, we extend the dictionary learning objective with **supervised classification losses**. In addition to reconstructing the original embedding, the sparse representation is trained to predict:\n",
    "- The **part-of-speech (POS)** of the word\n",
    "- Its **dependency relation** within the sentence"
   ]
  },
  {
   "cell_type": "markdown",
   "metadata": {},
   "source": [
    "### Setup & Imports\n",
    "\n",
    "All dependencies are listed in `requirements.txt`. If needed:\n",
    "\n",
    "```bash\n",
    "pip install -r requirements.txt"
   ]
  },
  {
   "cell_type": "code",
   "execution_count": 1,
   "metadata": {},
   "outputs": [],
   "source": [
    "# Standard library\n",
    "import random\n",
    "import pickle\n",
    "\n",
    "# Third-party\n",
    "import pandas as pd\n",
    "import numpy as np\n",
    "import torch\n",
    "import optuna\n",
    "from tqdm import tqdm\n",
    "from sklearn.preprocessing import LabelEncoder\n",
    "from sklearn.metrics import f1_score\n",
    "from transformers import AutoTokenizer, AutoModel\n",
    "import seaborn as sns\n",
    "import matplotlib.pyplot as plt\n",
    "\n",
    "# PyTorch submodules\n",
    "import torch.nn as nn\n",
    "import torch.optim as optim\n",
    "from torch.utils.data import Subset, DataLoader, TensorDataset, random_split"
   ]
  },
  {
   "cell_type": "markdown",
   "metadata": {},
   "source": [
    "### Features"
   ]
  },
  {
   "cell_type": "code",
   "execution_count": 5,
   "metadata": {},
   "outputs": [
    {
     "data": {
      "text/html": [
       "Finishing last run (ID:p64gzlcl) before initializing another..."
      ],
      "text/plain": [
       "<IPython.core.display.HTML object>"
      ]
     },
     "metadata": {},
     "output_type": "display_data"
    },
    {
     "data": {
      "application/vnd.jupyter.widget-view+json": {
       "model_id": "62f47a2c35d54380ad6515462787c15a",
       "version_major": 2,
       "version_minor": 0
      },
      "text/plain": [
       "VBox(children=(Label(value='0.005 MB of 0.009 MB uploaded\\r'), FloatProgress(value=0.5770707624794296, max=1.0…"
      ]
     },
     "metadata": {},
     "output_type": "display_data"
    },
    {
     "data": {
      "text/html": [
       " View run <strong style=\"color:#cdcd00\">wise-frog-10</strong> at: <a href='https://wandb.ai/mech_decomp/mechanistic-decomposition-sentence-embeddings/runs/p64gzlcl' target=\"_blank\">https://wandb.ai/mech_decomp/mechanistic-decomposition-sentence-embeddings/runs/p64gzlcl</a><br/> View project at: <a href='https://wandb.ai/mech_decomp/mechanistic-decomposition-sentence-embeddings' target=\"_blank\">https://wandb.ai/mech_decomp/mechanistic-decomposition-sentence-embeddings</a><br/>Synced 4 W&B file(s), 0 media file(s), 2 artifact file(s) and 0 other file(s)"
      ],
      "text/plain": [
       "<IPython.core.display.HTML object>"
      ]
     },
     "metadata": {},
     "output_type": "display_data"
    },
    {
     "data": {
      "text/html": [
       "Find logs at: <code>./wandb/run-20250616_224110-p64gzlcl/logs</code>"
      ],
      "text/plain": [
       "<IPython.core.display.HTML object>"
      ]
     },
     "metadata": {},
     "output_type": "display_data"
    },
    {
     "data": {
      "text/html": [
       "Successfully finished last run (ID:p64gzlcl). Initializing new run:<br/>"
      ],
      "text/plain": [
       "<IPython.core.display.HTML object>"
      ]
     },
     "metadata": {},
     "output_type": "display_data"
    },
    {
     "data": {
      "application/vnd.jupyter.widget-view+json": {
       "model_id": "cd847445882d4d45b3041f293f4bd63c",
       "version_major": 2,
       "version_minor": 0
      },
      "text/plain": [
       "VBox(children=(Label(value='Waiting for wandb.init()...\\r'), FloatProgress(value=0.011167308799405066, max=1.0…"
      ]
     },
     "metadata": {},
     "output_type": "display_data"
    },
    {
     "data": {
      "text/html": [
       "wandb version 0.20.1 is available!  To upgrade, please run:\n",
       " $ pip install wandb --upgrade"
      ],
      "text/plain": [
       "<IPython.core.display.HTML object>"
      ]
     },
     "metadata": {},
     "output_type": "display_data"
    },
    {
     "data": {
      "text/html": [
       "Tracking run with wandb version 0.16.6"
      ],
      "text/plain": [
       "<IPython.core.display.HTML object>"
      ]
     },
     "metadata": {},
     "output_type": "display_data"
    },
    {
     "data": {
      "text/html": [
       "Run data is saved locally in <code>/Users/vikram/projects/mechanistic_decomposition_sentences/wandb/run-20250616_224645-nhx5edbs</code>"
      ],
      "text/plain": [
       "<IPython.core.display.HTML object>"
      ]
     },
     "metadata": {},
     "output_type": "display_data"
    },
    {
     "data": {
      "text/html": [
       "Syncing run <strong><a href='https://wandb.ai/mech_decomp/mechanistic-decomposition-sentence-embeddings/runs/nhx5edbs' target=\"_blank\">logical-moon-11</a></strong> to <a href='https://wandb.ai/mech_decomp/mechanistic-decomposition-sentence-embeddings' target=\"_blank\">Weights & Biases</a> (<a href='https://wandb.me/run' target=\"_blank\">docs</a>)<br/>"
      ],
      "text/plain": [
       "<IPython.core.display.HTML object>"
      ]
     },
     "metadata": {},
     "output_type": "display_data"
    },
    {
     "data": {
      "text/html": [
       " View project at <a href='https://wandb.ai/mech_decomp/mechanistic-decomposition-sentence-embeddings' target=\"_blank\">https://wandb.ai/mech_decomp/mechanistic-decomposition-sentence-embeddings</a>"
      ],
      "text/plain": [
       "<IPython.core.display.HTML object>"
      ]
     },
     "metadata": {},
     "output_type": "display_data"
    },
    {
     "data": {
      "text/html": [
       " View run at <a href='https://wandb.ai/mech_decomp/mechanistic-decomposition-sentence-embeddings/runs/nhx5edbs' target=\"_blank\">https://wandb.ai/mech_decomp/mechanistic-decomposition-sentence-embeddings/runs/nhx5edbs</a>"
      ],
      "text/plain": [
       "<IPython.core.display.HTML object>"
      ]
     },
     "metadata": {},
     "output_type": "display_data"
    },
    {
     "name": "stderr",
     "output_type": "stream",
     "text": [
      "\u001b[34m\u001b[1mwandb\u001b[0m:   3 of 3 files downloaded.  \n"
     ]
    },
    {
     "data": {
      "application/vnd.jupyter.widget-view+json": {
       "model_id": "2f7d4547ddb24f8fb4a2ec7dd4d98a41",
       "version_major": 2,
       "version_minor": 0
      },
      "text/plain": [
       "VBox(children=(Label(value='0.001 MB of 0.001 MB uploaded\\r'), FloatProgress(value=1.0, max=1.0)))"
      ]
     },
     "metadata": {},
     "output_type": "display_data"
    },
    {
     "data": {
      "text/html": [
       " View run <strong style=\"color:#cdcd00\">logical-moon-11</strong> at: <a href='https://wandb.ai/mech_decomp/mechanistic-decomposition-sentence-embeddings/runs/nhx5edbs' target=\"_blank\">https://wandb.ai/mech_decomp/mechanistic-decomposition-sentence-embeddings/runs/nhx5edbs</a><br/> View project at: <a href='https://wandb.ai/mech_decomp/mechanistic-decomposition-sentence-embeddings' target=\"_blank\">https://wandb.ai/mech_decomp/mechanistic-decomposition-sentence-embeddings</a><br/>Synced 5 W&B file(s), 0 media file(s), 0 artifact file(s) and 0 other file(s)"
      ],
      "text/plain": [
       "<IPython.core.display.HTML object>"
      ]
     },
     "metadata": {},
     "output_type": "display_data"
    },
    {
     "data": {
      "text/html": [
       "Find logs at: <code>./wandb/run-20250616_224645-nhx5edbs/logs</code>"
      ],
      "text/plain": [
       "<IPython.core.display.HTML object>"
      ]
     },
     "metadata": {},
     "output_type": "display_data"
    }
   ],
   "source": [
    "import wandb\n",
    "\n",
    "embedding_dirs = {}\n",
    "run = wandb.init(project=\"mechanistic-decomposition-sentence-embeddings\", reinit=True)\n",
    "artifact = run.use_artifact(\"embeddings-all-MiniLM-L6-v2:latest\", type=\"embeddings\")\n",
    "artifact_dir = artifact.download()\n",
    "run.finish()"
   ]
  },
  {
   "cell_type": "code",
   "execution_count": 17,
   "metadata": {},
   "outputs": [],
   "source": [
    "import os\n",
    "import glob\n",
    "import pandas as pd\n",
    "import pickle\n",
    "\n",
    "def load_embeddings_from_dirs(artifact_dir):\n",
    "    \"\"\"\n",
    "    Loads both CSV and pickle files for the embedding model from the respective artifact directories.\n",
    "    \"\"\"\n",
    "    all_embeddings = {}\n",
    "    dir_path = artifact_dir\n",
    "    # Find the CSV file\n",
    "    csv_files = glob.glob(os.path.join(dir_path, \"*.csv\"))\n",
    "    pkl_files = glob.glob(os.path.join(dir_path, \"*.pkl\"))\n",
    "\n",
    "    if not csv_files:\n",
    "        raise FileNotFoundError(f\"No CSV file found in {dir_path}\")\n",
    "    if not pkl_files:\n",
    "        raise FileNotFoundError(f\"No pickle file found in {dir_path}\")\n",
    "\n",
    "    csv_path = csv_files[0]\n",
    "    pkl_path = pkl_files[0]\n",
    "\n",
    "    df = pd.read_csv(csv_path)\n",
    "    with open(pkl_path, \"rb\") as f:\n",
    "        embeddings = pickle.load(f)\n",
    "\n",
    "    df['embedding'] = [embeddings[idx] for idx in df['embedding_idx']]\n",
    "\n",
    "    return df\n",
    "\n",
    "embedding_data = load_embeddings_from_dirs(artifact_dir)"
   ]
  },
  {
   "cell_type": "code",
   "execution_count": 19,
   "metadata": {},
   "outputs": [],
   "source": [
    "df = embedding_data\n",
    "X = torch.stack(df['embedding'].tolist())\n",
    "\n",
    "le_pos = LabelEncoder().fit(df[\"pos\"])\n",
    "le_dep = LabelEncoder().fit(df[\"dep\"])\n",
    "le_word = LabelEncoder().fit(df[\"word\"])\n",
    "\n",
    "y_pos = torch.tensor(le_pos.transform(df['pos'].values))\n",
    "y_dep = torch.tensor(le_dep.transform(df['dep'].values))\n",
    "y_word = torch.tensor(le_word.transform(df['word'].values))\n",
    "y_position = torch.tensor(df['position'].values)\n",
    "\n",
    "num_pos = df['pos'].nunique()\n",
    "num_dep = df['dep'].nunique()"
   ]
  },
  {
   "cell_type": "markdown",
   "metadata": {},
   "source": [
    "## Load the trained dictionary learning model"
   ]
  },
  {
   "cell_type": "code",
   "execution_count": 20,
   "metadata": {},
   "outputs": [
    {
     "data": {
      "text/html": [
       "wandb version 0.20.1 is available!  To upgrade, please run:\n",
       " $ pip install wandb --upgrade"
      ],
      "text/plain": [
       "<IPython.core.display.HTML object>"
      ]
     },
     "metadata": {},
     "output_type": "display_data"
    },
    {
     "data": {
      "text/html": [
       "Tracking run with wandb version 0.16.6"
      ],
      "text/plain": [
       "<IPython.core.display.HTML object>"
      ]
     },
     "metadata": {},
     "output_type": "display_data"
    },
    {
     "data": {
      "text/html": [
       "Run data is saved locally in <code>/Users/vikram/projects/mechanistic_decomposition_sentences/wandb/run-20250616_225816-glnwizgr</code>"
      ],
      "text/plain": [
       "<IPython.core.display.HTML object>"
      ]
     },
     "metadata": {},
     "output_type": "display_data"
    },
    {
     "data": {
      "text/html": [
       "Syncing run <strong><a href='https://wandb.ai/mech_decomp/mechanistic_decomposition_sentences/runs/glnwizgr' target=\"_blank\">royal-wildflower-1</a></strong> to <a href='https://wandb.ai/mech_decomp/mechanistic_decomposition_sentences' target=\"_blank\">Weights & Biases</a> (<a href='https://wandb.me/run' target=\"_blank\">docs</a>)<br/>"
      ],
      "text/plain": [
       "<IPython.core.display.HTML object>"
      ]
     },
     "metadata": {},
     "output_type": "display_data"
    },
    {
     "data": {
      "text/html": [
       " View project at <a href='https://wandb.ai/mech_decomp/mechanistic_decomposition_sentences' target=\"_blank\">https://wandb.ai/mech_decomp/mechanistic_decomposition_sentences</a>"
      ],
      "text/plain": [
       "<IPython.core.display.HTML object>"
      ]
     },
     "metadata": {},
     "output_type": "display_data"
    },
    {
     "data": {
      "text/html": [
       " View run at <a href='https://wandb.ai/mech_decomp/mechanistic_decomposition_sentences/runs/glnwizgr' target=\"_blank\">https://wandb.ai/mech_decomp/mechanistic_decomposition_sentences/runs/glnwizgr</a>"
      ],
      "text/plain": [
       "<IPython.core.display.HTML object>"
      ]
     },
     "metadata": {},
     "output_type": "display_data"
    },
    {
     "name": "stderr",
     "output_type": "stream",
     "text": [
      "\u001b[34m\u001b[1mwandb\u001b[0m:   11 of 11 files downloaded.  \n"
     ]
    }
   ],
   "source": [
    "import wandb\n",
    "run = wandb.init()\n",
    "artifact = run.use_artifact('viknat-org/mechanistic-decomposition-sentence-embeddings/dict-learning-results-all-MiniLM-L6-v2-20250413_141428:v0', type='dict-learning-results')\n",
    "artifact_dir = artifact.download()"
   ]
  },
  {
   "cell_type": "code",
   "execution_count": 30,
   "metadata": {},
   "outputs": [
    {
     "data": {
      "text/plain": [
       "SupervisedDictionaryLearning(\n",
       "  (S): Linear(in_features=384, out_features=64, bias=False)\n",
       "  (D): Linear(in_features=64, out_features=384, bias=False)\n",
       "  (pos_classifier): Linear(in_features=64, out_features=17, bias=True)\n",
       "  (dep_classifier): Linear(in_features=64, out_features=49, bias=True)\n",
       "  (activation): Identity()\n",
       ")"
      ]
     },
     "execution_count": 30,
     "metadata": {},
     "output_type": "execute_result"
    }
   ],
   "source": [
    "class SupervisedDictionaryLearning(nn.Module):\n",
    "    def __init__(self, d, k, num_pos, num_dep, nonlinearity='identity'):\n",
    "        \"\"\"\n",
    "        Initialize the Supervised Dictionary Learning model.\n",
    "        \n",
    "        Args:\n",
    "            d: Input dimension (embedding size)\n",
    "            k: Dictionary size (number of atoms)\n",
    "            num_pos: Number of POS tags\n",
    "            num_dep: Number of dependency relations\n",
    "            nonlinearity: Activation function ('identity' or 'relu')\n",
    "        \"\"\"\n",
    "        super().__init__()\n",
    "        self.S = nn.Linear(d, k, bias=False)   # Encoder (contextual to sparse code)\n",
    "        self.D = nn.Linear(k, d, bias=False)   # Decoder (sparse code to contextual)\n",
    "\n",
    "        # Supervised features\n",
    "        self.pos_classifier = nn.Linear(k, num_pos)\n",
    "        self.dep_classifier = nn.Linear(k, num_dep)\n",
    "\n",
    "        # Optional nonlinearity\n",
    "        if nonlinearity == 'relu':\n",
    "            self.activation = nn.ReLU()\n",
    "        else:\n",
    "            self.activation = nn.Identity()\n",
    "\n",
    "    def forward(self, X):\n",
    "        \"\"\"\n",
    "        Forward pass through the model.\n",
    "        \n",
    "        Args:\n",
    "            X: Input tensor of shape (batch_size, d)\n",
    "            \n",
    "        Returns:\n",
    "            x_rec: Reconstructed input\n",
    "            S: Sparse codes\n",
    "            pos_logits: POS tag logits\n",
    "            dep_logits: Dependency relation logits\n",
    "        \"\"\"\n",
    "        S = self.activation(self.S(X))\n",
    "        x_rec = self.D(S)\n",
    "        pos_logits = self.pos_classifier(S)\n",
    "        dep_logits = self.dep_classifier(S)\n",
    "        return x_rec, S, pos_logits, dep_logits\n",
    "\n",
    "model_path = f'{artifact_dir}/dict_learning_20250413_122230/model.pth'\n",
    "# Previously learned parameters\n",
    "state_dict = torch.load(model_path, map_location=torch.device('cpu'))\n",
    "d = state_dict['S.weight'].shape[1]  # Input dimension (embedding size)\n",
    "k = state_dict['S.weight'].shape[0]  # Dictionary size (number of atoms)\n",
    "num_pos = state_dict['pos_classifier.weight'].shape[0]  # Number of POS tags\n",
    "num_dep = state_dict['dep_classifier.weight'].shape[0]  # Number of dependency relations\n",
    "nonlinearity = 'identity'\n",
    "\n",
    "dictionary_model = SupervisedDictionaryLearning(d, k, num_pos, num_dep, nonlinearity)\n",
    "dictionary_model.load_state_dict(state_dict)\n",
    "dictionary_model.eval()"
   ]
  },
  {
   "cell_type": "code",
   "execution_count": 34,
   "metadata": {},
   "outputs": [],
   "source": [
    "class LinearProbe(nn.Module):\n",
    "    def __init__(self, input_dim, output_dim):\n",
    "        super().__init__()\n",
    "        self.linear = nn.Linear(input_dim, output_dim)\n",
    "\n",
    "    def forward(self, x):\n",
    "        return self.linear(x)\n",
    "\n",
    "with open('probe_minilm_pos_linear.pkl', 'rb') as f:\n",
    "    probe_minilm_linear = pickle.load(f)"
   ]
  },
  {
   "cell_type": "code",
   "execution_count": 5,
   "metadata": {},
   "outputs": [],
   "source": [
    "device = torch.device(\"cuda\" if torch.cuda.is_available() else \"cpu\")\n",
    "\n",
    "# ------------------------------\n",
    "# Define Model\n",
    "# ------------------------------\n",
    "class SupervisedDictionaryLearning(nn.Module):\n",
    "    def __init__(self, d, k, num_pos, num_dep, nonlinearity='identity'):\n",
    "        super().__init__()\n",
    "        self.S = nn.Linear(d, k, bias=False)   # Encoder (contextual to sparse code)\n",
    "        self.D = nn.Linear(k, d, bias=False)   # Decoder (sparse code to contextual)\n",
    "\n",
    "        # supervised features\n",
    "        self.pos_classifier = nn.Linear(k, num_pos)\n",
    "        self.dep_classifier = nn.Linear(k, num_dep)\n",
    "\n",
    "        # optional nonlinearity\n",
    "        if nonlinearity == 'relu':\n",
    "            self.activation = nn.ReLU()\n",
    "        else:\n",
    "            self.activation = nn.Identity()\n",
    "\n",
    "    def forward(self, X):\n",
    "        \"\"\"\n",
    "        Returns:\n",
    "          x_rec:    (batch_size, d)        -> reconstruction of X\n",
    "          S:        (batch_size, k)        -> sparse codes\n",
    "          pos_logits: (batch_size, num_pos)\n",
    "          dep_logits: (batch_size, num_dep)\n",
    "        \"\"\"\n",
    "        S = self.activation(self.S(X))\n",
    "        x_rec = self.D(S)\n",
    "        pos_logits = self.pos_classifier(S)\n",
    "        dep_logits = self.dep_classifier(S)\n",
    "        return x_rec, S, pos_logits, dep_logits\n",
    "\n",
    "# ------------------------------\n",
    "# Composite Objective\n",
    "# ------------------------------\n",
    "def objective(trial):\n",
    "    # Hyperparams from trial\n",
    "    d = X.shape[1]  # embedding dim\n",
    "    k = trial.suggest_categorical(\"k\", [64, 128])#, 256, 512])\n",
    "    lr = trial.suggest_float(\"lr\", 1e-4, 1e-2, log=True)\n",
    "    nonlin = trial.suggest_categorical(\"nonlinearity\", [\"identity\", \"relu\"])\n",
    "\n",
    "    # Weights for multi-objective\n",
    "    alpha_pos = trial.suggest_float(\"alpha_pos\", 0.0, 1.0)\n",
    "    alpha_dep = trial.suggest_float(\"alpha_dep\", 0.0, 1.0)\n",
    "    alpha_static = trial.suggest_float(\"alpha_static\", 0.0, 1.0)\n",
    "    alpha_sparse = trial.suggest_float(\"alpha_sparse\", 0.8, 1.0)\n",
    "\n",
    "    # L1 lambdas\n",
    "    l1_s_contextual = trial.suggest_float(\"l1_s_contextual\", 1e-6, 1.0, log=True)\n",
    "    l1_s_static = trial.suggest_float(\"l1_s_static\", 1e-6, 1.0, log=True)\n",
    "\n",
    "    model = SupervisedDictionaryLearning(d, k, num_pos, num_dep, nonlinearity=nonlin).to(device)\n",
    "    optimizer = optim.Adam(model.parameters(), lr=lr)\n",
    "\n",
    "    # Base losses\n",
    "    criterion_recon = nn.MSELoss()\n",
    "    criterion_class = nn.CrossEntropyLoss()\n",
    "\n",
    "    # Setup data\n",
    "    dataset = TensorDataset(X, y_pos, y_dep, word_static_tensor)\n",
    "    train_size = int(0.8 * len(dataset))\n",
    "    val_size = len(dataset) - train_size\n",
    "    train_set, val_set = random_split(dataset, [train_size, val_size])\n",
    "\n",
    "    train_loader = DataLoader(train_set, batch_size=256, shuffle=True)\n",
    "    val_loader = DataLoader(val_set, batch_size=256, shuffle=False)\n",
    "\n",
    "    # Training loop\n",
    "    model.train()\n",
    "    for epoch in tqdm(range(40), desc=f\"Trial {trial.number}\"):\n",
    "        for batch in train_loader:\n",
    "            x_batch, y_p, y_d, w_static = [x.to(device) for x in batch]\n",
    "            optimizer.zero_grad()\n",
    "\n",
    "            # Forward pass for contextual\n",
    "            x_rec, S_contextual, p_pred, d_pred = model(x_batch)\n",
    "\n",
    "            # Basic losses\n",
    "            loss_recon = criterion_recon(x_rec, x_batch)\n",
    "            loss_pos = criterion_class(p_pred, y_p)\n",
    "            loss_dep = criterion_class(d_pred, y_d)\n",
    "            loss_sparse_contextual = l1_s_contextual * torch.norm(S_contextual, p=1)\n",
    "\n",
    "            # Now handle static embedding\n",
    "            with torch.no_grad():\n",
    "                pass\n",
    "            x_rec_static, S_static, _, _ = model(w_static)\n",
    "            loss_static_recon = criterion_recon(x_rec_static, w_static)\n",
    "            loss_sparse_static = l1_s_static * torch.norm(S_static, p=1)\n",
    "\n",
    "            # Weighted sum\n",
    "            # We assume we want to emphasize reconstruction above all else, but still incorporate others:\n",
    "            loss = (\n",
    "                loss_recon\n",
    "                + alpha_pos * loss_pos\n",
    "                + alpha_dep * loss_dep\n",
    "                + alpha_sparse * (loss_sparse_contextual + loss_sparse_static)\n",
    "                + alpha_static * loss_static_recon\n",
    "            )\n",
    "\n",
    "            loss.backward()\n",
    "            optimizer.step()\n",
    "\n",
    "    # ------------------------------\n",
    "    # Validation pass for metrics\n",
    "    # ------------------------------\n",
    "    model.eval()\n",
    "\n",
    "    val_recon_total = 0.0\n",
    "    val_static_recon_total = 0.0\n",
    "    val_pos_loss_total = 0.0\n",
    "    val_dep_loss_total = 0.0\n",
    "    val_s_contextual_total = 0.0\n",
    "    val_s_static_total = 0.0\n",
    "    val_samples = 0\n",
    "\n",
    "    # For classification\n",
    "    y_true_pos, y_pred_pos = [], []\n",
    "    y_true_dep, y_pred_dep = [], []\n",
    "\n",
    "    with torch.no_grad():\n",
    "        for batch in val_loader:\n",
    "            x_batch, y_p, y_d, w_static = [x.to(device) for x in batch]\n",
    "            batch_size = x_batch.size(0)\n",
    "            val_samples += batch_size\n",
    "\n",
    "            # 1) Contextual forward\n",
    "            x_rec, S_contextual, p_pred, d_pred = model(x_batch)\n",
    "            val_recon_total += criterion_recon(x_rec, x_batch).item() * batch_size\n",
    "            val_pos_loss_total += criterion_class(p_pred, y_p).item() * batch_size\n",
    "            val_dep_loss_total += criterion_class(d_pred, y_d).item() * batch_size\n",
    "            val_s_contextual_total += torch.norm(S_contextual, p=1).item()\n",
    "\n",
    "            # 2) Static forward\n",
    "            x_rec_static, S_static, _, _ = model(w_static)\n",
    "            val_static_recon_total += criterion_recon(x_rec_static, w_static).item() * batch_size\n",
    "            val_s_static_total += torch.norm(S_static, p=1).item()\n",
    "\n",
    "            # Save classification for F1\n",
    "            y_true_pos.append(y_p.cpu())\n",
    "            y_pred_pos.append(p_pred.argmax(dim=1).cpu())\n",
    "\n",
    "            y_true_dep.append(y_d.cpu())\n",
    "            y_pred_dep.append(d_pred.argmax(dim=1).cpu())\n",
    "\n",
    "    # Averages\n",
    "    mean_val_recon = val_recon_total / val_samples\n",
    "    mean_val_static_recon = val_static_recon_total / val_samples\n",
    "    mean_val_pos_loss = val_pos_loss_total / val_samples\n",
    "    mean_val_dep_loss = val_dep_loss_total / val_samples\n",
    "    mean_val_s_contextual = val_s_contextual_total / val_samples\n",
    "    mean_val_s_static = val_s_static_total / val_samples\n",
    "\n",
    "    # F1\n",
    "    y_true_pos = torch.cat(y_true_pos).numpy()\n",
    "    y_pred_pos = torch.cat(y_pred_pos).numpy()\n",
    "    f1_pos = f1_score(y_true_pos, y_pred_pos, average='macro')\n",
    "\n",
    "    y_true_dep = torch.cat(y_true_dep).numpy()\n",
    "    y_pred_dep = torch.cat(y_pred_dep).numpy()\n",
    "    f1_dep = f1_score(y_true_dep, y_pred_dep, average='macro')\n",
    "\n",
    "    # Log them as user attrs in Optuna\n",
    "    trial.set_user_attr('val_recon', mean_val_recon)\n",
    "    trial.set_user_attr('val_static_recon', mean_val_static_recon)\n",
    "    trial.set_user_attr('val_pos_loss', mean_val_pos_loss)\n",
    "    trial.set_user_attr('val_dep_loss', mean_val_dep_loss)\n",
    "    trial.set_user_attr('val_s_contextual', mean_val_s_contextual)\n",
    "    trial.set_user_attr('val_s_static', mean_val_s_static)\n",
    "    trial.set_user_attr('f1_pos', f1_pos)\n",
    "    trial.set_user_attr('f1_dep', f1_dep)\n",
    "\n",
    "    score = (f1_pos + f1_dep)\n",
    "\n",
    "    print(\n",
    "        f\"F1 POS: {f1_pos:.3f} | F1 DEP: {f1_dep:.3f} | \"\n",
    "        f\"Reconstruction: {mean_val_recon:.4f} | \"\n",
    "        f\"Static Recon: {mean_val_static_recon:.4f} | \"\n",
    "        f\"POS Loss: {mean_val_pos_loss:.4f} | DEP Loss: {mean_val_dep_loss:.4f}\"\n",
    "    )\n",
    "\n",
    "    return score"
   ]
  },
  {
   "cell_type": "code",
   "execution_count": 6,
   "metadata": {
    "scrolled": true
   },
   "outputs": [
    {
     "name": "stderr",
     "output_type": "stream",
     "text": [
      "[I 2025-04-08 21:24:18,359] A new study created in memory with name: no-name-64df20d7-990d-4347-90f6-693c346bef89\n",
      "Trial 0: 100%|██████████| 40/40 [00:09<00:00,  4.16it/s]\n",
      "[I 2025-04-08 21:24:28,169] Trial 0 finished with value: 0.028796020920767586 and parameters: {'k': 128, 'lr': 0.0012290261650853126, 'nonlinearity': 'relu', 'alpha_pos': 0.5625930569901505, 'alpha_dep': 0.9371567914254331, 'alpha_static': 0.20438101833078715, 'alpha_sparse': 0.8793057571283934, 'l1_s_contextual': 0.005081637105368889, 'l1_s_static': 0.006470089381516617}. Best is trial 0 with value: 0.028796020920767586.\n"
     ]
    },
    {
     "name": "stdout",
     "output_type": "stream",
     "text": [
      "F1 POS: 0.023 | F1 DEP: 0.006 | Reconstruction: 0.1259 | Static Recon: 0.0032 | POS Loss: 2.4196 | DEP Loss: 3.1309\n"
     ]
    },
    {
     "name": "stderr",
     "output_type": "stream",
     "text": [
      "Trial 1: 100%|██████████| 40/40 [00:11<00:00,  3.64it/s]\n",
      "[I 2025-04-08 21:24:39,218] Trial 1 finished with value: 0.02849674217353811 and parameters: {'k': 64, 'lr': 0.0020866612563644133, 'nonlinearity': 'identity', 'alpha_pos': 0.3607458781552181, 'alpha_dep': 0.1794788264331818, 'alpha_static': 0.5213884358708304, 'alpha_sparse': 0.8134072249160179, 'l1_s_contextual': 0.012663607277805706, 'l1_s_static': 0.5846483969590405}. Best is trial 0 with value: 0.028796020920767586.\n"
     ]
    },
    {
     "name": "stdout",
     "output_type": "stream",
     "text": [
      "F1 POS: 0.023 | F1 DEP: 0.005 | Reconstruction: 0.1233 | Static Recon: 0.0032 | POS Loss: 2.4155 | DEP Loss: 3.0995\n"
     ]
    },
    {
     "name": "stderr",
     "output_type": "stream",
     "text": [
      "Trial 2: 100%|██████████| 40/40 [00:10<00:00,  3.98it/s]\n",
      "[I 2025-04-08 21:24:49,315] Trial 2 finished with value: 1.1756689355382692 and parameters: {'k': 128, 'lr': 0.00512609908537339, 'nonlinearity': 'relu', 'alpha_pos': 0.5539755283090436, 'alpha_dep': 0.8593567896826512, 'alpha_static': 0.6919959665348596, 'alpha_sparse': 0.9182288053644628, 'l1_s_contextual': 4.657662337892979e-05, 'l1_s_static': 0.0018264269769911886}. Best is trial 2 with value: 1.1756689355382692.\n"
     ]
    },
    {
     "name": "stdout",
     "output_type": "stream",
     "text": [
      "F1 POS: 0.772 | F1 DEP: 0.403 | Reconstruction: 0.0925 | Static Recon: 0.0032 | POS Loss: 0.7743 | DEP Loss: 2.1147\n"
     ]
    },
    {
     "name": "stderr",
     "output_type": "stream",
     "text": [
      "Trial 3: 100%|██████████| 40/40 [00:10<00:00,  3.73it/s]\n",
      "[I 2025-04-08 21:25:00,073] Trial 3 finished with value: 0.9486389304847589 and parameters: {'k': 128, 'lr': 0.0065666741312394444, 'nonlinearity': 'identity', 'alpha_pos': 0.32255304438618315, 'alpha_dep': 0.9686977097200415, 'alpha_static': 0.5260505573367967, 'alpha_sparse': 0.9118391186014024, 'l1_s_contextual': 0.0021189707779291525, 'l1_s_static': 7.798868501259548e-06}. Best is trial 2 with value: 1.1756689355382692.\n"
     ]
    },
    {
     "name": "stdout",
     "output_type": "stream",
     "text": [
      "F1 POS: 0.633 | F1 DEP: 0.316 | Reconstruction: 0.1108 | Static Recon: 0.0030 | POS Loss: 0.7096 | DEP Loss: 1.3858\n"
     ]
    },
    {
     "name": "stderr",
     "output_type": "stream",
     "text": [
      "Trial 4: 100%|██████████| 40/40 [00:09<00:00,  4.13it/s]\n",
      "[I 2025-04-08 21:25:09,805] Trial 4 finished with value: 0.9705546048372454 and parameters: {'k': 128, 'lr': 0.00010545525044659928, 'nonlinearity': 'identity', 'alpha_pos': 0.9804414247619265, 'alpha_dep': 0.687375159489812, 'alpha_static': 0.24271489476901809, 'alpha_sparse': 0.8569167573625548, 'l1_s_contextual': 0.00018296128634736635, 'l1_s_static': 6.197399822813512e-05}. Best is trial 2 with value: 1.1756689355382692.\n"
     ]
    },
    {
     "name": "stdout",
     "output_type": "stream",
     "text": [
      "F1 POS: 0.671 | F1 DEP: 0.300 | Reconstruction: 0.0885 | Static Recon: 0.0027 | POS Loss: 0.7197 | DEP Loss: 1.5454\n"
     ]
    },
    {
     "name": "stderr",
     "output_type": "stream",
     "text": [
      "Trial 5: 100%|██████████| 40/40 [00:10<00:00,  4.00it/s]\n",
      "[I 2025-04-08 21:25:19,855] Trial 5 finished with value: 1.1710860418971762 and parameters: {'k': 128, 'lr': 0.0005338484966998304, 'nonlinearity': 'identity', 'alpha_pos': 0.6774954263955906, 'alpha_dep': 0.33051573108572785, 'alpha_static': 0.456380209877993, 'alpha_sparse': 0.8518996231580546, 'l1_s_contextual': 1.0263863542762284e-05, 'l1_s_static': 8.74864640158963e-06}. Best is trial 2 with value: 1.1756689355382692.\n"
     ]
    },
    {
     "name": "stdout",
     "output_type": "stream",
     "text": [
      "F1 POS: 0.763 | F1 DEP: 0.408 | Reconstruction: 0.0383 | Static Recon: 0.0020 | POS Loss: 0.4613 | DEP Loss: 1.1728\n"
     ]
    },
    {
     "name": "stderr",
     "output_type": "stream",
     "text": [
      "Trial 6: 100%|██████████| 40/40 [00:10<00:00,  3.84it/s]\n",
      "[I 2025-04-08 21:25:30,318] Trial 6 finished with value: 0.028507914660131133 and parameters: {'k': 128, 'lr': 0.0005104217612832466, 'nonlinearity': 'identity', 'alpha_pos': 0.6798191850579194, 'alpha_dep': 0.14210131955376437, 'alpha_static': 0.5527147369974603, 'alpha_sparse': 0.8516266250930504, 'l1_s_contextual': 0.22680861799872054, 'l1_s_static': 0.017677178068745403}. Best is trial 2 with value: 1.1756689355382692.\n"
     ]
    },
    {
     "name": "stdout",
     "output_type": "stream",
     "text": [
      "F1 POS: 0.023 | F1 DEP: 0.005 | Reconstruction: 0.1258 | Static Recon: 0.0032 | POS Loss: 2.4611 | DEP Loss: 3.2233\n"
     ]
    },
    {
     "name": "stderr",
     "output_type": "stream",
     "text": [
      "Trial 7: 100%|██████████| 40/40 [00:09<00:00,  4.06it/s]\n",
      "[I 2025-04-08 21:25:40,217] Trial 7 finished with value: 1.1680151348781382 and parameters: {'k': 64, 'lr': 0.005069613814736296, 'nonlinearity': 'relu', 'alpha_pos': 0.8424571558387599, 'alpha_dep': 0.21268588312899395, 'alpha_static': 0.5459855285839473, 'alpha_sparse': 0.9851796041612632, 'l1_s_contextual': 1.3854144239413757e-06, 'l1_s_static': 0.005685432868347856}. Best is trial 2 with value: 1.1756689355382692.\n"
     ]
    },
    {
     "name": "stdout",
     "output_type": "stream",
     "text": [
      "F1 POS: 0.791 | F1 DEP: 0.377 | Reconstruction: 0.0881 | Static Recon: 0.0032 | POS Loss: 0.6677 | DEP Loss: 1.4950\n"
     ]
    },
    {
     "name": "stderr",
     "output_type": "stream",
     "text": [
      "Trial 8: 100%|██████████| 40/40 [00:09<00:00,  4.09it/s]\n",
      "[I 2025-04-08 21:25:50,046] Trial 8 finished with value: 0.8597715491318666 and parameters: {'k': 128, 'lr': 0.006865054916691856, 'nonlinearity': 'identity', 'alpha_pos': 0.5587426938174661, 'alpha_dep': 0.22839938178313646, 'alpha_static': 0.5356004647776635, 'alpha_sparse': 0.9534812871074074, 'l1_s_contextual': 0.0029105089482844675, 'l1_s_static': 2.6485152746902977e-05}. Best is trial 2 with value: 1.1756689355382692.\n"
     ]
    },
    {
     "name": "stdout",
     "output_type": "stream",
     "text": [
      "F1 POS: 0.638 | F1 DEP: 0.222 | Reconstruction: 0.1188 | Static Recon: 0.0030 | POS Loss: 0.7739 | DEP Loss: 1.6754\n"
     ]
    },
    {
     "name": "stderr",
     "output_type": "stream",
     "text": [
      "Trial 9: 100%|██████████| 40/40 [00:09<00:00,  4.25it/s]\n",
      "[I 2025-04-08 21:25:59,506] Trial 9 finished with value: 0.028384208448655062 and parameters: {'k': 64, 'lr': 0.006753625382109776, 'nonlinearity': 'identity', 'alpha_pos': 0.08226046691960409, 'alpha_dep': 0.8814939673500477, 'alpha_static': 0.44098933575243326, 'alpha_sparse': 0.896286567824781, 'l1_s_contextual': 0.27995552934593215, 'l1_s_static': 0.004932979729566051}. Best is trial 2 with value: 1.1756689355382692.\n"
     ]
    },
    {
     "name": "stdout",
     "output_type": "stream",
     "text": [
      "F1 POS: 0.023 | F1 DEP: 0.005 | Reconstruction: 0.1277 | Static Recon: 0.0032 | POS Loss: 2.4110 | DEP Loss: 3.1225\n"
     ]
    },
    {
     "name": "stderr",
     "output_type": "stream",
     "text": [
      "Trial 10: 100%|██████████| 40/40 [00:09<00:00,  4.24it/s]\n",
      "[I 2025-04-08 21:26:08,998] Trial 10 finished with value: 1.1438869452516436 and parameters: {'k': 64, 'lr': 0.002384309740943169, 'nonlinearity': 'relu', 'alpha_pos': 0.1220048767416646, 'alpha_dep': 0.582931297036247, 'alpha_static': 0.9461446848439866, 'alpha_sparse': 0.9374454542493462, 'l1_s_contextual': 5.582881688683012e-05, 'l1_s_static': 0.0005858697505838009}. Best is trial 2 with value: 1.1756689355382692.\n"
     ]
    },
    {
     "name": "stdout",
     "output_type": "stream",
     "text": [
      "F1 POS: 0.768 | F1 DEP: 0.375 | Reconstruction: 0.0965 | Static Recon: 0.0032 | POS Loss: 0.5460 | DEP Loss: 1.4499\n"
     ]
    },
    {
     "name": "stderr",
     "output_type": "stream",
     "text": [
      "Trial 11: 100%|██████████| 40/40 [00:08<00:00,  4.55it/s]\n",
      "[I 2025-04-08 21:26:17,840] Trial 11 finished with value: 1.2272796625748004 and parameters: {'k': 128, 'lr': 0.00036242162368235525, 'nonlinearity': 'relu', 'alpha_pos': 0.74740823198358, 'alpha_dep': 0.3792154419029916, 'alpha_static': 0.8136641595313814, 'alpha_sparse': 0.8020593409499132, 'l1_s_contextual': 5.606877435553239e-06, 'l1_s_static': 1.0010530176506996e-06}. Best is trial 11 with value: 1.2272796625748004.\n"
     ]
    },
    {
     "name": "stdout",
     "output_type": "stream",
     "text": [
      "F1 POS: 0.867 | F1 DEP: 0.360 | Reconstruction: 0.0615 | Static Recon: 0.0025 | POS Loss: 0.3755 | DEP Loss: 1.1359\n"
     ]
    },
    {
     "name": "stderr",
     "output_type": "stream",
     "text": [
      "Trial 12: 100%|██████████| 40/40 [00:08<00:00,  4.71it/s]\n",
      "[I 2025-04-08 21:26:26,391] Trial 12 finished with value: 1.1791268329145275 and parameters: {'k': 128, 'lr': 0.0001779014307464981, 'nonlinearity': 'relu', 'alpha_pos': 0.785735538692416, 'alpha_dep': 0.4923453198130174, 'alpha_static': 0.8364245037964727, 'alpha_sparse': 0.805599138417766, 'l1_s_contextual': 1.4409364623691052e-06, 'l1_s_static': 0.0002801441157837591}. Best is trial 11 with value: 1.2272796625748004.\n"
     ]
    },
    {
     "name": "stdout",
     "output_type": "stream",
     "text": [
      "F1 POS: 0.839 | F1 DEP: 0.340 | Reconstruction: 0.0654 | Static Recon: 0.0031 | POS Loss: 0.4650 | DEP Loss: 1.2660\n"
     ]
    },
    {
     "name": "stderr",
     "output_type": "stream",
     "text": [
      "Trial 13: 100%|██████████| 40/40 [00:09<00:00,  4.22it/s]\n",
      "[I 2025-04-08 21:26:35,925] Trial 13 finished with value: 1.1404667180026904 and parameters: {'k': 128, 'lr': 0.0001463815034757482, 'nonlinearity': 'relu', 'alpha_pos': 0.8465044377352128, 'alpha_dep': 0.41476580706300176, 'alpha_static': 0.9792946063141439, 'alpha_sparse': 0.8008523752331944, 'l1_s_contextual': 1.0060104922678995e-06, 'l1_s_static': 1.2551425659212665e-06}. Best is trial 11 with value: 1.2272796625748004.\n"
     ]
    },
    {
     "name": "stdout",
     "output_type": "stream",
     "text": [
      "F1 POS: 0.813 | F1 DEP: 0.327 | Reconstruction: 0.0652 | Static Recon: 0.0025 | POS Loss: 0.5088 | DEP Loss: 1.3308\n"
     ]
    },
    {
     "name": "stderr",
     "output_type": "stream",
     "text": [
      "Trial 14: 100%|██████████| 40/40 [00:09<00:00,  4.03it/s]\n",
      "[I 2025-04-08 21:26:45,901] Trial 14 finished with value: 1.1627676160488658 and parameters: {'k': 128, 'lr': 0.00022734711812266367, 'nonlinearity': 'relu', 'alpha_pos': 0.7794987384378036, 'alpha_dep': 0.5208455064676719, 'alpha_static': 0.7958677447479836, 'alpha_sparse': 0.8250590717304284, 'l1_s_contextual': 6.149352317276049e-06, 'l1_s_static': 0.00015142126117523365}. Best is trial 11 with value: 1.2272796625748004.\n"
     ]
    },
    {
     "name": "stdout",
     "output_type": "stream",
     "text": [
      "F1 POS: 0.789 | F1 DEP: 0.373 | Reconstruction: 0.0656 | Static Recon: 0.0030 | POS Loss: 0.4560 | DEP Loss: 1.2001\n"
     ]
    },
    {
     "name": "stderr",
     "output_type": "stream",
     "text": [
      "Trial 15: 100%|██████████| 40/40 [00:09<00:00,  4.16it/s]\n",
      "[I 2025-04-08 21:26:55,580] Trial 15 finished with value: 1.0088512236578606 and parameters: {'k': 128, 'lr': 0.00028449262582080724, 'nonlinearity': 'relu', 'alpha_pos': 0.9842088176323873, 'alpha_dep': 0.6867467824015902, 'alpha_static': 0.794628049817333, 'alpha_sparse': 0.8319139251528939, 'l1_s_contextual': 9.025104369844841e-06, 'l1_s_static': 0.07388885387154673}. Best is trial 11 with value: 1.2272796625748004.\n"
     ]
    },
    {
     "name": "stdout",
     "output_type": "stream",
     "text": [
      "F1 POS: 0.730 | F1 DEP: 0.279 | Reconstruction: 0.0759 | Static Recon: 0.0032 | POS Loss: 0.6627 | DEP Loss: 1.4569\n"
     ]
    },
    {
     "name": "stderr",
     "output_type": "stream",
     "text": [
      "Trial 16: 100%|██████████| 40/40 [00:09<00:00,  4.33it/s]\n",
      "[I 2025-04-08 21:27:04,868] Trial 16 finished with value: 1.0933851852964676 and parameters: {'k': 128, 'lr': 0.00045791112248875566, 'nonlinearity': 'relu', 'alpha_pos': 0.7106222065646867, 'alpha_dep': 0.03220997636462952, 'alpha_static': 0.0224240542611982, 'alpha_sparse': 0.8022237571468334, 'l1_s_contextual': 0.00021911593875937796, 'l1_s_static': 2.1908644354484407e-06}. Best is trial 11 with value: 1.2272796625748004.\n"
     ]
    },
    {
     "name": "stdout",
     "output_type": "stream",
     "text": [
      "F1 POS: 0.859 | F1 DEP: 0.235 | Reconstruction: 0.0940 | Static Recon: 0.0035 | POS Loss: 0.4671 | DEP Loss: 1.4266\n"
     ]
    },
    {
     "name": "stderr",
     "output_type": "stream",
     "text": [
      "Trial 17: 100%|██████████| 40/40 [00:08<00:00,  4.94it/s]\n",
      "[I 2025-04-08 21:27:13,021] Trial 17 finished with value: 1.167346559451361 and parameters: {'k': 128, 'lr': 0.00022123884816372847, 'nonlinearity': 'relu', 'alpha_pos': 0.3964064680391351, 'alpha_dep': 0.39103579760160384, 'alpha_static': 0.8379387303973661, 'alpha_sparse': 0.8751951992152867, 'l1_s_contextual': 3.7394577222808085e-06, 'l1_s_static': 0.0002954499391682107}. Best is trial 11 with value: 1.2272796625748004.\n"
     ]
    },
    {
     "name": "stdout",
     "output_type": "stream",
     "text": [
      "F1 POS: 0.803 | F1 DEP: 0.365 | Reconstruction: 0.0641 | Static Recon: 0.0031 | POS Loss: 0.4595 | DEP Loss: 1.1809\n"
     ]
    },
    {
     "name": "stderr",
     "output_type": "stream",
     "text": [
      "Trial 18: 100%|██████████| 40/40 [00:08<00:00,  4.96it/s]\n",
      "[I 2025-04-08 21:27:21,142] Trial 18 finished with value: 1.1527951075133143 and parameters: {'k': 64, 'lr': 0.0008486343415918487, 'nonlinearity': 'relu', 'alpha_pos': 0.8725210915299372, 'alpha_dep': 0.582496758545953, 'alpha_static': 0.689158168391557, 'alpha_sparse': 0.8329169708978983, 'l1_s_contextual': 3.110303296077516e-05, 'l1_s_static': 0.0931019516726569}. Best is trial 11 with value: 1.2272796625748004.\n"
     ]
    },
    {
     "name": "stdout",
     "output_type": "stream",
     "text": [
      "F1 POS: 0.826 | F1 DEP: 0.327 | Reconstruction: 0.0848 | Static Recon: 0.0032 | POS Loss: 0.5003 | DEP Loss: 1.2838\n"
     ]
    },
    {
     "name": "stderr",
     "output_type": "stream",
     "text": [
      "Trial 19: 100%|██████████| 40/40 [00:08<00:00,  4.62it/s]\n",
      "[I 2025-04-08 21:27:29,859] Trial 19 finished with value: 0.026265289836817952 and parameters: {'k': 128, 'lr': 0.00036775147185560763, 'nonlinearity': 'relu', 'alpha_pos': 0.4644426343895024, 'alpha_dep': 0.3313005332526122, 'alpha_static': 0.8813890905391972, 'alpha_sparse': 0.9982663848109797, 'l1_s_contextual': 0.0402932812774417, 'l1_s_static': 1.5494585569159586e-05}. Best is trial 11 with value: 1.2272796625748004.\n"
     ]
    },
    {
     "name": "stdout",
     "output_type": "stream",
     "text": [
      "F1 POS: 0.021 | F1 DEP: 0.005 | Reconstruction: 0.1216 | Static Recon: 0.0026 | POS Loss: 2.5089 | DEP Loss: 3.3043\n"
     ]
    },
    {
     "name": "stderr",
     "output_type": "stream",
     "text": [
      "Trial 20: 100%|██████████| 40/40 [00:08<00:00,  4.48it/s]\n",
      "[I 2025-04-08 21:27:38,855] Trial 20 finished with value: 0.023186344381395094 and parameters: {'k': 128, 'lr': 0.00013905613003822902, 'nonlinearity': 'relu', 'alpha_pos': 0.20124173187646144, 'alpha_dep': 0.760045897202996, 'alpha_static': 0.694803809015934, 'alpha_sparse': 0.8202272608950856, 'l1_s_contextual': 0.0007526482860398521, 'l1_s_static': 7.73367046330122e-05}. Best is trial 11 with value: 1.2272796625748004.\n"
     ]
    },
    {
     "name": "stdout",
     "output_type": "stream",
     "text": [
      "F1 POS: 0.020 | F1 DEP: 0.003 | Reconstruction: 0.1262 | Static Recon: 0.0032 | POS Loss: 2.6379 | DEP Loss: 3.5456\n"
     ]
    },
    {
     "name": "stderr",
     "output_type": "stream",
     "text": [
      "Trial 21: 100%|██████████| 40/40 [00:09<00:00,  4.18it/s]\n",
      "[I 2025-04-08 21:27:48,495] Trial 21 finished with value: 1.2416248669732743 and parameters: {'k': 128, 'lr': 0.0008562482140819738, 'nonlinearity': 'relu', 'alpha_pos': 0.6061505029825789, 'alpha_dep': 0.47560335378785135, 'alpha_static': 0.6881185070318218, 'alpha_sparse': 0.9200793430237418, 'l1_s_contextual': 3.066833640080518e-05, 'l1_s_static': 0.0009839979641153515}. Best is trial 21 with value: 1.2416248669732743.\n"
     ]
    },
    {
     "name": "stdout",
     "output_type": "stream",
     "text": [
      "F1 POS: 0.818 | F1 DEP: 0.423 | Reconstruction: 0.0747 | Static Recon: 0.0032 | POS Loss: 0.3800 | DEP Loss: 1.0899\n"
     ]
    },
    {
     "name": "stderr",
     "output_type": "stream",
     "text": [
      "Trial 22: 100%|██████████| 40/40 [00:09<00:00,  4.11it/s]\n",
      "[I 2025-04-08 21:27:58,281] Trial 22 finished with value: 1.2269050213242065 and parameters: {'k': 128, 'lr': 0.0007555714388885425, 'nonlinearity': 'relu', 'alpha_pos': 0.659984831393629, 'alpha_dep': 0.47592517042580934, 'alpha_static': 0.7408810622851589, 'alpha_sparse': 0.9573762634818055, 'l1_s_contextual': 2.56989837359311e-06, 'l1_s_static': 0.0008200803995182335}. Best is trial 21 with value: 1.2416248669732743.\n"
     ]
    },
    {
     "name": "stdout",
     "output_type": "stream",
     "text": [
      "F1 POS: 0.816 | F1 DEP: 0.411 | Reconstruction: 0.0614 | Static Recon: 0.0032 | POS Loss: 0.4060 | DEP Loss: 1.1527\n"
     ]
    },
    {
     "name": "stderr",
     "output_type": "stream",
     "text": [
      "Trial 23: 100%|██████████| 40/40 [00:08<00:00,  4.95it/s]\n",
      "[I 2025-04-08 21:28:06,423] Trial 23 finished with value: 1.159753615999662 and parameters: {'k': 128, 'lr': 0.0008232216605210723, 'nonlinearity': 'relu', 'alpha_pos': 0.642275151387474, 'alpha_dep': 0.4746527667480482, 'alpha_static': 0.644567196981464, 'alpha_sparse': 0.9610193261543599, 'l1_s_contextual': 0.00022211692799940962, 'l1_s_static': 0.0011271506640864641}. Best is trial 21 with value: 1.2416248669732743.\n"
     ]
    },
    {
     "name": "stdout",
     "output_type": "stream",
     "text": [
      "F1 POS: 0.803 | F1 DEP: 0.356 | Reconstruction: 0.0962 | Static Recon: 0.0032 | POS Loss: 0.4154 | DEP Loss: 1.1944\n"
     ]
    },
    {
     "name": "stderr",
     "output_type": "stream",
     "text": [
      "Trial 24: 100%|██████████| 40/40 [00:08<00:00,  4.68it/s]\n",
      "[I 2025-04-08 21:28:15,033] Trial 24 finished with value: 1.2270828253731556 and parameters: {'k': 128, 'lr': 0.0012553673523804357, 'nonlinearity': 'relu', 'alpha_pos': 0.4747304141192802, 'alpha_dep': 0.3297232916659243, 'alpha_static': 0.7483183118554761, 'alpha_sparse': 0.9361645192043244, 'l1_s_contextual': 1.2449649668538105e-05, 'l1_s_static': 0.03242786255191791}. Best is trial 21 with value: 1.2416248669732743.\n"
     ]
    },
    {
     "name": "stdout",
     "output_type": "stream",
     "text": [
      "F1 POS: 0.851 | F1 DEP: 0.376 | Reconstruction: 0.0692 | Static Recon: 0.0032 | POS Loss: 0.4513 | DEP Loss: 1.2143\n"
     ]
    },
    {
     "name": "stderr",
     "output_type": "stream",
     "text": [
      "Trial 25: 100%|██████████| 40/40 [00:08<00:00,  4.50it/s]\n",
      "[I 2025-04-08 21:28:23,975] Trial 25 finished with value: 0.9767644215280202 and parameters: {'k': 128, 'lr': 0.0014833597568852668, 'nonlinearity': 'relu', 'alpha_pos': 0.4662680685578676, 'alpha_dep': 0.2826591833824089, 'alpha_static': 0.9100063633180667, 'alpha_sparse': 0.9259492199241817, 'l1_s_contextual': 1.9347925055408226e-05, 'l1_s_static': 0.8417497323634922}. Best is trial 21 with value: 1.2416248669732743.\n"
     ]
    },
    {
     "name": "stdout",
     "output_type": "stream",
     "text": [
      "F1 POS: 0.686 | F1 DEP: 0.291 | Reconstruction: 0.0830 | Static Recon: 0.0032 | POS Loss: 0.6854 | DEP Loss: 1.4990\n"
     ]
    },
    {
     "name": "stderr",
     "output_type": "stream",
     "text": [
      "Trial 26: 100%|██████████| 40/40 [00:09<00:00,  4.28it/s]\n",
      "[I 2025-04-08 21:28:33,373] Trial 26 finished with value: 1.1121941274961873 and parameters: {'k': 64, 'lr': 0.003115990431754488, 'nonlinearity': 'relu', 'alpha_pos': 0.6045370296391509, 'alpha_dep': 0.08690570753800386, 'alpha_static': 0.6309367219241573, 'alpha_sparse': 0.8964498485443464, 'l1_s_contextual': 9.24177582636037e-05, 'l1_s_static': 0.07389082904993101}. Best is trial 21 with value: 1.2416248669732743.\n"
     ]
    },
    {
     "name": "stdout",
     "output_type": "stream",
     "text": [
      "F1 POS: 0.821 | F1 DEP: 0.292 | Reconstruction: 0.0960 | Static Recon: 0.0032 | POS Loss: 0.4999 | DEP Loss: 1.4308\n"
     ]
    },
    {
     "name": "stderr",
     "output_type": "stream",
     "text": [
      "Trial 27: 100%|██████████| 40/40 [00:08<00:00,  4.68it/s]\n",
      "[I 2025-04-08 21:28:41,974] Trial 27 finished with value: 0.7365571673184079 and parameters: {'k': 128, 'lr': 0.001552215666972176, 'nonlinearity': 'relu', 'alpha_pos': 0.2645863187758909, 'alpha_dep': 0.3828117972399508, 'alpha_static': 0.35809048883940464, 'alpha_sparse': 0.9442026503464165, 'l1_s_contextual': 0.0006801605116824051, 'l1_s_static': 0.2383072246120851}. Best is trial 21 with value: 1.2416248669732743.\n"
     ]
    },
    {
     "name": "stdout",
     "output_type": "stream",
     "text": [
      "F1 POS: 0.558 | F1 DEP: 0.178 | Reconstruction: 0.1087 | Static Recon: 0.0032 | POS Loss: 0.9305 | DEP Loss: 1.7626\n"
     ]
    },
    {
     "name": "stderr",
     "output_type": "stream",
     "text": [
      "Trial 28: 100%|██████████| 40/40 [00:08<00:00,  4.89it/s]\n",
      "[I 2025-04-08 21:28:50,220] Trial 28 finished with value: 1.2131216504248656 and parameters: {'k': 128, 'lr': 0.0006074014995110615, 'nonlinearity': 'relu', 'alpha_pos': 0.49082531335665097, 'alpha_dep': 0.2793863417185216, 'alpha_static': 0.7544145907976961, 'alpha_sparse': 0.9718353105614428, 'l1_s_contextual': 1.0311168163707687e-05, 'l1_s_static': 0.014911117872215177}. Best is trial 21 with value: 1.2416248669732743.\n"
     ]
    },
    {
     "name": "stdout",
     "output_type": "stream",
     "text": [
      "F1 POS: 0.835 | F1 DEP: 0.378 | Reconstruction: 0.0669 | Static Recon: 0.0032 | POS Loss: 0.4563 | DEP Loss: 1.2032\n"
     ]
    },
    {
     "name": "stderr",
     "output_type": "stream",
     "text": [
      "Trial 29: 100%|██████████| 40/40 [00:08<00:00,  4.89it/s]\n",
      "[I 2025-04-08 21:28:58,467] Trial 29 finished with value: 1.2719292572388763 and parameters: {'k': 128, 'lr': 0.0012646746440462028, 'nonlinearity': 'relu', 'alpha_pos': 0.7312115421560821, 'alpha_dep': 0.5977812734413367, 'alpha_static': 0.629729723710621, 'alpha_sparse': 0.8844971738786699, 'l1_s_contextual': 1.9289949824769822e-05, 'l1_s_static': 0.023843302940569303}. Best is trial 29 with value: 1.2719292572388763.\n"
     ]
    },
    {
     "name": "stdout",
     "output_type": "stream",
     "text": [
      "F1 POS: 0.872 | F1 DEP: 0.400 | Reconstruction: 0.0719 | Static Recon: 0.0032 | POS Loss: 0.4115 | DEP Loss: 1.1676\n"
     ]
    },
    {
     "name": "stderr",
     "output_type": "stream",
     "text": [
      "Trial 30: 100%|██████████| 40/40 [00:09<00:00,  4.23it/s]\n",
      "[I 2025-04-08 21:29:07,978] Trial 30 finished with value: 1.2836818946443103 and parameters: {'k': 128, 'lr': 0.0010664585088285545, 'nonlinearity': 'relu', 'alpha_pos': 0.7552856248578087, 'alpha_dep': 0.615214668112047, 'alpha_static': 0.6140135453822037, 'alpha_sparse': 0.8772191179970192, 'l1_s_contextual': 6.606243012242392e-05, 'l1_s_static': 0.002370303129516134}. Best is trial 30 with value: 1.2836818946443103.\n"
     ]
    },
    {
     "name": "stdout",
     "output_type": "stream",
     "text": [
      "F1 POS: 0.876 | F1 DEP: 0.408 | Reconstruction: 0.0802 | Static Recon: 0.0032 | POS Loss: 0.3978 | DEP Loss: 1.1489\n"
     ]
    },
    {
     "name": "stderr",
     "output_type": "stream",
     "text": [
      "Trial 31: 100%|██████████| 40/40 [00:08<00:00,  4.45it/s]\n",
      "[I 2025-04-08 21:29:17,023] Trial 31 finished with value: 1.1845247256209923 and parameters: {'k': 128, 'lr': 0.001080112889939655, 'nonlinearity': 'relu', 'alpha_pos': 0.8120238017288163, 'alpha_dep': 0.6029100392395415, 'alpha_static': 0.6137279371143592, 'alpha_sparse': 0.8770903247461443, 'l1_s_contextual': 0.00010423130070175164, 'l1_s_static': 0.003043123121730527}. Best is trial 30 with value: 1.2836818946443103.\n"
     ]
    },
    {
     "name": "stdout",
     "output_type": "stream",
     "text": [
      "F1 POS: 0.798 | F1 DEP: 0.386 | Reconstruction: 0.0850 | Static Recon: 0.0032 | POS Loss: 0.4162 | DEP Loss: 1.1725\n"
     ]
    },
    {
     "name": "stderr",
     "output_type": "stream",
     "text": [
      "Trial 32: 100%|██████████| 40/40 [00:10<00:00,  3.87it/s]\n",
      "[I 2025-04-08 21:29:27,419] Trial 32 finished with value: 1.2226792525718655 and parameters: {'k': 128, 'lr': 0.0017002274435835398, 'nonlinearity': 'relu', 'alpha_pos': 0.7363141748507245, 'alpha_dep': 0.685923959888233, 'alpha_static': 0.39198684864104993, 'alpha_sparse': 0.890511284540152, 'l1_s_contextual': 2.7753537393151744e-05, 'l1_s_static': 0.01323219733824885}. Best is trial 30 with value: 1.2836818946443103.\n"
     ]
    },
    {
     "name": "stdout",
     "output_type": "stream",
     "text": [
      "F1 POS: 0.793 | F1 DEP: 0.429 | Reconstruction: 0.0758 | Static Recon: 0.0032 | POS Loss: 0.4548 | DEP Loss: 1.2454\n"
     ]
    },
    {
     "name": "stderr",
     "output_type": "stream",
     "text": [
      "Trial 33: 100%|██████████| 40/40 [00:10<00:00,  4.00it/s]\n",
      "[I 2025-04-08 21:29:37,480] Trial 33 finished with value: 1.2007406848127227 and parameters: {'k': 128, 'lr': 0.002927820720032397, 'nonlinearity': 'relu', 'alpha_pos': 0.9076930649932354, 'alpha_dep': 0.7896807237114607, 'alpha_static': 0.5977097273641202, 'alpha_sparse': 0.866256908957087, 'l1_s_contextual': 0.00042296476366806527, 'l1_s_static': 0.0022611162619984226}. Best is trial 30 with value: 1.2836818946443103.\n"
     ]
    },
    {
     "name": "stdout",
     "output_type": "stream",
     "text": [
      "F1 POS: 0.853 | F1 DEP: 0.348 | Reconstruction: 0.1053 | Static Recon: 0.0032 | POS Loss: 0.4905 | DEP Loss: 1.2850\n"
     ]
    },
    {
     "name": "stderr",
     "output_type": "stream",
     "text": [
      "Trial 34: 100%|██████████| 40/40 [00:09<00:00,  4.27it/s]\n",
      "[I 2025-04-08 21:29:46,907] Trial 34 finished with value: 0.8428913712728603 and parameters: {'k': 128, 'lr': 0.000371100761535546, 'nonlinearity': 'relu', 'alpha_pos': 0.6031190272570768, 'alpha_dep': 0.6268021781142779, 'alpha_static': 0.6822564395958216, 'alpha_sparse': 0.9106931264616983, 'l1_s_contextual': 3.932632691874415e-06, 'l1_s_static': 0.2926046995554279}. Best is trial 30 with value: 1.2836818946443103.\n"
     ]
    },
    {
     "name": "stdout",
     "output_type": "stream",
     "text": [
      "F1 POS: 0.605 | F1 DEP: 0.238 | Reconstruction: 0.0755 | Static Recon: 0.0032 | POS Loss: 0.8645 | DEP Loss: 1.6653\n"
     ]
    },
    {
     "name": "stderr",
     "output_type": "stream",
     "text": [
      "Trial 35: 100%|██████████| 40/40 [00:09<00:00,  4.09it/s]\n",
      "[I 2025-04-08 21:29:56,740] Trial 35 finished with value: 1.2846072535409545 and parameters: {'k': 128, 'lr': 0.000683134290112669, 'nonlinearity': 'relu', 'alpha_pos': 0.7492695052477684, 'alpha_dep': 0.5453042234625788, 'alpha_static': 0.4726553028796319, 'alpha_sparse': 0.9071552306138938, 'l1_s_contextual': 6.030563137163977e-05, 'l1_s_static': 4.6665554766258635e-06}. Best is trial 35 with value: 1.2846072535409545.\n"
     ]
    },
    {
     "name": "stdout",
     "output_type": "stream",
     "text": [
      "F1 POS: 0.875 | F1 DEP: 0.410 | Reconstruction: 0.0803 | Static Recon: 0.0029 | POS Loss: 0.3719 | DEP Loss: 1.0826\n"
     ]
    },
    {
     "name": "stderr",
     "output_type": "stream",
     "text": [
      "Trial 36: 100%|██████████| 40/40 [00:08<00:00,  4.59it/s]\n",
      "[I 2025-04-08 21:30:05,508] Trial 36 finished with value: 0.5201742527289355 and parameters: {'k': 64, 'lr': 0.0006681920120554315, 'nonlinearity': 'identity', 'alpha_pos': 0.9138458378532003, 'alpha_dep': 0.5272228581507639, 'alpha_static': 0.26291014865974144, 'alpha_sparse': 0.906181771879743, 'l1_s_contextual': 5.575509375906856e-05, 'l1_s_static': 0.040812077126559966}. Best is trial 35 with value: 1.2846072535409545.\n"
     ]
    },
    {
     "name": "stdout",
     "output_type": "stream",
     "text": [
      "F1 POS: 0.378 | F1 DEP: 0.142 | Reconstruction: 0.1062 | Static Recon: 0.0032 | POS Loss: 1.2526 | DEP Loss: 2.0693\n"
     ]
    },
    {
     "name": "stderr",
     "output_type": "stream",
     "text": [
      "Trial 37: 100%|██████████| 40/40 [00:08<00:00,  4.98it/s]\n",
      "[I 2025-04-08 21:30:13,599] Trial 37 finished with value: 0.024986266377303248 and parameters: {'k': 128, 'lr': 0.0009835301266441516, 'nonlinearity': 'relu', 'alpha_pos': 0.6123412999818483, 'alpha_dep': 0.6401411285973364, 'alpha_static': 0.4744861847127499, 'alpha_sparse': 0.8858420950483558, 'l1_s_contextual': 0.001348013569914596, 'l1_s_static': 3.815602562289558e-06}. Best is trial 35 with value: 1.2846072535409545.\n"
     ]
    },
    {
     "name": "stdout",
     "output_type": "stream",
     "text": [
      "F1 POS: 0.020 | F1 DEP: 0.005 | Reconstruction: 0.1247 | Static Recon: 0.0025 | POS Loss: 2.4366 | DEP Loss: 3.1633\n"
     ]
    },
    {
     "name": "stderr",
     "output_type": "stream",
     "text": [
      "Trial 38: 100%|██████████| 40/40 [00:09<00:00,  4.35it/s]\n",
      "[I 2025-04-08 21:30:22,858] Trial 38 finished with value: 1.21255166244932 and parameters: {'k': 128, 'lr': 0.001897839868915157, 'nonlinearity': 'identity', 'alpha_pos': 0.7274395536993786, 'alpha_dep': 0.7598757899072575, 'alpha_static': 0.5736060015288719, 'alpha_sparse': 0.9189191889104413, 'l1_s_contextual': 0.0003559354965667447, 'l1_s_static': 3.959629311808793e-05}. Best is trial 35 with value: 1.2846072535409545.\n"
     ]
    },
    {
     "name": "stdout",
     "output_type": "stream",
     "text": [
      "F1 POS: 0.843 | F1 DEP: 0.369 | Reconstruction: 0.0839 | Static Recon: 0.0028 | POS Loss: 0.4958 | DEP Loss: 1.2056\n"
     ]
    },
    {
     "name": "stderr",
     "output_type": "stream",
     "text": [
      "Trial 39: 100%|██████████| 40/40 [00:09<00:00,  4.21it/s]\n",
      "[I 2025-04-08 21:30:32,425] Trial 39 finished with value: 0.02860446692761246 and parameters: {'k': 128, 'lr': 0.001177083204719975, 'nonlinearity': 'relu', 'alpha_pos': 0.5437755929868011, 'alpha_dep': 0.43743964862443324, 'alpha_static': 0.3739310838479285, 'alpha_sparse': 0.863175504259062, 'l1_s_contextual': 0.017633984974655202, 'l1_s_static': 0.008195517682351538}. Best is trial 35 with value: 1.2846072535409545.\n"
     ]
    },
    {
     "name": "stdout",
     "output_type": "stream",
     "text": [
      "F1 POS: 0.023 | F1 DEP: 0.005 | Reconstruction: 0.1244 | Static Recon: 0.0032 | POS Loss: 2.4239 | DEP Loss: 3.1417\n"
     ]
    }
   ],
   "source": [
    "study = optuna.create_study(direction='maximize')\n",
    "study.optimize(objective, n_trials=40)"
   ]
  },
  {
   "cell_type": "code",
   "execution_count": 7,
   "metadata": {},
   "outputs": [
    {
     "data": {
      "text/plain": [
       "{'k': 128,\n",
       " 'lr': 0.000683134290112669,\n",
       " 'nonlinearity': 'relu',\n",
       " 'alpha_pos': 0.7492695052477684,\n",
       " 'alpha_dep': 0.5453042234625788,\n",
       " 'alpha_static': 0.4726553028796319,\n",
       " 'alpha_sparse': 0.9071552306138938,\n",
       " 'l1_s_contextual': 6.030563137163977e-05,\n",
       " 'l1_s_static': 4.6665554766258635e-06}"
      ]
     },
     "execution_count": 7,
     "metadata": {},
     "output_type": "execute_result"
    }
   ],
   "source": [
    "study.best_params"
   ]
  },
  {
   "cell_type": "code",
   "execution_count": 8,
   "metadata": {},
   "outputs": [
    {
     "name": "stderr",
     "output_type": "stream",
     "text": [
      "Training: 100%|██████████| 40/40 [00:10<00:00,  3.97it/s]\n"
     ]
    }
   ],
   "source": [
    "device = torch.device(\"cuda\" if torch.cuda.is_available() else \"cpu\")\n",
    "\n",
    "# ------------------------------\n",
    "# Define Model\n",
    "# ------------------------------\n",
    "class SupervisedDictionaryLearning(nn.Module):\n",
    "    def __init__(self, d, k, num_pos, num_dep, nonlinearity='identity'):\n",
    "        super().__init__()\n",
    "        self.S = nn.Linear(d, k, bias=False)  # Encoder (contextual to sparse code)\n",
    "        self.D = nn.Linear(k, d, bias=False)  # Decoder (sparse code to contextual)\n",
    "\n",
    "        # supervised features\n",
    "        self.pos_classifier = nn.Linear(k, num_pos)\n",
    "        self.dep_classifier = nn.Linear(k, num_dep)\n",
    "\n",
    "        # hyperparam we can modify \n",
    "        self.activation = nn.Identity()\n",
    "        if nonlinearity == 'relu':\n",
    "            self.activation = nn.ReLU()\n",
    "\n",
    "    def forward(self, X):\n",
    "        S = self.activation(self.S(X))\n",
    "        X_reconstructed = self.D(S)\n",
    "        pos_logits = self.pos_classifier(S)\n",
    "        dep_logits = self.dep_classifier(S)\n",
    "        return X_reconstructed, S, pos_logits, dep_logits\n",
    "\n",
    "# ------------------------------\n",
    "# Training Loop\n",
    "# ------------------------------\n",
    "# Hyperparameters from Optuna study\n",
    "k = study.best_params['k']\n",
    "lr = study.best_params['lr']\n",
    "nonlinearity = study.best_params['nonlinearity']\n",
    "alpha_pos = study.best_params['alpha_pos']\n",
    "alpha_dep = study.best_params['alpha_dep']\n",
    "alpha_static = study.best_params['alpha_static']\n",
    "alpha_sparse = study.best_params['alpha_sparse']\n",
    "l1_s_contextual = study.best_params['l1_s_contextual']\n",
    "l1_s_static = study.best_params['l1_s_static']\n",
    "\n",
    "# Model setup\n",
    "d = X.shape[1]  # Feature dimension (input)\n",
    "\n",
    "model = SupervisedDictionaryLearning(d, k, num_pos, num_dep, nonlinearity=nonlinearity).to(device)\n",
    "optimizer = optim.Adam(model.parameters(), lr=lr)\n",
    "criterion_recon = nn.MSELoss()\n",
    "criterion_class = nn.CrossEntropyLoss()\n",
    "\n",
    "# Split data\n",
    "dataset = TensorDataset(X, y_pos, y_dep, word_static_tensor)\n",
    "train_size = int(0.8 * len(dataset))\n",
    "val_size = len(dataset) - train_size\n",
    "train_set, val_set = random_split(dataset, [train_size, val_size])\n",
    "\n",
    "train_loader = DataLoader(train_set, batch_size=256, shuffle=True)\n",
    "val_loader = DataLoader(val_set, batch_size=256, shuffle=False)\n",
    "\n",
    "# Training loop\n",
    "model.train()\n",
    "for epoch in tqdm(range(40), desc=f'Training'):\n",
    "    for batch in train_loader:\n",
    "        x_batch, y_p, y_d, w_static = batch\n",
    "        x_batch, y_p, y_d, w_static = x_batch.to(device), y_p.to(device), y_d.to(device), w_static.to(device)\n",
    "        optimizer.zero_grad()\n",
    "\n",
    "        # Forward pass for contextual\n",
    "        x_rec, S_contextual, p_pred, d_pred = model(x_batch)\n",
    "\n",
    "        # Basic losses\n",
    "        loss_recon = criterion_recon(x_rec, x_batch)\n",
    "        loss_pos = criterion_class(p_pred, y_p)\n",
    "        loss_dep = criterion_class(d_pred, y_d)\n",
    "        loss_sparse_contextual = l1_s_contextual * torch.norm(S_contextual, p=1)\n",
    "\n",
    "        # Now handle static embedding\n",
    "        with torch.no_grad():\n",
    "            pass\n",
    "        x_rec_static, S_static, _, _ = model(w_static)\n",
    "        loss_static_recon = criterion_recon(x_rec_static, w_static)\n",
    "        loss_sparse_static = l1_s_static * torch.norm(S_static, p=1)\n",
    "\n",
    "        # Weighted sum\n",
    "        # We assume we want to emphasize reconstruction above all else, but still incorporate others:\n",
    "        loss = (\n",
    "            loss_recon\n",
    "            + alpha_pos * loss_pos\n",
    "            + alpha_dep * loss_dep\n",
    "            + alpha_sparse * (loss_sparse_contextual + loss_sparse_static)\n",
    "            + alpha_static * loss_static_recon\n",
    "        )\n",
    "\n",
    "        loss.backward()\n",
    "        optimizer.step()"
   ]
  },
  {
   "cell_type": "code",
   "execution_count": 9,
   "metadata": {},
   "outputs": [
    {
     "name": "stderr",
     "output_type": "stream",
     "text": [
      "                                                  \r"
     ]
    },
    {
     "name": "stdout",
     "output_type": "stream",
     "text": [
      "Validation F1 Score (Positional): 0.8187\n",
      "Validation F1 Score (Dep): 0.3996\n"
     ]
    }
   ],
   "source": [
    "model.eval()\n",
    "\n",
    "val_recon_total = 0.0\n",
    "val_static_recon_total = 0.0\n",
    "val_pos_loss_total = 0.0\n",
    "val_dep_loss_total = 0.0\n",
    "val_s_contextual_total = 0.0\n",
    "val_s_static_total = 0.0\n",
    "val_samples = 0\n",
    "\n",
    "# For classification\n",
    "y_true_pos, y_pred_pos = [], []\n",
    "y_true_dep, y_pred_dep = [], []\n",
    "\n",
    "with torch.no_grad():\n",
    "    for batch in tqdm(val_loader, desc=\"Validation\", leave=False):\n",
    "        x_batch, y_p, y_d, w_static = [x.to(device) for x in batch]\n",
    "        batch_size = x_batch.size(0)\n",
    "        val_samples += batch_size\n",
    "\n",
    "        # 1) Contextual forward\n",
    "        x_rec, S_contextual, p_pred, d_pred = model(x_batch)\n",
    "        val_recon_total += criterion_recon(x_rec, x_batch).item() * batch_size\n",
    "        val_pos_loss_total += criterion_class(p_pred, y_p).item() * batch_size\n",
    "        val_dep_loss_total += criterion_class(d_pred, y_d).item() * batch_size\n",
    "        val_s_contextual_total += torch.norm(S_contextual, p=1).item()\n",
    "\n",
    "        # 2) Static forward\n",
    "        x_rec_static, S_static, _, _ = model(w_static)\n",
    "        val_static_recon_total += criterion_recon(x_rec_static, w_static).item() * batch_size\n",
    "        val_s_static_total += torch.norm(S_static, p=1).item()\n",
    "\n",
    "        # Save classification for F1\n",
    "        y_true_pos.extend(y_p.cpu())\n",
    "        y_pred_pos.extend(p_pred.argmax(dim=1).cpu())\n",
    "\n",
    "        y_true_dep.extend(y_d.cpu())\n",
    "        y_pred_dep.extend(d_pred.argmax(dim=1).cpu())\n",
    "\n",
    "# Averages\n",
    "mean_val_recon = val_recon_total / val_samples\n",
    "mean_val_static_recon = val_static_recon_total / val_samples\n",
    "mean_val_pos_loss = val_pos_loss_total / val_samples\n",
    "mean_val_dep_loss = val_dep_loss_total / val_samples\n",
    "mean_val_s_contextual = val_s_contextual_total / val_samples\n",
    "mean_val_s_static = val_s_static_total / val_samples\n",
    "\n",
    "# F1\n",
    "f1_pos = f1_score(y_true_pos, y_pred_pos, average='macro')\n",
    "f1_dep = f1_score(y_true_dep, y_pred_dep, average='macro')\n",
    "\n",
    "print(f\"Validation F1 Score (Positional): {f1_pos:.4f}\")\n",
    "print(f\"Validation F1 Score (Dep): {f1_dep:.4f}\")"
   ]
  },
  {
   "cell_type": "code",
   "execution_count": 10,
   "metadata": {},
   "outputs": [
    {
     "name": "stdout",
     "output_type": "stream",
     "text": [
      "tensor([276, 480, 101, 224,  94, 401,   1, 795,  95, 105, 158, 409, 380,  57,\n",
      "         16, 408])\n",
      "tensor([269, 489,  84, 232,  86, 417,   0, 828,  91, 102, 167, 394, 388,  43,\n",
      "         15, 395])\n"
     ]
    },
    {
     "data": {
      "text/plain": [
       "17"
      ]
     },
     "execution_count": 10,
     "metadata": {},
     "output_type": "execute_result"
    }
   ],
   "source": [
    "print(torch.bincount(torch.tensor(y_true_pos)))\n",
    "print(torch.bincount(torch.tensor(y_pred_pos)))\n",
    "num_pos"
   ]
  },
  {
   "cell_type": "code",
   "execution_count": 11,
   "metadata": {},
   "outputs": [],
   "source": [
    "# Save model's state dictionary (weights)\n",
    "torch.save(model.state_dict(), 'optimized_model.pth')"
   ]
  },
  {
   "cell_type": "code",
   "execution_count": 12,
   "metadata": {},
   "outputs": [],
   "source": [
    "with open('optuna_study.pkl', 'wb') as f:\n",
    "    pickle.dump(study, f)"
   ]
  },
  {
   "cell_type": "code",
   "execution_count": 47,
   "metadata": {},
   "outputs": [
    {
     "data": {
      "text/html": [
       "<div>\n",
       "<style scoped>\n",
       "    .dataframe tbody tr th:only-of-type {\n",
       "        vertical-align: middle;\n",
       "    }\n",
       "\n",
       "    .dataframe tbody tr th {\n",
       "        vertical-align: top;\n",
       "    }\n",
       "\n",
       "    .dataframe thead th {\n",
       "        text-align: right;\n",
       "    }\n",
       "</style>\n",
       "<table border=\"1\" class=\"dataframe\">\n",
       "  <thead>\n",
       "    <tr style=\"text-align: right;\">\n",
       "      <th></th>\n",
       "      <th>atom</th>\n",
       "      <th>word</th>\n",
       "      <th>activation</th>\n",
       "      <th>sentence</th>\n",
       "    </tr>\n",
       "  </thead>\n",
       "  <tbody>\n",
       "    <tr>\n",
       "      <th>600</th>\n",
       "      <td>6</td>\n",
       "      <td>not</td>\n",
       "      <td>7.662712</td>\n",
       "      <td>Hughes would not comment on tax reforms or oth...</td>\n",
       "    </tr>\n",
       "    <tr>\n",
       "      <th>601</th>\n",
       "      <td>6</td>\n",
       "      <td>bit</td>\n",
       "      <td>7.009270</td>\n",
       "      <td>There wasn't a bit of trouble .</td>\n",
       "    </tr>\n",
       "    <tr>\n",
       "      <th>602</th>\n",
       "      <td>6</td>\n",
       "      <td>not</td>\n",
       "      <td>6.879991</td>\n",
       "      <td>Pennsylvania Avenue, named for one of the orig...</td>\n",
       "    </tr>\n",
       "    <tr>\n",
       "      <th>603</th>\n",
       "      <td>6</td>\n",
       "      <td>not</td>\n",
       "      <td>6.801220</td>\n",
       "      <td>This is not a program of socialized medicine.</td>\n",
       "    </tr>\n",
       "    <tr>\n",
       "      <th>604</th>\n",
       "      <td>6</td>\n",
       "      <td>opportunity</td>\n",
       "      <td>6.510695</td>\n",
       "      <td>Some anti-organization Democrats saw in the pr...</td>\n",
       "    </tr>\n",
       "  </tbody>\n",
       "</table>\n",
       "</div>"
      ],
      "text/plain": [
       "     atom         word  activation  \\\n",
       "600     6          not    7.662712   \n",
       "601     6          bit    7.009270   \n",
       "602     6          not    6.879991   \n",
       "603     6          not    6.801220   \n",
       "604     6  opportunity    6.510695   \n",
       "\n",
       "                                              sentence  \n",
       "600  Hughes would not comment on tax reforms or oth...  \n",
       "601                    There wasn't a bit of trouble .  \n",
       "602  Pennsylvania Avenue, named for one of the orig...  \n",
       "603      This is not a program of socialized medicine.  \n",
       "604  Some anti-organization Democrats saw in the pr...  "
      ]
     },
     "execution_count": 47,
     "metadata": {},
     "output_type": "execute_result"
    }
   ],
   "source": [
    "X_tensor = torch.stack(df['embedding'].tolist())\n",
    "\n",
    "model = dictionary_model\n",
    "model.eval()\n",
    "with torch.no_grad():\n",
    "    S = model.activation(model.S(X_tensor))\n",
    "\n",
    "top_k = 100  # top 10 words per atom\n",
    "activations_by_atom = {}\n",
    "\n",
    "for atom_idx in range(S.shape[1]):\n",
    "    activations = S[:, atom_idx]\n",
    "    top_values, top_indices = torch.topk(activations, top_k)\n",
    "    \n",
    "    words = df.iloc[top_indices.tolist()]['word'].tolist()\n",
    "    sentences = df.iloc[top_indices.tolist()]['sentence'].tolist()\n",
    "\n",
    "    activations_by_atom[atom_idx] = list(zip(words, top_values.tolist(), sentences))\n",
    "\n",
    "atom_data = []\n",
    "for atom, word_tuples in activations_by_atom.items():\n",
    "    for word, val, sent in word_tuples:\n",
    "        atom_data.append({'atom': atom, 'word': word, 'activation': val, 'sentence': sent})\n",
    "\n",
    "top_words_per_atom = pd.DataFrame(atom_data)\n",
    "top_words_per_atom.loc[top_words_per_atom['atom'] == 6].head()"
   ]
  },
  {
   "cell_type": "code",
   "execution_count": 72,
   "metadata": {},
   "outputs": [],
   "source": [
    "def top_and_other_contributions_per_atom(model, pos_labels, dep_labels, top_n=5):\n",
    "    pos_weights = model.pos_classifier.weight.detach().cpu().T  # [k, num_pos]\n",
    "    dep_weights = model.dep_classifier.weight.detach().cpu().T  # [k, num_dep]\n",
    "\n",
    "    k = pos_weights.shape[0]\n",
    "    results = []\n",
    "\n",
    "    for atom in range(k):\n",
    "        pos_w = pos_weights[atom]\n",
    "        dep_w = dep_weights[atom]\n",
    "\n",
    "        # Get indices of sorted absolute values for both POS and DEP\n",
    "        sorted_pos_idx = torch.argsort(pos_w.abs(), descending=True).cpu().tolist()\n",
    "        sorted_dep_idx = torch.argsort(dep_w.abs(), descending=True).cpu().tolist()\n",
    "\n",
    "        # Top contribution for POS and DEP\n",
    "        strongest_pos_idx = sorted_pos_idx[0]\n",
    "        strongest_dep_idx = sorted_dep_idx[0]\n",
    "\n",
    "        strongest_pos_label = pos_labels[strongest_pos_idx]\n",
    "        strongest_dep_label = dep_labels[strongest_dep_idx]\n",
    "\n",
    "        # Next 2-5 contributions for POS and DEP\n",
    "        top_pos_labels = [pos_labels[i] if i < len(pos_labels) else None for i in sorted_pos_idx[1:top_n]]\n",
    "        top_dep_labels = [dep_labels[i] if i < len(dep_labels) else None for i in sorted_dep_idx[1:top_n]]\n",
    "\n",
    "        strongest_pos_weight = pos_w[strongest_pos_idx].item()\n",
    "        strongest_dep_weight = dep_w[strongest_dep_idx].item()\n",
    "\n",
    "        # Record results for each atom\n",
    "        results.append({\n",
    "            'atom': atom,\n",
    "            'strongest_pos_label': strongest_pos_label,\n",
    "            'strongest_pos_weight': strongest_pos_weight,\n",
    "            'strongest_dep_label': strongest_dep_label,\n",
    "            'strongest_dep_weight': strongest_dep_weight,\n",
    "            'other_pos_labels': ','.join([x for x in top_pos_labels if x is not None]),\n",
    "            'other_dep_labels': ','.join([x for x in top_dep_labels if x is not None])\n",
    "        })\n",
    "\n",
    "    return pd.DataFrame(results)"
   ]
  },
  {
   "cell_type": "code",
   "execution_count": 78,
   "metadata": {},
   "outputs": [
    {
     "data": {
      "text/html": [
       "<div>\n",
       "<style scoped>\n",
       "    .dataframe tbody tr th:only-of-type {\n",
       "        vertical-align: middle;\n",
       "    }\n",
       "\n",
       "    .dataframe tbody tr th {\n",
       "        vertical-align: top;\n",
       "    }\n",
       "\n",
       "    .dataframe thead th {\n",
       "        text-align: right;\n",
       "    }\n",
       "</style>\n",
       "<table border=\"1\" class=\"dataframe\">\n",
       "  <thead>\n",
       "    <tr style=\"text-align: right;\">\n",
       "      <th></th>\n",
       "      <th>atom</th>\n",
       "      <th>strongest_dep_label</th>\n",
       "      <th>strongest_dep_weight</th>\n",
       "    </tr>\n",
       "  </thead>\n",
       "  <tbody>\n",
       "    <tr>\n",
       "      <th>8</th>\n",
       "      <td>8</td>\n",
       "      <td>xcomp</td>\n",
       "      <td>2.390798</td>\n",
       "    </tr>\n",
       "    <tr>\n",
       "      <th>42</th>\n",
       "      <td>42</td>\n",
       "      <td>nmod:poss</td>\n",
       "      <td>2.207227</td>\n",
       "    </tr>\n",
       "    <tr>\n",
       "      <th>31</th>\n",
       "      <td>31</td>\n",
       "      <td>csubj:pass</td>\n",
       "      <td>1.800959</td>\n",
       "    </tr>\n",
       "    <tr>\n",
       "      <th>56</th>\n",
       "      <td>56</td>\n",
       "      <td>csubj:pass</td>\n",
       "      <td>1.434135</td>\n",
       "    </tr>\n",
       "    <tr>\n",
       "      <th>34</th>\n",
       "      <td>34</td>\n",
       "      <td>aux:pass</td>\n",
       "      <td>-1.655345</td>\n",
       "    </tr>\n",
       "  </tbody>\n",
       "</table>\n",
       "</div>"
      ],
      "text/plain": [
       "    atom strongest_dep_label  strongest_dep_weight\n",
       "8      8               xcomp              2.390798\n",
       "42    42           nmod:poss              2.207227\n",
       "31    31          csubj:pass              1.800959\n",
       "56    56          csubj:pass              1.434135\n",
       "34    34            aux:pass             -1.655345"
      ]
     },
     "execution_count": 78,
     "metadata": {},
     "output_type": "execute_result"
    }
   ],
   "source": [
    "atom_df = top_and_other_contributions_per_atom(dictionary_model, le_pos.classes_, le_dep.classes_)\n",
    "atom_df[['atom', 'strongest_dep_label', 'strongest_dep_weight']].sort_values('strongest_dep_weight', ascending=False).head()"
   ]
  },
  {
   "cell_type": "code",
   "execution_count": 80,
   "metadata": {},
   "outputs": [
    {
     "data": {
      "image/png": "[encoded data removed]",
      "text/plain": [
       "<Figure size 1200x800 with 2 Axes>"
      ]
     },
     "metadata": {},
     "output_type": "display_data"
    }
   ],
   "source": [
    "def plot_atom_pos_heatmap(model, pos_labels):\n",
    "    pos_weights = np.abs(model.pos_classifier.weight.detach().cpu().numpy())  # Shape [k, num_pos]\n",
    "\n",
    "    heatmap_data = pd.DataFrame(pos_weights.T, columns=pos_labels)\n",
    "\n",
    "    plt.figure(figsize=(12, 8))\n",
    "    sns.heatmap(heatmap_data, cmap='coolwarm', annot=False, cbar=True, linewidths=0.5)\n",
    "    plt.title('Atom Contributions to POS Labels', fontsize=16)\n",
    "    plt.xlabel('POS Labels', fontsize=14)\n",
    "    plt.ylabel('Atoms', fontsize=14)\n",
    "    plt.show()\n",
    "\n",
    "plot_atom_pos_heatmap(model, le_pos.classes_)"
   ]
  },
  {
   "cell_type": "code",
   "execution_count": 75,
   "metadata": {},
   "outputs": [
    {
     "data": {
      "text/html": [
       "<div>\n",
       "<style scoped>\n",
       "    .dataframe tbody tr th:only-of-type {\n",
       "        vertical-align: middle;\n",
       "    }\n",
       "\n",
       "    .dataframe tbody tr th {\n",
       "        vertical-align: top;\n",
       "    }\n",
       "\n",
       "    .dataframe thead th {\n",
       "        text-align: right;\n",
       "    }\n",
       "</style>\n",
       "<table border=\"1\" class=\"dataframe\">\n",
       "  <thead>\n",
       "    <tr style=\"text-align: right;\">\n",
       "      <th></th>\n",
       "      <th>Atom</th>\n",
       "      <th>Top Words</th>\n",
       "      <th>POS Tags</th>\n",
       "    </tr>\n",
       "  </thead>\n",
       "  <tbody>\n",
       "    <tr>\n",
       "      <th>0</th>\n",
       "      <td>0</td>\n",
       "      <td>not, starts, not, not, law, not, these, proble...</td>\n",
       "      <td>PART, VERB, PART, PART, NOUN, PART, DET, NOUN,...</td>\n",
       "    </tr>\n",
       "    <tr>\n",
       "      <th>1</th>\n",
       "      <td>1</td>\n",
       "      <td>not, not, not, not, not, not, not, not, not, not</td>\n",
       "      <td>PART, PART, PART, PART, PART, PART, PART, PART...</td>\n",
       "    </tr>\n",
       "    <tr>\n",
       "      <th>2</th>\n",
       "      <td>2</td>\n",
       "      <td>do, do, do, in, rebound, action, hotel, hotels...</td>\n",
       "      <td>VERB, VERB, VERB, ADP, VERB, NOUN, NOUN, NOUN,...</td>\n",
       "    </tr>\n",
       "    <tr>\n",
       "      <th>3</th>\n",
       "      <td>3</td>\n",
       "      <td>Grover, Barnett, Sheets, Morse, Davenport, Hay...</td>\n",
       "      <td>PROPN, PROPN, PROPN, PROPN, PROPN, PROPN, PROP...</td>\n",
       "    </tr>\n",
       "    <tr>\n",
       "      <th>4</th>\n",
       "      <td>4</td>\n",
       "      <td>Orleans, year, site, college, Arkansas, year, ...</td>\n",
       "      <td>PROPN, NOUN, NOUN, NOUN, PROPN, NOUN, NOUN, AU...</td>\n",
       "    </tr>\n",
       "    <tr>\n",
       "      <th>...</th>\n",
       "      <td>...</td>\n",
       "      <td>...</td>\n",
       "      <td>...</td>\n",
       "    </tr>\n",
       "    <tr>\n",
       "      <th>123</th>\n",
       "      <td>123</td>\n",
       "      <td></td>\n",
       "      <td></td>\n",
       "    </tr>\n",
       "    <tr>\n",
       "      <th>124</th>\n",
       "      <td>124</td>\n",
       "      <td></td>\n",
       "      <td></td>\n",
       "    </tr>\n",
       "    <tr>\n",
       "      <th>125</th>\n",
       "      <td>125</td>\n",
       "      <td></td>\n",
       "      <td></td>\n",
       "    </tr>\n",
       "    <tr>\n",
       "      <th>126</th>\n",
       "      <td>126</td>\n",
       "      <td></td>\n",
       "      <td></td>\n",
       "    </tr>\n",
       "    <tr>\n",
       "      <th>127</th>\n",
       "      <td>127</td>\n",
       "      <td></td>\n",
       "      <td></td>\n",
       "    </tr>\n",
       "  </tbody>\n",
       "</table>\n",
       "<p>128 rows × 3 columns</p>\n",
       "</div>"
      ],
      "text/plain": [
       "     Atom                                          Top Words  \\\n",
       "0       0  not, starts, not, not, law, not, these, proble...   \n",
       "1       1   not, not, not, not, not, not, not, not, not, not   \n",
       "2       2  do, do, do, in, rebound, action, hotel, hotels...   \n",
       "3       3  Grover, Barnett, Sheets, Morse, Davenport, Hay...   \n",
       "4       4  Orleans, year, site, college, Arkansas, year, ...   \n",
       "..    ...                                                ...   \n",
       "123   123                                                      \n",
       "124   124                                                      \n",
       "125   125                                                      \n",
       "126   126                                                      \n",
       "127   127                                                      \n",
       "\n",
       "                                              POS Tags  \n",
       "0    PART, VERB, PART, PART, NOUN, PART, DET, NOUN,...  \n",
       "1    PART, PART, PART, PART, PART, PART, PART, PART...  \n",
       "2    VERB, VERB, VERB, ADP, VERB, NOUN, NOUN, NOUN,...  \n",
       "3    PROPN, PROPN, PROPN, PROPN, PROPN, PROPN, PROP...  \n",
       "4    PROPN, NOUN, NOUN, NOUN, PROPN, NOUN, NOUN, AU...  \n",
       "..                                                 ...  \n",
       "123                                                     \n",
       "124                                                     \n",
       "125                                                     \n",
       "126                                                     \n",
       "127                                                     \n",
       "\n",
       "[128 rows x 3 columns]"
      ]
     },
     "metadata": {},
     "output_type": "display_data"
    }
   ],
   "source": [
    "# Extend existing `top_words_per_atom` by adding a `pos` column\n",
    "top_words_with_pos = top_words_per_atom.copy()\n",
    "\n",
    "# Merge back with the original dataset to get POS tag for each word/sentence pair\n",
    "top_words_with_pos = top_words_with_pos.merge(\n",
    "    df[['word', 'sentence', 'pos']],\n",
    "    on=['word', 'sentence'],\n",
    "    how='left'\n",
    ")\n",
    "\n",
    "# Replace any missing POS with \"UNK\"\n",
    "top_words_with_pos['pos'] = top_words_with_pos['pos'].fillna(\"UNK\")\n",
    "\n",
    "def summarize_top_words_with_pos_style(top_words_with_pos, atom_indices, top_k=10):\n",
    "    summary_rows = []\n",
    "\n",
    "    for atom in atom_indices:\n",
    "        df = top_words_with_pos[top_words_with_pos['atom'] == atom].head(top_k)\n",
    "        words = df['word'].tolist()\n",
    "        pos_tags = df['pos'].tolist()\n",
    "\n",
    "        summary_rows.append({\n",
    "            'Atom': atom,\n",
    "            'Top Words': \", \".join(words),\n",
    "            'POS Tags': \", \".join(pos_tags)\n",
    "        })\n",
    "\n",
    "    return pd.DataFrame(summary_rows)\n",
    "\n",
    "selected_atoms = range(128)\n",
    "\n",
    "summary_df = summarize_top_words_with_pos_style(\n",
    "    top_words_with_pos=top_words_with_pos,\n",
    "    atom_indices=selected_atoms,\n",
    "    top_k=10\n",
    ")\n",
    "\n",
    "from IPython.display import display\n",
    "display(summary_df)"
   ]
  },
  {
   "cell_type": "code",
   "execution_count": null,
   "metadata": {},
   "outputs": [],
   "source": []
  }
 ],
 "metadata": {
  "colab": {
   "provenance": []
  },
  "kernelspec": {
   "display_name": "Python 3 (ipykernel)",
   "language": "python",
   "name": "python3"
  },
  "language_info": {
   "codemirror_mode": {
    "name": "ipython",
    "version": 3
   },
   "file_extension": ".py",
   "mimetype": "text/x-python",
   "name": "python",
   "nbconvert_exporter": "python",
   "pygments_lexer": "ipython3",
   "version": "3.13.3"
  },
  "widgets": {
   "application/vnd.jupyter.widget-state+json": {
    "059efd90469b40b7902021b5c9b7ffe4": {
     "model_module": "@jupyter-widgets/controls",
     "model_module_version": "1.5.0",
     "model_name": "HBoxModel",
     "state": {
      "_dom_classes": [],
      "_model_module": "@jupyter-widgets/controls",
      "_model_module_version": "1.5.0",
      "_model_name": "HBoxModel",
      "_view_count": null,
      "_view_module": "@jupyter-widgets/controls",
      "_view_module_version": "1.5.0",
      "_view_name": "HBoxView",
      "box_style": "",
      "children": [
       "IPY_MODEL_8b7a6abb0c3c4483b62403eef3b28e78",
       "IPY_MODEL_58243208c87c45c6be2b80fd42b0304f",
       "IPY_MODEL_b249c7cd630a440a9d1384b0e78e5166"
      ],
      "layout": "IPY_MODEL_f58a69854c0a4f3cbc6ec9848c372694"
     }
    },
    "0a8b0f82c6324bcd8929469301b3fa64": {
     "model_module": "@jupyter-widgets/base",
     "model_module_version": "1.2.0",
     "model_name": "LayoutModel",
     "state": {
      "_model_module": "@jupyter-widgets/base",
      "_model_module_version": "1.2.0",
      "_model_name": "LayoutModel",
      "_view_count": null,
      "_view_module": "@jupyter-widgets/base",
      "_view_module_version": "1.2.0",
      "_view_name": "LayoutView",
      "align_content": null,
      "align_items": null,
      "align_self": null,
      "border": null,
      "bottom": null,
      "display": null,
      "flex": null,
      "flex_flow": null,
      "grid_area": null,
      "grid_auto_columns": null,
      "grid_auto_flow": null,
      "grid_auto_rows": null,
      "grid_column": null,
      "grid_gap": null,
      "grid_row": null,
      "grid_template_areas": null,
      "grid_template_columns": null,
      "grid_template_rows": null,
      "height": null,
      "justify_content": null,
      "justify_items": null,
      "left": null,
      "margin": null,
      "max_height": null,
      "max_width": null,
      "min_height": null,
      "min_width": null,
      "object_fit": null,
      "object_position": null,
      "order": null,
      "overflow": null,
      "overflow_x": null,
      "overflow_y": null,
      "padding": null,
      "right": null,
      "top": null,
      "visibility": null,
      "width": null
     }
    },
    "0d795275e8364fcba722c558bbac784d": {
     "model_module": "@jupyter-widgets/controls",
     "model_module_version": "1.5.0",
     "model_name": "ProgressStyleModel",
     "state": {
      "_model_module": "@jupyter-widgets/controls",
      "_model_module_version": "1.5.0",
      "_model_name": "ProgressStyleModel",
      "_view_count": null,
      "_view_module": "@jupyter-widgets/base",
      "_view_module_version": "1.2.0",
      "_view_name": "StyleView",
      "bar_color": null,
      "description_width": ""
     }
    },
    "0db1958bb8e64c0ea189244d76988db9": {
     "model_module": "@jupyter-widgets/base",
     "model_module_version": "1.2.0",
     "model_name": "LayoutModel",
     "state": {
      "_model_module": "@jupyter-widgets/base",
      "_model_module_version": "1.2.0",
      "_model_name": "LayoutModel",
      "_view_count": null,
      "_view_module": "@jupyter-widgets/base",
      "_view_module_version": "1.2.0",
      "_view_name": "LayoutView",
      "align_content": null,
      "align_items": null,
      "align_self": null,
      "border": null,
      "bottom": null,
      "display": null,
      "flex": null,
      "flex_flow": null,
      "grid_area": null,
      "grid_auto_columns": null,
      "grid_auto_flow": null,
      "grid_auto_rows": null,
      "grid_column": null,
      "grid_gap": null,
      "grid_row": null,
      "grid_template_areas": null,
      "grid_template_columns": null,
      "grid_template_rows": null,
      "height": null,
      "justify_content": null,
      "justify_items": null,
      "left": null,
      "margin": null,
      "max_height": null,
      "max_width": null,
      "min_height": null,
      "min_width": null,
      "object_fit": null,
      "object_position": null,
      "order": null,
      "overflow": null,
      "overflow_x": null,
      "overflow_y": null,
      "padding": null,
      "right": null,
      "top": null,
      "visibility": null,
      "width": null
     }
    },
    "0ff97cfa2fba4521bc5e0941595ad4b8": {
     "model_module": "@jupyter-widgets/controls",
     "model_module_version": "1.5.0",
     "model_name": "DescriptionStyleModel",
     "state": {
      "_model_module": "@jupyter-widgets/controls",
      "_model_module_version": "1.5.0",
      "_model_name": "DescriptionStyleModel",
      "_view_count": null,
      "_view_module": "@jupyter-widgets/base",
      "_view_module_version": "1.2.0",
      "_view_name": "StyleView",
      "description_width": ""
     }
    },
    "121ec3c89a334c55a05e79a1b2c7dc57": {
     "model_module": "@jupyter-widgets/base",
     "model_module_version": "1.2.0",
     "model_name": "LayoutModel",
     "state": {
      "_model_module": "@jupyter-widgets/base",
      "_model_module_version": "1.2.0",
      "_model_name": "LayoutModel",
      "_view_count": null,
      "_view_module": "@jupyter-widgets/base",
      "_view_module_version": "1.2.0",
      "_view_name": "LayoutView",
      "align_content": null,
      "align_items": null,
      "align_self": null,
      "border": null,
      "bottom": null,
      "display": null,
      "flex": null,
      "flex_flow": null,
      "grid_area": null,
      "grid_auto_columns": null,
      "grid_auto_flow": null,
      "grid_auto_rows": null,
      "grid_column": null,
      "grid_gap": null,
      "grid_row": null,
      "grid_template_areas": null,
      "grid_template_columns": null,
      "grid_template_rows": null,
      "height": null,
      "justify_content": null,
      "justify_items": null,
      "left": null,
      "margin": null,
      "max_height": null,
      "max_width": null,
      "min_height": null,
      "min_width": null,
      "object_fit": null,
      "object_position": null,
      "order": null,
      "overflow": null,
      "overflow_x": null,
      "overflow_y": null,
      "padding": null,
      "right": null,
      "top": null,
      "visibility": null,
      "width": null
     }
    },
    "1c950d9c74bf4afcb0b67b63ee0d2de7": {
     "model_module": "@jupyter-widgets/controls",
     "model_module_version": "1.5.0",
     "model_name": "HBoxModel",
     "state": {
      "_dom_classes": [],
      "_model_module": "@jupyter-widgets/controls",
      "_model_module_version": "1.5.0",
      "_model_name": "HBoxModel",
      "_view_count": null,
      "_view_module": "@jupyter-widgets/controls",
      "_view_module_version": "1.5.0",
      "_view_name": "HBoxView",
      "box_style": "",
      "children": [
       "IPY_MODEL_81de851fd71349c78e5fe841d233fea4",
       "IPY_MODEL_63129024f91c482da46c9ac7094577ce",
       "IPY_MODEL_b006448de2cb4508b42df4ecd3fe5f8b"
      ],
      "layout": "IPY_MODEL_6d5a67caec6f4d01bdfe8347aa673112"
     }
    },
    "20a0c56070a34a57bfbf5644790825e3": {
     "model_module": "@jupyter-widgets/controls",
     "model_module_version": "1.5.0",
     "model_name": "HTMLModel",
     "state": {
      "_dom_classes": [],
      "_model_module": "@jupyter-widgets/controls",
      "_model_module_version": "1.5.0",
      "_model_name": "HTMLModel",
      "_view_count": null,
      "_view_module": "@jupyter-widgets/controls",
      "_view_module_version": "1.5.0",
      "_view_name": "HTMLView",
      "description": "",
      "description_tooltip": null,
      "layout": "IPY_MODEL_e1582f9f01524c06a22292748b25faa3",
      "placeholder": "​",
      "style": "IPY_MODEL_ccc1e152e6d046edac82397ba22c147e",
      "value": " 424k/? [00:00&lt;00:00, 18.0MB/s]"
     }
    },
    "3b19fe70c21b4f6193aef5bdf4314c1d": {
     "model_module": "@jupyter-widgets/base",
     "model_module_version": "1.2.0",
     "model_name": "LayoutModel",
     "state": {
      "_model_module": "@jupyter-widgets/base",
      "_model_module_version": "1.2.0",
      "_model_name": "LayoutModel",
      "_view_count": null,
      "_view_module": "@jupyter-widgets/base",
      "_view_module_version": "1.2.0",
      "_view_name": "LayoutView",
      "align_content": null,
      "align_items": null,
      "align_self": null,
      "border": null,
      "bottom": null,
      "display": null,
      "flex": null,
      "flex_flow": null,
      "grid_area": null,
      "grid_auto_columns": null,
      "grid_auto_flow": null,
      "grid_auto_rows": null,
      "grid_column": null,
      "grid_gap": null,
      "grid_row": null,
      "grid_template_areas": null,
      "grid_template_columns": null,
      "grid_template_rows": null,
      "height": null,
      "justify_content": null,
      "justify_items": null,
      "left": null,
      "margin": null,
      "max_height": null,
      "max_width": null,
      "min_height": null,
      "min_width": null,
      "object_fit": null,
      "object_position": null,
      "order": null,
      "overflow": null,
      "overflow_x": null,
      "overflow_y": null,
      "padding": null,
      "right": null,
      "top": null,
      "visibility": null,
      "width": null
     }
    },
    "3dae2255ce814f8d8e748b0bff6de5f6": {
     "model_module": "@jupyter-widgets/base",
     "model_module_version": "1.2.0",
     "model_name": "LayoutModel",
     "state": {
      "_model_module": "@jupyter-widgets/base",
      "_model_module_version": "1.2.0",
      "_model_name": "LayoutModel",
      "_view_count": null,
      "_view_module": "@jupyter-widgets/base",
      "_view_module_version": "1.2.0",
      "_view_name": "LayoutView",
      "align_content": null,
      "align_items": null,
      "align_self": null,
      "border": null,
      "bottom": null,
      "display": null,
      "flex": null,
      "flex_flow": null,
      "grid_area": null,
      "grid_auto_columns": null,
      "grid_auto_flow": null,
      "grid_auto_rows": null,
      "grid_column": null,
      "grid_gap": null,
      "grid_row": null,
      "grid_template_areas": null,
      "grid_template_columns": null,
      "grid_template_rows": null,
      "height": null,
      "justify_content": null,
      "justify_items": null,
      "left": null,
      "margin": null,
      "max_height": null,
      "max_width": null,
      "min_height": null,
      "min_width": null,
      "object_fit": null,
      "object_position": null,
      "order": null,
      "overflow": null,
      "overflow_x": null,
      "overflow_y": null,
      "padding": null,
      "right": null,
      "top": null,
      "visibility": null,
      "width": null
     }
    },
    "3e7a458b43e8477b8a6557b839699caf": {
     "model_module": "@jupyter-widgets/controls",
     "model_module_version": "1.5.0",
     "model_name": "HBoxModel",
     "state": {
      "_dom_classes": [],
      "_model_module": "@jupyter-widgets/controls",
      "_model_module_version": "1.5.0",
      "_model_name": "HBoxModel",
      "_view_count": null,
      "_view_module": "@jupyter-widgets/controls",
      "_view_module_version": "1.5.0",
      "_view_name": "HBoxView",
      "box_style": "",
      "children": [
       "IPY_MODEL_474ef1a806064bb49dcb34c223d4f95e",
       "IPY_MODEL_fc430d793af34d76b87cad97b499601c",
       "IPY_MODEL_6a1a78c312fc4557b63aeaa7f520265b"
      ],
      "layout": "IPY_MODEL_3b19fe70c21b4f6193aef5bdf4314c1d"
     }
    },
    "44dcec911c734f20836522fd428ed5a1": {
     "model_module": "@jupyter-widgets/controls",
     "model_module_version": "1.5.0",
     "model_name": "FloatProgressModel",
     "state": {
      "_dom_classes": [],
      "_model_module": "@jupyter-widgets/controls",
      "_model_module_version": "1.5.0",
      "_model_name": "FloatProgressModel",
      "_view_count": null,
      "_view_module": "@jupyter-widgets/controls",
      "_view_module_version": "1.5.0",
      "_view_name": "ProgressView",
      "bar_style": "success",
      "description": "",
      "description_tooltip": null,
      "layout": "IPY_MODEL_824389fafdcc4d6996da55884984b7fe",
      "max": 52554,
      "min": 0,
      "orientation": "horizontal",
      "style": "IPY_MODEL_0d795275e8364fcba722c558bbac784d",
      "value": 52554
     }
    },
    "474ef1a806064bb49dcb34c223d4f95e": {
     "model_module": "@jupyter-widgets/controls",
     "model_module_version": "1.5.0",
     "model_name": "HTMLModel",
     "state": {
      "_dom_classes": [],
      "_model_module": "@jupyter-widgets/controls",
      "_model_module_version": "1.5.0",
      "_model_name": "HTMLModel",
      "_view_count": null,
      "_view_module": "@jupyter-widgets/controls",
      "_view_module_version": "1.5.0",
      "_view_name": "HTMLView",
      "description": "",
      "description_tooltip": null,
      "layout": "IPY_MODEL_eebcc947f0424443b2333c62dc8fbf1e",
      "placeholder": "​",
      "style": "IPY_MODEL_0ff97cfa2fba4521bc5e0941595ad4b8",
      "value": "Downloading https://raw.githubusercontent.com/stanfordnlp/stanza-resources/main/resources_1.10.0.json: "
     }
    },
    "58243208c87c45c6be2b80fd42b0304f": {
     "model_module": "@jupyter-widgets/controls",
     "model_module_version": "1.5.0",
     "model_name": "FloatProgressModel",
     "state": {
      "_dom_classes": [],
      "_model_module": "@jupyter-widgets/controls",
      "_model_module_version": "1.5.0",
      "_model_name": "FloatProgressModel",
      "_view_count": null,
      "_view_module": "@jupyter-widgets/controls",
      "_view_module_version": "1.5.0",
      "_view_name": "ProgressView",
      "bar_style": "success",
      "description": "",
      "description_tooltip": null,
      "layout": "IPY_MODEL_b4a4e81d77894b97bbfbe758fa24caf3",
      "max": 52554,
      "min": 0,
      "orientation": "horizontal",
      "style": "IPY_MODEL_741779d00bd449d085d60253c531c515",
      "value": 52554
     }
    },
    "5de9bc5ac6594feab4fdae6f4f29f6ac": {
     "model_module": "@jupyter-widgets/controls",
     "model_module_version": "1.5.0",
     "model_name": "HTMLModel",
     "state": {
      "_dom_classes": [],
      "_model_module": "@jupyter-widgets/controls",
      "_model_module_version": "1.5.0",
      "_model_name": "HTMLModel",
      "_view_count": null,
      "_view_module": "@jupyter-widgets/controls",
      "_view_module_version": "1.5.0",
      "_view_name": "HTMLView",
      "description": "",
      "description_tooltip": null,
      "layout": "IPY_MODEL_3dae2255ce814f8d8e748b0bff6de5f6",
      "placeholder": "​",
      "style": "IPY_MODEL_8d4ce5b4bdda45c985e80c00b91be7fa",
      "value": " 424k/? [00:00&lt;00:00, 17.5MB/s]"
     }
    },
    "5e026def0b3b455a8f9025eeb6ee1b92": {
     "model_module": "@jupyter-widgets/controls",
     "model_module_version": "1.5.0",
     "model_name": "HTMLModel",
     "state": {
      "_dom_classes": [],
      "_model_module": "@jupyter-widgets/controls",
      "_model_module_version": "1.5.0",
      "_model_name": "HTMLModel",
      "_view_count": null,
      "_view_module": "@jupyter-widgets/controls",
      "_view_module_version": "1.5.0",
      "_view_name": "HTMLView",
      "description": "",
      "description_tooltip": null,
      "layout": "IPY_MODEL_9bc41f2f61244dc3ac3dfa88b1e8b271",
      "placeholder": "​",
      "style": "IPY_MODEL_dc297f854e054e32af42fe3a42195160",
      "value": "Downloading https://raw.githubusercontent.com/stanfordnlp/stanza-resources/main/resources_1.10.0.json: "
     }
    },
    "5f4aa45ac6c847889ad7391e397d3092": {
     "model_module": "@jupyter-widgets/base",
     "model_module_version": "1.2.0",
     "model_name": "LayoutModel",
     "state": {
      "_model_module": "@jupyter-widgets/base",
      "_model_module_version": "1.2.0",
      "_model_name": "LayoutModel",
      "_view_count": null,
      "_view_module": "@jupyter-widgets/base",
      "_view_module_version": "1.2.0",
      "_view_name": "LayoutView",
      "align_content": null,
      "align_items": null,
      "align_self": null,
      "border": null,
      "bottom": null,
      "display": null,
      "flex": null,
      "flex_flow": null,
      "grid_area": null,
      "grid_auto_columns": null,
      "grid_auto_flow": null,
      "grid_auto_rows": null,
      "grid_column": null,
      "grid_gap": null,
      "grid_row": null,
      "grid_template_areas": null,
      "grid_template_columns": null,
      "grid_template_rows": null,
      "height": null,
      "justify_content": null,
      "justify_items": null,
      "left": null,
      "margin": null,
      "max_height": null,
      "max_width": null,
      "min_height": null,
      "min_width": null,
      "object_fit": null,
      "object_position": null,
      "order": null,
      "overflow": null,
      "overflow_x": null,
      "overflow_y": null,
      "padding": null,
      "right": null,
      "top": null,
      "visibility": null,
      "width": null
     }
    },
    "63129024f91c482da46c9ac7094577ce": {
     "model_module": "@jupyter-widgets/controls",
     "model_module_version": "1.5.0",
     "model_name": "FloatProgressModel",
     "state": {
      "_dom_classes": [],
      "_model_module": "@jupyter-widgets/controls",
      "_model_module_version": "1.5.0",
      "_model_name": "FloatProgressModel",
      "_view_count": null,
      "_view_module": "@jupyter-widgets/controls",
      "_view_module_version": "1.5.0",
      "_view_name": "ProgressView",
      "bar_style": "success",
      "description": "",
      "description_tooltip": null,
      "layout": "IPY_MODEL_0a8b0f82c6324bcd8929469301b3fa64",
      "max": 526251983,
      "min": 0,
      "orientation": "horizontal",
      "style": "IPY_MODEL_f0cd440f98ab485f845a1e74d44b0426",
      "value": 526251983
     }
    },
    "63d92126944148d4b6bfca428b812c92": {
     "model_module": "@jupyter-widgets/controls",
     "model_module_version": "1.5.0",
     "model_name": "DescriptionStyleModel",
     "state": {
      "_model_module": "@jupyter-widgets/controls",
      "_model_module_version": "1.5.0",
      "_model_name": "DescriptionStyleModel",
      "_view_count": null,
      "_view_module": "@jupyter-widgets/base",
      "_view_module_version": "1.2.0",
      "_view_name": "StyleView",
      "description_width": ""
     }
    },
    "6a1a78c312fc4557b63aeaa7f520265b": {
     "model_module": "@jupyter-widgets/controls",
     "model_module_version": "1.5.0",
     "model_name": "HTMLModel",
     "state": {
      "_dom_classes": [],
      "_model_module": "@jupyter-widgets/controls",
      "_model_module_version": "1.5.0",
      "_model_name": "HTMLModel",
      "_view_count": null,
      "_view_module": "@jupyter-widgets/controls",
      "_view_module_version": "1.5.0",
      "_view_name": "HTMLView",
      "description": "",
      "description_tooltip": null,
      "layout": "IPY_MODEL_9ee2ee31d6544832bdd1ac654cf70a8c",
      "placeholder": "​",
      "style": "IPY_MODEL_72b0a66f4e5c4af9b04f06245350a92b",
      "value": " 424k/? [00:00&lt;00:00, 8.95MB/s]"
     }
    },
    "6d5a67caec6f4d01bdfe8347aa673112": {
     "model_module": "@jupyter-widgets/base",
     "model_module_version": "1.2.0",
     "model_name": "LayoutModel",
     "state": {
      "_model_module": "@jupyter-widgets/base",
      "_model_module_version": "1.2.0",
      "_model_name": "LayoutModel",
      "_view_count": null,
      "_view_module": "@jupyter-widgets/base",
      "_view_module_version": "1.2.0",
      "_view_name": "LayoutView",
      "align_content": null,
      "align_items": null,
      "align_self": null,
      "border": null,
      "bottom": null,
      "display": null,
      "flex": null,
      "flex_flow": null,
      "grid_area": null,
      "grid_auto_columns": null,
      "grid_auto_flow": null,
      "grid_auto_rows": null,
      "grid_column": null,
      "grid_gap": null,
      "grid_row": null,
      "grid_template_areas": null,
      "grid_template_columns": null,
      "grid_template_rows": null,
      "height": null,
      "justify_content": null,
      "justify_items": null,
      "left": null,
      "margin": null,
      "max_height": null,
      "max_width": null,
      "min_height": null,
      "min_width": null,
      "object_fit": null,
      "object_position": null,
      "order": null,
      "overflow": null,
      "overflow_x": null,
      "overflow_y": null,
      "padding": null,
      "right": null,
      "top": null,
      "visibility": null,
      "width": null
     }
    },
    "72b0a66f4e5c4af9b04f06245350a92b": {
     "model_module": "@jupyter-widgets/controls",
     "model_module_version": "1.5.0",
     "model_name": "DescriptionStyleModel",
     "state": {
      "_model_module": "@jupyter-widgets/controls",
      "_model_module_version": "1.5.0",
      "_model_name": "DescriptionStyleModel",
      "_view_count": null,
      "_view_module": "@jupyter-widgets/base",
      "_view_module_version": "1.2.0",
      "_view_name": "StyleView",
      "description_width": ""
     }
    },
    "741779d00bd449d085d60253c531c515": {
     "model_module": "@jupyter-widgets/controls",
     "model_module_version": "1.5.0",
     "model_name": "ProgressStyleModel",
     "state": {
      "_model_module": "@jupyter-widgets/controls",
      "_model_module_version": "1.5.0",
      "_model_name": "ProgressStyleModel",
      "_view_count": null,
      "_view_module": "@jupyter-widgets/base",
      "_view_module_version": "1.2.0",
      "_view_name": "StyleView",
      "bar_color": null,
      "description_width": ""
     }
    },
    "778843fdc46243bc99c48bd8d83c6f69": {
     "model_module": "@jupyter-widgets/controls",
     "model_module_version": "1.5.0",
     "model_name": "HBoxModel",
     "state": {
      "_dom_classes": [],
      "_model_module": "@jupyter-widgets/controls",
      "_model_module_version": "1.5.0",
      "_model_name": "HBoxModel",
      "_view_count": null,
      "_view_module": "@jupyter-widgets/controls",
      "_view_module_version": "1.5.0",
      "_view_name": "HBoxView",
      "box_style": "",
      "children": [
       "IPY_MODEL_5e026def0b3b455a8f9025eeb6ee1b92",
       "IPY_MODEL_44dcec911c734f20836522fd428ed5a1",
       "IPY_MODEL_20a0c56070a34a57bfbf5644790825e3"
      ],
      "layout": "IPY_MODEL_0db1958bb8e64c0ea189244d76988db9"
     }
    },
    "81de851fd71349c78e5fe841d233fea4": {
     "model_module": "@jupyter-widgets/controls",
     "model_module_version": "1.5.0",
     "model_name": "HTMLModel",
     "state": {
      "_dom_classes": [],
      "_model_module": "@jupyter-widgets/controls",
      "_model_module_version": "1.5.0",
      "_model_name": "HTMLModel",
      "_view_count": null,
      "_view_module": "@jupyter-widgets/controls",
      "_view_module_version": "1.5.0",
      "_view_name": "HTMLView",
      "description": "",
      "description_tooltip": null,
      "layout": "IPY_MODEL_cc8a3a4cc9a64b78807e1993c45af211",
      "placeholder": "​",
      "style": "IPY_MODEL_f300528d14fe46849796cf17bad53fd9",
      "value": "Downloading https://huggingface.co/stanfordnlp/stanza-en/resolve/v1.10.0/models/default.zip: 100%"
     }
    },
    "824389fafdcc4d6996da55884984b7fe": {
     "model_module": "@jupyter-widgets/base",
     "model_module_version": "1.2.0",
     "model_name": "LayoutModel",
     "state": {
      "_model_module": "@jupyter-widgets/base",
      "_model_module_version": "1.2.0",
      "_model_name": "LayoutModel",
      "_view_count": null,
      "_view_module": "@jupyter-widgets/base",
      "_view_module_version": "1.2.0",
      "_view_name": "LayoutView",
      "align_content": null,
      "align_items": null,
      "align_self": null,
      "border": null,
      "bottom": null,
      "display": null,
      "flex": null,
      "flex_flow": null,
      "grid_area": null,
      "grid_auto_columns": null,
      "grid_auto_flow": null,
      "grid_auto_rows": null,
      "grid_column": null,
      "grid_gap": null,
      "grid_row": null,
      "grid_template_areas": null,
      "grid_template_columns": null,
      "grid_template_rows": null,
      "height": null,
      "justify_content": null,
      "justify_items": null,
      "left": null,
      "margin": null,
      "max_height": null,
      "max_width": null,
      "min_height": null,
      "min_width": null,
      "object_fit": null,
      "object_position": null,
      "order": null,
      "overflow": null,
      "overflow_x": null,
      "overflow_y": null,
      "padding": null,
      "right": null,
      "top": null,
      "visibility": null,
      "width": null
     }
    },
    "8b7a6abb0c3c4483b62403eef3b28e78": {
     "model_module": "@jupyter-widgets/controls",
     "model_module_version": "1.5.0",
     "model_name": "HTMLModel",
     "state": {
      "_dom_classes": [],
      "_model_module": "@jupyter-widgets/controls",
      "_model_module_version": "1.5.0",
      "_model_name": "HTMLModel",
      "_view_count": null,
      "_view_module": "@jupyter-widgets/controls",
      "_view_module_version": "1.5.0",
      "_view_name": "HTMLView",
      "description": "",
      "description_tooltip": null,
      "layout": "IPY_MODEL_9effb41c74f54a73992070897522a8d1",
      "placeholder": "​",
      "style": "IPY_MODEL_b8096c686d2245c896576e3678dcdeab",
      "value": "Downloading https://raw.githubusercontent.com/stanfordnlp/stanza-resources/main/resources_1.10.0.json: "
     }
    },
    "8d4ce5b4bdda45c985e80c00b91be7fa": {
     "model_module": "@jupyter-widgets/controls",
     "model_module_version": "1.5.0",
     "model_name": "DescriptionStyleModel",
     "state": {
      "_model_module": "@jupyter-widgets/controls",
      "_model_module_version": "1.5.0",
      "_model_name": "DescriptionStyleModel",
      "_view_count": null,
      "_view_module": "@jupyter-widgets/base",
      "_view_module_version": "1.2.0",
      "_view_name": "StyleView",
      "description_width": ""
     }
    },
    "9bc41f2f61244dc3ac3dfa88b1e8b271": {
     "model_module": "@jupyter-widgets/base",
     "model_module_version": "1.2.0",
     "model_name": "LayoutModel",
     "state": {
      "_model_module": "@jupyter-widgets/base",
      "_model_module_version": "1.2.0",
      "_model_name": "LayoutModel",
      "_view_count": null,
      "_view_module": "@jupyter-widgets/base",
      "_view_module_version": "1.2.0",
      "_view_name": "LayoutView",
      "align_content": null,
      "align_items": null,
      "align_self": null,
      "border": null,
      "bottom": null,
      "display": null,
      "flex": null,
      "flex_flow": null,
      "grid_area": null,
      "grid_auto_columns": null,
      "grid_auto_flow": null,
      "grid_auto_rows": null,
      "grid_column": null,
      "grid_gap": null,
      "grid_row": null,
      "grid_template_areas": null,
      "grid_template_columns": null,
      "grid_template_rows": null,
      "height": null,
      "justify_content": null,
      "justify_items": null,
      "left": null,
      "margin": null,
      "max_height": null,
      "max_width": null,
      "min_height": null,
      "min_width": null,
      "object_fit": null,
      "object_position": null,
      "order": null,
      "overflow": null,
      "overflow_x": null,
      "overflow_y": null,
      "padding": null,
      "right": null,
      "top": null,
      "visibility": null,
      "width": null
     }
    },
    "9c2586decd8e496bbe64056b58f5aa2d": {
     "model_module": "@jupyter-widgets/base",
     "model_module_version": "1.2.0",
     "model_name": "LayoutModel",
     "state": {
      "_model_module": "@jupyter-widgets/base",
      "_model_module_version": "1.2.0",
      "_model_name": "LayoutModel",
      "_view_count": null,
      "_view_module": "@jupyter-widgets/base",
      "_view_module_version": "1.2.0",
      "_view_name": "LayoutView",
      "align_content": null,
      "align_items": null,
      "align_self": null,
      "border": null,
      "bottom": null,
      "display": null,
      "flex": null,
      "flex_flow": null,
      "grid_area": null,
      "grid_auto_columns": null,
      "grid_auto_flow": null,
      "grid_auto_rows": null,
      "grid_column": null,
      "grid_gap": null,
      "grid_row": null,
      "grid_template_areas": null,
      "grid_template_columns": null,
      "grid_template_rows": null,
      "height": null,
      "justify_content": null,
      "justify_items": null,
      "left": null,
      "margin": null,
      "max_height": null,
      "max_width": null,
      "min_height": null,
      "min_width": null,
      "object_fit": null,
      "object_position": null,
      "order": null,
      "overflow": null,
      "overflow_x": null,
      "overflow_y": null,
      "padding": null,
      "right": null,
      "top": null,
      "visibility": null,
      "width": null
     }
    },
    "9ee2ee31d6544832bdd1ac654cf70a8c": {
     "model_module": "@jupyter-widgets/base",
     "model_module_version": "1.2.0",
     "model_name": "LayoutModel",
     "state": {
      "_model_module": "@jupyter-widgets/base",
      "_model_module_version": "1.2.0",
      "_model_name": "LayoutModel",
      "_view_count": null,
      "_view_module": "@jupyter-widgets/base",
      "_view_module_version": "1.2.0",
      "_view_name": "LayoutView",
      "align_content": null,
      "align_items": null,
      "align_self": null,
      "border": null,
      "bottom": null,
      "display": null,
      "flex": null,
      "flex_flow": null,
      "grid_area": null,
      "grid_auto_columns": null,
      "grid_auto_flow": null,
      "grid_auto_rows": null,
      "grid_column": null,
      "grid_gap": null,
      "grid_row": null,
      "grid_template_areas": null,
      "grid_template_columns": null,
      "grid_template_rows": null,
      "height": null,
      "justify_content": null,
      "justify_items": null,
      "left": null,
      "margin": null,
      "max_height": null,
      "max_width": null,
      "min_height": null,
      "min_width": null,
      "object_fit": null,
      "object_position": null,
      "order": null,
      "overflow": null,
      "overflow_x": null,
      "overflow_y": null,
      "padding": null,
      "right": null,
      "top": null,
      "visibility": null,
      "width": null
     }
    },
    "9effb41c74f54a73992070897522a8d1": {
     "model_module": "@jupyter-widgets/base",
     "model_module_version": "1.2.0",
     "model_name": "LayoutModel",
     "state": {
      "_model_module": "@jupyter-widgets/base",
      "_model_module_version": "1.2.0",
      "_model_name": "LayoutModel",
      "_view_count": null,
      "_view_module": "@jupyter-widgets/base",
      "_view_module_version": "1.2.0",
      "_view_name": "LayoutView",
      "align_content": null,
      "align_items": null,
      "align_self": null,
      "border": null,
      "bottom": null,
      "display": null,
      "flex": null,
      "flex_flow": null,
      "grid_area": null,
      "grid_auto_columns": null,
      "grid_auto_flow": null,
      "grid_auto_rows": null,
      "grid_column": null,
      "grid_gap": null,
      "grid_row": null,
      "grid_template_areas": null,
      "grid_template_columns": null,
      "grid_template_rows": null,
      "height": null,
      "justify_content": null,
      "justify_items": null,
      "left": null,
      "margin": null,
      "max_height": null,
      "max_width": null,
      "min_height": null,
      "min_width": null,
      "object_fit": null,
      "object_position": null,
      "order": null,
      "overflow": null,
      "overflow_x": null,
      "overflow_y": null,
      "padding": null,
      "right": null,
      "top": null,
      "visibility": null,
      "width": null
     }
    },
    "a1d999f7545648d8bbf52fa83e4cd8bd": {
     "model_module": "@jupyter-widgets/controls",
     "model_module_version": "1.5.0",
     "model_name": "ProgressStyleModel",
     "state": {
      "_model_module": "@jupyter-widgets/controls",
      "_model_module_version": "1.5.0",
      "_model_name": "ProgressStyleModel",
      "_view_count": null,
      "_view_module": "@jupyter-widgets/base",
      "_view_module_version": "1.2.0",
      "_view_name": "StyleView",
      "bar_color": null,
      "description_width": ""
     }
    },
    "a6de92e469474824a8d259d863ea90e4": {
     "model_module": "@jupyter-widgets/base",
     "model_module_version": "1.2.0",
     "model_name": "LayoutModel",
     "state": {
      "_model_module": "@jupyter-widgets/base",
      "_model_module_version": "1.2.0",
      "_model_name": "LayoutModel",
      "_view_count": null,
      "_view_module": "@jupyter-widgets/base",
      "_view_module_version": "1.2.0",
      "_view_name": "LayoutView",
      "align_content": null,
      "align_items": null,
      "align_self": null,
      "border": null,
      "bottom": null,
      "display": null,
      "flex": null,
      "flex_flow": null,
      "grid_area": null,
      "grid_auto_columns": null,
      "grid_auto_flow": null,
      "grid_auto_rows": null,
      "grid_column": null,
      "grid_gap": null,
      "grid_row": null,
      "grid_template_areas": null,
      "grid_template_columns": null,
      "grid_template_rows": null,
      "height": null,
      "justify_content": null,
      "justify_items": null,
      "left": null,
      "margin": null,
      "max_height": null,
      "max_width": null,
      "min_height": null,
      "min_width": null,
      "object_fit": null,
      "object_position": null,
      "order": null,
      "overflow": null,
      "overflow_x": null,
      "overflow_y": null,
      "padding": null,
      "right": null,
      "top": null,
      "visibility": null,
      "width": null
     }
    },
    "b006448de2cb4508b42df4ecd3fe5f8b": {
     "model_module": "@jupyter-widgets/controls",
     "model_module_version": "1.5.0",
     "model_name": "HTMLModel",
     "state": {
      "_dom_classes": [],
      "_model_module": "@jupyter-widgets/controls",
      "_model_module_version": "1.5.0",
      "_model_name": "HTMLModel",
      "_view_count": null,
      "_view_module": "@jupyter-widgets/controls",
      "_view_module_version": "1.5.0",
      "_view_name": "HTMLView",
      "description": "",
      "description_tooltip": null,
      "layout": "IPY_MODEL_a6de92e469474824a8d259d863ea90e4",
      "placeholder": "​",
      "style": "IPY_MODEL_c177a3538ed641d795c1d9fb391fd8cb",
      "value": " 526M/526M [00:05&lt;00:00, 152MB/s]"
     }
    },
    "b249c7cd630a440a9d1384b0e78e5166": {
     "model_module": "@jupyter-widgets/controls",
     "model_module_version": "1.5.0",
     "model_name": "HTMLModel",
     "state": {
      "_dom_classes": [],
      "_model_module": "@jupyter-widgets/controls",
      "_model_module_version": "1.5.0",
      "_model_name": "HTMLModel",
      "_view_count": null,
      "_view_module": "@jupyter-widgets/controls",
      "_view_module_version": "1.5.0",
      "_view_name": "HTMLView",
      "description": "",
      "description_tooltip": null,
      "layout": "IPY_MODEL_c67e994f04db4045b32780660d85a77a",
      "placeholder": "​",
      "style": "IPY_MODEL_63d92126944148d4b6bfca428b812c92",
      "value": " 424k/? [00:00&lt;00:00, 1.16MB/s]"
     }
    },
    "b4a4e81d77894b97bbfbe758fa24caf3": {
     "model_module": "@jupyter-widgets/base",
     "model_module_version": "1.2.0",
     "model_name": "LayoutModel",
     "state": {
      "_model_module": "@jupyter-widgets/base",
      "_model_module_version": "1.2.0",
      "_model_name": "LayoutModel",
      "_view_count": null,
      "_view_module": "@jupyter-widgets/base",
      "_view_module_version": "1.2.0",
      "_view_name": "LayoutView",
      "align_content": null,
      "align_items": null,
      "align_self": null,
      "border": null,
      "bottom": null,
      "display": null,
      "flex": null,
      "flex_flow": null,
      "grid_area": null,
      "grid_auto_columns": null,
      "grid_auto_flow": null,
      "grid_auto_rows": null,
      "grid_column": null,
      "grid_gap": null,
      "grid_row": null,
      "grid_template_areas": null,
      "grid_template_columns": null,
      "grid_template_rows": null,
      "height": null,
      "justify_content": null,
      "justify_items": null,
      "left": null,
      "margin": null,
      "max_height": null,
      "max_width": null,
      "min_height": null,
      "min_width": null,
      "object_fit": null,
      "object_position": null,
      "order": null,
      "overflow": null,
      "overflow_x": null,
      "overflow_y": null,
      "padding": null,
      "right": null,
      "top": null,
      "visibility": null,
      "width": null
     }
    },
    "b8096c686d2245c896576e3678dcdeab": {
     "model_module": "@jupyter-widgets/controls",
     "model_module_version": "1.5.0",
     "model_name": "DescriptionStyleModel",
     "state": {
      "_model_module": "@jupyter-widgets/controls",
      "_model_module_version": "1.5.0",
      "_model_name": "DescriptionStyleModel",
      "_view_count": null,
      "_view_module": "@jupyter-widgets/base",
      "_view_module_version": "1.2.0",
      "_view_name": "StyleView",
      "description_width": ""
     }
    },
    "b99dc4d3a86a4c1cb4869a231fd014c4": {
     "model_module": "@jupyter-widgets/controls",
     "model_module_version": "1.5.0",
     "model_name": "ProgressStyleModel",
     "state": {
      "_model_module": "@jupyter-widgets/controls",
      "_model_module_version": "1.5.0",
      "_model_name": "ProgressStyleModel",
      "_view_count": null,
      "_view_module": "@jupyter-widgets/base",
      "_view_module_version": "1.2.0",
      "_view_name": "StyleView",
      "bar_color": null,
      "description_width": ""
     }
    },
    "c177a3538ed641d795c1d9fb391fd8cb": {
     "model_module": "@jupyter-widgets/controls",
     "model_module_version": "1.5.0",
     "model_name": "DescriptionStyleModel",
     "state": {
      "_model_module": "@jupyter-widgets/controls",
      "_model_module_version": "1.5.0",
      "_model_name": "DescriptionStyleModel",
      "_view_count": null,
      "_view_module": "@jupyter-widgets/base",
      "_view_module_version": "1.2.0",
      "_view_name": "StyleView",
      "description_width": ""
     }
    },
    "c4f8807701bb481295481e23b6ce1322": {
     "model_module": "@jupyter-widgets/controls",
     "model_module_version": "1.5.0",
     "model_name": "FloatProgressModel",
     "state": {
      "_dom_classes": [],
      "_model_module": "@jupyter-widgets/controls",
      "_model_module_version": "1.5.0",
      "_model_name": "FloatProgressModel",
      "_view_count": null,
      "_view_module": "@jupyter-widgets/controls",
      "_view_module_version": "1.5.0",
      "_view_name": "ProgressView",
      "bar_style": "success",
      "description": "",
      "description_tooltip": null,
      "layout": "IPY_MODEL_9c2586decd8e496bbe64056b58f5aa2d",
      "max": 52554,
      "min": 0,
      "orientation": "horizontal",
      "style": "IPY_MODEL_a1d999f7545648d8bbf52fa83e4cd8bd",
      "value": 52554
     }
    },
    "c67e994f04db4045b32780660d85a77a": {
     "model_module": "@jupyter-widgets/base",
     "model_module_version": "1.2.0",
     "model_name": "LayoutModel",
     "state": {
      "_model_module": "@jupyter-widgets/base",
      "_model_module_version": "1.2.0",
      "_model_name": "LayoutModel",
      "_view_count": null,
      "_view_module": "@jupyter-widgets/base",
      "_view_module_version": "1.2.0",
      "_view_name": "LayoutView",
      "align_content": null,
      "align_items": null,
      "align_self": null,
      "border": null,
      "bottom": null,
      "display": null,
      "flex": null,
      "flex_flow": null,
      "grid_area": null,
      "grid_auto_columns": null,
      "grid_auto_flow": null,
      "grid_auto_rows": null,
      "grid_column": null,
      "grid_gap": null,
      "grid_row": null,
      "grid_template_areas": null,
      "grid_template_columns": null,
      "grid_template_rows": null,
      "height": null,
      "justify_content": null,
      "justify_items": null,
      "left": null,
      "margin": null,
      "max_height": null,
      "max_width": null,
      "min_height": null,
      "min_width": null,
      "object_fit": null,
      "object_position": null,
      "order": null,
      "overflow": null,
      "overflow_x": null,
      "overflow_y": null,
      "padding": null,
      "right": null,
      "top": null,
      "visibility": null,
      "width": null
     }
    },
    "cc8a3a4cc9a64b78807e1993c45af211": {
     "model_module": "@jupyter-widgets/base",
     "model_module_version": "1.2.0",
     "model_name": "LayoutModel",
     "state": {
      "_model_module": "@jupyter-widgets/base",
      "_model_module_version": "1.2.0",
      "_model_name": "LayoutModel",
      "_view_count": null,
      "_view_module": "@jupyter-widgets/base",
      "_view_module_version": "1.2.0",
      "_view_name": "LayoutView",
      "align_content": null,
      "align_items": null,
      "align_self": null,
      "border": null,
      "bottom": null,
      "display": null,
      "flex": null,
      "flex_flow": null,
      "grid_area": null,
      "grid_auto_columns": null,
      "grid_auto_flow": null,
      "grid_auto_rows": null,
      "grid_column": null,
      "grid_gap": null,
      "grid_row": null,
      "grid_template_areas": null,
      "grid_template_columns": null,
      "grid_template_rows": null,
      "height": null,
      "justify_content": null,
      "justify_items": null,
      "left": null,
      "margin": null,
      "max_height": null,
      "max_width": null,
      "min_height": null,
      "min_width": null,
      "object_fit": null,
      "object_position": null,
      "order": null,
      "overflow": null,
      "overflow_x": null,
      "overflow_y": null,
      "padding": null,
      "right": null,
      "top": null,
      "visibility": null,
      "width": null
     }
    },
    "ccc1e152e6d046edac82397ba22c147e": {
     "model_module": "@jupyter-widgets/controls",
     "model_module_version": "1.5.0",
     "model_name": "DescriptionStyleModel",
     "state": {
      "_model_module": "@jupyter-widgets/controls",
      "_model_module_version": "1.5.0",
      "_model_name": "DescriptionStyleModel",
      "_view_count": null,
      "_view_module": "@jupyter-widgets/base",
      "_view_module_version": "1.2.0",
      "_view_name": "StyleView",
      "description_width": ""
     }
    },
    "d68ce4c5054d44f6aafc881ff0b1f7fc": {
     "model_module": "@jupyter-widgets/controls",
     "model_module_version": "1.5.0",
     "model_name": "DescriptionStyleModel",
     "state": {
      "_model_module": "@jupyter-widgets/controls",
      "_model_module_version": "1.5.0",
      "_model_name": "DescriptionStyleModel",
      "_view_count": null,
      "_view_module": "@jupyter-widgets/base",
      "_view_module_version": "1.2.0",
      "_view_name": "StyleView",
      "description_width": ""
     }
    },
    "d815a3c5ee4d4e82a6273b5cbe3de72c": {
     "model_module": "@jupyter-widgets/controls",
     "model_module_version": "1.5.0",
     "model_name": "HBoxModel",
     "state": {
      "_dom_classes": [],
      "_model_module": "@jupyter-widgets/controls",
      "_model_module_version": "1.5.0",
      "_model_name": "HBoxModel",
      "_view_count": null,
      "_view_module": "@jupyter-widgets/controls",
      "_view_module_version": "1.5.0",
      "_view_name": "HBoxView",
      "box_style": "",
      "children": [
       "IPY_MODEL_dcc18fb9003d465faa8f6565ee5ede5b",
       "IPY_MODEL_c4f8807701bb481295481e23b6ce1322",
       "IPY_MODEL_5de9bc5ac6594feab4fdae6f4f29f6ac"
      ],
      "layout": "IPY_MODEL_f38603b4db2c436c9bf590ae52d0f980"
     }
    },
    "dc297f854e054e32af42fe3a42195160": {
     "model_module": "@jupyter-widgets/controls",
     "model_module_version": "1.5.0",
     "model_name": "DescriptionStyleModel",
     "state": {
      "_model_module": "@jupyter-widgets/controls",
      "_model_module_version": "1.5.0",
      "_model_name": "DescriptionStyleModel",
      "_view_count": null,
      "_view_module": "@jupyter-widgets/base",
      "_view_module_version": "1.2.0",
      "_view_name": "StyleView",
      "description_width": ""
     }
    },
    "dcc18fb9003d465faa8f6565ee5ede5b": {
     "model_module": "@jupyter-widgets/controls",
     "model_module_version": "1.5.0",
     "model_name": "HTMLModel",
     "state": {
      "_dom_classes": [],
      "_model_module": "@jupyter-widgets/controls",
      "_model_module_version": "1.5.0",
      "_model_name": "HTMLModel",
      "_view_count": null,
      "_view_module": "@jupyter-widgets/controls",
      "_view_module_version": "1.5.0",
      "_view_name": "HTMLView",
      "description": "",
      "description_tooltip": null,
      "layout": "IPY_MODEL_121ec3c89a334c55a05e79a1b2c7dc57",
      "placeholder": "​",
      "style": "IPY_MODEL_d68ce4c5054d44f6aafc881ff0b1f7fc",
      "value": "Downloading https://raw.githubusercontent.com/stanfordnlp/stanza-resources/main/resources_1.10.0.json: "
     }
    },
    "e1582f9f01524c06a22292748b25faa3": {
     "model_module": "@jupyter-widgets/base",
     "model_module_version": "1.2.0",
     "model_name": "LayoutModel",
     "state": {
      "_model_module": "@jupyter-widgets/base",
      "_model_module_version": "1.2.0",
      "_model_name": "LayoutModel",
      "_view_count": null,
      "_view_module": "@jupyter-widgets/base",
      "_view_module_version": "1.2.0",
      "_view_name": "LayoutView",
      "align_content": null,
      "align_items": null,
      "align_self": null,
      "border": null,
      "bottom": null,
      "display": null,
      "flex": null,
      "flex_flow": null,
      "grid_area": null,
      "grid_auto_columns": null,
      "grid_auto_flow": null,
      "grid_auto_rows": null,
      "grid_column": null,
      "grid_gap": null,
      "grid_row": null,
      "grid_template_areas": null,
      "grid_template_columns": null,
      "grid_template_rows": null,
      "height": null,
      "justify_content": null,
      "justify_items": null,
      "left": null,
      "margin": null,
      "max_height": null,
      "max_width": null,
      "min_height": null,
      "min_width": null,
      "object_fit": null,
      "object_position": null,
      "order": null,
      "overflow": null,
      "overflow_x": null,
      "overflow_y": null,
      "padding": null,
      "right": null,
      "top": null,
      "visibility": null,
      "width": null
     }
    },
    "eebcc947f0424443b2333c62dc8fbf1e": {
     "model_module": "@jupyter-widgets/base",
     "model_module_version": "1.2.0",
     "model_name": "LayoutModel",
     "state": {
      "_model_module": "@jupyter-widgets/base",
      "_model_module_version": "1.2.0",
      "_model_name": "LayoutModel",
      "_view_count": null,
      "_view_module": "@jupyter-widgets/base",
      "_view_module_version": "1.2.0",
      "_view_name": "LayoutView",
      "align_content": null,
      "align_items": null,
      "align_self": null,
      "border": null,
      "bottom": null,
      "display": null,
      "flex": null,
      "flex_flow": null,
      "grid_area": null,
      "grid_auto_columns": null,
      "grid_auto_flow": null,
      "grid_auto_rows": null,
      "grid_column": null,
      "grid_gap": null,
      "grid_row": null,
      "grid_template_areas": null,
      "grid_template_columns": null,
      "grid_template_rows": null,
      "height": null,
      "justify_content": null,
      "justify_items": null,
      "left": null,
      "margin": null,
      "max_height": null,
      "max_width": null,
      "min_height": null,
      "min_width": null,
      "object_fit": null,
      "object_position": null,
      "order": null,
      "overflow": null,
      "overflow_x": null,
      "overflow_y": null,
      "padding": null,
      "right": null,
      "top": null,
      "visibility": null,
      "width": null
     }
    },
    "f0cd440f98ab485f845a1e74d44b0426": {
     "model_module": "@jupyter-widgets/controls",
     "model_module_version": "1.5.0",
     "model_name": "ProgressStyleModel",
     "state": {
      "_model_module": "@jupyter-widgets/controls",
      "_model_module_version": "1.5.0",
      "_model_name": "ProgressStyleModel",
      "_view_count": null,
      "_view_module": "@jupyter-widgets/base",
      "_view_module_version": "1.2.0",
      "_view_name": "StyleView",
      "bar_color": null,
      "description_width": ""
     }
    },
    "f300528d14fe46849796cf17bad53fd9": {
     "model_module": "@jupyter-widgets/controls",
     "model_module_version": "1.5.0",
     "model_name": "DescriptionStyleModel",
     "state": {
      "_model_module": "@jupyter-widgets/controls",
      "_model_module_version": "1.5.0",
      "_model_name": "DescriptionStyleModel",
      "_view_count": null,
      "_view_module": "@jupyter-widgets/base",
      "_view_module_version": "1.2.0",
      "_view_name": "StyleView",
      "description_width": ""
     }
    },
    "f38603b4db2c436c9bf590ae52d0f980": {
     "model_module": "@jupyter-widgets/base",
     "model_module_version": "1.2.0",
     "model_name": "LayoutModel",
     "state": {
      "_model_module": "@jupyter-widgets/base",
      "_model_module_version": "1.2.0",
      "_model_name": "LayoutModel",
      "_view_count": null,
      "_view_module": "@jupyter-widgets/base",
      "_view_module_version": "1.2.0",
      "_view_name": "LayoutView",
      "align_content": null,
      "align_items": null,
      "align_self": null,
      "border": null,
      "bottom": null,
      "display": null,
      "flex": null,
      "flex_flow": null,
      "grid_area": null,
      "grid_auto_columns": null,
      "grid_auto_flow": null,
      "grid_auto_rows": null,
      "grid_column": null,
      "grid_gap": null,
      "grid_row": null,
      "grid_template_areas": null,
      "grid_template_columns": null,
      "grid_template_rows": null,
      "height": null,
      "justify_content": null,
      "justify_items": null,
      "left": null,
      "margin": null,
      "max_height": null,
      "max_width": null,
      "min_height": null,
      "min_width": null,
      "object_fit": null,
      "object_position": null,
      "order": null,
      "overflow": null,
      "overflow_x": null,
      "overflow_y": null,
      "padding": null,
      "right": null,
      "top": null,
      "visibility": null,
      "width": null
     }
    },
    "f58a69854c0a4f3cbc6ec9848c372694": {
     "model_module": "@jupyter-widgets/base",
     "model_module_version": "1.2.0",
     "model_name": "LayoutModel",
     "state": {
      "_model_module": "@jupyter-widgets/base",
      "_model_module_version": "1.2.0",
      "_model_name": "LayoutModel",
      "_view_count": null,
      "_view_module": "@jupyter-widgets/base",
      "_view_module_version": "1.2.0",
      "_view_name": "LayoutView",
      "align_content": null,
      "align_items": null,
      "align_self": null,
      "border": null,
      "bottom": null,
      "display": null,
      "flex": null,
      "flex_flow": null,
      "grid_area": null,
      "grid_auto_columns": null,
      "grid_auto_flow": null,
      "grid_auto_rows": null,
      "grid_column": null,
      "grid_gap": null,
      "grid_row": null,
      "grid_template_areas": null,
      "grid_template_columns": null,
      "grid_template_rows": null,
      "height": null,
      "justify_content": null,
      "justify_items": null,
      "left": null,
      "margin": null,
      "max_height": null,
      "max_width": null,
      "min_height": null,
      "min_width": null,
      "object_fit": null,
      "object_position": null,
      "order": null,
      "overflow": null,
      "overflow_x": null,
      "overflow_y": null,
      "padding": null,
      "right": null,
      "top": null,
      "visibility": null,
      "width": null
     }
    },
    "fc430d793af34d76b87cad97b499601c": {
     "model_module": "@jupyter-widgets/controls",
     "model_module_version": "1.5.0",
     "model_name": "FloatProgressModel",
     "state": {
      "_dom_classes": [],
      "_model_module": "@jupyter-widgets/controls",
      "_model_module_version": "1.5.0",
      "_model_name": "FloatProgressModel",
      "_view_count": null,
      "_view_module": "@jupyter-widgets/controls",
      "_view_module_version": "1.5.0",
      "_view_name": "ProgressView",
      "bar_style": "success",
      "description": "",
      "description_tooltip": null,
      "layout": "IPY_MODEL_5f4aa45ac6c847889ad7391e397d3092",
      "max": 52554,
      "min": 0,
      "orientation": "horizontal",
      "style": "IPY_MODEL_b99dc4d3a86a4c1cb4869a231fd014c4",
      "value": 52554
     }
    }
   }
  }
 },
 "nbformat": 4,
 "nbformat_minor": 4
}
