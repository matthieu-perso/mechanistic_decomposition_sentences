{
 "cells": [
  {
   "cell_type": "markdown",
   "metadata": {
    "id": "LMBRhdDbKgwn"
   },
   "source": [
    "# Supervised Dictionary Learning for Sentence Decomposition\n",
    "\n",
    "We learn a **sparse dictionary** over contextual embeddings. The goal is to decompose each embedding into a set of **interpretable atoms** that reveal underlying linguistic structure.\n",
    "\n",
    "To guide this decomposition, we extend the dictionary learning objective with **supervised classification losses**. In addition to reconstructing the original embedding, the sparse representation is trained to predict:\n",
    "- The **part-of-speech (POS)** of the word\n",
    "- Its **dependency relation** within the sentence"
   ]
  },
  {
   "cell_type": "markdown",
   "metadata": {},
   "source": [
    "### Setup & Imports\n",
    "\n",
    "All dependencies are listed in `requirements.txt`. If needed:\n",
    "\n",
    "```bash\n",
    "pip install -r requirements.txt"
   ]
  },
  {
   "cell_type": "code",
   "execution_count": 1,
   "metadata": {},
   "outputs": [
    {
     "ename": "ModuleNotFoundError",
     "evalue": "No module named 'utils_embeddings'",
     "output_type": "error",
     "traceback": [
      "\u001b[0;31m---------------------------------------------------------------------------\u001b[0m",
      "\u001b[0;31mModuleNotFoundError\u001b[0m                       Traceback (most recent call last)",
      "Cell \u001b[0;32mIn[1], line 23\u001b[0m\n\u001b[1;32m     20\u001b[0m \u001b[38;5;28;01mfrom\u001b[39;00m\u001b[38;5;250m \u001b[39m\u001b[38;5;21;01mtorch\u001b[39;00m\u001b[38;5;21;01m.\u001b[39;00m\u001b[38;5;21;01mutils\u001b[39;00m\u001b[38;5;21;01m.\u001b[39;00m\u001b[38;5;21;01mdata\u001b[39;00m\u001b[38;5;250m \u001b[39m\u001b[38;5;28;01mimport\u001b[39;00m Subset, DataLoader, TensorDataset, random_split\n\u001b[1;32m     22\u001b[0m \u001b[38;5;66;03m#Utils\u001b[39;00m\n\u001b[0;32m---> 23\u001b[0m \u001b[38;5;28;01mfrom\u001b[39;00m\u001b[38;5;250m \u001b[39m\u001b[38;5;21;01mutils_embeddings\u001b[39;00m\u001b[38;5;250m \u001b[39m\u001b[38;5;28;01mimport\u001b[39;00m get_static_word_embeddings\n",
      "\u001b[0;31mModuleNotFoundError\u001b[0m: No module named 'utils_embeddings'"
     ]
    }
   ],
   "source": [
    "# Standard library\n",
    "import random\n",
    "import pickle\n",
    "\n",
    "# Third-party\n",
    "import pandas as pd\n",
    "import numpy as np\n",
    "import torch\n",
    "import optuna\n",
    "from tqdm import tqdm\n",
    "from sklearn.preprocessing import LabelEncoder\n",
    "from sklearn.metrics import f1_score\n",
    "from transformers import AutoTokenizer, AutoModel\n",
    "import seaborn as sns\n",
    "import matplotlib.pyplot as plt\n",
    "\n",
    "# PyTorch submodules\n",
    "import torch.nn as nn\n",
    "import torch.optim as optim\n",
    "from torch.utils.data import Subset, DataLoader, TensorDataset, random_split\n",
    "\n",
    "#Utils\n",
    "from utils_embeddings import get_static_word_embeddings"
   ]
  },
  {
   "cell_type": "code",
   "execution_count": null,
   "metadata": {},
   "outputs": [],
   "source": [
    "def load_dataset(path=\"./dataset.pkl\"):\n",
    "    \"\"\"Load the dataset from a pickle file\"\"\"\n",
    "    return pd.read_pickle(path)\n",
    "\n",
    "df = load_dataset()\n",
    "df.head()"
   ]
  },
  {
   "cell_type": "markdown",
   "metadata": {},
   "source": [
    "### Static Word Embeddings\n",
    "\n",
    "We use a pretrained transformer (MiniLM) to assign a single pre-context embedding vector per word.  \n",
    "Details are abstracted into `utils_embeddings.py` for clarity."
   ]
  },
  {
   "cell_type": "code",
   "execution_count": 3,
   "metadata": {},
   "outputs": [
    {
     "name": "stderr",
     "output_type": "stream",
     "text": [
      "Extracting static embeddings: 100%|██████████| 31484/31484 [00:01<00:00, 23007.87it/s]\n"
     ]
    },
    {
     "data": {
      "text/html": [
       "<div>\n",
       "<style scoped>\n",
       "    .dataframe tbody tr th:only-of-type {\n",
       "        vertical-align: middle;\n",
       "    }\n",
       "\n",
       "    .dataframe tbody tr th {\n",
       "        vertical-align: top;\n",
       "    }\n",
       "\n",
       "    .dataframe thead th {\n",
       "        text-align: right;\n",
       "    }\n",
       "</style>\n",
       "<table border=\"1\" class=\"dataframe\">\n",
       "  <thead>\n",
       "    <tr style=\"text-align: right;\">\n",
       "      <th></th>\n",
       "      <th>word</th>\n",
       "      <th>embedding</th>\n",
       "      <th>pos</th>\n",
       "      <th>dep</th>\n",
       "      <th>position</th>\n",
       "      <th>sentence_id</th>\n",
       "      <th>sentence</th>\n",
       "      <th>static_embedding</th>\n",
       "    </tr>\n",
       "  </thead>\n",
       "  <tbody>\n",
       "    <tr>\n",
       "      <th>0</th>\n",
       "      <td>The</td>\n",
       "      <td>[tensor(-0.2899), tensor(0.2611), tensor(-0.30...</td>\n",
       "      <td>DET</td>\n",
       "      <td>det</td>\n",
       "      <td>0</td>\n",
       "      <td>0</td>\n",
       "      <td>The Fulton County Grand Jury said Friday an in...</td>\n",
       "      <td>[tensor(-0.0042), tensor(-0.0197), tensor(0.00...</td>\n",
       "    </tr>\n",
       "    <tr>\n",
       "      <th>1</th>\n",
       "      <td>Fulton</td>\n",
       "      <td>[tensor(-0.1788), tensor(0.6752), tensor(-0.56...</td>\n",
       "      <td>PROPN</td>\n",
       "      <td>compound</td>\n",
       "      <td>1</td>\n",
       "      <td>0</td>\n",
       "      <td>The Fulton County Grand Jury said Friday an in...</td>\n",
       "      <td>[tensor(0.1000), tensor(0.0002), tensor(0.0385...</td>\n",
       "    </tr>\n",
       "    <tr>\n",
       "      <th>2</th>\n",
       "      <td>County</td>\n",
       "      <td>[tensor(-0.2251), tensor(-0.0033), tensor(-0.2...</td>\n",
       "      <td>PROPN</td>\n",
       "      <td>compound</td>\n",
       "      <td>2</td>\n",
       "      <td>0</td>\n",
       "      <td>The Fulton County Grand Jury said Friday an in...</td>\n",
       "      <td>[tensor(0.0515), tensor(-0.0040), tensor(-0.00...</td>\n",
       "    </tr>\n",
       "    <tr>\n",
       "      <th>3</th>\n",
       "      <td>Grand</td>\n",
       "      <td>[tensor(-0.5069), tensor(0.2878), tensor(0.179...</td>\n",
       "      <td>ADJ</td>\n",
       "      <td>amod</td>\n",
       "      <td>3</td>\n",
       "      <td>0</td>\n",
       "      <td>The Fulton County Grand Jury said Friday an in...</td>\n",
       "      <td>[tensor(0.1317), tensor(0.1083), tensor(0.0791...</td>\n",
       "    </tr>\n",
       "    <tr>\n",
       "      <th>4</th>\n",
       "      <td>Jury</td>\n",
       "      <td>[tensor(0.2416), tensor(0.0862), tensor(0.1484...</td>\n",
       "      <td>PROPN</td>\n",
       "      <td>nsubj</td>\n",
       "      <td>4</td>\n",
       "      <td>0</td>\n",
       "      <td>The Fulton County Grand Jury said Friday an in...</td>\n",
       "      <td>[tensor(-0.0225), tensor(-0.0489), tensor(0.00...</td>\n",
       "    </tr>\n",
       "  </tbody>\n",
       "</table>\n",
       "</div>"
      ],
      "text/plain": [
       "     word                                          embedding    pos       dep  \\\n",
       "0     The  [tensor(-0.2899), tensor(0.2611), tensor(-0.30...    DET       det   \n",
       "1  Fulton  [tensor(-0.1788), tensor(0.6752), tensor(-0.56...  PROPN  compound   \n",
       "2  County  [tensor(-0.2251), tensor(-0.0033), tensor(-0.2...  PROPN  compound   \n",
       "3   Grand  [tensor(-0.5069), tensor(0.2878), tensor(0.179...    ADJ      amod   \n",
       "4    Jury  [tensor(0.2416), tensor(0.0862), tensor(0.1484...  PROPN     nsubj   \n",
       "\n",
       "   position  sentence_id                                           sentence  \\\n",
       "0         0            0  The Fulton County Grand Jury said Friday an in...   \n",
       "1         1            0  The Fulton County Grand Jury said Friday an in...   \n",
       "2         2            0  The Fulton County Grand Jury said Friday an in...   \n",
       "3         3            0  The Fulton County Grand Jury said Friday an in...   \n",
       "4         4            0  The Fulton County Grand Jury said Friday an in...   \n",
       "\n",
       "                                    static_embedding  \n",
       "0  [tensor(-0.0042), tensor(-0.0197), tensor(0.00...  \n",
       "1  [tensor(0.1000), tensor(0.0002), tensor(0.0385...  \n",
       "2  [tensor(0.0515), tensor(-0.0040), tensor(-0.00...  \n",
       "3  [tensor(0.1317), tensor(0.1083), tensor(0.0791...  \n",
       "4  [tensor(-0.0225), tensor(-0.0489), tensor(0.00...  "
      ]
     },
     "execution_count": 3,
     "metadata": {},
     "output_type": "execute_result"
    }
   ],
   "source": [
    "df = get_static_word_embeddings(df)\n",
    "df.head()"
   ]
  },
  {
   "cell_type": "markdown",
   "metadata": {
    "jp-MarkdownHeadingCollapsed": true
   },
   "source": [
    "### Features"
   ]
  },
  {
   "cell_type": "code",
   "execution_count": 4,
   "metadata": {},
   "outputs": [],
   "source": [
    "df = df[0:20000]\n",
    "X = torch.stack(df['embedding'].tolist())\n",
    "\n",
    "le_pos = LabelEncoder().fit(df[\"pos\"])\n",
    "le_dep = LabelEncoder().fit(df[\"dep\"])\n",
    "le_word = LabelEncoder().fit(df[\"word\"])\n",
    "\n",
    "y_pos = torch.tensor(le_pos.transform(df['pos'].values))\n",
    "y_dep = torch.tensor(le_dep.transform(df['dep'].values))\n",
    "y_word = torch.tensor(le_word.transform(df['word'].values))\n",
    "y_position = torch.tensor(df['position'].values)\n",
    "word_static_tensor = torch.stack(df['static_embedding'].tolist())\n",
    "\n",
    "num_pos = df['pos'].nunique()\n",
    "num_dep = df['dep'].nunique()"
   ]
  },
  {
   "cell_type": "markdown",
   "metadata": {},
   "source": [
    "## Supervised Dictionary Learning\n",
    "\n",
    "With contextual word embeddings extracted, we have learnt a **sparse dictionary representation** that not only reconstructs the original embeddings but also aligns with key **linguistic features** such as part-of-speech (POS) and dependency labels.\n",
    "\n",
    "This supervised dictionary learning model:\n",
    "- Encodes each embedding into a **sparse vector** using a learned dictionary (`S`)\n",
    "- Reconstructs the input embedding from this sparse code via a decoder (`D`)\n",
    "- Predicts linguistic annotations (POS and DEP) directly from the sparse code using simple classifiers\n",
    "- Optimizes a composite objective combining reconstruction, classification, and sparsity"
   ]
  },
  {
   "cell_type": "markdown",
   "metadata": {},
   "source": [
    "### Optuna Objective Function\n",
    "\n",
    "We define a composite objective for supervised dictionary learning that balances contextual embedding reconstruction, linguistic classification (POS/DEP), and static embedding alignment, with sparsity regularization. The function returns a combined F1 score for use in Optuna optimization."
   ]
  },
  {
   "cell_type": "code",
   "execution_count": 5,
   "metadata": {},
   "outputs": [],
   "source": [
    "device = torch.device(\"cuda\" if torch.cuda.is_available() else \"cpu\")\n",
    "\n",
    "# ------------------------------\n",
    "# Define Model\n",
    "# ------------------------------\n",
    "class SupervisedDictionaryLearning(nn.Module):\n",
    "    def __init__(self, d, k, num_pos, num_dep, nonlinearity='identity'):\n",
    "        super().__init__()\n",
    "        self.S = nn.Linear(d, k, bias=False)   # Encoder (contextual to sparse code)\n",
    "        self.D = nn.Linear(k, d, bias=False)   # Decoder (sparse code to contextual)\n",
    "\n",
    "        # supervised features\n",
    "        self.pos_classifier = nn.Linear(k, num_pos)\n",
    "        self.dep_classifier = nn.Linear(k, num_dep)\n",
    "\n",
    "        # optional nonlinearity\n",
    "        if nonlinearity == 'relu':\n",
    "            self.activation = nn.ReLU()\n",
    "        else:\n",
    "            self.activation = nn.Identity()\n",
    "\n",
    "    def forward(self, X):\n",
    "        \"\"\"\n",
    "        Returns:\n",
    "          x_rec:    (batch_size, d)        -> reconstruction of X\n",
    "          S:        (batch_size, k)        -> sparse codes\n",
    "          pos_logits: (batch_size, num_pos)\n",
    "          dep_logits: (batch_size, num_dep)\n",
    "        \"\"\"\n",
    "        S = self.activation(self.S(X))\n",
    "        x_rec = self.D(S)\n",
    "        pos_logits = self.pos_classifier(S)\n",
    "        dep_logits = self.dep_classifier(S)\n",
    "        return x_rec, S, pos_logits, dep_logits\n",
    "\n",
    "# ------------------------------\n",
    "# Composite Objective\n",
    "# ------------------------------\n",
    "def objective(trial):\n",
    "    # Hyperparams from trial\n",
    "    d = X.shape[1]  # embedding dim\n",
    "    k = trial.suggest_categorical(\"k\", [64, 128])#, 256, 512])\n",
    "    lr = trial.suggest_float(\"lr\", 1e-4, 1e-2, log=True)\n",
    "    nonlin = trial.suggest_categorical(\"nonlinearity\", [\"identity\", \"relu\"])\n",
    "\n",
    "    # Weights for multi-objective\n",
    "    alpha_pos = trial.suggest_float(\"alpha_pos\", 0.0, 1.0)\n",
    "    alpha_dep = trial.suggest_float(\"alpha_dep\", 0.0, 1.0)\n",
    "    alpha_static = trial.suggest_float(\"alpha_static\", 0.0, 1.0)\n",
    "    alpha_sparse = trial.suggest_float(\"alpha_sparse\", 0.8, 1.0)\n",
    "\n",
    "    # L1 lambdas\n",
    "    l1_s_contextual = trial.suggest_float(\"l1_s_contextual\", 1e-6, 1.0, log=True)\n",
    "    l1_s_static = trial.suggest_float(\"l1_s_static\", 1e-6, 1.0, log=True)\n",
    "\n",
    "    model = SupervisedDictionaryLearning(d, k, num_pos, num_dep, nonlinearity=nonlin).to(device)\n",
    "    optimizer = optim.Adam(model.parameters(), lr=lr)\n",
    "\n",
    "    # Base losses\n",
    "    criterion_recon = nn.MSELoss()\n",
    "    criterion_class = nn.CrossEntropyLoss()\n",
    "\n",
    "    # Setup data\n",
    "    dataset = TensorDataset(X, y_pos, y_dep, word_static_tensor)\n",
    "    train_size = int(0.8 * len(dataset))\n",
    "    val_size = len(dataset) - train_size\n",
    "    train_set, val_set = random_split(dataset, [train_size, val_size])\n",
    "\n",
    "    train_loader = DataLoader(train_set, batch_size=256, shuffle=True)\n",
    "    val_loader = DataLoader(val_set, batch_size=256, shuffle=False)\n",
    "\n",
    "    # Training loop\n",
    "    model.train()\n",
    "    for epoch in tqdm(range(40), desc=f\"Trial {trial.number}\"):\n",
    "        for batch in train_loader:\n",
    "            x_batch, y_p, y_d, w_static = [x.to(device) for x in batch]\n",
    "            optimizer.zero_grad()\n",
    "\n",
    "            # Forward pass for contextual\n",
    "            x_rec, S_contextual, p_pred, d_pred = model(x_batch)\n",
    "\n",
    "            # Basic losses\n",
    "            loss_recon = criterion_recon(x_rec, x_batch)\n",
    "            loss_pos = criterion_class(p_pred, y_p)\n",
    "            loss_dep = criterion_class(d_pred, y_d)\n",
    "            loss_sparse_contextual = l1_s_contextual * torch.norm(S_contextual, p=1)\n",
    "\n",
    "            # Now handle static embedding\n",
    "            with torch.no_grad():\n",
    "                pass\n",
    "            x_rec_static, S_static, _, _ = model(w_static)\n",
    "            loss_static_recon = criterion_recon(x_rec_static, w_static)\n",
    "            loss_sparse_static = l1_s_static * torch.norm(S_static, p=1)\n",
    "\n",
    "            # Weighted sum\n",
    "            # We assume we want to emphasize reconstruction above all else, but still incorporate others:\n",
    "            loss = (\n",
    "                loss_recon\n",
    "                + alpha_pos * loss_pos\n",
    "                + alpha_dep * loss_dep\n",
    "                + alpha_sparse * (loss_sparse_contextual + loss_sparse_static)\n",
    "                + alpha_static * loss_static_recon\n",
    "            )\n",
    "\n",
    "            loss.backward()\n",
    "            optimizer.step()\n",
    "\n",
    "    # ------------------------------\n",
    "    # Validation pass for metrics\n",
    "    # ------------------------------\n",
    "    model.eval()\n",
    "\n",
    "    val_recon_total = 0.0\n",
    "    val_static_recon_total = 0.0\n",
    "    val_pos_loss_total = 0.0\n",
    "    val_dep_loss_total = 0.0\n",
    "    val_s_contextual_total = 0.0\n",
    "    val_s_static_total = 0.0\n",
    "    val_samples = 0\n",
    "\n",
    "    # For classification\n",
    "    y_true_pos, y_pred_pos = [], []\n",
    "    y_true_dep, y_pred_dep = [], []\n",
    "\n",
    "    with torch.no_grad():\n",
    "        for batch in val_loader:\n",
    "            x_batch, y_p, y_d, w_static = [x.to(device) for x in batch]\n",
    "            batch_size = x_batch.size(0)\n",
    "            val_samples += batch_size\n",
    "\n",
    "            # 1) Contextual forward\n",
    "            x_rec, S_contextual, p_pred, d_pred = model(x_batch)\n",
    "            val_recon_total += criterion_recon(x_rec, x_batch).item() * batch_size\n",
    "            val_pos_loss_total += criterion_class(p_pred, y_p).item() * batch_size\n",
    "            val_dep_loss_total += criterion_class(d_pred, y_d).item() * batch_size\n",
    "            val_s_contextual_total += torch.norm(S_contextual, p=1).item()\n",
    "\n",
    "            # 2) Static forward\n",
    "            x_rec_static, S_static, _, _ = model(w_static)\n",
    "            val_static_recon_total += criterion_recon(x_rec_static, w_static).item() * batch_size\n",
    "            val_s_static_total += torch.norm(S_static, p=1).item()\n",
    "\n",
    "            # Save classification for F1\n",
    "            y_true_pos.append(y_p.cpu())\n",
    "            y_pred_pos.append(p_pred.argmax(dim=1).cpu())\n",
    "\n",
    "            y_true_dep.append(y_d.cpu())\n",
    "            y_pred_dep.append(d_pred.argmax(dim=1).cpu())\n",
    "\n",
    "    # Averages\n",
    "    mean_val_recon = val_recon_total / val_samples\n",
    "    mean_val_static_recon = val_static_recon_total / val_samples\n",
    "    mean_val_pos_loss = val_pos_loss_total / val_samples\n",
    "    mean_val_dep_loss = val_dep_loss_total / val_samples\n",
    "    mean_val_s_contextual = val_s_contextual_total / val_samples\n",
    "    mean_val_s_static = val_s_static_total / val_samples\n",
    "\n",
    "    # F1\n",
    "    y_true_pos = torch.cat(y_true_pos).numpy()\n",
    "    y_pred_pos = torch.cat(y_pred_pos).numpy()\n",
    "    f1_pos = f1_score(y_true_pos, y_pred_pos, average='macro')\n",
    "\n",
    "    y_true_dep = torch.cat(y_true_dep).numpy()\n",
    "    y_pred_dep = torch.cat(y_pred_dep).numpy()\n",
    "    f1_dep = f1_score(y_true_dep, y_pred_dep, average='macro')\n",
    "\n",
    "    # Log them as user attrs in Optuna\n",
    "    trial.set_user_attr('val_recon', mean_val_recon)\n",
    "    trial.set_user_attr('val_static_recon', mean_val_static_recon)\n",
    "    trial.set_user_attr('val_pos_loss', mean_val_pos_loss)\n",
    "    trial.set_user_attr('val_dep_loss', mean_val_dep_loss)\n",
    "    trial.set_user_attr('val_s_contextual', mean_val_s_contextual)\n",
    "    trial.set_user_attr('val_s_static', mean_val_s_static)\n",
    "    trial.set_user_attr('f1_pos', f1_pos)\n",
    "    trial.set_user_attr('f1_dep', f1_dep)\n",
    "\n",
    "    score = (f1_pos + f1_dep)\n",
    "\n",
    "    print(\n",
    "        f\"F1 POS: {f1_pos:.3f} | F1 DEP: {f1_dep:.3f} | \"\n",
    "        f\"Reconstruction: {mean_val_recon:.4f} | \"\n",
    "        f\"Static Recon: {mean_val_static_recon:.4f} | \"\n",
    "        f\"POS Loss: {mean_val_pos_loss:.4f} | DEP Loss: {mean_val_dep_loss:.4f}\"\n",
    "    )\n",
    "\n",
    "    return score"
   ]
  },
  {
   "cell_type": "code",
   "execution_count": 6,
   "metadata": {
    "scrolled": true
   },
   "outputs": [
    {
     "name": "stderr",
     "output_type": "stream",
     "text": [
      "[I 2025-04-08 21:24:18,359] A new study created in memory with name: no-name-64df20d7-990d-4347-90f6-693c346bef89\n",
      "Trial 0: 100%|██████████| 40/40 [00:09<00:00,  4.16it/s]\n",
      "[I 2025-04-08 21:24:28,169] Trial 0 finished with value: 0.028796020920767586 and parameters: {'k': 128, 'lr': 0.0012290261650853126, 'nonlinearity': 'relu', 'alpha_pos': 0.5625930569901505, 'alpha_dep': 0.9371567914254331, 'alpha_static': 0.20438101833078715, 'alpha_sparse': 0.8793057571283934, 'l1_s_contextual': 0.005081637105368889, 'l1_s_static': 0.006470089381516617}. Best is trial 0 with value: 0.028796020920767586.\n"
     ]
    },
    {
     "name": "stdout",
     "output_type": "stream",
     "text": [
      "F1 POS: 0.023 | F1 DEP: 0.006 | Reconstruction: 0.1259 | Static Recon: 0.0032 | POS Loss: 2.4196 | DEP Loss: 3.1309\n"
     ]
    },
    {
     "name": "stderr",
     "output_type": "stream",
     "text": [
      "Trial 1: 100%|██████████| 40/40 [00:11<00:00,  3.64it/s]\n",
      "[I 2025-04-08 21:24:39,218] Trial 1 finished with value: 0.02849674217353811 and parameters: {'k': 64, 'lr': 0.0020866612563644133, 'nonlinearity': 'identity', 'alpha_pos': 0.3607458781552181, 'alpha_dep': 0.1794788264331818, 'alpha_static': 0.5213884358708304, 'alpha_sparse': 0.8134072249160179, 'l1_s_contextual': 0.012663607277805706, 'l1_s_static': 0.5846483969590405}. Best is trial 0 with value: 0.028796020920767586.\n"
     ]
    },
    {
     "name": "stdout",
     "output_type": "stream",
     "text": [
      "F1 POS: 0.023 | F1 DEP: 0.005 | Reconstruction: 0.1233 | Static Recon: 0.0032 | POS Loss: 2.4155 | DEP Loss: 3.0995\n"
     ]
    },
    {
     "name": "stderr",
     "output_type": "stream",
     "text": [
      "Trial 2: 100%|██████████| 40/40 [00:10<00:00,  3.98it/s]\n",
      "[I 2025-04-08 21:24:49,315] Trial 2 finished with value: 1.1756689355382692 and parameters: {'k': 128, 'lr': 0.00512609908537339, 'nonlinearity': 'relu', 'alpha_pos': 0.5539755283090436, 'alpha_dep': 0.8593567896826512, 'alpha_static': 0.6919959665348596, 'alpha_sparse': 0.9182288053644628, 'l1_s_contextual': 4.657662337892979e-05, 'l1_s_static': 0.0018264269769911886}. Best is trial 2 with value: 1.1756689355382692.\n"
     ]
    },
    {
     "name": "stdout",
     "output_type": "stream",
     "text": [
      "F1 POS: 0.772 | F1 DEP: 0.403 | Reconstruction: 0.0925 | Static Recon: 0.0032 | POS Loss: 0.7743 | DEP Loss: 2.1147\n"
     ]
    },
    {
     "name": "stderr",
     "output_type": "stream",
     "text": [
      "Trial 3: 100%|██████████| 40/40 [00:10<00:00,  3.73it/s]\n",
      "[I 2025-04-08 21:25:00,073] Trial 3 finished with value: 0.9486389304847589 and parameters: {'k': 128, 'lr': 0.0065666741312394444, 'nonlinearity': 'identity', 'alpha_pos': 0.32255304438618315, 'alpha_dep': 0.9686977097200415, 'alpha_static': 0.5260505573367967, 'alpha_sparse': 0.9118391186014024, 'l1_s_contextual': 0.0021189707779291525, 'l1_s_static': 7.798868501259548e-06}. Best is trial 2 with value: 1.1756689355382692.\n"
     ]
    },
    {
     "name": "stdout",
     "output_type": "stream",
     "text": [
      "F1 POS: 0.633 | F1 DEP: 0.316 | Reconstruction: 0.1108 | Static Recon: 0.0030 | POS Loss: 0.7096 | DEP Loss: 1.3858\n"
     ]
    },
    {
     "name": "stderr",
     "output_type": "stream",
     "text": [
      "Trial 4: 100%|██████████| 40/40 [00:09<00:00,  4.13it/s]\n",
      "[I 2025-04-08 21:25:09,805] Trial 4 finished with value: 0.9705546048372454 and parameters: {'k': 128, 'lr': 0.00010545525044659928, 'nonlinearity': 'identity', 'alpha_pos': 0.9804414247619265, 'alpha_dep': 0.687375159489812, 'alpha_static': 0.24271489476901809, 'alpha_sparse': 0.8569167573625548, 'l1_s_contextual': 0.00018296128634736635, 'l1_s_static': 6.197399822813512e-05}. Best is trial 2 with value: 1.1756689355382692.\n"
     ]
    },
    {
     "name": "stdout",
     "output_type": "stream",
     "text": [
      "F1 POS: 0.671 | F1 DEP: 0.300 | Reconstruction: 0.0885 | Static Recon: 0.0027 | POS Loss: 0.7197 | DEP Loss: 1.5454\n"
     ]
    },
    {
     "name": "stderr",
     "output_type": "stream",
     "text": [
      "Trial 5: 100%|██████████| 40/40 [00:10<00:00,  4.00it/s]\n",
      "[I 2025-04-08 21:25:19,855] Trial 5 finished with value: 1.1710860418971762 and parameters: {'k': 128, 'lr': 0.0005338484966998304, 'nonlinearity': 'identity', 'alpha_pos': 0.6774954263955906, 'alpha_dep': 0.33051573108572785, 'alpha_static': 0.456380209877993, 'alpha_sparse': 0.8518996231580546, 'l1_s_contextual': 1.0263863542762284e-05, 'l1_s_static': 8.74864640158963e-06}. Best is trial 2 with value: 1.1756689355382692.\n"
     ]
    },
    {
     "name": "stdout",
     "output_type": "stream",
     "text": [
      "F1 POS: 0.763 | F1 DEP: 0.408 | Reconstruction: 0.0383 | Static Recon: 0.0020 | POS Loss: 0.4613 | DEP Loss: 1.1728\n"
     ]
    },
    {
     "name": "stderr",
     "output_type": "stream",
     "text": [
      "Trial 6: 100%|██████████| 40/40 [00:10<00:00,  3.84it/s]\n",
      "[I 2025-04-08 21:25:30,318] Trial 6 finished with value: 0.028507914660131133 and parameters: {'k': 128, 'lr': 0.0005104217612832466, 'nonlinearity': 'identity', 'alpha_pos': 0.6798191850579194, 'alpha_dep': 0.14210131955376437, 'alpha_static': 0.5527147369974603, 'alpha_sparse': 0.8516266250930504, 'l1_s_contextual': 0.22680861799872054, 'l1_s_static': 0.017677178068745403}. Best is trial 2 with value: 1.1756689355382692.\n"
     ]
    },
    {
     "name": "stdout",
     "output_type": "stream",
     "text": [
      "F1 POS: 0.023 | F1 DEP: 0.005 | Reconstruction: 0.1258 | Static Recon: 0.0032 | POS Loss: 2.4611 | DEP Loss: 3.2233\n"
     ]
    },
    {
     "name": "stderr",
     "output_type": "stream",
     "text": [
      "Trial 7: 100%|██████████| 40/40 [00:09<00:00,  4.06it/s]\n",
      "[I 2025-04-08 21:25:40,217] Trial 7 finished with value: 1.1680151348781382 and parameters: {'k': 64, 'lr': 0.005069613814736296, 'nonlinearity': 'relu', 'alpha_pos': 0.8424571558387599, 'alpha_dep': 0.21268588312899395, 'alpha_static': 0.5459855285839473, 'alpha_sparse': 0.9851796041612632, 'l1_s_contextual': 1.3854144239413757e-06, 'l1_s_static': 0.005685432868347856}. Best is trial 2 with value: 1.1756689355382692.\n"
     ]
    },
    {
     "name": "stdout",
     "output_type": "stream",
     "text": [
      "F1 POS: 0.791 | F1 DEP: 0.377 | Reconstruction: 0.0881 | Static Recon: 0.0032 | POS Loss: 0.6677 | DEP Loss: 1.4950\n"
     ]
    },
    {
     "name": "stderr",
     "output_type": "stream",
     "text": [
      "Trial 8: 100%|██████████| 40/40 [00:09<00:00,  4.09it/s]\n",
      "[I 2025-04-08 21:25:50,046] Trial 8 finished with value: 0.8597715491318666 and parameters: {'k': 128, 'lr': 0.006865054916691856, 'nonlinearity': 'identity', 'alpha_pos': 0.5587426938174661, 'alpha_dep': 0.22839938178313646, 'alpha_static': 0.5356004647776635, 'alpha_sparse': 0.9534812871074074, 'l1_s_contextual': 0.0029105089482844675, 'l1_s_static': 2.6485152746902977e-05}. Best is trial 2 with value: 1.1756689355382692.\n"
     ]
    },
    {
     "name": "stdout",
     "output_type": "stream",
     "text": [
      "F1 POS: 0.638 | F1 DEP: 0.222 | Reconstruction: 0.1188 | Static Recon: 0.0030 | POS Loss: 0.7739 | DEP Loss: 1.6754\n"
     ]
    },
    {
     "name": "stderr",
     "output_type": "stream",
     "text": [
      "Trial 9: 100%|██████████| 40/40 [00:09<00:00,  4.25it/s]\n",
      "[I 2025-04-08 21:25:59,506] Trial 9 finished with value: 0.028384208448655062 and parameters: {'k': 64, 'lr': 0.006753625382109776, 'nonlinearity': 'identity', 'alpha_pos': 0.08226046691960409, 'alpha_dep': 0.8814939673500477, 'alpha_static': 0.44098933575243326, 'alpha_sparse': 0.896286567824781, 'l1_s_contextual': 0.27995552934593215, 'l1_s_static': 0.004932979729566051}. Best is trial 2 with value: 1.1756689355382692.\n"
     ]
    },
    {
     "name": "stdout",
     "output_type": "stream",
     "text": [
      "F1 POS: 0.023 | F1 DEP: 0.005 | Reconstruction: 0.1277 | Static Recon: 0.0032 | POS Loss: 2.4110 | DEP Loss: 3.1225\n"
     ]
    },
    {
     "name": "stderr",
     "output_type": "stream",
     "text": [
      "Trial 10: 100%|██████████| 40/40 [00:09<00:00,  4.24it/s]\n",
      "[I 2025-04-08 21:26:08,998] Trial 10 finished with value: 1.1438869452516436 and parameters: {'k': 64, 'lr': 0.002384309740943169, 'nonlinearity': 'relu', 'alpha_pos': 0.1220048767416646, 'alpha_dep': 0.582931297036247, 'alpha_static': 0.9461446848439866, 'alpha_sparse': 0.9374454542493462, 'l1_s_contextual': 5.582881688683012e-05, 'l1_s_static': 0.0005858697505838009}. Best is trial 2 with value: 1.1756689355382692.\n"
     ]
    },
    {
     "name": "stdout",
     "output_type": "stream",
     "text": [
      "F1 POS: 0.768 | F1 DEP: 0.375 | Reconstruction: 0.0965 | Static Recon: 0.0032 | POS Loss: 0.5460 | DEP Loss: 1.4499\n"
     ]
    },
    {
     "name": "stderr",
     "output_type": "stream",
     "text": [
      "Trial 11: 100%|██████████| 40/40 [00:08<00:00,  4.55it/s]\n",
      "[I 2025-04-08 21:26:17,840] Trial 11 finished with value: 1.2272796625748004 and parameters: {'k': 128, 'lr': 0.00036242162368235525, 'nonlinearity': 'relu', 'alpha_pos': 0.74740823198358, 'alpha_dep': 0.3792154419029916, 'alpha_static': 0.8136641595313814, 'alpha_sparse': 0.8020593409499132, 'l1_s_contextual': 5.606877435553239e-06, 'l1_s_static': 1.0010530176506996e-06}. Best is trial 11 with value: 1.2272796625748004.\n"
     ]
    },
    {
     "name": "stdout",
     "output_type": "stream",
     "text": [
      "F1 POS: 0.867 | F1 DEP: 0.360 | Reconstruction: 0.0615 | Static Recon: 0.0025 | POS Loss: 0.3755 | DEP Loss: 1.1359\n"
     ]
    },
    {
     "name": "stderr",
     "output_type": "stream",
     "text": [
      "Trial 12: 100%|██████████| 40/40 [00:08<00:00,  4.71it/s]\n",
      "[I 2025-04-08 21:26:26,391] Trial 12 finished with value: 1.1791268329145275 and parameters: {'k': 128, 'lr': 0.0001779014307464981, 'nonlinearity': 'relu', 'alpha_pos': 0.785735538692416, 'alpha_dep': 0.4923453198130174, 'alpha_static': 0.8364245037964727, 'alpha_sparse': 0.805599138417766, 'l1_s_contextual': 1.4409364623691052e-06, 'l1_s_static': 0.0002801441157837591}. Best is trial 11 with value: 1.2272796625748004.\n"
     ]
    },
    {
     "name": "stdout",
     "output_type": "stream",
     "text": [
      "F1 POS: 0.839 | F1 DEP: 0.340 | Reconstruction: 0.0654 | Static Recon: 0.0031 | POS Loss: 0.4650 | DEP Loss: 1.2660\n"
     ]
    },
    {
     "name": "stderr",
     "output_type": "stream",
     "text": [
      "Trial 13: 100%|██████████| 40/40 [00:09<00:00,  4.22it/s]\n",
      "[I 2025-04-08 21:26:35,925] Trial 13 finished with value: 1.1404667180026904 and parameters: {'k': 128, 'lr': 0.0001463815034757482, 'nonlinearity': 'relu', 'alpha_pos': 0.8465044377352128, 'alpha_dep': 0.41476580706300176, 'alpha_static': 0.9792946063141439, 'alpha_sparse': 0.8008523752331944, 'l1_s_contextual': 1.0060104922678995e-06, 'l1_s_static': 1.2551425659212665e-06}. Best is trial 11 with value: 1.2272796625748004.\n"
     ]
    },
    {
     "name": "stdout",
     "output_type": "stream",
     "text": [
      "F1 POS: 0.813 | F1 DEP: 0.327 | Reconstruction: 0.0652 | Static Recon: 0.0025 | POS Loss: 0.5088 | DEP Loss: 1.3308\n"
     ]
    },
    {
     "name": "stderr",
     "output_type": "stream",
     "text": [
      "Trial 14: 100%|██████████| 40/40 [00:09<00:00,  4.03it/s]\n",
      "[I 2025-04-08 21:26:45,901] Trial 14 finished with value: 1.1627676160488658 and parameters: {'k': 128, 'lr': 0.00022734711812266367, 'nonlinearity': 'relu', 'alpha_pos': 0.7794987384378036, 'alpha_dep': 0.5208455064676719, 'alpha_static': 0.7958677447479836, 'alpha_sparse': 0.8250590717304284, 'l1_s_contextual': 6.149352317276049e-06, 'l1_s_static': 0.00015142126117523365}. Best is trial 11 with value: 1.2272796625748004.\n"
     ]
    },
    {
     "name": "stdout",
     "output_type": "stream",
     "text": [
      "F1 POS: 0.789 | F1 DEP: 0.373 | Reconstruction: 0.0656 | Static Recon: 0.0030 | POS Loss: 0.4560 | DEP Loss: 1.2001\n"
     ]
    },
    {
     "name": "stderr",
     "output_type": "stream",
     "text": [
      "Trial 15: 100%|██████████| 40/40 [00:09<00:00,  4.16it/s]\n",
      "[I 2025-04-08 21:26:55,580] Trial 15 finished with value: 1.0088512236578606 and parameters: {'k': 128, 'lr': 0.00028449262582080724, 'nonlinearity': 'relu', 'alpha_pos': 0.9842088176323873, 'alpha_dep': 0.6867467824015902, 'alpha_static': 0.794628049817333, 'alpha_sparse': 0.8319139251528939, 'l1_s_contextual': 9.025104369844841e-06, 'l1_s_static': 0.07388885387154673}. Best is trial 11 with value: 1.2272796625748004.\n"
     ]
    },
    {
     "name": "stdout",
     "output_type": "stream",
     "text": [
      "F1 POS: 0.730 | F1 DEP: 0.279 | Reconstruction: 0.0759 | Static Recon: 0.0032 | POS Loss: 0.6627 | DEP Loss: 1.4569\n"
     ]
    },
    {
     "name": "stderr",
     "output_type": "stream",
     "text": [
      "Trial 16: 100%|██████████| 40/40 [00:09<00:00,  4.33it/s]\n",
      "[I 2025-04-08 21:27:04,868] Trial 16 finished with value: 1.0933851852964676 and parameters: {'k': 128, 'lr': 0.00045791112248875566, 'nonlinearity': 'relu', 'alpha_pos': 0.7106222065646867, 'alpha_dep': 0.03220997636462952, 'alpha_static': 0.0224240542611982, 'alpha_sparse': 0.8022237571468334, 'l1_s_contextual': 0.00021911593875937796, 'l1_s_static': 2.1908644354484407e-06}. Best is trial 11 with value: 1.2272796625748004.\n"
     ]
    },
    {
     "name": "stdout",
     "output_type": "stream",
     "text": [
      "F1 POS: 0.859 | F1 DEP: 0.235 | Reconstruction: 0.0940 | Static Recon: 0.0035 | POS Loss: 0.4671 | DEP Loss: 1.4266\n"
     ]
    },
    {
     "name": "stderr",
     "output_type": "stream",
     "text": [
      "Trial 17: 100%|██████████| 40/40 [00:08<00:00,  4.94it/s]\n",
      "[I 2025-04-08 21:27:13,021] Trial 17 finished with value: 1.167346559451361 and parameters: {'k': 128, 'lr': 0.00022123884816372847, 'nonlinearity': 'relu', 'alpha_pos': 0.3964064680391351, 'alpha_dep': 0.39103579760160384, 'alpha_static': 0.8379387303973661, 'alpha_sparse': 0.8751951992152867, 'l1_s_contextual': 3.7394577222808085e-06, 'l1_s_static': 0.0002954499391682107}. Best is trial 11 with value: 1.2272796625748004.\n"
     ]
    },
    {
     "name": "stdout",
     "output_type": "stream",
     "text": [
      "F1 POS: 0.803 | F1 DEP: 0.365 | Reconstruction: 0.0641 | Static Recon: 0.0031 | POS Loss: 0.4595 | DEP Loss: 1.1809\n"
     ]
    },
    {
     "name": "stderr",
     "output_type": "stream",
     "text": [
      "Trial 18: 100%|██████████| 40/40 [00:08<00:00,  4.96it/s]\n",
      "[I 2025-04-08 21:27:21,142] Trial 18 finished with value: 1.1527951075133143 and parameters: {'k': 64, 'lr': 0.0008486343415918487, 'nonlinearity': 'relu', 'alpha_pos': 0.8725210915299372, 'alpha_dep': 0.582496758545953, 'alpha_static': 0.689158168391557, 'alpha_sparse': 0.8329169708978983, 'l1_s_contextual': 3.110303296077516e-05, 'l1_s_static': 0.0931019516726569}. Best is trial 11 with value: 1.2272796625748004.\n"
     ]
    },
    {
     "name": "stdout",
     "output_type": "stream",
     "text": [
      "F1 POS: 0.826 | F1 DEP: 0.327 | Reconstruction: 0.0848 | Static Recon: 0.0032 | POS Loss: 0.5003 | DEP Loss: 1.2838\n"
     ]
    },
    {
     "name": "stderr",
     "output_type": "stream",
     "text": [
      "Trial 19: 100%|██████████| 40/40 [00:08<00:00,  4.62it/s]\n",
      "[I 2025-04-08 21:27:29,859] Trial 19 finished with value: 0.026265289836817952 and parameters: {'k': 128, 'lr': 0.00036775147185560763, 'nonlinearity': 'relu', 'alpha_pos': 0.4644426343895024, 'alpha_dep': 0.3313005332526122, 'alpha_static': 0.8813890905391972, 'alpha_sparse': 0.9982663848109797, 'l1_s_contextual': 0.0402932812774417, 'l1_s_static': 1.5494585569159586e-05}. Best is trial 11 with value: 1.2272796625748004.\n"
     ]
    },
    {
     "name": "stdout",
     "output_type": "stream",
     "text": [
      "F1 POS: 0.021 | F1 DEP: 0.005 | Reconstruction: 0.1216 | Static Recon: 0.0026 | POS Loss: 2.5089 | DEP Loss: 3.3043\n"
     ]
    },
    {
     "name": "stderr",
     "output_type": "stream",
     "text": [
      "Trial 20: 100%|██████████| 40/40 [00:08<00:00,  4.48it/s]\n",
      "[I 2025-04-08 21:27:38,855] Trial 20 finished with value: 0.023186344381395094 and parameters: {'k': 128, 'lr': 0.00013905613003822902, 'nonlinearity': 'relu', 'alpha_pos': 0.20124173187646144, 'alpha_dep': 0.760045897202996, 'alpha_static': 0.694803809015934, 'alpha_sparse': 0.8202272608950856, 'l1_s_contextual': 0.0007526482860398521, 'l1_s_static': 7.73367046330122e-05}. Best is trial 11 with value: 1.2272796625748004.\n"
     ]
    },
    {
     "name": "stdout",
     "output_type": "stream",
     "text": [
      "F1 POS: 0.020 | F1 DEP: 0.003 | Reconstruction: 0.1262 | Static Recon: 0.0032 | POS Loss: 2.6379 | DEP Loss: 3.5456\n"
     ]
    },
    {
     "name": "stderr",
     "output_type": "stream",
     "text": [
      "Trial 21: 100%|██████████| 40/40 [00:09<00:00,  4.18it/s]\n",
      "[I 2025-04-08 21:27:48,495] Trial 21 finished with value: 1.2416248669732743 and parameters: {'k': 128, 'lr': 0.0008562482140819738, 'nonlinearity': 'relu', 'alpha_pos': 0.6061505029825789, 'alpha_dep': 0.47560335378785135, 'alpha_static': 0.6881185070318218, 'alpha_sparse': 0.9200793430237418, 'l1_s_contextual': 3.066833640080518e-05, 'l1_s_static': 0.0009839979641153515}. Best is trial 21 with value: 1.2416248669732743.\n"
     ]
    },
    {
     "name": "stdout",
     "output_type": "stream",
     "text": [
      "F1 POS: 0.818 | F1 DEP: 0.423 | Reconstruction: 0.0747 | Static Recon: 0.0032 | POS Loss: 0.3800 | DEP Loss: 1.0899\n"
     ]
    },
    {
     "name": "stderr",
     "output_type": "stream",
     "text": [
      "Trial 22: 100%|██████████| 40/40 [00:09<00:00,  4.11it/s]\n",
      "[I 2025-04-08 21:27:58,281] Trial 22 finished with value: 1.2269050213242065 and parameters: {'k': 128, 'lr': 0.0007555714388885425, 'nonlinearity': 'relu', 'alpha_pos': 0.659984831393629, 'alpha_dep': 0.47592517042580934, 'alpha_static': 0.7408810622851589, 'alpha_sparse': 0.9573762634818055, 'l1_s_contextual': 2.56989837359311e-06, 'l1_s_static': 0.0008200803995182335}. Best is trial 21 with value: 1.2416248669732743.\n"
     ]
    },
    {
     "name": "stdout",
     "output_type": "stream",
     "text": [
      "F1 POS: 0.816 | F1 DEP: 0.411 | Reconstruction: 0.0614 | Static Recon: 0.0032 | POS Loss: 0.4060 | DEP Loss: 1.1527\n"
     ]
    },
    {
     "name": "stderr",
     "output_type": "stream",
     "text": [
      "Trial 23: 100%|██████████| 40/40 [00:08<00:00,  4.95it/s]\n",
      "[I 2025-04-08 21:28:06,423] Trial 23 finished with value: 1.159753615999662 and parameters: {'k': 128, 'lr': 0.0008232216605210723, 'nonlinearity': 'relu', 'alpha_pos': 0.642275151387474, 'alpha_dep': 0.4746527667480482, 'alpha_static': 0.644567196981464, 'alpha_sparse': 0.9610193261543599, 'l1_s_contextual': 0.00022211692799940962, 'l1_s_static': 0.0011271506640864641}. Best is trial 21 with value: 1.2416248669732743.\n"
     ]
    },
    {
     "name": "stdout",
     "output_type": "stream",
     "text": [
      "F1 POS: 0.803 | F1 DEP: 0.356 | Reconstruction: 0.0962 | Static Recon: 0.0032 | POS Loss: 0.4154 | DEP Loss: 1.1944\n"
     ]
    },
    {
     "name": "stderr",
     "output_type": "stream",
     "text": [
      "Trial 24: 100%|██████████| 40/40 [00:08<00:00,  4.68it/s]\n",
      "[I 2025-04-08 21:28:15,033] Trial 24 finished with value: 1.2270828253731556 and parameters: {'k': 128, 'lr': 0.0012553673523804357, 'nonlinearity': 'relu', 'alpha_pos': 0.4747304141192802, 'alpha_dep': 0.3297232916659243, 'alpha_static': 0.7483183118554761, 'alpha_sparse': 0.9361645192043244, 'l1_s_contextual': 1.2449649668538105e-05, 'l1_s_static': 0.03242786255191791}. Best is trial 21 with value: 1.2416248669732743.\n"
     ]
    },
    {
     "name": "stdout",
     "output_type": "stream",
     "text": [
      "F1 POS: 0.851 | F1 DEP: 0.376 | Reconstruction: 0.0692 | Static Recon: 0.0032 | POS Loss: 0.4513 | DEP Loss: 1.2143\n"
     ]
    },
    {
     "name": "stderr",
     "output_type": "stream",
     "text": [
      "Trial 25: 100%|██████████| 40/40 [00:08<00:00,  4.50it/s]\n",
      "[I 2025-04-08 21:28:23,975] Trial 25 finished with value: 0.9767644215280202 and parameters: {'k': 128, 'lr': 0.0014833597568852668, 'nonlinearity': 'relu', 'alpha_pos': 0.4662680685578676, 'alpha_dep': 0.2826591833824089, 'alpha_static': 0.9100063633180667, 'alpha_sparse': 0.9259492199241817, 'l1_s_contextual': 1.9347925055408226e-05, 'l1_s_static': 0.8417497323634922}. Best is trial 21 with value: 1.2416248669732743.\n"
     ]
    },
    {
     "name": "stdout",
     "output_type": "stream",
     "text": [
      "F1 POS: 0.686 | F1 DEP: 0.291 | Reconstruction: 0.0830 | Static Recon: 0.0032 | POS Loss: 0.6854 | DEP Loss: 1.4990\n"
     ]
    },
    {
     "name": "stderr",
     "output_type": "stream",
     "text": [
      "Trial 26: 100%|██████████| 40/40 [00:09<00:00,  4.28it/s]\n",
      "[I 2025-04-08 21:28:33,373] Trial 26 finished with value: 1.1121941274961873 and parameters: {'k': 64, 'lr': 0.003115990431754488, 'nonlinearity': 'relu', 'alpha_pos': 0.6045370296391509, 'alpha_dep': 0.08690570753800386, 'alpha_static': 0.6309367219241573, 'alpha_sparse': 0.8964498485443464, 'l1_s_contextual': 9.24177582636037e-05, 'l1_s_static': 0.07389082904993101}. Best is trial 21 with value: 1.2416248669732743.\n"
     ]
    },
    {
     "name": "stdout",
     "output_type": "stream",
     "text": [
      "F1 POS: 0.821 | F1 DEP: 0.292 | Reconstruction: 0.0960 | Static Recon: 0.0032 | POS Loss: 0.4999 | DEP Loss: 1.4308\n"
     ]
    },
    {
     "name": "stderr",
     "output_type": "stream",
     "text": [
      "Trial 27: 100%|██████████| 40/40 [00:08<00:00,  4.68it/s]\n",
      "[I 2025-04-08 21:28:41,974] Trial 27 finished with value: 0.7365571673184079 and parameters: {'k': 128, 'lr': 0.001552215666972176, 'nonlinearity': 'relu', 'alpha_pos': 0.2645863187758909, 'alpha_dep': 0.3828117972399508, 'alpha_static': 0.35809048883940464, 'alpha_sparse': 0.9442026503464165, 'l1_s_contextual': 0.0006801605116824051, 'l1_s_static': 0.2383072246120851}. Best is trial 21 with value: 1.2416248669732743.\n"
     ]
    },
    {
     "name": "stdout",
     "output_type": "stream",
     "text": [
      "F1 POS: 0.558 | F1 DEP: 0.178 | Reconstruction: 0.1087 | Static Recon: 0.0032 | POS Loss: 0.9305 | DEP Loss: 1.7626\n"
     ]
    },
    {
     "name": "stderr",
     "output_type": "stream",
     "text": [
      "Trial 28: 100%|██████████| 40/40 [00:08<00:00,  4.89it/s]\n",
      "[I 2025-04-08 21:28:50,220] Trial 28 finished with value: 1.2131216504248656 and parameters: {'k': 128, 'lr': 0.0006074014995110615, 'nonlinearity': 'relu', 'alpha_pos': 0.49082531335665097, 'alpha_dep': 0.2793863417185216, 'alpha_static': 0.7544145907976961, 'alpha_sparse': 0.9718353105614428, 'l1_s_contextual': 1.0311168163707687e-05, 'l1_s_static': 0.014911117872215177}. Best is trial 21 with value: 1.2416248669732743.\n"
     ]
    },
    {
     "name": "stdout",
     "output_type": "stream",
     "text": [
      "F1 POS: 0.835 | F1 DEP: 0.378 | Reconstruction: 0.0669 | Static Recon: 0.0032 | POS Loss: 0.4563 | DEP Loss: 1.2032\n"
     ]
    },
    {
     "name": "stderr",
     "output_type": "stream",
     "text": [
      "Trial 29: 100%|██████████| 40/40 [00:08<00:00,  4.89it/s]\n",
      "[I 2025-04-08 21:28:58,467] Trial 29 finished with value: 1.2719292572388763 and parameters: {'k': 128, 'lr': 0.0012646746440462028, 'nonlinearity': 'relu', 'alpha_pos': 0.7312115421560821, 'alpha_dep': 0.5977812734413367, 'alpha_static': 0.629729723710621, 'alpha_sparse': 0.8844971738786699, 'l1_s_contextual': 1.9289949824769822e-05, 'l1_s_static': 0.023843302940569303}. Best is trial 29 with value: 1.2719292572388763.\n"
     ]
    },
    {
     "name": "stdout",
     "output_type": "stream",
     "text": [
      "F1 POS: 0.872 | F1 DEP: 0.400 | Reconstruction: 0.0719 | Static Recon: 0.0032 | POS Loss: 0.4115 | DEP Loss: 1.1676\n"
     ]
    },
    {
     "name": "stderr",
     "output_type": "stream",
     "text": [
      "Trial 30: 100%|██████████| 40/40 [00:09<00:00,  4.23it/s]\n",
      "[I 2025-04-08 21:29:07,978] Trial 30 finished with value: 1.2836818946443103 and parameters: {'k': 128, 'lr': 0.0010664585088285545, 'nonlinearity': 'relu', 'alpha_pos': 0.7552856248578087, 'alpha_dep': 0.615214668112047, 'alpha_static': 0.6140135453822037, 'alpha_sparse': 0.8772191179970192, 'l1_s_contextual': 6.606243012242392e-05, 'l1_s_static': 0.002370303129516134}. Best is trial 30 with value: 1.2836818946443103.\n"
     ]
    },
    {
     "name": "stdout",
     "output_type": "stream",
     "text": [
      "F1 POS: 0.876 | F1 DEP: 0.408 | Reconstruction: 0.0802 | Static Recon: 0.0032 | POS Loss: 0.3978 | DEP Loss: 1.1489\n"
     ]
    },
    {
     "name": "stderr",
     "output_type": "stream",
     "text": [
      "Trial 31: 100%|██████████| 40/40 [00:08<00:00,  4.45it/s]\n",
      "[I 2025-04-08 21:29:17,023] Trial 31 finished with value: 1.1845247256209923 and parameters: {'k': 128, 'lr': 0.001080112889939655, 'nonlinearity': 'relu', 'alpha_pos': 0.8120238017288163, 'alpha_dep': 0.6029100392395415, 'alpha_static': 0.6137279371143592, 'alpha_sparse': 0.8770903247461443, 'l1_s_contextual': 0.00010423130070175164, 'l1_s_static': 0.003043123121730527}. Best is trial 30 with value: 1.2836818946443103.\n"
     ]
    },
    {
     "name": "stdout",
     "output_type": "stream",
     "text": [
      "F1 POS: 0.798 | F1 DEP: 0.386 | Reconstruction: 0.0850 | Static Recon: 0.0032 | POS Loss: 0.4162 | DEP Loss: 1.1725\n"
     ]
    },
    {
     "name": "stderr",
     "output_type": "stream",
     "text": [
      "Trial 32: 100%|██████████| 40/40 [00:10<00:00,  3.87it/s]\n",
      "[I 2025-04-08 21:29:27,419] Trial 32 finished with value: 1.2226792525718655 and parameters: {'k': 128, 'lr': 0.0017002274435835398, 'nonlinearity': 'relu', 'alpha_pos': 0.7363141748507245, 'alpha_dep': 0.685923959888233, 'alpha_static': 0.39198684864104993, 'alpha_sparse': 0.890511284540152, 'l1_s_contextual': 2.7753537393151744e-05, 'l1_s_static': 0.01323219733824885}. Best is trial 30 with value: 1.2836818946443103.\n"
     ]
    },
    {
     "name": "stdout",
     "output_type": "stream",
     "text": [
      "F1 POS: 0.793 | F1 DEP: 0.429 | Reconstruction: 0.0758 | Static Recon: 0.0032 | POS Loss: 0.4548 | DEP Loss: 1.2454\n"
     ]
    },
    {
     "name": "stderr",
     "output_type": "stream",
     "text": [
      "Trial 33: 100%|██████████| 40/40 [00:10<00:00,  4.00it/s]\n",
      "[I 2025-04-08 21:29:37,480] Trial 33 finished with value: 1.2007406848127227 and parameters: {'k': 128, 'lr': 0.002927820720032397, 'nonlinearity': 'relu', 'alpha_pos': 0.9076930649932354, 'alpha_dep': 0.7896807237114607, 'alpha_static': 0.5977097273641202, 'alpha_sparse': 0.866256908957087, 'l1_s_contextual': 0.00042296476366806527, 'l1_s_static': 0.0022611162619984226}. Best is trial 30 with value: 1.2836818946443103.\n"
     ]
    },
    {
     "name": "stdout",
     "output_type": "stream",
     "text": [
      "F1 POS: 0.853 | F1 DEP: 0.348 | Reconstruction: 0.1053 | Static Recon: 0.0032 | POS Loss: 0.4905 | DEP Loss: 1.2850\n"
     ]
    },
    {
     "name": "stderr",
     "output_type": "stream",
     "text": [
      "Trial 34: 100%|██████████| 40/40 [00:09<00:00,  4.27it/s]\n",
      "[I 2025-04-08 21:29:46,907] Trial 34 finished with value: 0.8428913712728603 and parameters: {'k': 128, 'lr': 0.000371100761535546, 'nonlinearity': 'relu', 'alpha_pos': 0.6031190272570768, 'alpha_dep': 0.6268021781142779, 'alpha_static': 0.6822564395958216, 'alpha_sparse': 0.9106931264616983, 'l1_s_contextual': 3.932632691874415e-06, 'l1_s_static': 0.2926046995554279}. Best is trial 30 with value: 1.2836818946443103.\n"
     ]
    },
    {
     "name": "stdout",
     "output_type": "stream",
     "text": [
      "F1 POS: 0.605 | F1 DEP: 0.238 | Reconstruction: 0.0755 | Static Recon: 0.0032 | POS Loss: 0.8645 | DEP Loss: 1.6653\n"
     ]
    },
    {
     "name": "stderr",
     "output_type": "stream",
     "text": [
      "Trial 35: 100%|██████████| 40/40 [00:09<00:00,  4.09it/s]\n",
      "[I 2025-04-08 21:29:56,740] Trial 35 finished with value: 1.2846072535409545 and parameters: {'k': 128, 'lr': 0.000683134290112669, 'nonlinearity': 'relu', 'alpha_pos': 0.7492695052477684, 'alpha_dep': 0.5453042234625788, 'alpha_static': 0.4726553028796319, 'alpha_sparse': 0.9071552306138938, 'l1_s_contextual': 6.030563137163977e-05, 'l1_s_static': 4.6665554766258635e-06}. Best is trial 35 with value: 1.2846072535409545.\n"
     ]
    },
    {
     "name": "stdout",
     "output_type": "stream",
     "text": [
      "F1 POS: 0.875 | F1 DEP: 0.410 | Reconstruction: 0.0803 | Static Recon: 0.0029 | POS Loss: 0.3719 | DEP Loss: 1.0826\n"
     ]
    },
    {
     "name": "stderr",
     "output_type": "stream",
     "text": [
      "Trial 36: 100%|██████████| 40/40 [00:08<00:00,  4.59it/s]\n",
      "[I 2025-04-08 21:30:05,508] Trial 36 finished with value: 0.5201742527289355 and parameters: {'k': 64, 'lr': 0.0006681920120554315, 'nonlinearity': 'identity', 'alpha_pos': 0.9138458378532003, 'alpha_dep': 0.5272228581507639, 'alpha_static': 0.26291014865974144, 'alpha_sparse': 0.906181771879743, 'l1_s_contextual': 5.575509375906856e-05, 'l1_s_static': 0.040812077126559966}. Best is trial 35 with value: 1.2846072535409545.\n"
     ]
    },
    {
     "name": "stdout",
     "output_type": "stream",
     "text": [
      "F1 POS: 0.378 | F1 DEP: 0.142 | Reconstruction: 0.1062 | Static Recon: 0.0032 | POS Loss: 1.2526 | DEP Loss: 2.0693\n"
     ]
    },
    {
     "name": "stderr",
     "output_type": "stream",
     "text": [
      "Trial 37: 100%|██████████| 40/40 [00:08<00:00,  4.98it/s]\n",
      "[I 2025-04-08 21:30:13,599] Trial 37 finished with value: 0.024986266377303248 and parameters: {'k': 128, 'lr': 0.0009835301266441516, 'nonlinearity': 'relu', 'alpha_pos': 0.6123412999818483, 'alpha_dep': 0.6401411285973364, 'alpha_static': 0.4744861847127499, 'alpha_sparse': 0.8858420950483558, 'l1_s_contextual': 0.001348013569914596, 'l1_s_static': 3.815602562289558e-06}. Best is trial 35 with value: 1.2846072535409545.\n"
     ]
    },
    {
     "name": "stdout",
     "output_type": "stream",
     "text": [
      "F1 POS: 0.020 | F1 DEP: 0.005 | Reconstruction: 0.1247 | Static Recon: 0.0025 | POS Loss: 2.4366 | DEP Loss: 3.1633\n"
     ]
    },
    {
     "name": "stderr",
     "output_type": "stream",
     "text": [
      "Trial 38: 100%|██████████| 40/40 [00:09<00:00,  4.35it/s]\n",
      "[I 2025-04-08 21:30:22,858] Trial 38 finished with value: 1.21255166244932 and parameters: {'k': 128, 'lr': 0.001897839868915157, 'nonlinearity': 'identity', 'alpha_pos': 0.7274395536993786, 'alpha_dep': 0.7598757899072575, 'alpha_static': 0.5736060015288719, 'alpha_sparse': 0.9189191889104413, 'l1_s_contextual': 0.0003559354965667447, 'l1_s_static': 3.959629311808793e-05}. Best is trial 35 with value: 1.2846072535409545.\n"
     ]
    },
    {
     "name": "stdout",
     "output_type": "stream",
     "text": [
      "F1 POS: 0.843 | F1 DEP: 0.369 | Reconstruction: 0.0839 | Static Recon: 0.0028 | POS Loss: 0.4958 | DEP Loss: 1.2056\n"
     ]
    },
    {
     "name": "stderr",
     "output_type": "stream",
     "text": [
      "Trial 39: 100%|██████████| 40/40 [00:09<00:00,  4.21it/s]\n",
      "[I 2025-04-08 21:30:32,425] Trial 39 finished with value: 0.02860446692761246 and parameters: {'k': 128, 'lr': 0.001177083204719975, 'nonlinearity': 'relu', 'alpha_pos': 0.5437755929868011, 'alpha_dep': 0.43743964862443324, 'alpha_static': 0.3739310838479285, 'alpha_sparse': 0.863175504259062, 'l1_s_contextual': 0.017633984974655202, 'l1_s_static': 0.008195517682351538}. Best is trial 35 with value: 1.2846072535409545.\n"
     ]
    },
    {
     "name": "stdout",
     "output_type": "stream",
     "text": [
      "F1 POS: 0.023 | F1 DEP: 0.005 | Reconstruction: 0.1244 | Static Recon: 0.0032 | POS Loss: 2.4239 | DEP Loss: 3.1417\n"
     ]
    }
   ],
   "source": [
    "study = optuna.create_study(direction='maximize')\n",
    "study.optimize(objective, n_trials=40)"
   ]
  },
  {
   "cell_type": "code",
   "execution_count": 7,
   "metadata": {},
   "outputs": [
    {
     "data": {
      "text/plain": [
       "{'k': 128,\n",
       " 'lr': 0.000683134290112669,\n",
       " 'nonlinearity': 'relu',\n",
       " 'alpha_pos': 0.7492695052477684,\n",
       " 'alpha_dep': 0.5453042234625788,\n",
       " 'alpha_static': 0.4726553028796319,\n",
       " 'alpha_sparse': 0.9071552306138938,\n",
       " 'l1_s_contextual': 6.030563137163977e-05,\n",
       " 'l1_s_static': 4.6665554766258635e-06}"
      ]
     },
     "execution_count": 7,
     "metadata": {},
     "output_type": "execute_result"
    }
   ],
   "source": [
    "study.best_params"
   ]
  },
  {
   "cell_type": "markdown",
   "metadata": {
    "jp-MarkdownHeadingCollapsed": true
   },
   "source": [
    "### Run with Optimal Hyperparameters"
   ]
  },
  {
   "cell_type": "code",
   "execution_count": 8,
   "metadata": {},
   "outputs": [
    {
     "name": "stderr",
     "output_type": "stream",
     "text": [
      "Training: 100%|██████████| 40/40 [00:10<00:00,  3.97it/s]\n"
     ]
    }
   ],
   "source": [
    "device = torch.device(\"cuda\" if torch.cuda.is_available() else \"cpu\")\n",
    "\n",
    "# ------------------------------\n",
    "# Define Model\n",
    "# ------------------------------\n",
    "class SupervisedDictionaryLearning(nn.Module):\n",
    "    def __init__(self, d, k, num_pos, num_dep, nonlinearity='identity'):\n",
    "        super().__init__()\n",
    "        self.S = nn.Linear(d, k, bias=False)  # Encoder (contextual to sparse code)\n",
    "        self.D = nn.Linear(k, d, bias=False)  # Decoder (sparse code to contextual)\n",
    "\n",
    "        # supervised features\n",
    "        self.pos_classifier = nn.Linear(k, num_pos)\n",
    "        self.dep_classifier = nn.Linear(k, num_dep)\n",
    "\n",
    "        # hyperparam we can modify \n",
    "        self.activation = nn.Identity()\n",
    "        if nonlinearity == 'relu':\n",
    "            self.activation = nn.ReLU()\n",
    "\n",
    "    def forward(self, X):\n",
    "        S = self.activation(self.S(X))\n",
    "        X_reconstructed = self.D(S)\n",
    "        pos_logits = self.pos_classifier(S)\n",
    "        dep_logits = self.dep_classifier(S)\n",
    "        return X_reconstructed, S, pos_logits, dep_logits\n",
    "\n",
    "# ------------------------------\n",
    "# Training Loop\n",
    "# ------------------------------\n",
    "# Hyperparameters from Optuna study\n",
    "k = study.best_params['k']\n",
    "lr = study.best_params['lr']\n",
    "nonlinearity = study.best_params['nonlinearity']\n",
    "alpha_pos = study.best_params['alpha_pos']\n",
    "alpha_dep = study.best_params['alpha_dep']\n",
    "alpha_static = study.best_params['alpha_static']\n",
    "alpha_sparse = study.best_params['alpha_sparse']\n",
    "l1_s_contextual = study.best_params['l1_s_contextual']\n",
    "l1_s_static = study.best_params['l1_s_static']\n",
    "\n",
    "# Model setup\n",
    "d = X.shape[1]  # Feature dimension (input)\n",
    "\n",
    "model = SupervisedDictionaryLearning(d, k, num_pos, num_dep, nonlinearity=nonlinearity).to(device)\n",
    "optimizer = optim.Adam(model.parameters(), lr=lr)\n",
    "criterion_recon = nn.MSELoss()\n",
    "criterion_class = nn.CrossEntropyLoss()\n",
    "\n",
    "# Split data\n",
    "dataset = TensorDataset(X, y_pos, y_dep, word_static_tensor)\n",
    "train_size = int(0.8 * len(dataset))\n",
    "val_size = len(dataset) - train_size\n",
    "train_set, val_set = random_split(dataset, [train_size, val_size])\n",
    "\n",
    "train_loader = DataLoader(train_set, batch_size=256, shuffle=True)\n",
    "val_loader = DataLoader(val_set, batch_size=256, shuffle=False)\n",
    "\n",
    "# Training loop\n",
    "model.train()\n",
    "for epoch in tqdm(range(40), desc=f'Training'):\n",
    "    for batch in train_loader:\n",
    "        x_batch, y_p, y_d, w_static = batch\n",
    "        x_batch, y_p, y_d, w_static = x_batch.to(device), y_p.to(device), y_d.to(device), w_static.to(device)\n",
    "        optimizer.zero_grad()\n",
    "\n",
    "        # Forward pass for contextual\n",
    "        x_rec, S_contextual, p_pred, d_pred = model(x_batch)\n",
    "\n",
    "        # Basic losses\n",
    "        loss_recon = criterion_recon(x_rec, x_batch)\n",
    "        loss_pos = criterion_class(p_pred, y_p)\n",
    "        loss_dep = criterion_class(d_pred, y_d)\n",
    "        loss_sparse_contextual = l1_s_contextual * torch.norm(S_contextual, p=1)\n",
    "\n",
    "        # Now handle static embedding\n",
    "        with torch.no_grad():\n",
    "            pass\n",
    "        x_rec_static, S_static, _, _ = model(w_static)\n",
    "        loss_static_recon = criterion_recon(x_rec_static, w_static)\n",
    "        loss_sparse_static = l1_s_static * torch.norm(S_static, p=1)\n",
    "\n",
    "        # Weighted sum\n",
    "        # We assume we want to emphasize reconstruction above all else, but still incorporate others:\n",
    "        loss = (\n",
    "            loss_recon\n",
    "            + alpha_pos * loss_pos\n",
    "            + alpha_dep * loss_dep\n",
    "            + alpha_sparse * (loss_sparse_contextual + loss_sparse_static)\n",
    "            + alpha_static * loss_static_recon\n",
    "        )\n",
    "\n",
    "        loss.backward()\n",
    "        optimizer.step()"
   ]
  },
  {
   "cell_type": "markdown",
   "metadata": {
    "jp-MarkdownHeadingCollapsed": true
   },
   "source": [
    "### Validation Metrics\n",
    "\n",
    "We evaluate the model's performance on a held-out validation set, measuring linguistic classification accuracy:\n",
    "\n",
    "- **Validation F1 Score (Positional)**: **0.8187**\n",
    "- **Validation F1 Score (Dependency)**: **0.3996**"
   ]
  },
  {
   "cell_type": "code",
   "execution_count": 9,
   "metadata": {},
   "outputs": [
    {
     "name": "stderr",
     "output_type": "stream",
     "text": [
      "                                                  \r"
     ]
    },
    {
     "name": "stdout",
     "output_type": "stream",
     "text": [
      "Validation F1 Score (Positional): 0.8187\n",
      "Validation F1 Score (Dep): 0.3996\n"
     ]
    }
   ],
   "source": [
    "model.eval()\n",
    "\n",
    "val_recon_total = 0.0\n",
    "val_static_recon_total = 0.0\n",
    "val_pos_loss_total = 0.0\n",
    "val_dep_loss_total = 0.0\n",
    "val_s_contextual_total = 0.0\n",
    "val_s_static_total = 0.0\n",
    "val_samples = 0\n",
    "\n",
    "# For classification\n",
    "y_true_pos, y_pred_pos = [], []\n",
    "y_true_dep, y_pred_dep = [], []\n",
    "\n",
    "with torch.no_grad():\n",
    "    for batch in tqdm(val_loader, desc=\"Validation\", leave=False):\n",
    "        x_batch, y_p, y_d, w_static = [x.to(device) for x in batch]\n",
    "        batch_size = x_batch.size(0)\n",
    "        val_samples += batch_size\n",
    "\n",
    "        # 1) Contextual forward\n",
    "        x_rec, S_contextual, p_pred, d_pred = model(x_batch)\n",
    "        val_recon_total += criterion_recon(x_rec, x_batch).item() * batch_size\n",
    "        val_pos_loss_total += criterion_class(p_pred, y_p).item() * batch_size\n",
    "        val_dep_loss_total += criterion_class(d_pred, y_d).item() * batch_size\n",
    "        val_s_contextual_total += torch.norm(S_contextual, p=1).item()\n",
    "\n",
    "        # 2) Static forward\n",
    "        x_rec_static, S_static, _, _ = model(w_static)\n",
    "        val_static_recon_total += criterion_recon(x_rec_static, w_static).item() * batch_size\n",
    "        val_s_static_total += torch.norm(S_static, p=1).item()\n",
    "\n",
    "        # Save classification for F1\n",
    "        y_true_pos.extend(y_p.cpu())\n",
    "        y_pred_pos.extend(p_pred.argmax(dim=1).cpu())\n",
    "\n",
    "        y_true_dep.extend(y_d.cpu())\n",
    "        y_pred_dep.extend(d_pred.argmax(dim=1).cpu())\n",
    "\n",
    "# Averages\n",
    "mean_val_recon = val_recon_total / val_samples\n",
    "mean_val_static_recon = val_static_recon_total / val_samples\n",
    "mean_val_pos_loss = val_pos_loss_total / val_samples\n",
    "mean_val_dep_loss = val_dep_loss_total / val_samples\n",
    "mean_val_s_contextual = val_s_contextual_total / val_samples\n",
    "mean_val_s_static = val_s_static_total / val_samples\n",
    "\n",
    "# F1\n",
    "f1_pos = f1_score(y_true_pos, y_pred_pos, average='macro')\n",
    "f1_dep = f1_score(y_true_dep, y_pred_dep, average='macro')\n",
    "\n",
    "print(f\"Validation F1 Score (Positional): {f1_pos:.4f}\")\n",
    "print(f\"Validation F1 Score (Dep): {f1_dep:.4f}\")"
   ]
  },
  {
   "cell_type": "code",
   "execution_count": 10,
   "metadata": {},
   "outputs": [
    {
     "name": "stdout",
     "output_type": "stream",
     "text": [
      "tensor([276, 480, 101, 224,  94, 401,   1, 795,  95, 105, 158, 409, 380,  57,\n",
      "         16, 408])\n",
      "tensor([269, 489,  84, 232,  86, 417,   0, 828,  91, 102, 167, 394, 388,  43,\n",
      "         15, 395])\n"
     ]
    },
    {
     "data": {
      "text/plain": [
       "17"
      ]
     },
     "execution_count": 10,
     "metadata": {},
     "output_type": "execute_result"
    }
   ],
   "source": [
    "print(torch.bincount(torch.tensor(y_true_pos)))\n",
    "print(torch.bincount(torch.tensor(y_pred_pos)))\n",
    "num_pos"
   ]
  },
  {
   "cell_type": "code",
   "execution_count": 11,
   "metadata": {},
   "outputs": [],
   "source": [
    "# Save model's state dictionary (weights)\n",
    "torch.save(model.state_dict(), 'optimized_model.pth')"
   ]
  },
  {
   "cell_type": "code",
   "execution_count": 12,
   "metadata": {},
   "outputs": [],
   "source": [
    "with open('optuna_study.pkl', 'wb') as f:\n",
    "    pickle.dump(study, f)"
   ]
  },
  {
   "cell_type": "markdown",
   "metadata": {},
   "source": [
    "## Analysis: Dictionary Atom Behavior\n",
    "We test whether dictionary atoms are preserved or collapse toward the mean vector."
   ]
  },
  {
   "cell_type": "code",
   "execution_count": 16,
   "metadata": {},
   "outputs": [
    {
     "name": "stdout",
     "output_type": "stream",
     "text": [
      "17 45 384 128\n"
     ]
    },
    {
     "data": {
      "text/plain": [
       "SupervisedDictionaryLearning(\n",
       "  (S): Linear(in_features=384, out_features=128, bias=False)\n",
       "  (D): Linear(in_features=128, out_features=384, bias=False)\n",
       "  (pos_classifier): Linear(in_features=128, out_features=17, bias=True)\n",
       "  (dep_classifier): Linear(in_features=128, out_features=45, bias=True)\n",
       "  (activation): Identity()\n",
       ")"
      ]
     },
     "execution_count": 16,
     "metadata": {},
     "output_type": "execute_result"
    }
   ],
   "source": [
    "# Full dataset\n",
    "with open('dataset.pkl', 'rb') as f:\n",
    "    dataset = pickle.load(f)\n",
    "\n",
    "state_dict = torch.load('optimized_model.pth')\n",
    "num_dep = state_dict['dep_classifier.weight'].shape[0]\n",
    "num_pos = state_dict['pos_classifier.weight'].shape[0]\n",
    "k = state_dict['S.weight'].shape[0]\n",
    "d = state_dict['S.weight'].shape[1]\n",
    "\n",
    "print(num_pos, num_dep, d, k)\n",
    "\n",
    "model = SupervisedDictionaryLearning(d=d, k=k, num_pos=num_pos, num_dep=num_dep)\n",
    "model.load_state_dict(state_dict)\n",
    "model.eval()"
   ]
  },
  {
   "cell_type": "code",
   "execution_count": 17,
   "metadata": {},
   "outputs": [],
   "source": [
    "words = dataset['word']\n",
    "embeddings = np.stack(dataset['embedding'].values)  # Convert list of embeddings to a numpy array\n",
    "pos = dataset['pos'].values\n",
    "dep = dataset['dep'].values\n",
    "positions = dataset['position'].values\n",
    "\n",
    "le_pos = LabelEncoder()\n",
    "le_dep = LabelEncoder()\n",
    "pos_encoded = le_pos.fit_transform(pos)\n",
    "dep_encoded = le_dep.fit_transform(dep)\n",
    "\n",
    "X = torch.stack(df['embedding'].tolist())"
   ]
  },
  {
   "cell_type": "markdown",
   "metadata": {},
   "source": [
    "### Check if atoms cancel out"
   ]
  },
  {
   "cell_type": "code",
   "execution_count": 18,
   "metadata": {},
   "outputs": [
    {
     "name": "stdout",
     "output_type": "stream",
     "text": [
      "Average atom norm: 0.771\n",
      "Mean-pooled norm: 0.034\n"
     ]
    }
   ],
   "source": [
    "# Quick and dirty mean test\n",
    "atoms = model.D.weight\n",
    "pooled = atoms.mean(dim=1)\n",
    "\n",
    "norms = atoms.norm(dim=1)\n",
    "mean_norm = pooled.norm()\n",
    "\n",
    "print(f\"Average atom norm: {norms.mean():.3f}\")\n",
    "print(f\"Mean-pooled norm: {mean_norm:.3f}\")"
   ]
  },
  {
   "cell_type": "code",
   "execution_count": 19,
   "metadata": {},
   "outputs": [
    {
     "name": "stdout",
     "output_type": "stream",
     "text": [
      "Most cancelled atoms (cosine similarity):\n",
      "Atom 94: -0.4382\n",
      "Atom 101: -0.2703\n",
      "Atom 100: -0.2581\n",
      "Atom 8: -0.2444\n",
      "Atom 76: -0.2249\n",
      "\n",
      "Most aligned atoms (cosine similarity):\n",
      "Atom 81: 0.3294\n",
      "Atom 32: 0.3709\n",
      "Atom 84: 0.3800\n",
      "Atom 52: 0.5897\n",
      "Atom 123: 0.6094\n"
     ]
    }
   ],
   "source": [
    "# If an atom is cosine-similar to the mean, its information is preserved\n",
    "# If opposite, its information is being lost\n",
    "import torch.nn.functional as F\n",
    "\n",
    "atoms_norm = F.normalize(atoms, dim=1)  # [128, 384]\n",
    "pooled_norm = F.normalize(pooled, dim=0)  # [384]\n",
    "\n",
    "# Compute cosine similarity between each atom and the mean vector\n",
    "cos_sim = torch.matmul(pooled_norm, atoms_norm)  # [128]\n",
    "\n",
    "# Sort by cosine similarity\n",
    "sorted_vals, sorted_indices = cos_sim.sort()\n",
    "\n",
    "# Most \"cancelled\" atoms: most negative similarity\n",
    "most_cancelled_indices = sorted_indices[:5]\n",
    "least_cancelled_indices = sorted_indices[-5:]\n",
    "\n",
    "print(\"Most cancelled atoms (cosine similarity):\")\n",
    "for idx in most_cancelled_indices:\n",
    "    print(f\"Atom {idx.item()}: {cos_sim[idx].item():.4f}\")\n",
    "\n",
    "print(\"\\nMost aligned atoms (cosine similarity):\")\n",
    "for idx in least_cancelled_indices:\n",
    "    print(f\"Atom {idx.item()}: {cos_sim[idx].item():.4f}\")"
   ]
  },
  {
   "cell_type": "markdown",
   "metadata": {},
   "source": [
    "### Try to interpret the atoms"
   ]
  },
  {
   "cell_type": "code",
   "execution_count": 20,
   "metadata": {},
   "outputs": [
    {
     "data": {
      "text/html": [
       "<div>\n",
       "<style scoped>\n",
       "    .dataframe tbody tr th:only-of-type {\n",
       "        vertical-align: middle;\n",
       "    }\n",
       "\n",
       "    .dataframe tbody tr th {\n",
       "        vertical-align: top;\n",
       "    }\n",
       "\n",
       "    .dataframe thead th {\n",
       "        text-align: right;\n",
       "    }\n",
       "</style>\n",
       "<table border=\"1\" class=\"dataframe\">\n",
       "  <thead>\n",
       "    <tr style=\"text-align: right;\">\n",
       "      <th></th>\n",
       "      <th>atom</th>\n",
       "      <th>word</th>\n",
       "      <th>activation</th>\n",
       "      <th>sentence</th>\n",
       "    </tr>\n",
       "  </thead>\n",
       "  <tbody>\n",
       "    <tr>\n",
       "      <th>600</th>\n",
       "      <td>6</td>\n",
       "      <td>:</td>\n",
       "      <td>4.480647</td>\n",
       "      <td>He :  Come with me to the Casbah .</td>\n",
       "    </tr>\n",
       "    <tr>\n",
       "      <th>601</th>\n",
       "      <td>6</td>\n",
       "      <td>:</td>\n",
       "      <td>4.471106</td>\n",
       "      <td>More : On the free world side.</td>\n",
       "    </tr>\n",
       "    <tr>\n",
       "      <th>602</th>\n",
       "      <td>6</td>\n",
       "      <td>said</td>\n",
       "      <td>4.042163</td>\n",
       "      <td>And I bum tickets to everything I can , she s...</td>\n",
       "    </tr>\n",
       "    <tr>\n",
       "      <th>603</th>\n",
       "      <td>6</td>\n",
       "      <td>says</td>\n",
       "      <td>3.953997</td>\n",
       "      <td>Eventually, says Keys, one of two things happens.</td>\n",
       "    </tr>\n",
       "    <tr>\n",
       "      <th>604</th>\n",
       "      <td>6</td>\n",
       "      <td>:</td>\n",
       "      <td>3.900510</td>\n",
       "      <td>writes : Does the cholesterol go down when mos...</td>\n",
       "    </tr>\n",
       "    <tr>\n",
       "      <th>605</th>\n",
       "      <td>6</td>\n",
       "      <td>;</td>\n",
       "      <td>3.803214</td>\n",
       "      <td>a wallet with $450 in it ; ;</td>\n",
       "    </tr>\n",
       "    <tr>\n",
       "      <th>606</th>\n",
       "      <td>6</td>\n",
       "      <td>says</td>\n",
       "      <td>3.776997</td>\n",
       "      <td>That's a lot of hard-earned money to lose , h...</td>\n",
       "    </tr>\n",
       "    <tr>\n",
       "      <th>607</th>\n",
       "      <td>6</td>\n",
       "      <td>commented</td>\n",
       "      <td>3.762455</td>\n",
       "      <td>It is like handing a loaded automatic to an 8...</td>\n",
       "    </tr>\n",
       "    <tr>\n",
       "      <th>608</th>\n",
       "      <td>6</td>\n",
       "      <td>said</td>\n",
       "      <td>3.743508</td>\n",
       "      <td>It's a whole lot easier , he said,  to increa...</td>\n",
       "    </tr>\n",
       "    <tr>\n",
       "      <th>609</th>\n",
       "      <td>6</td>\n",
       "      <td>said</td>\n",
       "      <td>3.700401</td>\n",
       "      <td>I have enjoyed it and will feel a bit lost at...</td>\n",
       "    </tr>\n",
       "    <tr>\n",
       "      <th>610</th>\n",
       "      <td>6</td>\n",
       "      <td>reported</td>\n",
       "      <td>3.690902</td>\n",
       "      <td>Finally he reported that Nasser was ready to m...</td>\n",
       "    </tr>\n",
       "    <tr>\n",
       "      <th>611</th>\n",
       "      <td>6</td>\n",
       "      <td>-</td>\n",
       "      <td>3.624489</td>\n",
       "      <td>Single-color use</td>\n",
       "    </tr>\n",
       "    <tr>\n",
       "      <th>612</th>\n",
       "      <td>6</td>\n",
       "      <td>-</td>\n",
       "      <td>3.542548</td>\n",
       "      <td>sweet-sour sauce</td>\n",
       "    </tr>\n",
       "    <tr>\n",
       "      <th>613</th>\n",
       "      <td>6</td>\n",
       "      <td>said</td>\n",
       "      <td>3.482226</td>\n",
       "      <td>He said he had No. 2's enough to last two week...</td>\n",
       "    </tr>\n",
       "    <tr>\n",
       "      <th>614</th>\n",
       "      <td>6</td>\n",
       "      <td>said</td>\n",
       "      <td>3.470124</td>\n",
       "      <td>My feeling at the moment , he said,  is that ...</td>\n",
       "    </tr>\n",
       "    <tr>\n",
       "      <th>615</th>\n",
       "      <td>6</td>\n",
       "      <td>said</td>\n",
       "      <td>3.421830</td>\n",
       "      <td>He just lay back there and waited for it , Me...</td>\n",
       "    </tr>\n",
       "    <tr>\n",
       "      <th>616</th>\n",
       "      <td>6</td>\n",
       "      <td>;</td>\n",
       "      <td>3.399176</td>\n",
       "      <td>You still have time to drop a few hints about ...</td>\n",
       "    </tr>\n",
       "    <tr>\n",
       "      <th>617</th>\n",
       "      <td>6</td>\n",
       "      <td>claimed</td>\n",
       "      <td>3.355783</td>\n",
       "      <td>Spokesmen for the nation's tradition-minded sc...</td>\n",
       "    </tr>\n",
       "    <tr>\n",
       "      <th>618</th>\n",
       "      <td>6</td>\n",
       "      <td>)</td>\n",
       "      <td>3.313294</td>\n",
       "      <td>1 ) Every age rewrites the events of its histo...</td>\n",
       "    </tr>\n",
       "    <tr>\n",
       "      <th>619</th>\n",
       "      <td>6</td>\n",
       "      <td>reported</td>\n",
       "      <td>3.287988</td>\n",
       "      <td>The West Texan reported that he had finally go...</td>\n",
       "    </tr>\n",
       "    <tr>\n",
       "      <th>620</th>\n",
       "      <td>6</td>\n",
       "      <td>said</td>\n",
       "      <td>3.284965</td>\n",
       "      <td>Of course I am , he said.</td>\n",
       "    </tr>\n",
       "    <tr>\n",
       "      <th>621</th>\n",
       "      <td>6</td>\n",
       "      <td>stated</td>\n",
       "      <td>3.268540</td>\n",
       "      <td>It stated that it had lost 20,000,000 livres i...</td>\n",
       "    </tr>\n",
       "    <tr>\n",
       "      <th>622</th>\n",
       "      <td>6</td>\n",
       "      <td>commented</td>\n",
       "      <td>3.268328</td>\n",
       "      <td>The nuns there do a wonderful work , the Pres...</td>\n",
       "    </tr>\n",
       "    <tr>\n",
       "      <th>623</th>\n",
       "      <td>6</td>\n",
       "      <td>said</td>\n",
       "      <td>3.254894</td>\n",
       "      <td>Cook Bennett Mathues said Juet had predicted b...</td>\n",
       "    </tr>\n",
       "    <tr>\n",
       "      <th>624</th>\n",
       "      <td>6</td>\n",
       "      <td>asserted</td>\n",
       "      <td>3.249631</td>\n",
       "      <td>He asserted that the Krogers were the bankers ...</td>\n",
       "    </tr>\n",
       "    <tr>\n",
       "      <th>625</th>\n",
       "      <td>6</td>\n",
       "      <td>said</td>\n",
       "      <td>3.202126</td>\n",
       "      <td>Wagner said the city paid only $37,500 to the ...</td>\n",
       "    </tr>\n",
       "    <tr>\n",
       "      <th>626</th>\n",
       "      <td>6</td>\n",
       "      <td>said</td>\n",
       "      <td>3.199715</td>\n",
       "      <td>I like the tradition , a girl said.</td>\n",
       "    </tr>\n",
       "    <tr>\n",
       "      <th>627</th>\n",
       "      <td>6</td>\n",
       "      <td>said</td>\n",
       "      <td>3.196960</td>\n",
       "      <td>It couldn't close, she said.</td>\n",
       "    </tr>\n",
       "    <tr>\n",
       "      <th>628</th>\n",
       "      <td>6</td>\n",
       "      <td>--</td>\n",
       "      <td>3.182455</td>\n",
       "      <td>Sir -- I hasten to join in praise of the men i...</td>\n",
       "    </tr>\n",
       "    <tr>\n",
       "      <th>629</th>\n",
       "      <td>6</td>\n",
       "      <td>;</td>\n",
       "      <td>3.163233</td>\n",
       "      <td>the head dropped off ; ;</td>\n",
       "    </tr>\n",
       "    <tr>\n",
       "      <th>630</th>\n",
       "      <td>6</td>\n",
       "      <td>-</td>\n",
       "      <td>3.145743</td>\n",
       "      <td>rim-fires.</td>\n",
       "    </tr>\n",
       "    <tr>\n",
       "      <th>631</th>\n",
       "      <td>6</td>\n",
       "      <td>-</td>\n",
       "      <td>3.137893</td>\n",
       "      <td>Super-Set No. 2 is made up of similar exercise...</td>\n",
       "    </tr>\n",
       "    <tr>\n",
       "      <th>632</th>\n",
       "      <td>6</td>\n",
       "      <td>,</td>\n",
       "      <td>3.125815</td>\n",
       "      <td>But, it could happen, and it may happen to you.</td>\n",
       "    </tr>\n",
       "    <tr>\n",
       "      <th>633</th>\n",
       "      <td>6</td>\n",
       "      <td>;</td>\n",
       "      <td>3.124249</td>\n",
       "      <td>but I shan't die tomorrow ; ;</td>\n",
       "    </tr>\n",
       "    <tr>\n",
       "      <th>634</th>\n",
       "      <td>6</td>\n",
       "      <td>said</td>\n",
       "      <td>3.117785</td>\n",
       "      <td>No, said he, but officials still called him  e...</td>\n",
       "    </tr>\n",
       "    <tr>\n",
       "      <th>635</th>\n",
       "      <td>6</td>\n",
       "      <td>stated</td>\n",
       "      <td>3.114066</td>\n",
       "      <td>Nevertheless, Montgomery has stated courageous...</td>\n",
       "    </tr>\n",
       "    <tr>\n",
       "      <th>636</th>\n",
       "      <td>6</td>\n",
       "      <td>:</td>\n",
       "      <td>3.102848</td>\n",
       "      <td>Food : stew a la Mulligatawny</td>\n",
       "    </tr>\n",
       "    <tr>\n",
       "      <th>637</th>\n",
       "      <td>6</td>\n",
       "      <td>:</td>\n",
       "      <td>3.096957</td>\n",
       "      <td>So : Means edged around on the north side of h...</td>\n",
       "    </tr>\n",
       "    <tr>\n",
       "      <th>638</th>\n",
       "      <td>6</td>\n",
       "      <td>-</td>\n",
       "      <td>3.084528</td>\n",
       "      <td>Radio-transmitter pills</td>\n",
       "    </tr>\n",
       "    <tr>\n",
       "      <th>639</th>\n",
       "      <td>6</td>\n",
       "      <td>does</td>\n",
       "      <td>3.065931</td>\n",
       "      <td>What He does with you then depends on what you...</td>\n",
       "    </tr>\n",
       "  </tbody>\n",
       "</table>\n",
       "</div>"
      ],
      "text/plain": [
       "     atom       word  activation  \\\n",
       "600     6          :    4.480647   \n",
       "601     6          :    4.471106   \n",
       "602     6       said    4.042163   \n",
       "603     6       says    3.953997   \n",
       "604     6          :    3.900510   \n",
       "605     6          ;    3.803214   \n",
       "606     6       says    3.776997   \n",
       "607     6  commented    3.762455   \n",
       "608     6       said    3.743508   \n",
       "609     6       said    3.700401   \n",
       "610     6   reported    3.690902   \n",
       "611     6          -    3.624489   \n",
       "612     6          -    3.542548   \n",
       "613     6       said    3.482226   \n",
       "614     6       said    3.470124   \n",
       "615     6       said    3.421830   \n",
       "616     6          ;    3.399176   \n",
       "617     6    claimed    3.355783   \n",
       "618     6          )    3.313294   \n",
       "619     6   reported    3.287988   \n",
       "620     6       said    3.284965   \n",
       "621     6     stated    3.268540   \n",
       "622     6  commented    3.268328   \n",
       "623     6       said    3.254894   \n",
       "624     6   asserted    3.249631   \n",
       "625     6       said    3.202126   \n",
       "626     6       said    3.199715   \n",
       "627     6       said    3.196960   \n",
       "628     6         --    3.182455   \n",
       "629     6          ;    3.163233   \n",
       "630     6          -    3.145743   \n",
       "631     6          -    3.137893   \n",
       "632     6          ,    3.125815   \n",
       "633     6          ;    3.124249   \n",
       "634     6       said    3.117785   \n",
       "635     6     stated    3.114066   \n",
       "636     6          :    3.102848   \n",
       "637     6          :    3.096957   \n",
       "638     6          -    3.084528   \n",
       "639     6       does    3.065931   \n",
       "\n",
       "                                              sentence  \n",
       "600                 He :  Come with me to the Casbah .  \n",
       "601                     More : On the free world side.  \n",
       "602   And I bum tickets to everything I can , she s...  \n",
       "603  Eventually, says Keys, one of two things happens.  \n",
       "604  writes : Does the cholesterol go down when mos...  \n",
       "605                       a wallet with $450 in it ; ;  \n",
       "606   That's a lot of hard-earned money to lose , h...  \n",
       "607   It is like handing a loaded automatic to an 8...  \n",
       "608   It's a whole lot easier , he said,  to increa...  \n",
       "609   I have enjoyed it and will feel a bit lost at...  \n",
       "610  Finally he reported that Nasser was ready to m...  \n",
       "611                                   Single-color use  \n",
       "612                                   sweet-sour sauce  \n",
       "613  He said he had No. 2's enough to last two week...  \n",
       "614   My feeling at the moment , he said,  is that ...  \n",
       "615   He just lay back there and waited for it , Me...  \n",
       "616  You still have time to drop a few hints about ...  \n",
       "617  Spokesmen for the nation's tradition-minded sc...  \n",
       "618  1 ) Every age rewrites the events of its histo...  \n",
       "619  The West Texan reported that he had finally go...  \n",
       "620                          Of course I am , he said.  \n",
       "621  It stated that it had lost 20,000,000 livres i...  \n",
       "622   The nuns there do a wonderful work , the Pres...  \n",
       "623  Cook Bennett Mathues said Juet had predicted b...  \n",
       "624  He asserted that the Krogers were the bankers ...  \n",
       "625  Wagner said the city paid only $37,500 to the ...  \n",
       "626                I like the tradition , a girl said.  \n",
       "627                       It couldn't close, she said.  \n",
       "628  Sir -- I hasten to join in praise of the men i...  \n",
       "629                           the head dropped off ; ;  \n",
       "630                                         rim-fires.  \n",
       "631  Super-Set No. 2 is made up of similar exercise...  \n",
       "632    But, it could happen, and it may happen to you.  \n",
       "633                      but I shan't die tomorrow ; ;  \n",
       "634  No, said he, but officials still called him  e...  \n",
       "635  Nevertheless, Montgomery has stated courageous...  \n",
       "636                      Food : stew a la Mulligatawny  \n",
       "637  So : Means edged around on the north side of h...  \n",
       "638                            Radio-transmitter pills  \n",
       "639  What He does with you then depends on what you...  "
      ]
     },
     "execution_count": 20,
     "metadata": {},
     "output_type": "execute_result"
    }
   ],
   "source": [
    "X_tensor = torch.stack(dataset['embedding'].tolist())\n",
    "\n",
    "model.eval()\n",
    "with torch.no_grad():\n",
    "    S = model.activation(model.S(X_tensor))\n",
    "\n",
    "top_k = 100  # top 10 words per atom\n",
    "activations_by_atom = {}\n",
    "\n",
    "for atom_idx in range(S.shape[1]):\n",
    "    activations = S[:, atom_idx]\n",
    "    top_values, top_indices = torch.topk(activations, top_k)\n",
    "    \n",
    "    words = dataset.iloc[top_indices.tolist()]['word'].tolist()\n",
    "    sentences = dataset.iloc[top_indices.tolist()]['sentence'].tolist()\n",
    "\n",
    "    activations_by_atom[atom_idx] = list(zip(words, top_values.tolist(), sentences))\n",
    "\n",
    "atom_data = []\n",
    "for atom, word_tuples in activations_by_atom.items():\n",
    "    for word, val, sent in word_tuples:\n",
    "        atom_data.append({'atom': atom, 'word': word, 'activation': val, 'sentence': sent})\n",
    "\n",
    "top_words_per_atom = pd.DataFrame(atom_data)\n",
    "top_words_per_atom.loc[top_words_per_atom['atom'] == 6][:40]"
   ]
  },
  {
   "cell_type": "code",
   "execution_count": 21,
   "metadata": {},
   "outputs": [],
   "source": [
    "def top_and_other_contributions_per_atom(model, pos_labels, dep_labels, top_n=5):\n",
    "    pos_weights = model.pos_classifier.weight.detach().cpu().T  # [k, num_pos]\n",
    "    dep_weights = model.dep_classifier.weight.detach().cpu().T  # [k, num_dep]\n",
    "\n",
    "    k = pos_weights.shape[0]\n",
    "    results = []\n",
    "\n",
    "    for atom in range(k):\n",
    "        pos_w = pos_weights[atom]\n",
    "        dep_w = dep_weights[atom]\n",
    "\n",
    "        # Get indices of sorted absolute values for both POS and DEP\n",
    "        sorted_pos_idx = torch.argsort(pos_w.abs(), descending=True).cpu().tolist()\n",
    "        sorted_dep_idx = torch.argsort(dep_w.abs(), descending=True).cpu().tolist()\n",
    "\n",
    "        # Top contribution for POS and DEP\n",
    "        strongest_pos_idx = sorted_pos_idx[0]\n",
    "        strongest_dep_idx = sorted_dep_idx[0]\n",
    "\n",
    "        strongest_pos_label = pos_labels[strongest_pos_idx]\n",
    "        strongest_dep_label = dep_labels[strongest_dep_idx]\n",
    "\n",
    "        # Next 2-5 contributions for POS and DEP\n",
    "        top_pos_labels = [pos_labels[i] for i in sorted_pos_idx[1:top_n]]\n",
    "        top_dep_labels = [dep_labels[i] for i in sorted_dep_idx[1:top_n]]\n",
    "\n",
    "        strongest_pos_weight = pos_w[strongest_pos_idx].item()\n",
    "        strongest_dep_weight = dep_w[strongest_dep_idx].item()\n",
    "\n",
    "        # Record results for each atom\n",
    "        results.append({\n",
    "            'atom': atom,\n",
    "            'strongest_pos_label': strongest_pos_label,\n",
    "            'strongest_pos_weight': strongest_pos_weight,\n",
    "            'strongest_dep_label': strongest_dep_label,\n",
    "            'strongest_dep_weight': strongest_dep_weight,\n",
    "            'other_pos_labels': ','.join(top_pos_labels),\n",
    "            'other_dep_labels': ','.join(top_dep_labels)\n",
    "        })\n",
    "\n",
    "    return pd.DataFrame(results)"
   ]
  },
  {
   "cell_type": "code",
   "execution_count": 22,
   "metadata": {},
   "outputs": [
    {
     "data": {
      "text/html": [
       "<div>\n",
       "<style scoped>\n",
       "    .dataframe tbody tr th:only-of-type {\n",
       "        vertical-align: middle;\n",
       "    }\n",
       "\n",
       "    .dataframe tbody tr th {\n",
       "        vertical-align: top;\n",
       "    }\n",
       "\n",
       "    .dataframe thead th {\n",
       "        text-align: right;\n",
       "    }\n",
       "</style>\n",
       "<table border=\"1\" class=\"dataframe\">\n",
       "  <thead>\n",
       "    <tr style=\"text-align: right;\">\n",
       "      <th></th>\n",
       "      <th>atom</th>\n",
       "      <th>strongest_pos_label</th>\n",
       "      <th>strongest_pos_weight</th>\n",
       "      <th>strongest_dep_label</th>\n",
       "      <th>strongest_dep_weight</th>\n",
       "      <th>other_pos_labels</th>\n",
       "      <th>other_dep_labels</th>\n",
       "    </tr>\n",
       "  </thead>\n",
       "  <tbody>\n",
       "    <tr>\n",
       "      <th>0</th>\n",
       "      <td>0</td>\n",
       "      <td>PROPN</td>\n",
       "      <td>0.761199</td>\n",
       "      <td>acl:relcl</td>\n",
       "      <td>-0.783797</td>\n",
       "      <td>ADJ,ADP,NOUN,VERB</td>\n",
       "      <td>ccomp,nmod:unmarked,amod,det</td>\n",
       "    </tr>\n",
       "    <tr>\n",
       "      <th>1</th>\n",
       "      <td>1</td>\n",
       "      <td>PROPN</td>\n",
       "      <td>0.513962</td>\n",
       "      <td>amod</td>\n",
       "      <td>-0.503274</td>\n",
       "      <td>AUX,ADP,NUM,ADJ</td>\n",
       "      <td>nmod:poss,compound,obl:unmarked,aux:pass</td>\n",
       "    </tr>\n",
       "    <tr>\n",
       "      <th>2</th>\n",
       "      <td>2</td>\n",
       "      <td>ADP</td>\n",
       "      <td>0.653664</td>\n",
       "      <td>aux</td>\n",
       "      <td>-0.872410</td>\n",
       "      <td>PRON,PART,ADJ,CCONJ</td>\n",
       "      <td>cc,case,iobj,nsubj:outer</td>\n",
       "    </tr>\n",
       "    <tr>\n",
       "      <th>3</th>\n",
       "      <td>3</td>\n",
       "      <td>PROPN</td>\n",
       "      <td>-0.680083</td>\n",
       "      <td>appos</td>\n",
       "      <td>-0.867947</td>\n",
       "      <td>PRON,NUM,CCONJ,NOUN</td>\n",
       "      <td>nsubj:pass,nmod,nmod:poss,nsubj:outer</td>\n",
       "    </tr>\n",
       "    <tr>\n",
       "      <th>4</th>\n",
       "      <td>4</td>\n",
       "      <td>PROPN</td>\n",
       "      <td>-0.926013</td>\n",
       "      <td>fixed</td>\n",
       "      <td>-1.024119</td>\n",
       "      <td>ADV,AUX,NUM,SCONJ</td>\n",
       "      <td>punct,aux,obl:agent,mark</td>\n",
       "    </tr>\n",
       "    <tr>\n",
       "      <th>5</th>\n",
       "      <td>5</td>\n",
       "      <td>CCONJ</td>\n",
       "      <td>0.583838</td>\n",
       "      <td>advmod</td>\n",
       "      <td>-0.639914</td>\n",
       "      <td>AUX,ADV,PART,PROPN</td>\n",
       "      <td>cc,aux:pass,acl:relcl,acl</td>\n",
       "    </tr>\n",
       "    <tr>\n",
       "      <th>6</th>\n",
       "      <td>6</td>\n",
       "      <td>PUNCT</td>\n",
       "      <td>0.560016</td>\n",
       "      <td>list</td>\n",
       "      <td>-0.525888</td>\n",
       "      <td>VERB,DET,PROPN,PART</td>\n",
       "      <td>obl:unmarked,orphan,nsubj:pass,punct</td>\n",
       "    </tr>\n",
       "    <tr>\n",
       "      <th>7</th>\n",
       "      <td>7</td>\n",
       "      <td>NUM</td>\n",
       "      <td>0.821148</td>\n",
       "      <td>acl</td>\n",
       "      <td>-0.976062</td>\n",
       "      <td>PRON,DET,PROPN,ADP</td>\n",
       "      <td>acl:relcl,compound:prt,obl:agent,cc</td>\n",
       "    </tr>\n",
       "    <tr>\n",
       "      <th>8</th>\n",
       "      <td>8</td>\n",
       "      <td>PART</td>\n",
       "      <td>-0.621937</td>\n",
       "      <td>fixed</td>\n",
       "      <td>-0.629977</td>\n",
       "      <td>SCONJ,DET,AUX,CCONJ</td>\n",
       "      <td>list,iobj,dep,obl:unmarked</td>\n",
       "    </tr>\n",
       "    <tr>\n",
       "      <th>9</th>\n",
       "      <td>9</td>\n",
       "      <td>AUX</td>\n",
       "      <td>-0.604673</td>\n",
       "      <td>iobj</td>\n",
       "      <td>0.692168</td>\n",
       "      <td>PROPN,SCONJ,PRON,PUNCT</td>\n",
       "      <td>cop,mark,nmod,discourse</td>\n",
       "    </tr>\n",
       "  </tbody>\n",
       "</table>\n",
       "</div>"
      ],
      "text/plain": [
       "   atom strongest_pos_label  strongest_pos_weight strongest_dep_label  \\\n",
       "0     0               PROPN              0.761199           acl:relcl   \n",
       "1     1               PROPN              0.513962                amod   \n",
       "2     2                 ADP              0.653664                 aux   \n",
       "3     3               PROPN             -0.680083               appos   \n",
       "4     4               PROPN             -0.926013               fixed   \n",
       "5     5               CCONJ              0.583838              advmod   \n",
       "6     6               PUNCT              0.560016                list   \n",
       "7     7                 NUM              0.821148                 acl   \n",
       "8     8                PART             -0.621937               fixed   \n",
       "9     9                 AUX             -0.604673                iobj   \n",
       "\n",
       "   strongest_dep_weight        other_pos_labels  \\\n",
       "0             -0.783797       ADJ,ADP,NOUN,VERB   \n",
       "1             -0.503274         AUX,ADP,NUM,ADJ   \n",
       "2             -0.872410     PRON,PART,ADJ,CCONJ   \n",
       "3             -0.867947     PRON,NUM,CCONJ,NOUN   \n",
       "4             -1.024119       ADV,AUX,NUM,SCONJ   \n",
       "5             -0.639914      AUX,ADV,PART,PROPN   \n",
       "6             -0.525888     VERB,DET,PROPN,PART   \n",
       "7             -0.976062      PRON,DET,PROPN,ADP   \n",
       "8             -0.629977     SCONJ,DET,AUX,CCONJ   \n",
       "9              0.692168  PROPN,SCONJ,PRON,PUNCT   \n",
       "\n",
       "                           other_dep_labels  \n",
       "0              ccomp,nmod:unmarked,amod,det  \n",
       "1  nmod:poss,compound,obl:unmarked,aux:pass  \n",
       "2                  cc,case,iobj,nsubj:outer  \n",
       "3     nsubj:pass,nmod,nmod:poss,nsubj:outer  \n",
       "4                  punct,aux,obl:agent,mark  \n",
       "5                 cc,aux:pass,acl:relcl,acl  \n",
       "6      obl:unmarked,orphan,nsubj:pass,punct  \n",
       "7       acl:relcl,compound:prt,obl:agent,cc  \n",
       "8                list,iobj,dep,obl:unmarked  \n",
       "9                   cop,mark,nmod,discourse  "
      ]
     },
     "execution_count": 22,
     "metadata": {},
     "output_type": "execute_result"
    }
   ],
   "source": [
    "atom_df = top_and_other_contributions_per_atom(model, le_pos.classes_, le_dep.classes_)\n",
    "atom_df.head(10)"
   ]
  },
  {
   "cell_type": "code",
   "execution_count": 23,
   "metadata": {},
   "outputs": [
    {
     "data": {
      "image/png": "[encoded data removed]",
      "text/plain": [
       "<Figure size 1200x800 with 2 Axes>"
      ]
     },
     "metadata": {},
     "output_type": "display_data"
    }
   ],
   "source": [
    "def plot_atom_pos_heatmap(model, pos_labels):\n",
    "    pos_weights = model.pos_classifier.weight.detach().cpu().numpy()  # Shape [k, num_pos]\n",
    "\n",
    "    heatmap_data = pd.DataFrame(pos_weights.T, columns=pos_labels)\n",
    "\n",
    "    plt.figure(figsize=(12, 8))\n",
    "    sns.heatmap(heatmap_data, cmap='coolwarm', annot=False, cbar=True, linewidths=0.5)\n",
    "    plt.title('Atom Contributions to POS Labels', fontsize=16)\n",
    "    plt.xlabel('POS Labels', fontsize=14)\n",
    "    plt.ylabel('Atoms', fontsize=14)\n",
    "    plt.show()\n",
    "\n",
    "plot_atom_pos_heatmap(model, le_pos.classes_)"
   ]
  }
 ],
 "metadata": {
  "colab": {
   "provenance": []
  },
  "kernelspec": {
   "display_name": "Python 3 (ipykernel)",
   "language": "python",
   "name": "python3"
  },
  "language_info": {
   "codemirror_mode": {
    "name": "ipython",
    "version": 3
   },
   "file_extension": ".py",
   "mimetype": "text/x-python",
   "name": "python",
   "nbconvert_exporter": "python",
   "pygments_lexer": "ipython3",
   "version": "3.13.3"
  },
  "widgets": {
   "application/vnd.jupyter.widget-state+json": {
    "059efd90469b40b7902021b5c9b7ffe4": {
     "model_module": "@jupyter-widgets/controls",
     "model_module_version": "1.5.0",
     "model_name": "HBoxModel",
     "state": {
      "_dom_classes": [],
      "_model_module": "@jupyter-widgets/controls",
      "_model_module_version": "1.5.0",
      "_model_name": "HBoxModel",
      "_view_count": null,
      "_view_module": "@jupyter-widgets/controls",
      "_view_module_version": "1.5.0",
      "_view_name": "HBoxView",
      "box_style": "",
      "children": [
       "IPY_MODEL_8b7a6abb0c3c4483b62403eef3b28e78",
       "IPY_MODEL_58243208c87c45c6be2b80fd42b0304f",
       "IPY_MODEL_b249c7cd630a440a9d1384b0e78e5166"
      ],
      "layout": "IPY_MODEL_f58a69854c0a4f3cbc6ec9848c372694"
     }
    },
    "0a8b0f82c6324bcd8929469301b3fa64": {
     "model_module": "@jupyter-widgets/base",
     "model_module_version": "1.2.0",
     "model_name": "LayoutModel",
     "state": {
      "_model_module": "@jupyter-widgets/base",
      "_model_module_version": "1.2.0",
      "_model_name": "LayoutModel",
      "_view_count": null,
      "_view_module": "@jupyter-widgets/base",
      "_view_module_version": "1.2.0",
      "_view_name": "LayoutView",
      "align_content": null,
      "align_items": null,
      "align_self": null,
      "border": null,
      "bottom": null,
      "display": null,
      "flex": null,
      "flex_flow": null,
      "grid_area": null,
      "grid_auto_columns": null,
      "grid_auto_flow": null,
      "grid_auto_rows": null,
      "grid_column": null,
      "grid_gap": null,
      "grid_row": null,
      "grid_template_areas": null,
      "grid_template_columns": null,
      "grid_template_rows": null,
      "height": null,
      "justify_content": null,
      "justify_items": null,
      "left": null,
      "margin": null,
      "max_height": null,
      "max_width": null,
      "min_height": null,
      "min_width": null,
      "object_fit": null,
      "object_position": null,
      "order": null,
      "overflow": null,
      "overflow_x": null,
      "overflow_y": null,
      "padding": null,
      "right": null,
      "top": null,
      "visibility": null,
      "width": null
     }
    },
    "0d795275e8364fcba722c558bbac784d": {
     "model_module": "@jupyter-widgets/controls",
     "model_module_version": "1.5.0",
     "model_name": "ProgressStyleModel",
     "state": {
      "_model_module": "@jupyter-widgets/controls",
      "_model_module_version": "1.5.0",
      "_model_name": "ProgressStyleModel",
      "_view_count": null,
      "_view_module": "@jupyter-widgets/base",
      "_view_module_version": "1.2.0",
      "_view_name": "StyleView",
      "bar_color": null,
      "description_width": ""
     }
    },
    "0db1958bb8e64c0ea189244d76988db9": {
     "model_module": "@jupyter-widgets/base",
     "model_module_version": "1.2.0",
     "model_name": "LayoutModel",
     "state": {
      "_model_module": "@jupyter-widgets/base",
      "_model_module_version": "1.2.0",
      "_model_name": "LayoutModel",
      "_view_count": null,
      "_view_module": "@jupyter-widgets/base",
      "_view_module_version": "1.2.0",
      "_view_name": "LayoutView",
      "align_content": null,
      "align_items": null,
      "align_self": null,
      "border": null,
      "bottom": null,
      "display": null,
      "flex": null,
      "flex_flow": null,
      "grid_area": null,
      "grid_auto_columns": null,
      "grid_auto_flow": null,
      "grid_auto_rows": null,
      "grid_column": null,
      "grid_gap": null,
      "grid_row": null,
      "grid_template_areas": null,
      "grid_template_columns": null,
      "grid_template_rows": null,
      "height": null,
      "justify_content": null,
      "justify_items": null,
      "left": null,
      "margin": null,
      "max_height": null,
      "max_width": null,
      "min_height": null,
      "min_width": null,
      "object_fit": null,
      "object_position": null,
      "order": null,
      "overflow": null,
      "overflow_x": null,
      "overflow_y": null,
      "padding": null,
      "right": null,
      "top": null,
      "visibility": null,
      "width": null
     }
    },
    "0ff97cfa2fba4521bc5e0941595ad4b8": {
     "model_module": "@jupyter-widgets/controls",
     "model_module_version": "1.5.0",
     "model_name": "DescriptionStyleModel",
     "state": {
      "_model_module": "@jupyter-widgets/controls",
      "_model_module_version": "1.5.0",
      "_model_name": "DescriptionStyleModel",
      "_view_count": null,
      "_view_module": "@jupyter-widgets/base",
      "_view_module_version": "1.2.0",
      "_view_name": "StyleView",
      "description_width": ""
     }
    },
    "121ec3c89a334c55a05e79a1b2c7dc57": {
     "model_module": "@jupyter-widgets/base",
     "model_module_version": "1.2.0",
     "model_name": "LayoutModel",
     "state": {
      "_model_module": "@jupyter-widgets/base",
      "_model_module_version": "1.2.0",
      "_model_name": "LayoutModel",
      "_view_count": null,
      "_view_module": "@jupyter-widgets/base",
      "_view_module_version": "1.2.0",
      "_view_name": "LayoutView",
      "align_content": null,
      "align_items": null,
      "align_self": null,
      "border": null,
      "bottom": null,
      "display": null,
      "flex": null,
      "flex_flow": null,
      "grid_area": null,
      "grid_auto_columns": null,
      "grid_auto_flow": null,
      "grid_auto_rows": null,
      "grid_column": null,
      "grid_gap": null,
      "grid_row": null,
      "grid_template_areas": null,
      "grid_template_columns": null,
      "grid_template_rows": null,
      "height": null,
      "justify_content": null,
      "justify_items": null,
      "left": null,
      "margin": null,
      "max_height": null,
      "max_width": null,
      "min_height": null,
      "min_width": null,
      "object_fit": null,
      "object_position": null,
      "order": null,
      "overflow": null,
      "overflow_x": null,
      "overflow_y": null,
      "padding": null,
      "right": null,
      "top": null,
      "visibility": null,
      "width": null
     }
    },
    "1c950d9c74bf4afcb0b67b63ee0d2de7": {
     "model_module": "@jupyter-widgets/controls",
     "model_module_version": "1.5.0",
     "model_name": "HBoxModel",
     "state": {
      "_dom_classes": [],
      "_model_module": "@jupyter-widgets/controls",
      "_model_module_version": "1.5.0",
      "_model_name": "HBoxModel",
      "_view_count": null,
      "_view_module": "@jupyter-widgets/controls",
      "_view_module_version": "1.5.0",
      "_view_name": "HBoxView",
      "box_style": "",
      "children": [
       "IPY_MODEL_81de851fd71349c78e5fe841d233fea4",
       "IPY_MODEL_63129024f91c482da46c9ac7094577ce",
       "IPY_MODEL_b006448de2cb4508b42df4ecd3fe5f8b"
      ],
      "layout": "IPY_MODEL_6d5a67caec6f4d01bdfe8347aa673112"
     }
    },
    "20a0c56070a34a57bfbf5644790825e3": {
     "model_module": "@jupyter-widgets/controls",
     "model_module_version": "1.5.0",
     "model_name": "HTMLModel",
     "state": {
      "_dom_classes": [],
      "_model_module": "@jupyter-widgets/controls",
      "_model_module_version": "1.5.0",
      "_model_name": "HTMLModel",
      "_view_count": null,
      "_view_module": "@jupyter-widgets/controls",
      "_view_module_version": "1.5.0",
      "_view_name": "HTMLView",
      "description": "",
      "description_tooltip": null,
      "layout": "IPY_MODEL_e1582f9f01524c06a22292748b25faa3",
      "placeholder": "​",
      "style": "IPY_MODEL_ccc1e152e6d046edac82397ba22c147e",
      "value": " 424k/? [00:00&lt;00:00, 18.0MB/s]"
     }
    },
    "3b19fe70c21b4f6193aef5bdf4314c1d": {
     "model_module": "@jupyter-widgets/base",
     "model_module_version": "1.2.0",
     "model_name": "LayoutModel",
     "state": {
      "_model_module": "@jupyter-widgets/base",
      "_model_module_version": "1.2.0",
      "_model_name": "LayoutModel",
      "_view_count": null,
      "_view_module": "@jupyter-widgets/base",
      "_view_module_version": "1.2.0",
      "_view_name": "LayoutView",
      "align_content": null,
      "align_items": null,
      "align_self": null,
      "border": null,
      "bottom": null,
      "display": null,
      "flex": null,
      "flex_flow": null,
      "grid_area": null,
      "grid_auto_columns": null,
      "grid_auto_flow": null,
      "grid_auto_rows": null,
      "grid_column": null,
      "grid_gap": null,
      "grid_row": null,
      "grid_template_areas": null,
      "grid_template_columns": null,
      "grid_template_rows": null,
      "height": null,
      "justify_content": null,
      "justify_items": null,
      "left": null,
      "margin": null,
      "max_height": null,
      "max_width": null,
      "min_height": null,
      "min_width": null,
      "object_fit": null,
      "object_position": null,
      "order": null,
      "overflow": null,
      "overflow_x": null,
      "overflow_y": null,
      "padding": null,
      "right": null,
      "top": null,
      "visibility": null,
      "width": null
     }
    },
    "3dae2255ce814f8d8e748b0bff6de5f6": {
     "model_module": "@jupyter-widgets/base",
     "model_module_version": "1.2.0",
     "model_name": "LayoutModel",
     "state": {
      "_model_module": "@jupyter-widgets/base",
      "_model_module_version": "1.2.0",
      "_model_name": "LayoutModel",
      "_view_count": null,
      "_view_module": "@jupyter-widgets/base",
      "_view_module_version": "1.2.0",
      "_view_name": "LayoutView",
      "align_content": null,
      "align_items": null,
      "align_self": null,
      "border": null,
      "bottom": null,
      "display": null,
      "flex": null,
      "flex_flow": null,
      "grid_area": null,
      "grid_auto_columns": null,
      "grid_auto_flow": null,
      "grid_auto_rows": null,
      "grid_column": null,
      "grid_gap": null,
      "grid_row": null,
      "grid_template_areas": null,
      "grid_template_columns": null,
      "grid_template_rows": null,
      "height": null,
      "justify_content": null,
      "justify_items": null,
      "left": null,
      "margin": null,
      "max_height": null,
      "max_width": null,
      "min_height": null,
      "min_width": null,
      "object_fit": null,
      "object_position": null,
      "order": null,
      "overflow": null,
      "overflow_x": null,
      "overflow_y": null,
      "padding": null,
      "right": null,
      "top": null,
      "visibility": null,
      "width": null
     }
    },
    "3e7a458b43e8477b8a6557b839699caf": {
     "model_module": "@jupyter-widgets/controls",
     "model_module_version": "1.5.0",
     "model_name": "HBoxModel",
     "state": {
      "_dom_classes": [],
      "_model_module": "@jupyter-widgets/controls",
      "_model_module_version": "1.5.0",
      "_model_name": "HBoxModel",
      "_view_count": null,
      "_view_module": "@jupyter-widgets/controls",
      "_view_module_version": "1.5.0",
      "_view_name": "HBoxView",
      "box_style": "",
      "children": [
       "IPY_MODEL_474ef1a806064bb49dcb34c223d4f95e",
       "IPY_MODEL_fc430d793af34d76b87cad97b499601c",
       "IPY_MODEL_6a1a78c312fc4557b63aeaa7f520265b"
      ],
      "layout": "IPY_MODEL_3b19fe70c21b4f6193aef5bdf4314c1d"
     }
    },
    "44dcec911c734f20836522fd428ed5a1": {
     "model_module": "@jupyter-widgets/controls",
     "model_module_version": "1.5.0",
     "model_name": "FloatProgressModel",
     "state": {
      "_dom_classes": [],
      "_model_module": "@jupyter-widgets/controls",
      "_model_module_version": "1.5.0",
      "_model_name": "FloatProgressModel",
      "_view_count": null,
      "_view_module": "@jupyter-widgets/controls",
      "_view_module_version": "1.5.0",
      "_view_name": "ProgressView",
      "bar_style": "success",
      "description": "",
      "description_tooltip": null,
      "layout": "IPY_MODEL_824389fafdcc4d6996da55884984b7fe",
      "max": 52554,
      "min": 0,
      "orientation": "horizontal",
      "style": "IPY_MODEL_0d795275e8364fcba722c558bbac784d",
      "value": 52554
     }
    },
    "474ef1a806064bb49dcb34c223d4f95e": {
     "model_module": "@jupyter-widgets/controls",
     "model_module_version": "1.5.0",
     "model_name": "HTMLModel",
     "state": {
      "_dom_classes": [],
      "_model_module": "@jupyter-widgets/controls",
      "_model_module_version": "1.5.0",
      "_model_name": "HTMLModel",
      "_view_count": null,
      "_view_module": "@jupyter-widgets/controls",
      "_view_module_version": "1.5.0",
      "_view_name": "HTMLView",
      "description": "",
      "description_tooltip": null,
      "layout": "IPY_MODEL_eebcc947f0424443b2333c62dc8fbf1e",
      "placeholder": "​",
      "style": "IPY_MODEL_0ff97cfa2fba4521bc5e0941595ad4b8",
      "value": "Downloading https://raw.githubusercontent.com/stanfordnlp/stanza-resources/main/resources_1.10.0.json: "
     }
    },
    "58243208c87c45c6be2b80fd42b0304f": {
     "model_module": "@jupyter-widgets/controls",
     "model_module_version": "1.5.0",
     "model_name": "FloatProgressModel",
     "state": {
      "_dom_classes": [],
      "_model_module": "@jupyter-widgets/controls",
      "_model_module_version": "1.5.0",
      "_model_name": "FloatProgressModel",
      "_view_count": null,
      "_view_module": "@jupyter-widgets/controls",
      "_view_module_version": "1.5.0",
      "_view_name": "ProgressView",
      "bar_style": "success",
      "description": "",
      "description_tooltip": null,
      "layout": "IPY_MODEL_b4a4e81d77894b97bbfbe758fa24caf3",
      "max": 52554,
      "min": 0,
      "orientation": "horizontal",
      "style": "IPY_MODEL_741779d00bd449d085d60253c531c515",
      "value": 52554
     }
    },
    "5de9bc5ac6594feab4fdae6f4f29f6ac": {
     "model_module": "@jupyter-widgets/controls",
     "model_module_version": "1.5.0",
     "model_name": "HTMLModel",
     "state": {
      "_dom_classes": [],
      "_model_module": "@jupyter-widgets/controls",
      "_model_module_version": "1.5.0",
      "_model_name": "HTMLModel",
      "_view_count": null,
      "_view_module": "@jupyter-widgets/controls",
      "_view_module_version": "1.5.0",
      "_view_name": "HTMLView",
      "description": "",
      "description_tooltip": null,
      "layout": "IPY_MODEL_3dae2255ce814f8d8e748b0bff6de5f6",
      "placeholder": "​",
      "style": "IPY_MODEL_8d4ce5b4bdda45c985e80c00b91be7fa",
      "value": " 424k/? [00:00&lt;00:00, 17.5MB/s]"
     }
    },
    "5e026def0b3b455a8f9025eeb6ee1b92": {
     "model_module": "@jupyter-widgets/controls",
     "model_module_version": "1.5.0",
     "model_name": "HTMLModel",
     "state": {
      "_dom_classes": [],
      "_model_module": "@jupyter-widgets/controls",
      "_model_module_version": "1.5.0",
      "_model_name": "HTMLModel",
      "_view_count": null,
      "_view_module": "@jupyter-widgets/controls",
      "_view_module_version": "1.5.0",
      "_view_name": "HTMLView",
      "description": "",
      "description_tooltip": null,
      "layout": "IPY_MODEL_9bc41f2f61244dc3ac3dfa88b1e8b271",
      "placeholder": "​",
      "style": "IPY_MODEL_dc297f854e054e32af42fe3a42195160",
      "value": "Downloading https://raw.githubusercontent.com/stanfordnlp/stanza-resources/main/resources_1.10.0.json: "
     }
    },
    "5f4aa45ac6c847889ad7391e397d3092": {
     "model_module": "@jupyter-widgets/base",
     "model_module_version": "1.2.0",
     "model_name": "LayoutModel",
     "state": {
      "_model_module": "@jupyter-widgets/base",
      "_model_module_version": "1.2.0",
      "_model_name": "LayoutModel",
      "_view_count": null,
      "_view_module": "@jupyter-widgets/base",
      "_view_module_version": "1.2.0",
      "_view_name": "LayoutView",
      "align_content": null,
      "align_items": null,
      "align_self": null,
      "border": null,
      "bottom": null,
      "display": null,
      "flex": null,
      "flex_flow": null,
      "grid_area": null,
      "grid_auto_columns": null,
      "grid_auto_flow": null,
      "grid_auto_rows": null,
      "grid_column": null,
      "grid_gap": null,
      "grid_row": null,
      "grid_template_areas": null,
      "grid_template_columns": null,
      "grid_template_rows": null,
      "height": null,
      "justify_content": null,
      "justify_items": null,
      "left": null,
      "margin": null,
      "max_height": null,
      "max_width": null,
      "min_height": null,
      "min_width": null,
      "object_fit": null,
      "object_position": null,
      "order": null,
      "overflow": null,
      "overflow_x": null,
      "overflow_y": null,
      "padding": null,
      "right": null,
      "top": null,
      "visibility": null,
      "width": null
     }
    },
    "63129024f91c482da46c9ac7094577ce": {
     "model_module": "@jupyter-widgets/controls",
     "model_module_version": "1.5.0",
     "model_name": "FloatProgressModel",
     "state": {
      "_dom_classes": [],
      "_model_module": "@jupyter-widgets/controls",
      "_model_module_version": "1.5.0",
      "_model_name": "FloatProgressModel",
      "_view_count": null,
      "_view_module": "@jupyter-widgets/controls",
      "_view_module_version": "1.5.0",
      "_view_name": "ProgressView",
      "bar_style": "success",
      "description": "",
      "description_tooltip": null,
      "layout": "IPY_MODEL_0a8b0f82c6324bcd8929469301b3fa64",
      "max": 526251983,
      "min": 0,
      "orientation": "horizontal",
      "style": "IPY_MODEL_f0cd440f98ab485f845a1e74d44b0426",
      "value": 526251983
     }
    },
    "63d92126944148d4b6bfca428b812c92": {
     "model_module": "@jupyter-widgets/controls",
     "model_module_version": "1.5.0",
     "model_name": "DescriptionStyleModel",
     "state": {
      "_model_module": "@jupyter-widgets/controls",
      "_model_module_version": "1.5.0",
      "_model_name": "DescriptionStyleModel",
      "_view_count": null,
      "_view_module": "@jupyter-widgets/base",
      "_view_module_version": "1.2.0",
      "_view_name": "StyleView",
      "description_width": ""
     }
    },
    "6a1a78c312fc4557b63aeaa7f520265b": {
     "model_module": "@jupyter-widgets/controls",
     "model_module_version": "1.5.0",
     "model_name": "HTMLModel",
     "state": {
      "_dom_classes": [],
      "_model_module": "@jupyter-widgets/controls",
      "_model_module_version": "1.5.0",
      "_model_name": "HTMLModel",
      "_view_count": null,
      "_view_module": "@jupyter-widgets/controls",
      "_view_module_version": "1.5.0",
      "_view_name": "HTMLView",
      "description": "",
      "description_tooltip": null,
      "layout": "IPY_MODEL_9ee2ee31d6544832bdd1ac654cf70a8c",
      "placeholder": "​",
      "style": "IPY_MODEL_72b0a66f4e5c4af9b04f06245350a92b",
      "value": " 424k/? [00:00&lt;00:00, 8.95MB/s]"
     }
    },
    "6d5a67caec6f4d01bdfe8347aa673112": {
     "model_module": "@jupyter-widgets/base",
     "model_module_version": "1.2.0",
     "model_name": "LayoutModel",
     "state": {
      "_model_module": "@jupyter-widgets/base",
      "_model_module_version": "1.2.0",
      "_model_name": "LayoutModel",
      "_view_count": null,
      "_view_module": "@jupyter-widgets/base",
      "_view_module_version": "1.2.0",
      "_view_name": "LayoutView",
      "align_content": null,
      "align_items": null,
      "align_self": null,
      "border": null,
      "bottom": null,
      "display": null,
      "flex": null,
      "flex_flow": null,
      "grid_area": null,
      "grid_auto_columns": null,
      "grid_auto_flow": null,
      "grid_auto_rows": null,
      "grid_column": null,
      "grid_gap": null,
      "grid_row": null,
      "grid_template_areas": null,
      "grid_template_columns": null,
      "grid_template_rows": null,
      "height": null,
      "justify_content": null,
      "justify_items": null,
      "left": null,
      "margin": null,
      "max_height": null,
      "max_width": null,
      "min_height": null,
      "min_width": null,
      "object_fit": null,
      "object_position": null,
      "order": null,
      "overflow": null,
      "overflow_x": null,
      "overflow_y": null,
      "padding": null,
      "right": null,
      "top": null,
      "visibility": null,
      "width": null
     }
    },
    "72b0a66f4e5c4af9b04f06245350a92b": {
     "model_module": "@jupyter-widgets/controls",
     "model_module_version": "1.5.0",
     "model_name": "DescriptionStyleModel",
     "state": {
      "_model_module": "@jupyter-widgets/controls",
      "_model_module_version": "1.5.0",
      "_model_name": "DescriptionStyleModel",
      "_view_count": null,
      "_view_module": "@jupyter-widgets/base",
      "_view_module_version": "1.2.0",
      "_view_name": "StyleView",
      "description_width": ""
     }
    },
    "741779d00bd449d085d60253c531c515": {
     "model_module": "@jupyter-widgets/controls",
     "model_module_version": "1.5.0",
     "model_name": "ProgressStyleModel",
     "state": {
      "_model_module": "@jupyter-widgets/controls",
      "_model_module_version": "1.5.0",
      "_model_name": "ProgressStyleModel",
      "_view_count": null,
      "_view_module": "@jupyter-widgets/base",
      "_view_module_version": "1.2.0",
      "_view_name": "StyleView",
      "bar_color": null,
      "description_width": ""
     }
    },
    "778843fdc46243bc99c48bd8d83c6f69": {
     "model_module": "@jupyter-widgets/controls",
     "model_module_version": "1.5.0",
     "model_name": "HBoxModel",
     "state": {
      "_dom_classes": [],
      "_model_module": "@jupyter-widgets/controls",
      "_model_module_version": "1.5.0",
      "_model_name": "HBoxModel",
      "_view_count": null,
      "_view_module": "@jupyter-widgets/controls",
      "_view_module_version": "1.5.0",
      "_view_name": "HBoxView",
      "box_style": "",
      "children": [
       "IPY_MODEL_5e026def0b3b455a8f9025eeb6ee1b92",
       "IPY_MODEL_44dcec911c734f20836522fd428ed5a1",
       "IPY_MODEL_20a0c56070a34a57bfbf5644790825e3"
      ],
      "layout": "IPY_MODEL_0db1958bb8e64c0ea189244d76988db9"
     }
    },
    "81de851fd71349c78e5fe841d233fea4": {
     "model_module": "@jupyter-widgets/controls",
     "model_module_version": "1.5.0",
     "model_name": "HTMLModel",
     "state": {
      "_dom_classes": [],
      "_model_module": "@jupyter-widgets/controls",
      "_model_module_version": "1.5.0",
      "_model_name": "HTMLModel",
      "_view_count": null,
      "_view_module": "@jupyter-widgets/controls",
      "_view_module_version": "1.5.0",
      "_view_name": "HTMLView",
      "description": "",
      "description_tooltip": null,
      "layout": "IPY_MODEL_cc8a3a4cc9a64b78807e1993c45af211",
      "placeholder": "​",
      "style": "IPY_MODEL_f300528d14fe46849796cf17bad53fd9",
      "value": "Downloading https://huggingface.co/stanfordnlp/stanza-en/resolve/v1.10.0/models/default.zip: 100%"
     }
    },
    "824389fafdcc4d6996da55884984b7fe": {
     "model_module": "@jupyter-widgets/base",
     "model_module_version": "1.2.0",
     "model_name": "LayoutModel",
     "state": {
      "_model_module": "@jupyter-widgets/base",
      "_model_module_version": "1.2.0",
      "_model_name": "LayoutModel",
      "_view_count": null,
      "_view_module": "@jupyter-widgets/base",
      "_view_module_version": "1.2.0",
      "_view_name": "LayoutView",
      "align_content": null,
      "align_items": null,
      "align_self": null,
      "border": null,
      "bottom": null,
      "display": null,
      "flex": null,
      "flex_flow": null,
      "grid_area": null,
      "grid_auto_columns": null,
      "grid_auto_flow": null,
      "grid_auto_rows": null,
      "grid_column": null,
      "grid_gap": null,
      "grid_row": null,
      "grid_template_areas": null,
      "grid_template_columns": null,
      "grid_template_rows": null,
      "height": null,
      "justify_content": null,
      "justify_items": null,
      "left": null,
      "margin": null,
      "max_height": null,
      "max_width": null,
      "min_height": null,
      "min_width": null,
      "object_fit": null,
      "object_position": null,
      "order": null,
      "overflow": null,
      "overflow_x": null,
      "overflow_y": null,
      "padding": null,
      "right": null,
      "top": null,
      "visibility": null,
      "width": null
     }
    },
    "8b7a6abb0c3c4483b62403eef3b28e78": {
     "model_module": "@jupyter-widgets/controls",
     "model_module_version": "1.5.0",
     "model_name": "HTMLModel",
     "state": {
      "_dom_classes": [],
      "_model_module": "@jupyter-widgets/controls",
      "_model_module_version": "1.5.0",
      "_model_name": "HTMLModel",
      "_view_count": null,
      "_view_module": "@jupyter-widgets/controls",
      "_view_module_version": "1.5.0",
      "_view_name": "HTMLView",
      "description": "",
      "description_tooltip": null,
      "layout": "IPY_MODEL_9effb41c74f54a73992070897522a8d1",
      "placeholder": "​",
      "style": "IPY_MODEL_b8096c686d2245c896576e3678dcdeab",
      "value": "Downloading https://raw.githubusercontent.com/stanfordnlp/stanza-resources/main/resources_1.10.0.json: "
     }
    },
    "8d4ce5b4bdda45c985e80c00b91be7fa": {
     "model_module": "@jupyter-widgets/controls",
     "model_module_version": "1.5.0",
     "model_name": "DescriptionStyleModel",
     "state": {
      "_model_module": "@jupyter-widgets/controls",
      "_model_module_version": "1.5.0",
      "_model_name": "DescriptionStyleModel",
      "_view_count": null,
      "_view_module": "@jupyter-widgets/base",
      "_view_module_version": "1.2.0",
      "_view_name": "StyleView",
      "description_width": ""
     }
    },
    "9bc41f2f61244dc3ac3dfa88b1e8b271": {
     "model_module": "@jupyter-widgets/base",
     "model_module_version": "1.2.0",
     "model_name": "LayoutModel",
     "state": {
      "_model_module": "@jupyter-widgets/base",
      "_model_module_version": "1.2.0",
      "_model_name": "LayoutModel",
      "_view_count": null,
      "_view_module": "@jupyter-widgets/base",
      "_view_module_version": "1.2.0",
      "_view_name": "LayoutView",
      "align_content": null,
      "align_items": null,
      "align_self": null,
      "border": null,
      "bottom": null,
      "display": null,
      "flex": null,
      "flex_flow": null,
      "grid_area": null,
      "grid_auto_columns": null,
      "grid_auto_flow": null,
      "grid_auto_rows": null,
      "grid_column": null,
      "grid_gap": null,
      "grid_row": null,
      "grid_template_areas": null,
      "grid_template_columns": null,
      "grid_template_rows": null,
      "height": null,
      "justify_content": null,
      "justify_items": null,
      "left": null,
      "margin": null,
      "max_height": null,
      "max_width": null,
      "min_height": null,
      "min_width": null,
      "object_fit": null,
      "object_position": null,
      "order": null,
      "overflow": null,
      "overflow_x": null,
      "overflow_y": null,
      "padding": null,
      "right": null,
      "top": null,
      "visibility": null,
      "width": null
     }
    },
    "9c2586decd8e496bbe64056b58f5aa2d": {
     "model_module": "@jupyter-widgets/base",
     "model_module_version": "1.2.0",
     "model_name": "LayoutModel",
     "state": {
      "_model_module": "@jupyter-widgets/base",
      "_model_module_version": "1.2.0",
      "_model_name": "LayoutModel",
      "_view_count": null,
      "_view_module": "@jupyter-widgets/base",
      "_view_module_version": "1.2.0",
      "_view_name": "LayoutView",
      "align_content": null,
      "align_items": null,
      "align_self": null,
      "border": null,
      "bottom": null,
      "display": null,
      "flex": null,
      "flex_flow": null,
      "grid_area": null,
      "grid_auto_columns": null,
      "grid_auto_flow": null,
      "grid_auto_rows": null,
      "grid_column": null,
      "grid_gap": null,
      "grid_row": null,
      "grid_template_areas": null,
      "grid_template_columns": null,
      "grid_template_rows": null,
      "height": null,
      "justify_content": null,
      "justify_items": null,
      "left": null,
      "margin": null,
      "max_height": null,
      "max_width": null,
      "min_height": null,
      "min_width": null,
      "object_fit": null,
      "object_position": null,
      "order": null,
      "overflow": null,
      "overflow_x": null,
      "overflow_y": null,
      "padding": null,
      "right": null,
      "top": null,
      "visibility": null,
      "width": null
     }
    },
    "9ee2ee31d6544832bdd1ac654cf70a8c": {
     "model_module": "@jupyter-widgets/base",
     "model_module_version": "1.2.0",
     "model_name": "LayoutModel",
     "state": {
      "_model_module": "@jupyter-widgets/base",
      "_model_module_version": "1.2.0",
      "_model_name": "LayoutModel",
      "_view_count": null,
      "_view_module": "@jupyter-widgets/base",
      "_view_module_version": "1.2.0",
      "_view_name": "LayoutView",
      "align_content": null,
      "align_items": null,
      "align_self": null,
      "border": null,
      "bottom": null,
      "display": null,
      "flex": null,
      "flex_flow": null,
      "grid_area": null,
      "grid_auto_columns": null,
      "grid_auto_flow": null,
      "grid_auto_rows": null,
      "grid_column": null,
      "grid_gap": null,
      "grid_row": null,
      "grid_template_areas": null,
      "grid_template_columns": null,
      "grid_template_rows": null,
      "height": null,
      "justify_content": null,
      "justify_items": null,
      "left": null,
      "margin": null,
      "max_height": null,
      "max_width": null,
      "min_height": null,
      "min_width": null,
      "object_fit": null,
      "object_position": null,
      "order": null,
      "overflow": null,
      "overflow_x": null,
      "overflow_y": null,
      "padding": null,
      "right": null,
      "top": null,
      "visibility": null,
      "width": null
     }
    },
    "9effb41c74f54a73992070897522a8d1": {
     "model_module": "@jupyter-widgets/base",
     "model_module_version": "1.2.0",
     "model_name": "LayoutModel",
     "state": {
      "_model_module": "@jupyter-widgets/base",
      "_model_module_version": "1.2.0",
      "_model_name": "LayoutModel",
      "_view_count": null,
      "_view_module": "@jupyter-widgets/base",
      "_view_module_version": "1.2.0",
      "_view_name": "LayoutView",
      "align_content": null,
      "align_items": null,
      "align_self": null,
      "border": null,
      "bottom": null,
      "display": null,
      "flex": null,
      "flex_flow": null,
      "grid_area": null,
      "grid_auto_columns": null,
      "grid_auto_flow": null,
      "grid_auto_rows": null,
      "grid_column": null,
      "grid_gap": null,
      "grid_row": null,
      "grid_template_areas": null,
      "grid_template_columns": null,
      "grid_template_rows": null,
      "height": null,
      "justify_content": null,
      "justify_items": null,
      "left": null,
      "margin": null,
      "max_height": null,
      "max_width": null,
      "min_height": null,
      "min_width": null,
      "object_fit": null,
      "object_position": null,
      "order": null,
      "overflow": null,
      "overflow_x": null,
      "overflow_y": null,
      "padding": null,
      "right": null,
      "top": null,
      "visibility": null,
      "width": null
     }
    },
    "a1d999f7545648d8bbf52fa83e4cd8bd": {
     "model_module": "@jupyter-widgets/controls",
     "model_module_version": "1.5.0",
     "model_name": "ProgressStyleModel",
     "state": {
      "_model_module": "@jupyter-widgets/controls",
      "_model_module_version": "1.5.0",
      "_model_name": "ProgressStyleModel",
      "_view_count": null,
      "_view_module": "@jupyter-widgets/base",
      "_view_module_version": "1.2.0",
      "_view_name": "StyleView",
      "bar_color": null,
      "description_width": ""
     }
    },
    "a6de92e469474824a8d259d863ea90e4": {
     "model_module": "@jupyter-widgets/base",
     "model_module_version": "1.2.0",
     "model_name": "LayoutModel",
     "state": {
      "_model_module": "@jupyter-widgets/base",
      "_model_module_version": "1.2.0",
      "_model_name": "LayoutModel",
      "_view_count": null,
      "_view_module": "@jupyter-widgets/base",
      "_view_module_version": "1.2.0",
      "_view_name": "LayoutView",
      "align_content": null,
      "align_items": null,
      "align_self": null,
      "border": null,
      "bottom": null,
      "display": null,
      "flex": null,
      "flex_flow": null,
      "grid_area": null,
      "grid_auto_columns": null,
      "grid_auto_flow": null,
      "grid_auto_rows": null,
      "grid_column": null,
      "grid_gap": null,
      "grid_row": null,
      "grid_template_areas": null,
      "grid_template_columns": null,
      "grid_template_rows": null,
      "height": null,
      "justify_content": null,
      "justify_items": null,
      "left": null,
      "margin": null,
      "max_height": null,
      "max_width": null,
      "min_height": null,
      "min_width": null,
      "object_fit": null,
      "object_position": null,
      "order": null,
      "overflow": null,
      "overflow_x": null,
      "overflow_y": null,
      "padding": null,
      "right": null,
      "top": null,
      "visibility": null,
      "width": null
     }
    },
    "b006448de2cb4508b42df4ecd3fe5f8b": {
     "model_module": "@jupyter-widgets/controls",
     "model_module_version": "1.5.0",
     "model_name": "HTMLModel",
     "state": {
      "_dom_classes": [],
      "_model_module": "@jupyter-widgets/controls",
      "_model_module_version": "1.5.0",
      "_model_name": "HTMLModel",
      "_view_count": null,
      "_view_module": "@jupyter-widgets/controls",
      "_view_module_version": "1.5.0",
      "_view_name": "HTMLView",
      "description": "",
      "description_tooltip": null,
      "layout": "IPY_MODEL_a6de92e469474824a8d259d863ea90e4",
      "placeholder": "​",
      "style": "IPY_MODEL_c177a3538ed641d795c1d9fb391fd8cb",
      "value": " 526M/526M [00:05&lt;00:00, 152MB/s]"
     }
    },
    "b249c7cd630a440a9d1384b0e78e5166": {
     "model_module": "@jupyter-widgets/controls",
     "model_module_version": "1.5.0",
     "model_name": "HTMLModel",
     "state": {
      "_dom_classes": [],
      "_model_module": "@jupyter-widgets/controls",
      "_model_module_version": "1.5.0",
      "_model_name": "HTMLModel",
      "_view_count": null,
      "_view_module": "@jupyter-widgets/controls",
      "_view_module_version": "1.5.0",
      "_view_name": "HTMLView",
      "description": "",
      "description_tooltip": null,
      "layout": "IPY_MODEL_c67e994f04db4045b32780660d85a77a",
      "placeholder": "​",
      "style": "IPY_MODEL_63d92126944148d4b6bfca428b812c92",
      "value": " 424k/? [00:00&lt;00:00, 1.16MB/s]"
     }
    },
    "b4a4e81d77894b97bbfbe758fa24caf3": {
     "model_module": "@jupyter-widgets/base",
     "model_module_version": "1.2.0",
     "model_name": "LayoutModel",
     "state": {
      "_model_module": "@jupyter-widgets/base",
      "_model_module_version": "1.2.0",
      "_model_name": "LayoutModel",
      "_view_count": null,
      "_view_module": "@jupyter-widgets/base",
      "_view_module_version": "1.2.0",
      "_view_name": "LayoutView",
      "align_content": null,
      "align_items": null,
      "align_self": null,
      "border": null,
      "bottom": null,
      "display": null,
      "flex": null,
      "flex_flow": null,
      "grid_area": null,
      "grid_auto_columns": null,
      "grid_auto_flow": null,
      "grid_auto_rows": null,
      "grid_column": null,
      "grid_gap": null,
      "grid_row": null,
      "grid_template_areas": null,
      "grid_template_columns": null,
      "grid_template_rows": null,
      "height": null,
      "justify_content": null,
      "justify_items": null,
      "left": null,
      "margin": null,
      "max_height": null,
      "max_width": null,
      "min_height": null,
      "min_width": null,
      "object_fit": null,
      "object_position": null,
      "order": null,
      "overflow": null,
      "overflow_x": null,
      "overflow_y": null,
      "padding": null,
      "right": null,
      "top": null,
      "visibility": null,
      "width": null
     }
    },
    "b8096c686d2245c896576e3678dcdeab": {
     "model_module": "@jupyter-widgets/controls",
     "model_module_version": "1.5.0",
     "model_name": "DescriptionStyleModel",
     "state": {
      "_model_module": "@jupyter-widgets/controls",
      "_model_module_version": "1.5.0",
      "_model_name": "DescriptionStyleModel",
      "_view_count": null,
      "_view_module": "@jupyter-widgets/base",
      "_view_module_version": "1.2.0",
      "_view_name": "StyleView",
      "description_width": ""
     }
    },
    "b99dc4d3a86a4c1cb4869a231fd014c4": {
     "model_module": "@jupyter-widgets/controls",
     "model_module_version": "1.5.0",
     "model_name": "ProgressStyleModel",
     "state": {
      "_model_module": "@jupyter-widgets/controls",
      "_model_module_version": "1.5.0",
      "_model_name": "ProgressStyleModel",
      "_view_count": null,
      "_view_module": "@jupyter-widgets/base",
      "_view_module_version": "1.2.0",
      "_view_name": "StyleView",
      "bar_color": null,
      "description_width": ""
     }
    },
    "c177a3538ed641d795c1d9fb391fd8cb": {
     "model_module": "@jupyter-widgets/controls",
     "model_module_version": "1.5.0",
     "model_name": "DescriptionStyleModel",
     "state": {
      "_model_module": "@jupyter-widgets/controls",
      "_model_module_version": "1.5.0",
      "_model_name": "DescriptionStyleModel",
      "_view_count": null,
      "_view_module": "@jupyter-widgets/base",
      "_view_module_version": "1.2.0",
      "_view_name": "StyleView",
      "description_width": ""
     }
    },
    "c4f8807701bb481295481e23b6ce1322": {
     "model_module": "@jupyter-widgets/controls",
     "model_module_version": "1.5.0",
     "model_name": "FloatProgressModel",
     "state": {
      "_dom_classes": [],
      "_model_module": "@jupyter-widgets/controls",
      "_model_module_version": "1.5.0",
      "_model_name": "FloatProgressModel",
      "_view_count": null,
      "_view_module": "@jupyter-widgets/controls",
      "_view_module_version": "1.5.0",
      "_view_name": "ProgressView",
      "bar_style": "success",
      "description": "",
      "description_tooltip": null,
      "layout": "IPY_MODEL_9c2586decd8e496bbe64056b58f5aa2d",
      "max": 52554,
      "min": 0,
      "orientation": "horizontal",
      "style": "IPY_MODEL_a1d999f7545648d8bbf52fa83e4cd8bd",
      "value": 52554
     }
    },
    "c67e994f04db4045b32780660d85a77a": {
     "model_module": "@jupyter-widgets/base",
     "model_module_version": "1.2.0",
     "model_name": "LayoutModel",
     "state": {
      "_model_module": "@jupyter-widgets/base",
      "_model_module_version": "1.2.0",
      "_model_name": "LayoutModel",
      "_view_count": null,
      "_view_module": "@jupyter-widgets/base",
      "_view_module_version": "1.2.0",
      "_view_name": "LayoutView",
      "align_content": null,
      "align_items": null,
      "align_self": null,
      "border": null,
      "bottom": null,
      "display": null,
      "flex": null,
      "flex_flow": null,
      "grid_area": null,
      "grid_auto_columns": null,
      "grid_auto_flow": null,
      "grid_auto_rows": null,
      "grid_column": null,
      "grid_gap": null,
      "grid_row": null,
      "grid_template_areas": null,
      "grid_template_columns": null,
      "grid_template_rows": null,
      "height": null,
      "justify_content": null,
      "justify_items": null,
      "left": null,
      "margin": null,
      "max_height": null,
      "max_width": null,
      "min_height": null,
      "min_width": null,
      "object_fit": null,
      "object_position": null,
      "order": null,
      "overflow": null,
      "overflow_x": null,
      "overflow_y": null,
      "padding": null,
      "right": null,
      "top": null,
      "visibility": null,
      "width": null
     }
    },
    "cc8a3a4cc9a64b78807e1993c45af211": {
     "model_module": "@jupyter-widgets/base",
     "model_module_version": "1.2.0",
     "model_name": "LayoutModel",
     "state": {
      "_model_module": "@jupyter-widgets/base",
      "_model_module_version": "1.2.0",
      "_model_name": "LayoutModel",
      "_view_count": null,
      "_view_module": "@jupyter-widgets/base",
      "_view_module_version": "1.2.0",
      "_view_name": "LayoutView",
      "align_content": null,
      "align_items": null,
      "align_self": null,
      "border": null,
      "bottom": null,
      "display": null,
      "flex": null,
      "flex_flow": null,
      "grid_area": null,
      "grid_auto_columns": null,
      "grid_auto_flow": null,
      "grid_auto_rows": null,
      "grid_column": null,
      "grid_gap": null,
      "grid_row": null,
      "grid_template_areas": null,
      "grid_template_columns": null,
      "grid_template_rows": null,
      "height": null,
      "justify_content": null,
      "justify_items": null,
      "left": null,
      "margin": null,
      "max_height": null,
      "max_width": null,
      "min_height": null,
      "min_width": null,
      "object_fit": null,
      "object_position": null,
      "order": null,
      "overflow": null,
      "overflow_x": null,
      "overflow_y": null,
      "padding": null,
      "right": null,
      "top": null,
      "visibility": null,
      "width": null
     }
    },
    "ccc1e152e6d046edac82397ba22c147e": {
     "model_module": "@jupyter-widgets/controls",
     "model_module_version": "1.5.0",
     "model_name": "DescriptionStyleModel",
     "state": {
      "_model_module": "@jupyter-widgets/controls",
      "_model_module_version": "1.5.0",
      "_model_name": "DescriptionStyleModel",
      "_view_count": null,
      "_view_module": "@jupyter-widgets/base",
      "_view_module_version": "1.2.0",
      "_view_name": "StyleView",
      "description_width": ""
     }
    },
    "d68ce4c5054d44f6aafc881ff0b1f7fc": {
     "model_module": "@jupyter-widgets/controls",
     "model_module_version": "1.5.0",
     "model_name": "DescriptionStyleModel",
     "state": {
      "_model_module": "@jupyter-widgets/controls",
      "_model_module_version": "1.5.0",
      "_model_name": "DescriptionStyleModel",
      "_view_count": null,
      "_view_module": "@jupyter-widgets/base",
      "_view_module_version": "1.2.0",
      "_view_name": "StyleView",
      "description_width": ""
     }
    },
    "d815a3c5ee4d4e82a6273b5cbe3de72c": {
     "model_module": "@jupyter-widgets/controls",
     "model_module_version": "1.5.0",
     "model_name": "HBoxModel",
     "state": {
      "_dom_classes": [],
      "_model_module": "@jupyter-widgets/controls",
      "_model_module_version": "1.5.0",
      "_model_name": "HBoxModel",
      "_view_count": null,
      "_view_module": "@jupyter-widgets/controls",
      "_view_module_version": "1.5.0",
      "_view_name": "HBoxView",
      "box_style": "",
      "children": [
       "IPY_MODEL_dcc18fb9003d465faa8f6565ee5ede5b",
       "IPY_MODEL_c4f8807701bb481295481e23b6ce1322",
       "IPY_MODEL_5de9bc5ac6594feab4fdae6f4f29f6ac"
      ],
      "layout": "IPY_MODEL_f38603b4db2c436c9bf590ae52d0f980"
     }
    },
    "dc297f854e054e32af42fe3a42195160": {
     "model_module": "@jupyter-widgets/controls",
     "model_module_version": "1.5.0",
     "model_name": "DescriptionStyleModel",
     "state": {
      "_model_module": "@jupyter-widgets/controls",
      "_model_module_version": "1.5.0",
      "_model_name": "DescriptionStyleModel",
      "_view_count": null,
      "_view_module": "@jupyter-widgets/base",
      "_view_module_version": "1.2.0",
      "_view_name": "StyleView",
      "description_width": ""
     }
    },
    "dcc18fb9003d465faa8f6565ee5ede5b": {
     "model_module": "@jupyter-widgets/controls",
     "model_module_version": "1.5.0",
     "model_name": "HTMLModel",
     "state": {
      "_dom_classes": [],
      "_model_module": "@jupyter-widgets/controls",
      "_model_module_version": "1.5.0",
      "_model_name": "HTMLModel",
      "_view_count": null,
      "_view_module": "@jupyter-widgets/controls",
      "_view_module_version": "1.5.0",
      "_view_name": "HTMLView",
      "description": "",
      "description_tooltip": null,
      "layout": "IPY_MODEL_121ec3c89a334c55a05e79a1b2c7dc57",
      "placeholder": "​",
      "style": "IPY_MODEL_d68ce4c5054d44f6aafc881ff0b1f7fc",
      "value": "Downloading https://raw.githubusercontent.com/stanfordnlp/stanza-resources/main/resources_1.10.0.json: "
     }
    },
    "e1582f9f01524c06a22292748b25faa3": {
     "model_module": "@jupyter-widgets/base",
     "model_module_version": "1.2.0",
     "model_name": "LayoutModel",
     "state": {
      "_model_module": "@jupyter-widgets/base",
      "_model_module_version": "1.2.0",
      "_model_name": "LayoutModel",
      "_view_count": null,
      "_view_module": "@jupyter-widgets/base",
      "_view_module_version": "1.2.0",
      "_view_name": "LayoutView",
      "align_content": null,
      "align_items": null,
      "align_self": null,
      "border": null,
      "bottom": null,
      "display": null,
      "flex": null,
      "flex_flow": null,
      "grid_area": null,
      "grid_auto_columns": null,
      "grid_auto_flow": null,
      "grid_auto_rows": null,
      "grid_column": null,
      "grid_gap": null,
      "grid_row": null,
      "grid_template_areas": null,
      "grid_template_columns": null,
      "grid_template_rows": null,
      "height": null,
      "justify_content": null,
      "justify_items": null,
      "left": null,
      "margin": null,
      "max_height": null,
      "max_width": null,
      "min_height": null,
      "min_width": null,
      "object_fit": null,
      "object_position": null,
      "order": null,
      "overflow": null,
      "overflow_x": null,
      "overflow_y": null,
      "padding": null,
      "right": null,
      "top": null,
      "visibility": null,
      "width": null
     }
    },
    "eebcc947f0424443b2333c62dc8fbf1e": {
     "model_module": "@jupyter-widgets/base",
     "model_module_version": "1.2.0",
     "model_name": "LayoutModel",
     "state": {
      "_model_module": "@jupyter-widgets/base",
      "_model_module_version": "1.2.0",
      "_model_name": "LayoutModel",
      "_view_count": null,
      "_view_module": "@jupyter-widgets/base",
      "_view_module_version": "1.2.0",
      "_view_name": "LayoutView",
      "align_content": null,
      "align_items": null,
      "align_self": null,
      "border": null,
      "bottom": null,
      "display": null,
      "flex": null,
      "flex_flow": null,
      "grid_area": null,
      "grid_auto_columns": null,
      "grid_auto_flow": null,
      "grid_auto_rows": null,
      "grid_column": null,
      "grid_gap": null,
      "grid_row": null,
      "grid_template_areas": null,
      "grid_template_columns": null,
      "grid_template_rows": null,
      "height": null,
      "justify_content": null,
      "justify_items": null,
      "left": null,
      "margin": null,
      "max_height": null,
      "max_width": null,
      "min_height": null,
      "min_width": null,
      "object_fit": null,
      "object_position": null,
      "order": null,
      "overflow": null,
      "overflow_x": null,
      "overflow_y": null,
      "padding": null,
      "right": null,
      "top": null,
      "visibility": null,
      "width": null
     }
    },
    "f0cd440f98ab485f845a1e74d44b0426": {
     "model_module": "@jupyter-widgets/controls",
     "model_module_version": "1.5.0",
     "model_name": "ProgressStyleModel",
     "state": {
      "_model_module": "@jupyter-widgets/controls",
      "_model_module_version": "1.5.0",
      "_model_name": "ProgressStyleModel",
      "_view_count": null,
      "_view_module": "@jupyter-widgets/base",
      "_view_module_version": "1.2.0",
      "_view_name": "StyleView",
      "bar_color": null,
      "description_width": ""
     }
    },
    "f300528d14fe46849796cf17bad53fd9": {
     "model_module": "@jupyter-widgets/controls",
     "model_module_version": "1.5.0",
     "model_name": "DescriptionStyleModel",
     "state": {
      "_model_module": "@jupyter-widgets/controls",
      "_model_module_version": "1.5.0",
      "_model_name": "DescriptionStyleModel",
      "_view_count": null,
      "_view_module": "@jupyter-widgets/base",
      "_view_module_version": "1.2.0",
      "_view_name": "StyleView",
      "description_width": ""
     }
    },
    "f38603b4db2c436c9bf590ae52d0f980": {
     "model_module": "@jupyter-widgets/base",
     "model_module_version": "1.2.0",
     "model_name": "LayoutModel",
     "state": {
      "_model_module": "@jupyter-widgets/base",
      "_model_module_version": "1.2.0",
      "_model_name": "LayoutModel",
      "_view_count": null,
      "_view_module": "@jupyter-widgets/base",
      "_view_module_version": "1.2.0",
      "_view_name": "LayoutView",
      "align_content": null,
      "align_items": null,
      "align_self": null,
      "border": null,
      "bottom": null,
      "display": null,
      "flex": null,
      "flex_flow": null,
      "grid_area": null,
      "grid_auto_columns": null,
      "grid_auto_flow": null,
      "grid_auto_rows": null,
      "grid_column": null,
      "grid_gap": null,
      "grid_row": null,
      "grid_template_areas": null,
      "grid_template_columns": null,
      "grid_template_rows": null,
      "height": null,
      "justify_content": null,
      "justify_items": null,
      "left": null,
      "margin": null,
      "max_height": null,
      "max_width": null,
      "min_height": null,
      "min_width": null,
      "object_fit": null,
      "object_position": null,
      "order": null,
      "overflow": null,
      "overflow_x": null,
      "overflow_y": null,
      "padding": null,
      "right": null,
      "top": null,
      "visibility": null,
      "width": null
     }
    },
    "f58a69854c0a4f3cbc6ec9848c372694": {
     "model_module": "@jupyter-widgets/base",
     "model_module_version": "1.2.0",
     "model_name": "LayoutModel",
     "state": {
      "_model_module": "@jupyter-widgets/base",
      "_model_module_version": "1.2.0",
      "_model_name": "LayoutModel",
      "_view_count": null,
      "_view_module": "@jupyter-widgets/base",
      "_view_module_version": "1.2.0",
      "_view_name": "LayoutView",
      "align_content": null,
      "align_items": null,
      "align_self": null,
      "border": null,
      "bottom": null,
      "display": null,
      "flex": null,
      "flex_flow": null,
      "grid_area": null,
      "grid_auto_columns": null,
      "grid_auto_flow": null,
      "grid_auto_rows": null,
      "grid_column": null,
      "grid_gap": null,
      "grid_row": null,
      "grid_template_areas": null,
      "grid_template_columns": null,
      "grid_template_rows": null,
      "height": null,
      "justify_content": null,
      "justify_items": null,
      "left": null,
      "margin": null,
      "max_height": null,
      "max_width": null,
      "min_height": null,
      "min_width": null,
      "object_fit": null,
      "object_position": null,
      "order": null,
      "overflow": null,
      "overflow_x": null,
      "overflow_y": null,
      "padding": null,
      "right": null,
      "top": null,
      "visibility": null,
      "width": null
     }
    },
    "fc430d793af34d76b87cad97b499601c": {
     "model_module": "@jupyter-widgets/controls",
     "model_module_version": "1.5.0",
     "model_name": "FloatProgressModel",
     "state": {
      "_dom_classes": [],
      "_model_module": "@jupyter-widgets/controls",
      "_model_module_version": "1.5.0",
      "_model_name": "FloatProgressModel",
      "_view_count": null,
      "_view_module": "@jupyter-widgets/controls",
      "_view_module_version": "1.5.0",
      "_view_name": "ProgressView",
      "bar_style": "success",
      "description": "",
      "description_tooltip": null,
      "layout": "IPY_MODEL_5f4aa45ac6c847889ad7391e397d3092",
      "max": 52554,
      "min": 0,
      "orientation": "horizontal",
      "style": "IPY_MODEL_b99dc4d3a86a4c1cb4869a231fd014c4",
      "value": 52554
     }
    }
   }
  }
 },
 "nbformat": 4,
 "nbformat_minor": 4
}
