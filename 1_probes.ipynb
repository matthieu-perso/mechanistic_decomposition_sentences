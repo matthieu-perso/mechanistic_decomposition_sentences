{
 "cells": [
  {
   "cell_type": "code",
   "execution_count": 2,
   "id": "e47c1942-f490-404b-8edd-1ef66208310e",
   "metadata": {},
   "outputs": [],
   "source": [
    "import os\n",
    "import json\n",
    "import pickle\n",
    "import numpy as np\n",
    "import pandas as pd\n",
    "import matplotlib.pyplot as plt\n",
    "import seaborn as sns\n",
    "from tqdm.notebook import tqdm\n",
    "import wandb\n",
    "\n",
    "import torch\n",
    "import torch.nn as nn\n",
    "import torch.optim as optim\n",
    "from torch.utils.data import TensorDataset, DataLoader\n",
    "from sklearn.preprocessing import LabelEncoder\n",
    "from sklearn.metrics import confusion_matrix, classification_report\n",
    "from sklearn.manifold import TSNE\n",
    "\n",
    "os.environ['WANDB_DIR'] = 'wb_logs'\n",
    "# Set plot style\n",
    "plt.style.use('ggplot')\n",
    "sns.set(font_scale=1.2)\n",
    "sns.set_style(\"whitegrid\")"
   ]
  },
  {
   "cell_type": "markdown",
   "id": "c9ffb914-c87a-4240-8c1b-accc3e7c7601",
   "metadata": {},
   "source": [
    "## 1. Probe Models\n",
    "\n",
    "We've trained two types of probes:\n",
    "\n",
    "1. **Linear Probe**: A simple linear layer that predicts linguistic features\n",
    "2. **Non-linear Probe**: A two-layer neural network with ReLU activation\n",
    "\n",
    "In addition, we trained several baselines:\n",
    "\n",
    "3. **Shuffled**: Probes with shuffled target tables\n",
    "4. **Random Predictions**: Randomly pick a target class\n",
    "5. **Random Representations**: Generate the representation at random instead of using the embedding\n",
    "\n",
    "These probes will be trained to predict:\n",
    "- Part-of-speech (POS) tags\n",
    "- Dependency relations (Universal Dependency Tags)"
   ]
  },
  {
   "cell_type": "code",
   "execution_count": 3,
   "id": "f1c64ed8-8032-4b97-9c70-92f76b0498ee",
   "metadata": {},
   "outputs": [],
   "source": [
    "class LinearProbe(nn.Module):\n",
    "    def __init__(self, input_dim, output_dim):\n",
    "        super().__init__()\n",
    "        self.linear = nn.Linear(input_dim, output_dim)\n",
    "\n",
    "    def forward(self, x):\n",
    "        return self.linear(x)\n",
    "\n",
    "\n",
    "class NonlinearProbe(nn.Module):\n",
    "    def __init__(self, input_dim, output_dim, hidden_dim=128):\n",
    "        super().__init__()\n",
    "        self.network = nn.Sequential(\n",
    "            nn.Linear(input_dim, hidden_dim),\n",
    "            nn.ReLU(),\n",
    "            nn.Linear(hidden_dim, output_dim)\n",
    "        )\n",
    "\n",
    "    def forward(self, x):\n",
    "        return self.network(x)\n",
    "\n",
    "\n",
    "# Define a random baseline probe for comparison\n",
    "class RandomPredictionProbe(nn.Module):\n",
    "    def __init__(self, n_classes):\n",
    "        super().__init__()\n",
    "        self.n_classes = n_classes\n",
    "\n",
    "    def forward(self, x):\n",
    "        return torch.randint(0, self.n_classes, (x.size(0),), device=x.device)"
   ]
  },
  {
   "cell_type": "markdown",
   "id": "ea75151c-7271-4393-ad58-8290e3b1e616",
   "metadata": {},
   "source": [
    "## 2. Evaluation Functions"
   ]
  },
  {
   "cell_type": "code",
   "execution_count": null,
   "id": "2d7b21b3-92f8-4268-b51b-dfa8a303e485",
   "metadata": {
    "scrolled": true
   },
   "outputs": [],
   "source": [
    "def load_embedding_artifacts():\n",
    "    embedding_artifact_names = {\n",
    "        \"E5\": \"mech_decomp/mechanistic-decomposition-sentence-embeddings/embeddings-multilingual-e5-large:latest\",\n",
    "        \"MPNET\": \"mech_decomp/mechanistic-decomposition-sentence-embeddings/embeddings-all-mpnet-base-v2:latest\",\n",
    "        \"MiniLM\": 'mech_decomp/mechanistic-decomposition-sentence-embeddings/embeddings-all-MiniLM-L6-v2:latest',\n",
    "    }\n",
    "\n",
    "    embedding_dirs = {}\n",
    "    for name, artifact_path in embedding_artifact_names.items():\n",
    "        run = wandb.init(project=\"mechanistic-decomposition-sentence-embeddings\", reinit=True)\n",
    "        artifact = run.use_artifact(artifact_path, type=\"embeddings\")\n",
    "        artifact_dir = artifact.download()\n",
    "        embedding_dirs[name] = artifact_dir\n",
    "        run.finish()\n",
    "\n",
    "    return embedding_dirs\n",
    "\n",
    "# Usage\n",
    "embedding_dirs = load_embedding_artifacts()\n",
    "print(embedding_dirs)"
   ]
  },
  {
   "cell_type": "code",
   "execution_count": 7,
   "id": "3d6aced1-d362-4f82-ab01-946a58441f35",
   "metadata": {},
   "outputs": [],
   "source": [
    "import os\n",
    "import glob\n",
    "import pandas as pd\n",
    "import pickle\n",
    "\n",
    "def load_embeddings_from_dirs(embedding_dirs):\n",
    "    \"\"\"\n",
    "    Loads both CSV and pickle files for each embedding model from their respective artifact directories.\n",
    "    \n",
    "    Returns a dict of the form:\n",
    "    {\n",
    "        \"E5\": {\"csv\": df, \"pkl\": embeddings},\n",
    "        \"GTE\": {\"csv\": df, \"pkl\": embeddings},\n",
    "        ...\n",
    "    }\n",
    "    \"\"\"\n",
    "    all_embeddings = {}\n",
    "\n",
    "    for name, dir_path in embedding_dirs.items():\n",
    "        # Find the CSV file\n",
    "        csv_files = glob.glob(os.path.join(dir_path, \"*.csv\"))\n",
    "        pkl_files = glob.glob(os.path.join(dir_path, \"*.pkl\"))\n",
    "\n",
    "        if not csv_files:\n",
    "            raise FileNotFoundError(f\"No CSV file found in {dir_path}\")\n",
    "        if not pkl_files:\n",
    "            raise FileNotFoundError(f\"No pickle file found in {dir_path}\")\n",
    "\n",
    "        csv_path = csv_files[0]\n",
    "        pkl_path = pkl_files[0]\n",
    "\n",
    "        df = pd.read_csv(csv_path)\n",
    "        with open(pkl_path, \"rb\") as f:\n",
    "            embeddings = pickle.load(f)\n",
    "\n",
    "        df['embedding'] = [embeddings[idx] for idx in df['embedding_idx']]\n",
    "\n",
    "        all_embeddings[name] = {\"csv\": df, \"pkl\": embeddings}\n",
    "\n",
    "    return all_embeddings\n",
    "\n",
    "embedding_data = load_embeddings_from_dirs(embedding_dirs)"
   ]
  },
  {
   "cell_type": "code",
   "execution_count": 44,
   "id": "c9308767-744d-4bab-9e30-144b9a74f26e",
   "metadata": {},
   "outputs": [],
   "source": [
    "def evaluate_probe(model, X, y):\n",
    "    \"\"\"Evaluate a classification probe.\"\"\"\n",
    "    model.eval()\n",
    "    with torch.no_grad():\n",
    "        if isinstance(model, RandomPredictionProbe):\n",
    "            preds = model(X)\n",
    "        else:\n",
    "            preds = model(X).argmax(dim=1)\n",
    "        accuracy = (preds == y).float().mean().item()\n",
    "    return accuracy\n",
    "\n",
    "def train_probe(model, X_train, y_train, X_val, y_val, task_name=\"TASK\", epochs=10, output_dir=\"trained_models\"):\n",
    "    \"\"\"\n",
    "    Train a classification probe with validation.\n",
    "    \n",
    "    Args:\n",
    "        model: The probe model to train\n",
    "        X_train: Training features\n",
    "        y_train: Training labels\n",
    "        X_val: Validation features\n",
    "        y_val: Validation labels\n",
    "        task_name: Name of the task for logging\n",
    "        epochs: Number of training epochs\n",
    "        output_dir: Directory to save the model\n",
    "        \n",
    "    Returns:\n",
    "        model: Trained model\n",
    "        history: Dictionary with training history\n",
    "    \"\"\"\n",
    "    model.train()\n",
    "    loss_fn = nn.CrossEntropyLoss()\n",
    "    optimizer = optim.Adam(model.parameters(), lr=1e-3)\n",
    "    dataset = TensorDataset(X_train, y_train)\n",
    "    loader = DataLoader(dataset, batch_size=64, shuffle=True)\n",
    "    \n",
    "    history = {\n",
    "        'train_loss': [],\n",
    "        'val_accuracy': []\n",
    "    }\n",
    "\n",
    "    best_val_acc = 0.0\n",
    "    \n",
    "    for epoch in range(epochs):\n",
    "        total_loss = 0\n",
    "        for xb, yb in tqdm(loader, desc=f\"{task_name} Epoch {epoch+1}\", leave=False):\n",
    "            optimizer.zero_grad()\n",
    "            logits = model(xb)\n",
    "            loss = loss_fn(logits, yb)\n",
    "            loss.backward()\n",
    "            optimizer.step()\n",
    "            total_loss += loss.item()\n",
    "        \n",
    "        # Evaluate on validation set\n",
    "        val_accuracy = evaluate_probe(model, X_val, y_val)\n",
    "        \n",
    "        # Save history\n",
    "        history['train_loss'].append(total_loss / len(loader))\n",
    "        history['val_accuracy'].append(val_accuracy)\n",
    "        \n",
    "        print(f\"{task_name} - Epoch {epoch+1}, Loss: {total_loss/len(loader):.4f}, Val Accuracy: {val_accuracy:.4f}\")\n",
    "    \n",
    "    return model, history\n",
    "\n",
    "def run_all_probes_and_controls(X, y_pos, y_dep, le_pos, le_dep, hidden_dim=128, test_size=0.2, output_dir=\"trained_models\"):\n",
    "    \"\"\"\n",
    "    Run all probes and control experiments with train-test split.\n",
    "    \n",
    "    Args:\n",
    "        X: Input features tensor\n",
    "        y_pos: POS tag labels tensor\n",
    "        y_dep: Dependency relation labels tensor\n",
    "        le_pos: Label encoder for POS tags\n",
    "        le_dep: Label encoder for dependency relations\n",
    "        hidden_dim: Hidden dimension for nonlinear probes\n",
    "        test_size: Fraction of data to use for testing\n",
    "        output_dir: Directory to save trained models\n",
    "        \n",
    "    Returns:\n",
    "        results: Dictionary with evaluation results\n",
    "        probes: Dictionary with trained probe models\n",
    "    \"\"\"\n",
    "    # Create train-test split\n",
    "    n_samples = X.shape[0]\n",
    "    indices = torch.randperm(n_samples)\n",
    "    train_size = int((1 - test_size) * n_samples)\n",
    "    \n",
    "    train_indices = indices[:train_size]\n",
    "    test_indices = indices[train_size:]\n",
    "    \n",
    "    X_train, X_test = X[train_indices], X[test_indices]\n",
    "    y_pos_train, y_pos_test = y_pos[train_indices], y_pos[test_indices]\n",
    "    y_dep_train, y_dep_test = y_dep[train_indices], y_dep[test_indices]\n",
    "    \n",
    "    print(f\"Train set: {X_train.shape[0]} samples\")\n",
    "    print(f\"Test set: {X_test.shape[0]} samples\")\n",
    "    \n",
    "    # Dictionary to store all trained probes\n",
    "    probes = {}\n",
    "    \n",
    "    # === Main Probes ===\n",
    "    print(\"\\n=== Training Main Probes ===\")\n",
    "    pos_model, pos_history = train_probe(\n",
    "        LinearProbe(X.shape[1], len(le_pos.classes_)), \n",
    "        X_train, y_pos_train, X_test, y_pos_test, \n",
    "        \"POS\", output_dir=output_dir\n",
    "    )\n",
    "    probes[\"pos_linear\"] = pos_model\n",
    "    \n",
    "    dep_model, dep_history = train_probe(\n",
    "        LinearProbe(X.shape[1], len(le_dep.classes_)), \n",
    "        X_train, y_dep_train, X_test, y_dep_test, \n",
    "        \"DEP\", output_dir=output_dir\n",
    "    )\n",
    "    probes[\"dep_linear\"] = dep_model\n",
    "\n",
    "    # === Nonlinear Probes ===\n",
    "    print(\"\\n=== Training Nonlinear Probes ===\")\n",
    "    pos_nonlinear, pos_nl_history = train_probe(\n",
    "        NonlinearProbe(X.shape[1], len(le_pos.classes_), hidden_dim=hidden_dim), \n",
    "        X_train, y_pos_train, X_test, y_pos_test, \n",
    "        \"POS_Nonlinear\", output_dir=output_dir\n",
    "    )\n",
    "    probes[\"pos_nonlinear\"] = pos_nonlinear\n",
    "    \n",
    "    dep_nonlinear, dep_nl_history = train_probe(\n",
    "        NonlinearProbe(X.shape[1], len(le_dep.classes_), hidden_dim=hidden_dim), \n",
    "        X_train, y_dep_train, X_test, y_dep_test, \n",
    "        \"DEP_Nonlinear\", output_dir=output_dir\n",
    "    )\n",
    "    probes[\"dep_nonlinear\"] = dep_nonlinear\n",
    "\n",
    "    # === Random Baselines ===\n",
    "    print(\"\\n=== Evaluating Random Baselines ===\")\n",
    "    pos_random = RandomPredictionProbe(len(le_pos.classes_))\n",
    "    probes[\"pos_random\"] = pos_random\n",
    "    \n",
    "    dep_random = RandomPredictionProbe(len(le_dep.classes_))\n",
    "    probes[\"dep_random\"] = dep_random\n",
    "\n",
    "    # === Shuffled Labels ===\n",
    "    print(\"\\n=== Training with Shuffled Labels ===\")\n",
    "    pos_shuffled, pos_sh_history = train_probe(\n",
    "        LinearProbe(X.shape[1], len(le_pos.classes_)), \n",
    "        X_train, y_pos_train[torch.randperm(len(y_pos_train))], \n",
    "        X_test, y_pos_test, \n",
    "        \"POS_Shuffled\", output_dir=output_dir\n",
    "    )\n",
    "    probes[\"pos_shuffled\"] = pos_shuffled\n",
    "    \n",
    "    dep_shuffled, dep_sh_history = train_probe(\n",
    "        LinearProbe(X.shape[1], len(le_dep.classes_)), \n",
    "        X_train, y_dep_train[torch.randperm(len(y_dep_train))], \n",
    "        X_test, y_dep_test, \n",
    "        \"DEP_Shuffled\", output_dir=output_dir\n",
    "    )\n",
    "    probes[\"dep_shuffled\"] = dep_shuffled\n",
    "\n",
    "    # === Random Representations ===\n",
    "    print(\"\\n=== Training with Random Representations ===\")\n",
    "    X_rand_train = torch.randn_like(X_train)\n",
    "    X_rand_test = torch.randn_like(X_test)\n",
    "    \n",
    "    pos_randrep, pos_rr_history = train_probe(\n",
    "        LinearProbe(X.shape[1], len(le_pos.classes_)), \n",
    "        X_rand_train, y_pos_train, X_rand_test, y_pos_test, \n",
    "        \"POS_RandomRep\", output_dir=output_dir\n",
    "    )\n",
    "    probes[\"pos_random_rep\"] = pos_randrep\n",
    "    \n",
    "    dep_randrep, dep_rr_history = train_probe(\n",
    "        LinearProbe(X.shape[1], len(le_dep.classes_)), \n",
    "        X_rand_train, y_dep_train, X_rand_test, y_dep_test, \n",
    "        \"DEP_RandomRep\", output_dir=output_dir\n",
    "    )\n",
    "    probes[\"dep_random_rep\"] = dep_randrep\n",
    "\n",
    "    # === Evaluation on Test Set ===\n",
    "    print(\"\\n=== Evaluation on Test Set ===\")\n",
    "    results = {\n",
    "        \"POS\": {\n",
    "            \"linear\": evaluate_probe(pos_model, X_test, y_pos_test),\n",
    "            \"nonlinear\": evaluate_probe(pos_nonlinear, X_test, y_pos_test),\n",
    "            \"random\": evaluate_probe(pos_random, X_test, y_pos_test),\n",
    "            \"shuffled\": evaluate_probe(pos_shuffled, X_test, y_pos_test),\n",
    "            \"random_rep\": evaluate_probe(pos_randrep, X_rand_test, y_pos_test)\n",
    "        },\n",
    "        \"DEP\": {\n",
    "            \"linear\": evaluate_probe(dep_model, X_test, y_dep_test),\n",
    "            \"nonlinear\": evaluate_probe(dep_nonlinear, X_test, y_dep_test),\n",
    "            \"random\": evaluate_probe(dep_random, X_test, y_dep_test),\n",
    "            \"shuffled\": evaluate_probe(dep_shuffled, X_test, y_dep_test),\n",
    "            \"random_rep\": evaluate_probe(dep_randrep, X_rand_test, y_dep_test)\n",
    "        }\n",
    "    }\n",
    "    \n",
    "    # Print results table\n",
    "    print(\"\\nResults Summary:\")\n",
    "    print(\"-\" * 60)\n",
    "    print(f\"{'Task':<10} {'Method':<15} {'Accuracy':<10}\")\n",
    "    print(\"-\" * 60)\n",
    "    \n",
    "    for task, task_results in results.items():\n",
    "        for method, accuracy in task_results.items():\n",
    "            print(f\"{task:<10} {method:<15} {accuracy:.4f}\")\n",
    "    \n",
    "    return results, probes"
   ]
  },
  {
   "cell_type": "code",
   "execution_count": 45,
   "id": "50a40f26-0696-46f8-9c0c-ddc12df5b9c4",
   "metadata": {
    "scrolled": true
   },
   "outputs": [
    {
     "name": "stdout",
     "output_type": "stream",
     "text": [
      "Train set: 16000 samples\n",
      "Test set: 4000 samples\n",
      "\n",
      "=== Training Main Probes ===\n"
     ]
    },
    {
     "data": {
      "application/vnd.jupyter.widget-view+json": {
       "model_id": "09babddc3f71402fb4d5f3acaf5cbdcc",
       "version_major": 2,
       "version_minor": 0
      },
      "text/plain": [
       "POS Epoch 1:   0%|          | 0/250 [00:00<?, ?it/s]"
      ]
     },
     "metadata": {},
     "output_type": "display_data"
    },
    {
     "name": "stdout",
     "output_type": "stream",
     "text": [
      "POS - Epoch 1, Loss: 1.8887, Val Accuracy: 0.6837\n"
     ]
    },
    {
     "data": {
      "application/vnd.jupyter.widget-view+json": {
       "model_id": "ad04bbcf6cc34dc1b40180e1e94df490",
       "version_major": 2,
       "version_minor": 0
      },
      "text/plain": [
       "POS Epoch 2:   0%|          | 0/250 [00:00<?, ?it/s]"
      ]
     },
     "metadata": {},
     "output_type": "display_data"
    },
    {
     "name": "stdout",
     "output_type": "stream",
     "text": [
      "POS - Epoch 2, Loss: 1.1595, Val Accuracy: 0.7435\n"
     ]
    },
    {
     "data": {
      "application/vnd.jupyter.widget-view+json": {
       "model_id": "22be35efa4d041829fe4fbc6bad9eea4",
       "version_major": 2,
       "version_minor": 0
      },
      "text/plain": [
       "POS Epoch 3:   0%|          | 0/250 [00:00<?, ?it/s]"
      ]
     },
     "metadata": {},
     "output_type": "display_data"
    },
    {
     "name": "stdout",
     "output_type": "stream",
     "text": [
      "POS - Epoch 3, Loss: 0.9196, Val Accuracy: 0.7837\n"
     ]
    },
    {
     "data": {
      "application/vnd.jupyter.widget-view+json": {
       "model_id": "dc1d9d2dccae42d0b16d1d58a1df44c9",
       "version_major": 2,
       "version_minor": 0
      },
      "text/plain": [
       "POS Epoch 4:   0%|          | 0/250 [00:00<?, ?it/s]"
      ]
     },
     "metadata": {},
     "output_type": "display_data"
    },
    {
     "name": "stdout",
     "output_type": "stream",
     "text": [
      "POS - Epoch 4, Loss: 0.7920, Val Accuracy: 0.8005\n"
     ]
    },
    {
     "data": {
      "application/vnd.jupyter.widget-view+json": {
       "model_id": "56a3baa7f55144318caf31d0d1c6be61",
       "version_major": 2,
       "version_minor": 0
      },
      "text/plain": [
       "POS Epoch 5:   0%|          | 0/250 [00:00<?, ?it/s]"
      ]
     },
     "metadata": {},
     "output_type": "display_data"
    },
    {
     "name": "stdout",
     "output_type": "stream",
     "text": [
      "POS - Epoch 5, Loss: 0.7106, Val Accuracy: 0.8108\n"
     ]
    },
    {
     "data": {
      "application/vnd.jupyter.widget-view+json": {
       "model_id": "5edd0972210e41a9932ca4be0fb9b78d",
       "version_major": 2,
       "version_minor": 0
      },
      "text/plain": [
       "POS Epoch 6:   0%|          | 0/250 [00:00<?, ?it/s]"
      ]
     },
     "metadata": {},
     "output_type": "display_data"
    },
    {
     "name": "stdout",
     "output_type": "stream",
     "text": [
      "POS - Epoch 6, Loss: 0.6530, Val Accuracy: 0.8160\n"
     ]
    },
    {
     "data": {
      "application/vnd.jupyter.widget-view+json": {
       "model_id": "9cfee2327b0c4adeb6096cf933bd6fab",
       "version_major": 2,
       "version_minor": 0
      },
      "text/plain": [
       "POS Epoch 7:   0%|          | 0/250 [00:00<?, ?it/s]"
      ]
     },
     "metadata": {},
     "output_type": "display_data"
    },
    {
     "name": "stdout",
     "output_type": "stream",
     "text": [
      "POS - Epoch 7, Loss: 0.6095, Val Accuracy: 0.8223\n"
     ]
    },
    {
     "data": {
      "application/vnd.jupyter.widget-view+json": {
       "model_id": "20e3826b8cd5400c8b9d0b219e0a2e85",
       "version_major": 2,
       "version_minor": 0
      },
      "text/plain": [
       "POS Epoch 8:   0%|          | 0/250 [00:00<?, ?it/s]"
      ]
     },
     "metadata": {},
     "output_type": "display_data"
    },
    {
     "name": "stdout",
     "output_type": "stream",
     "text": [
      "POS - Epoch 8, Loss: 0.5751, Val Accuracy: 0.8320\n"
     ]
    },
    {
     "data": {
      "application/vnd.jupyter.widget-view+json": {
       "model_id": "5e8fc945a69c419ca2b5c319916d8300",
       "version_major": 2,
       "version_minor": 0
      },
      "text/plain": [
       "POS Epoch 9:   0%|          | 0/250 [00:00<?, ?it/s]"
      ]
     },
     "metadata": {},
     "output_type": "display_data"
    },
    {
     "name": "stdout",
     "output_type": "stream",
     "text": [
      "POS - Epoch 9, Loss: 0.5467, Val Accuracy: 0.8347\n"
     ]
    },
    {
     "data": {
      "application/vnd.jupyter.widget-view+json": {
       "model_id": "974ea3c178c74f56a06511df8d0859fa",
       "version_major": 2,
       "version_minor": 0
      },
      "text/plain": [
       "POS Epoch 10:   0%|          | 0/250 [00:00<?, ?it/s]"
      ]
     },
     "metadata": {},
     "output_type": "display_data"
    },
    {
     "name": "stdout",
     "output_type": "stream",
     "text": [
      "POS - Epoch 10, Loss: 0.5234, Val Accuracy: 0.8405\n"
     ]
    },
    {
     "data": {
      "application/vnd.jupyter.widget-view+json": {
       "model_id": "3fe6806684b04c09a621d39744dc26b6",
       "version_major": 2,
       "version_minor": 0
      },
      "text/plain": [
       "DEP Epoch 1:   0%|          | 0/250 [00:00<?, ?it/s]"
      ]
     },
     "metadata": {},
     "output_type": "display_data"
    },
    {
     "name": "stdout",
     "output_type": "stream",
     "text": [
      "DEP - Epoch 1, Loss: 2.7455, Val Accuracy: 0.5002\n"
     ]
    },
    {
     "data": {
      "application/vnd.jupyter.widget-view+json": {
       "model_id": "14d12fffaeb84ef696252c6fd20030e3",
       "version_major": 2,
       "version_minor": 0
      },
      "text/plain": [
       "DEP Epoch 2:   0%|          | 0/250 [00:00<?, ?it/s]"
      ]
     },
     "metadata": {},
     "output_type": "display_data"
    },
    {
     "name": "stdout",
     "output_type": "stream",
     "text": [
      "DEP - Epoch 2, Loss: 1.9218, Val Accuracy: 0.5495\n"
     ]
    },
    {
     "data": {
      "application/vnd.jupyter.widget-view+json": {
       "model_id": "ac197e70650746e5b2790b795c68580a",
       "version_major": 2,
       "version_minor": 0
      },
      "text/plain": [
       "DEP Epoch 3:   0%|          | 0/250 [00:00<?, ?it/s]"
      ]
     },
     "metadata": {},
     "output_type": "display_data"
    },
    {
     "name": "stdout",
     "output_type": "stream",
     "text": [
      "DEP - Epoch 3, Loss: 1.6434, Val Accuracy: 0.5800\n"
     ]
    },
    {
     "data": {
      "application/vnd.jupyter.widget-view+json": {
       "model_id": "9683706e72904036bc2330dd319c15a0",
       "version_major": 2,
       "version_minor": 0
      },
      "text/plain": [
       "DEP Epoch 4:   0%|          | 0/250 [00:00<?, ?it/s]"
      ]
     },
     "metadata": {},
     "output_type": "display_data"
    },
    {
     "name": "stdout",
     "output_type": "stream",
     "text": [
      "DEP - Epoch 4, Loss: 1.4869, Val Accuracy: 0.5995\n"
     ]
    },
    {
     "data": {
      "application/vnd.jupyter.widget-view+json": {
       "model_id": "0aebf611ba1447319584dd1d9ee61bc3",
       "version_major": 2,
       "version_minor": 0
      },
      "text/plain": [
       "DEP Epoch 5:   0%|          | 0/250 [00:00<?, ?it/s]"
      ]
     },
     "metadata": {},
     "output_type": "display_data"
    },
    {
     "name": "stdout",
     "output_type": "stream",
     "text": [
      "DEP - Epoch 5, Loss: 1.3821, Val Accuracy: 0.6093\n"
     ]
    },
    {
     "data": {
      "application/vnd.jupyter.widget-view+json": {
       "model_id": "e7ffd9e0cfc042b5863c3e66584e723f",
       "version_major": 2,
       "version_minor": 0
      },
      "text/plain": [
       "DEP Epoch 6:   0%|          | 0/250 [00:00<?, ?it/s]"
      ]
     },
     "metadata": {},
     "output_type": "display_data"
    },
    {
     "name": "stdout",
     "output_type": "stream",
     "text": [
      "DEP - Epoch 6, Loss: 1.3054, Val Accuracy: 0.6175\n"
     ]
    },
    {
     "data": {
      "application/vnd.jupyter.widget-view+json": {
       "model_id": "5c6471d6ce9f43c19e40a572de1cb6cc",
       "version_major": 2,
       "version_minor": 0
      },
      "text/plain": [
       "DEP Epoch 7:   0%|          | 0/250 [00:00<?, ?it/s]"
      ]
     },
     "metadata": {},
     "output_type": "display_data"
    },
    {
     "name": "stdout",
     "output_type": "stream",
     "text": [
      "DEP - Epoch 7, Loss: 1.2457, Val Accuracy: 0.6267\n"
     ]
    },
    {
     "data": {
      "application/vnd.jupyter.widget-view+json": {
       "model_id": "3ece9f2eb7c54fcda6c442de276a756d",
       "version_major": 2,
       "version_minor": 0
      },
      "text/plain": [
       "DEP Epoch 8:   0%|          | 0/250 [00:00<?, ?it/s]"
      ]
     },
     "metadata": {},
     "output_type": "display_data"
    },
    {
     "name": "stdout",
     "output_type": "stream",
     "text": [
      "DEP - Epoch 8, Loss: 1.1970, Val Accuracy: 0.6340\n"
     ]
    },
    {
     "data": {
      "application/vnd.jupyter.widget-view+json": {
       "model_id": "396b0172406c4e8b9a3b5e46b27a2a11",
       "version_major": 2,
       "version_minor": 0
      },
      "text/plain": [
       "DEP Epoch 9:   0%|          | 0/250 [00:00<?, ?it/s]"
      ]
     },
     "metadata": {},
     "output_type": "display_data"
    },
    {
     "name": "stdout",
     "output_type": "stream",
     "text": [
      "DEP - Epoch 9, Loss: 1.1566, Val Accuracy: 0.6390\n"
     ]
    },
    {
     "data": {
      "application/vnd.jupyter.widget-view+json": {
       "model_id": "72b6164d4fc04c67a297a7264385e509",
       "version_major": 2,
       "version_minor": 0
      },
      "text/plain": [
       "DEP Epoch 10:   0%|          | 0/250 [00:00<?, ?it/s]"
      ]
     },
     "metadata": {},
     "output_type": "display_data"
    },
    {
     "name": "stdout",
     "output_type": "stream",
     "text": [
      "DEP - Epoch 10, Loss: 1.1221, Val Accuracy: 0.6455\n",
      "\n",
      "=== Training Nonlinear Probes ===\n"
     ]
    },
    {
     "data": {
      "application/vnd.jupyter.widget-view+json": {
       "model_id": "6525d0fbb61148c892a1de2ebebf4de3",
       "version_major": 2,
       "version_minor": 0
      },
      "text/plain": [
       "POS_Nonlinear Epoch 1:   0%|          | 0/250 [00:00<?, ?it/s]"
      ]
     },
     "metadata": {},
     "output_type": "display_data"
    },
    {
     "name": "stdout",
     "output_type": "stream",
     "text": [
      "POS_Nonlinear - Epoch 1, Loss: 1.2989, Val Accuracy: 0.7905\n"
     ]
    },
    {
     "data": {
      "application/vnd.jupyter.widget-view+json": {
       "model_id": "262f800b01544b4f9640f389269b6994",
       "version_major": 2,
       "version_minor": 0
      },
      "text/plain": [
       "POS_Nonlinear Epoch 2:   0%|          | 0/250 [00:00<?, ?it/s]"
      ]
     },
     "metadata": {},
     "output_type": "display_data"
    },
    {
     "name": "stdout",
     "output_type": "stream",
     "text": [
      "POS_Nonlinear - Epoch 2, Loss: 0.5677, Val Accuracy: 0.8450\n"
     ]
    },
    {
     "data": {
      "application/vnd.jupyter.widget-view+json": {
       "model_id": "ac33c0a93e3c4a24b7417135ec8c8ff6",
       "version_major": 2,
       "version_minor": 0
      },
      "text/plain": [
       "POS_Nonlinear Epoch 3:   0%|          | 0/250 [00:00<?, ?it/s]"
      ]
     },
     "metadata": {},
     "output_type": "display_data"
    },
    {
     "name": "stdout",
     "output_type": "stream",
     "text": [
      "POS_Nonlinear - Epoch 3, Loss: 0.4288, Val Accuracy: 0.8633\n"
     ]
    },
    {
     "data": {
      "application/vnd.jupyter.widget-view+json": {
       "model_id": "7c14736124d343a8b2193674fd10e771",
       "version_major": 2,
       "version_minor": 0
      },
      "text/plain": [
       "POS_Nonlinear Epoch 4:   0%|          | 0/250 [00:00<?, ?it/s]"
      ]
     },
     "metadata": {},
     "output_type": "display_data"
    },
    {
     "name": "stdout",
     "output_type": "stream",
     "text": [
      "POS_Nonlinear - Epoch 4, Loss: 0.3566, Val Accuracy: 0.8700\n"
     ]
    },
    {
     "data": {
      "application/vnd.jupyter.widget-view+json": {
       "model_id": "8e9181b57412415e8022a31bb4c0cb1d",
       "version_major": 2,
       "version_minor": 0
      },
      "text/plain": [
       "POS_Nonlinear Epoch 5:   0%|          | 0/250 [00:00<?, ?it/s]"
      ]
     },
     "metadata": {},
     "output_type": "display_data"
    },
    {
     "name": "stdout",
     "output_type": "stream",
     "text": [
      "POS_Nonlinear - Epoch 5, Loss: 0.3062, Val Accuracy: 0.8760\n"
     ]
    },
    {
     "data": {
      "application/vnd.jupyter.widget-view+json": {
       "model_id": "ca0af259ee6e478193bd7b6c5fc20141",
       "version_major": 2,
       "version_minor": 0
      },
      "text/plain": [
       "POS_Nonlinear Epoch 6:   0%|          | 0/250 [00:00<?, ?it/s]"
      ]
     },
     "metadata": {},
     "output_type": "display_data"
    },
    {
     "name": "stdout",
     "output_type": "stream",
     "text": [
      "POS_Nonlinear - Epoch 6, Loss: 0.2684, Val Accuracy: 0.8773\n"
     ]
    },
    {
     "data": {
      "application/vnd.jupyter.widget-view+json": {
       "model_id": "d9ef2ff8b30b4ae59dc21dc0959c7692",
       "version_major": 2,
       "version_minor": 0
      },
      "text/plain": [
       "POS_Nonlinear Epoch 7:   0%|          | 0/250 [00:00<?, ?it/s]"
      ]
     },
     "metadata": {},
     "output_type": "display_data"
    },
    {
     "name": "stdout",
     "output_type": "stream",
     "text": [
      "POS_Nonlinear - Epoch 7, Loss: 0.2364, Val Accuracy: 0.8830\n"
     ]
    },
    {
     "data": {
      "application/vnd.jupyter.widget-view+json": {
       "model_id": "24fcedc32d31418d8a8f79b593c86986",
       "version_major": 2,
       "version_minor": 0
      },
      "text/plain": [
       "POS_Nonlinear Epoch 8:   0%|          | 0/250 [00:00<?, ?it/s]"
      ]
     },
     "metadata": {},
     "output_type": "display_data"
    },
    {
     "name": "stdout",
     "output_type": "stream",
     "text": [
      "POS_Nonlinear - Epoch 8, Loss: 0.2128, Val Accuracy: 0.8820\n"
     ]
    },
    {
     "data": {
      "application/vnd.jupyter.widget-view+json": {
       "model_id": "123431653f25457a89366ef9d99c2735",
       "version_major": 2,
       "version_minor": 0
      },
      "text/plain": [
       "POS_Nonlinear Epoch 9:   0%|          | 0/250 [00:00<?, ?it/s]"
      ]
     },
     "metadata": {},
     "output_type": "display_data"
    },
    {
     "name": "stdout",
     "output_type": "stream",
     "text": [
      "POS_Nonlinear - Epoch 9, Loss: 0.1911, Val Accuracy: 0.8808\n"
     ]
    },
    {
     "data": {
      "application/vnd.jupyter.widget-view+json": {
       "model_id": "5dc13168257043a8b917dcf33b829f97",
       "version_major": 2,
       "version_minor": 0
      },
      "text/plain": [
       "POS_Nonlinear Epoch 10:   0%|          | 0/250 [00:00<?, ?it/s]"
      ]
     },
     "metadata": {},
     "output_type": "display_data"
    },
    {
     "name": "stdout",
     "output_type": "stream",
     "text": [
      "POS_Nonlinear - Epoch 10, Loss: 0.1728, Val Accuracy: 0.8848\n"
     ]
    },
    {
     "data": {
      "application/vnd.jupyter.widget-view+json": {
       "model_id": "7f0000e836a549dfb665552e6e59fdb8",
       "version_major": 2,
       "version_minor": 0
      },
      "text/plain": [
       "DEP_Nonlinear Epoch 1:   0%|          | 0/250 [00:00<?, ?it/s]"
      ]
     },
     "metadata": {},
     "output_type": "display_data"
    },
    {
     "name": "stdout",
     "output_type": "stream",
     "text": [
      "DEP_Nonlinear - Epoch 1, Loss: 2.2302, Val Accuracy: 0.5757\n"
     ]
    },
    {
     "data": {
      "application/vnd.jupyter.widget-view+json": {
       "model_id": "fc02e5e1e2204ea3968ef5a1dba12a1e",
       "version_major": 2,
       "version_minor": 0
      },
      "text/plain": [
       "DEP_Nonlinear Epoch 2:   0%|          | 0/250 [00:00<?, ?it/s]"
      ]
     },
     "metadata": {},
     "output_type": "display_data"
    },
    {
     "name": "stdout",
     "output_type": "stream",
     "text": [
      "DEP_Nonlinear - Epoch 2, Loss: 1.3575, Val Accuracy: 0.6275\n"
     ]
    },
    {
     "data": {
      "application/vnd.jupyter.widget-view+json": {
       "model_id": "de5fa3674b0541e8917a4480bd8b5cb6",
       "version_major": 2,
       "version_minor": 0
      },
      "text/plain": [
       "DEP_Nonlinear Epoch 3:   0%|          | 0/250 [00:00<?, ?it/s]"
      ]
     },
     "metadata": {},
     "output_type": "display_data"
    },
    {
     "name": "stdout",
     "output_type": "stream",
     "text": [
      "DEP_Nonlinear - Epoch 3, Loss: 1.1446, Val Accuracy: 0.6507\n"
     ]
    },
    {
     "data": {
      "application/vnd.jupyter.widget-view+json": {
       "model_id": "547518451595400f8693667f13c7b7ee",
       "version_major": 2,
       "version_minor": 0
      },
      "text/plain": [
       "DEP_Nonlinear Epoch 4:   0%|          | 0/250 [00:00<?, ?it/s]"
      ]
     },
     "metadata": {},
     "output_type": "display_data"
    },
    {
     "name": "stdout",
     "output_type": "stream",
     "text": [
      "DEP_Nonlinear - Epoch 4, Loss: 1.0217, Val Accuracy: 0.6690\n"
     ]
    },
    {
     "data": {
      "application/vnd.jupyter.widget-view+json": {
       "model_id": "589c207a2b724db49b7d624013cc2c69",
       "version_major": 2,
       "version_minor": 0
      },
      "text/plain": [
       "DEP_Nonlinear Epoch 5:   0%|          | 0/250 [00:00<?, ?it/s]"
      ]
     },
     "metadata": {},
     "output_type": "display_data"
    },
    {
     "name": "stdout",
     "output_type": "stream",
     "text": [
      "DEP_Nonlinear - Epoch 5, Loss: 0.9318, Val Accuracy: 0.6765\n"
     ]
    },
    {
     "data": {
      "application/vnd.jupyter.widget-view+json": {
       "model_id": "00364c0cc71a40c1ae956daf1f9daf0d",
       "version_major": 2,
       "version_minor": 0
      },
      "text/plain": [
       "DEP_Nonlinear Epoch 6:   0%|          | 0/250 [00:00<?, ?it/s]"
      ]
     },
     "metadata": {},
     "output_type": "display_data"
    },
    {
     "name": "stdout",
     "output_type": "stream",
     "text": [
      "DEP_Nonlinear - Epoch 6, Loss: 0.8580, Val Accuracy: 0.6770\n"
     ]
    },
    {
     "data": {
      "application/vnd.jupyter.widget-view+json": {
       "model_id": "00849ce6efec4f64b194b73bc9a0382b",
       "version_major": 2,
       "version_minor": 0
      },
      "text/plain": [
       "DEP_Nonlinear Epoch 7:   0%|          | 0/250 [00:00<?, ?it/s]"
      ]
     },
     "metadata": {},
     "output_type": "display_data"
    },
    {
     "name": "stdout",
     "output_type": "stream",
     "text": [
      "DEP_Nonlinear - Epoch 7, Loss: 0.7973, Val Accuracy: 0.6733\n"
     ]
    },
    {
     "data": {
      "application/vnd.jupyter.widget-view+json": {
       "model_id": "b2a9cda7303c4773b18b18c9610689a3",
       "version_major": 2,
       "version_minor": 0
      },
      "text/plain": [
       "DEP_Nonlinear Epoch 8:   0%|          | 0/250 [00:00<?, ?it/s]"
      ]
     },
     "metadata": {},
     "output_type": "display_data"
    },
    {
     "name": "stdout",
     "output_type": "stream",
     "text": [
      "DEP_Nonlinear - Epoch 8, Loss: 0.7442, Val Accuracy: 0.6758\n"
     ]
    },
    {
     "data": {
      "application/vnd.jupyter.widget-view+json": {
       "model_id": "38bc109e52a5403ebac890f7171c2aea",
       "version_major": 2,
       "version_minor": 0
      },
      "text/plain": [
       "DEP_Nonlinear Epoch 9:   0%|          | 0/250 [00:00<?, ?it/s]"
      ]
     },
     "metadata": {},
     "output_type": "display_data"
    },
    {
     "name": "stdout",
     "output_type": "stream",
     "text": [
      "DEP_Nonlinear - Epoch 9, Loss: 0.6941, Val Accuracy: 0.6835\n"
     ]
    },
    {
     "data": {
      "application/vnd.jupyter.widget-view+json": {
       "model_id": "b6685fffe55a497b8ad3ce69a4786981",
       "version_major": 2,
       "version_minor": 0
      },
      "text/plain": [
       "DEP_Nonlinear Epoch 10:   0%|          | 0/250 [00:00<?, ?it/s]"
      ]
     },
     "metadata": {},
     "output_type": "display_data"
    },
    {
     "name": "stdout",
     "output_type": "stream",
     "text": [
      "DEP_Nonlinear - Epoch 10, Loss: 0.6514, Val Accuracy: 0.6768\n",
      "\n",
      "=== Evaluating Random Baselines ===\n",
      "\n",
      "=== Training with Shuffled Labels ===\n"
     ]
    },
    {
     "data": {
      "application/vnd.jupyter.widget-view+json": {
       "model_id": "f46ef0dc5f354c069c53700e6b1d9393",
       "version_major": 2,
       "version_minor": 0
      },
      "text/plain": [
       "POS_Shuffled Epoch 1:   0%|          | 0/250 [00:00<?, ?it/s]"
      ]
     },
     "metadata": {},
     "output_type": "display_data"
    },
    {
     "name": "stdout",
     "output_type": "stream",
     "text": [
      "POS_Shuffled - Epoch 1, Loss: 2.5714, Val Accuracy: 0.1468\n"
     ]
    },
    {
     "data": {
      "application/vnd.jupyter.widget-view+json": {
       "model_id": "3d22abeca51f4ecb9c1140c96624ec4e",
       "version_major": 2,
       "version_minor": 0
      },
      "text/plain": [
       "POS_Shuffled Epoch 2:   0%|          | 0/250 [00:00<?, ?it/s]"
      ]
     },
     "metadata": {},
     "output_type": "display_data"
    },
    {
     "name": "stdout",
     "output_type": "stream",
     "text": [
      "POS_Shuffled - Epoch 2, Loss: 2.4479, Val Accuracy: 0.1558\n"
     ]
    },
    {
     "data": {
      "application/vnd.jupyter.widget-view+json": {
       "model_id": "805723fc8d004cc3831bf99ebae972fb",
       "version_major": 2,
       "version_minor": 0
      },
      "text/plain": [
       "POS_Shuffled Epoch 3:   0%|          | 0/250 [00:00<?, ?it/s]"
      ]
     },
     "metadata": {},
     "output_type": "display_data"
    },
    {
     "name": "stdout",
     "output_type": "stream",
     "text": [
      "POS_Shuffled - Epoch 3, Loss: 2.4109, Val Accuracy: 0.1462\n"
     ]
    },
    {
     "data": {
      "application/vnd.jupyter.widget-view+json": {
       "model_id": "cb542885b8524127b37171946f8eed04",
       "version_major": 2,
       "version_minor": 0
      },
      "text/plain": [
       "POS_Shuffled Epoch 4:   0%|          | 0/250 [00:00<?, ?it/s]"
      ]
     },
     "metadata": {},
     "output_type": "display_data"
    },
    {
     "name": "stdout",
     "output_type": "stream",
     "text": [
      "POS_Shuffled - Epoch 4, Loss: 2.3884, Val Accuracy: 0.1468\n"
     ]
    },
    {
     "data": {
      "application/vnd.jupyter.widget-view+json": {
       "model_id": "bd10d74c4e5d47f99ad7505aece43a8f",
       "version_major": 2,
       "version_minor": 0
      },
      "text/plain": [
       "POS_Shuffled Epoch 5:   0%|          | 0/250 [00:00<?, ?it/s]"
      ]
     },
     "metadata": {},
     "output_type": "display_data"
    },
    {
     "name": "stdout",
     "output_type": "stream",
     "text": [
      "POS_Shuffled - Epoch 5, Loss: 2.3726, Val Accuracy: 0.1478\n"
     ]
    },
    {
     "data": {
      "application/vnd.jupyter.widget-view+json": {
       "model_id": "2b9749445c6b40d7b77bf38a23024435",
       "version_major": 2,
       "version_minor": 0
      },
      "text/plain": [
       "POS_Shuffled Epoch 6:   0%|          | 0/250 [00:00<?, ?it/s]"
      ]
     },
     "metadata": {},
     "output_type": "display_data"
    },
    {
     "name": "stdout",
     "output_type": "stream",
     "text": [
      "POS_Shuffled - Epoch 6, Loss: 2.3605, Val Accuracy: 0.1458\n"
     ]
    },
    {
     "data": {
      "application/vnd.jupyter.widget-view+json": {
       "model_id": "c480bf9b227c4a9eac9fbff7c3acea85",
       "version_major": 2,
       "version_minor": 0
      },
      "text/plain": [
       "POS_Shuffled Epoch 7:   0%|          | 0/250 [00:00<?, ?it/s]"
      ]
     },
     "metadata": {},
     "output_type": "display_data"
    },
    {
     "name": "stdout",
     "output_type": "stream",
     "text": [
      "POS_Shuffled - Epoch 7, Loss: 2.3507, Val Accuracy: 0.1405\n"
     ]
    },
    {
     "data": {
      "application/vnd.jupyter.widget-view+json": {
       "model_id": "7ef29fc5804d468ea70713f52ecd26fb",
       "version_major": 2,
       "version_minor": 0
      },
      "text/plain": [
       "POS_Shuffled Epoch 8:   0%|          | 0/250 [00:00<?, ?it/s]"
      ]
     },
     "metadata": {},
     "output_type": "display_data"
    },
    {
     "name": "stdout",
     "output_type": "stream",
     "text": [
      "POS_Shuffled - Epoch 8, Loss: 2.3428, Val Accuracy: 0.1332\n"
     ]
    },
    {
     "data": {
      "application/vnd.jupyter.widget-view+json": {
       "model_id": "2a8726ec8a30415c900808403aef5720",
       "version_major": 2,
       "version_minor": 0
      },
      "text/plain": [
       "POS_Shuffled Epoch 9:   0%|          | 0/250 [00:00<?, ?it/s]"
      ]
     },
     "metadata": {},
     "output_type": "display_data"
    },
    {
     "name": "stdout",
     "output_type": "stream",
     "text": [
      "POS_Shuffled - Epoch 9, Loss: 2.3362, Val Accuracy: 0.1408\n"
     ]
    },
    {
     "data": {
      "application/vnd.jupyter.widget-view+json": {
       "model_id": "b9269f80bd7c42d59504fdb39ec16664",
       "version_major": 2,
       "version_minor": 0
      },
      "text/plain": [
       "POS_Shuffled Epoch 10:   0%|          | 0/250 [00:00<?, ?it/s]"
      ]
     },
     "metadata": {},
     "output_type": "display_data"
    },
    {
     "name": "stdout",
     "output_type": "stream",
     "text": [
      "POS_Shuffled - Epoch 10, Loss: 2.3303, Val Accuracy: 0.1332\n"
     ]
    },
    {
     "data": {
      "application/vnd.jupyter.widget-view+json": {
       "model_id": "c0728c2aad0e4697919691e857b366af",
       "version_major": 2,
       "version_minor": 0
      },
      "text/plain": [
       "DEP_Shuffled Epoch 1:   0%|          | 0/250 [00:00<?, ?it/s]"
      ]
     },
     "metadata": {},
     "output_type": "display_data"
    },
    {
     "name": "stdout",
     "output_type": "stream",
     "text": [
      "DEP_Shuffled - Epoch 1, Loss: 3.4170, Val Accuracy: 0.1205\n"
     ]
    },
    {
     "data": {
      "application/vnd.jupyter.widget-view+json": {
       "model_id": "8c739305d49445ba9e2475c9d4d461b5",
       "version_major": 2,
       "version_minor": 0
      },
      "text/plain": [
       "DEP_Shuffled Epoch 2:   0%|          | 0/250 [00:00<?, ?it/s]"
      ]
     },
     "metadata": {},
     "output_type": "display_data"
    },
    {
     "name": "stdout",
     "output_type": "stream",
     "text": [
      "DEP_Shuffled - Epoch 2, Loss: 3.1813, Val Accuracy: 0.1328\n"
     ]
    },
    {
     "data": {
      "application/vnd.jupyter.widget-view+json": {
       "model_id": "844ab2f9b0b44baabfd7336aa9bfff43",
       "version_major": 2,
       "version_minor": 0
      },
      "text/plain": [
       "DEP_Shuffled Epoch 3:   0%|          | 0/250 [00:00<?, ?it/s]"
      ]
     },
     "metadata": {},
     "output_type": "display_data"
    },
    {
     "name": "stdout",
     "output_type": "stream",
     "text": [
      "DEP_Shuffled - Epoch 3, Loss: 3.1102, Val Accuracy: 0.1285\n"
     ]
    },
    {
     "data": {
      "application/vnd.jupyter.widget-view+json": {
       "model_id": "2186c2fc0d304a28b300bdc82facd110",
       "version_major": 2,
       "version_minor": 0
      },
      "text/plain": [
       "DEP_Shuffled Epoch 4:   0%|          | 0/250 [00:00<?, ?it/s]"
      ]
     },
     "metadata": {},
     "output_type": "display_data"
    },
    {
     "name": "stdout",
     "output_type": "stream",
     "text": [
      "DEP_Shuffled - Epoch 4, Loss: 3.0652, Val Accuracy: 0.1310\n"
     ]
    },
    {
     "data": {
      "application/vnd.jupyter.widget-view+json": {
       "model_id": "7ef1e2c94e9c4345a9550af6bca6623a",
       "version_major": 2,
       "version_minor": 0
      },
      "text/plain": [
       "DEP_Shuffled Epoch 5:   0%|          | 0/250 [00:00<?, ?it/s]"
      ]
     },
     "metadata": {},
     "output_type": "display_data"
    },
    {
     "name": "stdout",
     "output_type": "stream",
     "text": [
      "DEP_Shuffled - Epoch 5, Loss: 3.0315, Val Accuracy: 0.1293\n"
     ]
    },
    {
     "data": {
      "application/vnd.jupyter.widget-view+json": {
       "model_id": "37b12b430ff243c0a3ac167733e54e6e",
       "version_major": 2,
       "version_minor": 0
      },
      "text/plain": [
       "DEP_Shuffled Epoch 6:   0%|          | 0/250 [00:00<?, ?it/s]"
      ]
     },
     "metadata": {},
     "output_type": "display_data"
    },
    {
     "name": "stdout",
     "output_type": "stream",
     "text": [
      "DEP_Shuffled - Epoch 6, Loss: 3.0051, Val Accuracy: 0.1277\n"
     ]
    },
    {
     "data": {
      "application/vnd.jupyter.widget-view+json": {
       "model_id": "03f166bc62d245c4bf9e8286febe06b5",
       "version_major": 2,
       "version_minor": 0
      },
      "text/plain": [
       "DEP_Shuffled Epoch 7:   0%|          | 0/250 [00:00<?, ?it/s]"
      ]
     },
     "metadata": {},
     "output_type": "display_data"
    },
    {
     "name": "stdout",
     "output_type": "stream",
     "text": [
      "DEP_Shuffled - Epoch 7, Loss: 2.9828, Val Accuracy: 0.1270\n"
     ]
    },
    {
     "data": {
      "application/vnd.jupyter.widget-view+json": {
       "model_id": "0c22e15016eb4625a095716275b9d811",
       "version_major": 2,
       "version_minor": 0
      },
      "text/plain": [
       "DEP_Shuffled Epoch 8:   0%|          | 0/250 [00:00<?, ?it/s]"
      ]
     },
     "metadata": {},
     "output_type": "display_data"
    },
    {
     "name": "stdout",
     "output_type": "stream",
     "text": [
      "DEP_Shuffled - Epoch 8, Loss: 2.9647, Val Accuracy: 0.1262\n"
     ]
    },
    {
     "data": {
      "application/vnd.jupyter.widget-view+json": {
       "model_id": "841f9ec7a5494953a67b679f154894dc",
       "version_major": 2,
       "version_minor": 0
      },
      "text/plain": [
       "DEP_Shuffled Epoch 9:   0%|          | 0/250 [00:00<?, ?it/s]"
      ]
     },
     "metadata": {},
     "output_type": "display_data"
    },
    {
     "name": "stdout",
     "output_type": "stream",
     "text": [
      "DEP_Shuffled - Epoch 9, Loss: 2.9483, Val Accuracy: 0.1265\n"
     ]
    },
    {
     "data": {
      "application/vnd.jupyter.widget-view+json": {
       "model_id": "8d065f7e757543e7a198c6edccaa0ea4",
       "version_major": 2,
       "version_minor": 0
      },
      "text/plain": [
       "DEP_Shuffled Epoch 10:   0%|          | 0/250 [00:00<?, ?it/s]"
      ]
     },
     "metadata": {},
     "output_type": "display_data"
    },
    {
     "name": "stdout",
     "output_type": "stream",
     "text": [
      "DEP_Shuffled - Epoch 10, Loss: 2.9344, Val Accuracy: 0.1255\n",
      "\n",
      "=== Training with Random Representations ===\n"
     ]
    },
    {
     "data": {
      "application/vnd.jupyter.widget-view+json": {
       "model_id": "a369f23c0093454bbd461d2b33467c23",
       "version_major": 2,
       "version_minor": 0
      },
      "text/plain": [
       "POS_RandomRep Epoch 1:   0%|          | 0/250 [00:00<?, ?it/s]"
      ]
     },
     "metadata": {},
     "output_type": "display_data"
    },
    {
     "name": "stdout",
     "output_type": "stream",
     "text": [
      "POS_RandomRep - Epoch 1, Loss: 2.8715, Val Accuracy: 0.1103\n"
     ]
    },
    {
     "data": {
      "application/vnd.jupyter.widget-view+json": {
       "model_id": "3e36475a731b4bf0a66487edcf30f402",
       "version_major": 2,
       "version_minor": 0
      },
      "text/plain": [
       "POS_RandomRep Epoch 2:   0%|          | 0/250 [00:00<?, ?it/s]"
      ]
     },
     "metadata": {},
     "output_type": "display_data"
    },
    {
     "name": "stdout",
     "output_type": "stream",
     "text": [
      "POS_RandomRep - Epoch 2, Loss: 2.6351, Val Accuracy: 0.1173\n"
     ]
    },
    {
     "data": {
      "application/vnd.jupyter.widget-view+json": {
       "model_id": "72797c4c6827462ab0fa3ec00b8646a7",
       "version_major": 2,
       "version_minor": 0
      },
      "text/plain": [
       "POS_RandomRep Epoch 3:   0%|          | 0/250 [00:00<?, ?it/s]"
      ]
     },
     "metadata": {},
     "output_type": "display_data"
    },
    {
     "name": "stdout",
     "output_type": "stream",
     "text": [
      "POS_RandomRep - Epoch 3, Loss: 2.5219, Val Accuracy: 0.1258\n"
     ]
    },
    {
     "data": {
      "application/vnd.jupyter.widget-view+json": {
       "model_id": "ba6f2121386140b7b4a59fffbb589699",
       "version_major": 2,
       "version_minor": 0
      },
      "text/plain": [
       "POS_RandomRep Epoch 4:   0%|          | 0/250 [00:00<?, ?it/s]"
      ]
     },
     "metadata": {},
     "output_type": "display_data"
    },
    {
     "name": "stdout",
     "output_type": "stream",
     "text": [
      "POS_RandomRep - Epoch 4, Loss: 2.4593, Val Accuracy: 0.1305\n"
     ]
    },
    {
     "data": {
      "application/vnd.jupyter.widget-view+json": {
       "model_id": "d7487f50b6d749178bfe9dc982d00d73",
       "version_major": 2,
       "version_minor": 0
      },
      "text/plain": [
       "POS_RandomRep Epoch 5:   0%|          | 0/250 [00:00<?, ?it/s]"
      ]
     },
     "metadata": {},
     "output_type": "display_data"
    },
    {
     "name": "stdout",
     "output_type": "stream",
     "text": [
      "POS_RandomRep - Epoch 5, Loss: 2.4211, Val Accuracy: 0.1332\n"
     ]
    },
    {
     "data": {
      "application/vnd.jupyter.widget-view+json": {
       "model_id": "73adcdba124f4b79b8b0c5c612547147",
       "version_major": 2,
       "version_minor": 0
      },
      "text/plain": [
       "POS_RandomRep Epoch 6:   0%|          | 0/250 [00:00<?, ?it/s]"
      ]
     },
     "metadata": {},
     "output_type": "display_data"
    },
    {
     "name": "stdout",
     "output_type": "stream",
     "text": [
      "POS_RandomRep - Epoch 6, Loss: 2.3953, Val Accuracy: 0.1385\n"
     ]
    },
    {
     "data": {
      "application/vnd.jupyter.widget-view+json": {
       "model_id": "44ed9afceb9449a6a7ea9cf4370ece7a",
       "version_major": 2,
       "version_minor": 0
      },
      "text/plain": [
       "POS_RandomRep Epoch 7:   0%|          | 0/250 [00:00<?, ?it/s]"
      ]
     },
     "metadata": {},
     "output_type": "display_data"
    },
    {
     "name": "stdout",
     "output_type": "stream",
     "text": [
      "POS_RandomRep - Epoch 7, Loss: 2.3770, Val Accuracy: 0.1425\n"
     ]
    },
    {
     "data": {
      "application/vnd.jupyter.widget-view+json": {
       "model_id": "99d602c0d7bb47ed8ed6ad3a9932d625",
       "version_major": 2,
       "version_minor": 0
      },
      "text/plain": [
       "POS_RandomRep Epoch 8:   0%|          | 0/250 [00:00<?, ?it/s]"
      ]
     },
     "metadata": {},
     "output_type": "display_data"
    },
    {
     "name": "stdout",
     "output_type": "stream",
     "text": [
      "POS_RandomRep - Epoch 8, Loss: 2.3639, Val Accuracy: 0.1513\n"
     ]
    },
    {
     "data": {
      "application/vnd.jupyter.widget-view+json": {
       "model_id": "b32c3a6f389a462b84bbcee6f18fb789",
       "version_major": 2,
       "version_minor": 0
      },
      "text/plain": [
       "POS_RandomRep Epoch 9:   0%|          | 0/250 [00:00<?, ?it/s]"
      ]
     },
     "metadata": {},
     "output_type": "display_data"
    },
    {
     "name": "stdout",
     "output_type": "stream",
     "text": [
      "POS_RandomRep - Epoch 9, Loss: 2.3555, Val Accuracy: 0.1505\n"
     ]
    },
    {
     "data": {
      "application/vnd.jupyter.widget-view+json": {
       "model_id": "06348d96954b49bc979b70ff9c76432d",
       "version_major": 2,
       "version_minor": 0
      },
      "text/plain": [
       "POS_RandomRep Epoch 10:   0%|          | 0/250 [00:00<?, ?it/s]"
      ]
     },
     "metadata": {},
     "output_type": "display_data"
    },
    {
     "name": "stdout",
     "output_type": "stream",
     "text": [
      "POS_RandomRep - Epoch 10, Loss: 2.3481, Val Accuracy: 0.1542\n"
     ]
    },
    {
     "data": {
      "application/vnd.jupyter.widget-view+json": {
       "model_id": "fd83e165e44e4685a4b38564eac659ea",
       "version_major": 2,
       "version_minor": 0
      },
      "text/plain": [
       "DEP_RandomRep Epoch 1:   0%|          | 0/250 [00:00<?, ?it/s]"
      ]
     },
     "metadata": {},
     "output_type": "display_data"
    },
    {
     "name": "stdout",
     "output_type": "stream",
     "text": [
      "DEP_RandomRep - Epoch 1, Loss: 3.8343, Val Accuracy: 0.0573\n"
     ]
    },
    {
     "data": {
      "application/vnd.jupyter.widget-view+json": {
       "model_id": "25f8f7677faa4dd7b5185ae20ad860a1",
       "version_major": 2,
       "version_minor": 0
      },
      "text/plain": [
       "DEP_RandomRep Epoch 2:   0%|          | 0/250 [00:00<?, ?it/s]"
      ]
     },
     "metadata": {},
     "output_type": "display_data"
    },
    {
     "name": "stdout",
     "output_type": "stream",
     "text": [
      "DEP_RandomRep - Epoch 2, Loss: 3.4837, Val Accuracy: 0.0670\n"
     ]
    },
    {
     "data": {
      "application/vnd.jupyter.widget-view+json": {
       "model_id": "5b983a6de078426d9173f011ab8aabc7",
       "version_major": 2,
       "version_minor": 0
      },
      "text/plain": [
       "DEP_RandomRep Epoch 3:   0%|          | 0/250 [00:00<?, ?it/s]"
      ]
     },
     "metadata": {},
     "output_type": "display_data"
    },
    {
     "name": "stdout",
     "output_type": "stream",
     "text": [
      "DEP_RandomRep - Epoch 3, Loss: 3.2826, Val Accuracy: 0.0725\n"
     ]
    },
    {
     "data": {
      "application/vnd.jupyter.widget-view+json": {
       "model_id": "29f3c926a8ef4b4781beb9ae52a6c2d4",
       "version_major": 2,
       "version_minor": 0
      },
      "text/plain": [
       "DEP_RandomRep Epoch 4:   0%|          | 0/250 [00:00<?, ?it/s]"
      ]
     },
     "metadata": {},
     "output_type": "display_data"
    },
    {
     "name": "stdout",
     "output_type": "stream",
     "text": [
      "DEP_RandomRep - Epoch 4, Loss: 3.1585, Val Accuracy: 0.0740\n"
     ]
    },
    {
     "data": {
      "application/vnd.jupyter.widget-view+json": {
       "model_id": "6bf20f5114a24641be4b9e41dd50b1da",
       "version_major": 2,
       "version_minor": 0
      },
      "text/plain": [
       "DEP_RandomRep Epoch 5:   0%|          | 0/250 [00:00<?, ?it/s]"
      ]
     },
     "metadata": {},
     "output_type": "display_data"
    },
    {
     "name": "stdout",
     "output_type": "stream",
     "text": [
      "DEP_RandomRep - Epoch 5, Loss: 3.0787, Val Accuracy: 0.0785\n"
     ]
    },
    {
     "data": {
      "application/vnd.jupyter.widget-view+json": {
       "model_id": "6d8a516f81874c038ca447b0ba9d6957",
       "version_major": 2,
       "version_minor": 0
      },
      "text/plain": [
       "DEP_RandomRep Epoch 6:   0%|          | 0/250 [00:00<?, ?it/s]"
      ]
     },
     "metadata": {},
     "output_type": "display_data"
    },
    {
     "name": "stdout",
     "output_type": "stream",
     "text": [
      "DEP_RandomRep - Epoch 6, Loss: 3.0235, Val Accuracy: 0.0812\n"
     ]
    },
    {
     "data": {
      "application/vnd.jupyter.widget-view+json": {
       "model_id": "809343dc1bd14f329facda1ecf5ba59d",
       "version_major": 2,
       "version_minor": 0
      },
      "text/plain": [
       "DEP_RandomRep Epoch 7:   0%|          | 0/250 [00:00<?, ?it/s]"
      ]
     },
     "metadata": {},
     "output_type": "display_data"
    },
    {
     "name": "stdout",
     "output_type": "stream",
     "text": [
      "DEP_RandomRep - Epoch 7, Loss: 2.9828, Val Accuracy: 0.0810\n"
     ]
    },
    {
     "data": {
      "application/vnd.jupyter.widget-view+json": {
       "model_id": "0b395b91fe0c4a0282bf47f50d75b3c3",
       "version_major": 2,
       "version_minor": 0
      },
      "text/plain": [
       "DEP_RandomRep Epoch 8:   0%|          | 0/250 [00:00<?, ?it/s]"
      ]
     },
     "metadata": {},
     "output_type": "display_data"
    },
    {
     "name": "stdout",
     "output_type": "stream",
     "text": [
      "DEP_RandomRep - Epoch 8, Loss: 2.9520, Val Accuracy: 0.0817\n"
     ]
    },
    {
     "data": {
      "application/vnd.jupyter.widget-view+json": {
       "model_id": "f4f3628637ff4de1ae8cce999ae878a3",
       "version_major": 2,
       "version_minor": 0
      },
      "text/plain": [
       "DEP_RandomRep Epoch 9:   0%|          | 0/250 [00:00<?, ?it/s]"
      ]
     },
     "metadata": {},
     "output_type": "display_data"
    },
    {
     "name": "stdout",
     "output_type": "stream",
     "text": [
      "DEP_RandomRep - Epoch 9, Loss: 2.9280, Val Accuracy: 0.0812\n"
     ]
    },
    {
     "data": {
      "application/vnd.jupyter.widget-view+json": {
       "model_id": "a760678aa8bd41af953333211f664394",
       "version_major": 2,
       "version_minor": 0
      },
      "text/plain": [
       "DEP_RandomRep Epoch 10:   0%|          | 0/250 [00:00<?, ?it/s]"
      ]
     },
     "metadata": {},
     "output_type": "display_data"
    },
    {
     "name": "stdout",
     "output_type": "stream",
     "text": [
      "DEP_RandomRep - Epoch 10, Loss: 2.9081, Val Accuracy: 0.0830\n",
      "\n",
      "=== Evaluation on Test Set ===\n",
      "\n",
      "Results Summary:\n",
      "------------------------------------------------------------\n",
      "Task       Method          Accuracy  \n",
      "------------------------------------------------------------\n",
      "POS        linear          0.8405\n",
      "POS        nonlinear       0.8848\n",
      "POS        random          0.0608\n",
      "POS        shuffled        0.1332\n",
      "POS        random_rep      0.1542\n",
      "DEP        linear          0.6455\n",
      "DEP        nonlinear       0.6768\n",
      "DEP        random          0.0225\n",
      "DEP        shuffled        0.1255\n",
      "DEP        random_rep      0.0830\n",
      "Train set: 16000 samples\n",
      "Test set: 4000 samples\n",
      "\n",
      "=== Training Main Probes ===\n"
     ]
    },
    {
     "data": {
      "application/vnd.jupyter.widget-view+json": {
       "model_id": "792a7916bea94cd68893ed19f45557ed",
       "version_major": 2,
       "version_minor": 0
      },
      "text/plain": [
       "POS Epoch 1:   0%|          | 0/250 [00:00<?, ?it/s]"
      ]
     },
     "metadata": {},
     "output_type": "display_data"
    },
    {
     "name": "stdout",
     "output_type": "stream",
     "text": [
      "POS - Epoch 1, Loss: 1.8727, Val Accuracy: 0.6963\n"
     ]
    },
    {
     "data": {
      "application/vnd.jupyter.widget-view+json": {
       "model_id": "eb7448989254488390df9d3ada172982",
       "version_major": 2,
       "version_minor": 0
      },
      "text/plain": [
       "POS Epoch 2:   0%|          | 0/250 [00:00<?, ?it/s]"
      ]
     },
     "metadata": {},
     "output_type": "display_data"
    },
    {
     "name": "stdout",
     "output_type": "stream",
     "text": [
      "POS - Epoch 2, Loss: 1.1546, Val Accuracy: 0.7510\n"
     ]
    },
    {
     "data": {
      "application/vnd.jupyter.widget-view+json": {
       "model_id": "3a59fc81ee984fb680044e85e32b44ba",
       "version_major": 2,
       "version_minor": 0
      },
      "text/plain": [
       "POS Epoch 3:   0%|          | 0/250 [00:00<?, ?it/s]"
      ]
     },
     "metadata": {},
     "output_type": "display_data"
    },
    {
     "name": "stdout",
     "output_type": "stream",
     "text": [
      "POS - Epoch 3, Loss: 0.9151, Val Accuracy: 0.7805\n"
     ]
    },
    {
     "data": {
      "application/vnd.jupyter.widget-view+json": {
       "model_id": "95b5e5a27e854c999b090617150b70c0",
       "version_major": 2,
       "version_minor": 0
      },
      "text/plain": [
       "POS Epoch 4:   0%|          | 0/250 [00:00<?, ?it/s]"
      ]
     },
     "metadata": {},
     "output_type": "display_data"
    },
    {
     "name": "stdout",
     "output_type": "stream",
     "text": [
      "POS - Epoch 4, Loss: 0.7874, Val Accuracy: 0.7960\n"
     ]
    },
    {
     "data": {
      "application/vnd.jupyter.widget-view+json": {
       "model_id": "5255b30628f2488fa4819fd953cd6d62",
       "version_major": 2,
       "version_minor": 0
      },
      "text/plain": [
       "POS Epoch 5:   0%|          | 0/250 [00:00<?, ?it/s]"
      ]
     },
     "metadata": {},
     "output_type": "display_data"
    },
    {
     "name": "stdout",
     "output_type": "stream",
     "text": [
      "POS - Epoch 5, Loss: 0.7056, Val Accuracy: 0.8075\n"
     ]
    },
    {
     "data": {
      "application/vnd.jupyter.widget-view+json": {
       "model_id": "a100492cd02f4fab850150e81829ce38",
       "version_major": 2,
       "version_minor": 0
      },
      "text/plain": [
       "POS Epoch 6:   0%|          | 0/250 [00:00<?, ?it/s]"
      ]
     },
     "metadata": {},
     "output_type": "display_data"
    },
    {
     "name": "stdout",
     "output_type": "stream",
     "text": [
      "POS - Epoch 6, Loss: 0.6479, Val Accuracy: 0.8150\n"
     ]
    },
    {
     "data": {
      "application/vnd.jupyter.widget-view+json": {
       "model_id": "d7e631ab2db841e2ae714a0a2b8aa530",
       "version_major": 2,
       "version_minor": 0
      },
      "text/plain": [
       "POS Epoch 7:   0%|          | 0/250 [00:00<?, ?it/s]"
      ]
     },
     "metadata": {},
     "output_type": "display_data"
    },
    {
     "name": "stdout",
     "output_type": "stream",
     "text": [
      "POS - Epoch 7, Loss: 0.6037, Val Accuracy: 0.8232\n"
     ]
    },
    {
     "data": {
      "application/vnd.jupyter.widget-view+json": {
       "model_id": "69555f6cf8864a4faad805828c3e524c",
       "version_major": 2,
       "version_minor": 0
      },
      "text/plain": [
       "POS Epoch 8:   0%|          | 0/250 [00:00<?, ?it/s]"
      ]
     },
     "metadata": {},
     "output_type": "display_data"
    },
    {
     "name": "stdout",
     "output_type": "stream",
     "text": [
      "POS - Epoch 8, Loss: 0.5691, Val Accuracy: 0.8278\n"
     ]
    },
    {
     "data": {
      "application/vnd.jupyter.widget-view+json": {
       "model_id": "b88bda14c7d549478a6c02d036e0f307",
       "version_major": 2,
       "version_minor": 0
      },
      "text/plain": [
       "POS Epoch 9:   0%|          | 0/250 [00:00<?, ?it/s]"
      ]
     },
     "metadata": {},
     "output_type": "display_data"
    },
    {
     "name": "stdout",
     "output_type": "stream",
     "text": [
      "POS - Epoch 9, Loss: 0.5409, Val Accuracy: 0.8345\n"
     ]
    },
    {
     "data": {
      "application/vnd.jupyter.widget-view+json": {
       "model_id": "eae5cba4e0d948b9a5454aeb5f71455c",
       "version_major": 2,
       "version_minor": 0
      },
      "text/plain": [
       "POS Epoch 10:   0%|          | 0/250 [00:00<?, ?it/s]"
      ]
     },
     "metadata": {},
     "output_type": "display_data"
    },
    {
     "name": "stdout",
     "output_type": "stream",
     "text": [
      "POS - Epoch 10, Loss: 0.5172, Val Accuracy: 0.8363\n"
     ]
    },
    {
     "data": {
      "application/vnd.jupyter.widget-view+json": {
       "model_id": "0dc12699e4d9498ca58e06617c20654a",
       "version_major": 2,
       "version_minor": 0
      },
      "text/plain": [
       "DEP Epoch 1:   0%|          | 0/250 [00:00<?, ?it/s]"
      ]
     },
     "metadata": {},
     "output_type": "display_data"
    },
    {
     "name": "stdout",
     "output_type": "stream",
     "text": [
      "DEP - Epoch 1, Loss: 2.7455, Val Accuracy: 0.4882\n"
     ]
    },
    {
     "data": {
      "application/vnd.jupyter.widget-view+json": {
       "model_id": "57a6f90d3bac4a3bb405889bed3704ce",
       "version_major": 2,
       "version_minor": 0
      },
      "text/plain": [
       "DEP Epoch 2:   0%|          | 0/250 [00:00<?, ?it/s]"
      ]
     },
     "metadata": {},
     "output_type": "display_data"
    },
    {
     "name": "stdout",
     "output_type": "stream",
     "text": [
      "DEP - Epoch 2, Loss: 1.9255, Val Accuracy: 0.5412\n"
     ]
    },
    {
     "data": {
      "application/vnd.jupyter.widget-view+json": {
       "model_id": "2ead93c8481842dfb5701bafefa8d8e6",
       "version_major": 2,
       "version_minor": 0
      },
      "text/plain": [
       "DEP Epoch 3:   0%|          | 0/250 [00:00<?, ?it/s]"
      ]
     },
     "metadata": {},
     "output_type": "display_data"
    },
    {
     "name": "stdout",
     "output_type": "stream",
     "text": [
      "DEP - Epoch 3, Loss: 1.6458, Val Accuracy: 0.5658\n"
     ]
    },
    {
     "data": {
      "application/vnd.jupyter.widget-view+json": {
       "model_id": "50c07bb5951744d3b8456e68a8dc5822",
       "version_major": 2,
       "version_minor": 0
      },
      "text/plain": [
       "DEP Epoch 4:   0%|          | 0/250 [00:00<?, ?it/s]"
      ]
     },
     "metadata": {},
     "output_type": "display_data"
    },
    {
     "name": "stdout",
     "output_type": "stream",
     "text": [
      "DEP - Epoch 4, Loss: 1.4892, Val Accuracy: 0.5857\n"
     ]
    },
    {
     "data": {
      "application/vnd.jupyter.widget-view+json": {
       "model_id": "0982830fbd1244dbb28bbd3739535033",
       "version_major": 2,
       "version_minor": 0
      },
      "text/plain": [
       "DEP Epoch 5:   0%|          | 0/250 [00:00<?, ?it/s]"
      ]
     },
     "metadata": {},
     "output_type": "display_data"
    },
    {
     "name": "stdout",
     "output_type": "stream",
     "text": [
      "DEP - Epoch 5, Loss: 1.3834, Val Accuracy: 0.6012\n"
     ]
    },
    {
     "data": {
      "application/vnd.jupyter.widget-view+json": {
       "model_id": "326dafe8d177499cba8a1185be607c71",
       "version_major": 2,
       "version_minor": 0
      },
      "text/plain": [
       "DEP Epoch 6:   0%|          | 0/250 [00:00<?, ?it/s]"
      ]
     },
     "metadata": {},
     "output_type": "display_data"
    },
    {
     "name": "stdout",
     "output_type": "stream",
     "text": [
      "DEP - Epoch 6, Loss: 1.3061, Val Accuracy: 0.6130\n"
     ]
    },
    {
     "data": {
      "application/vnd.jupyter.widget-view+json": {
       "model_id": "9ef346e44a2e4a7eab6ac6bad240c2c6",
       "version_major": 2,
       "version_minor": 0
      },
      "text/plain": [
       "DEP Epoch 7:   0%|          | 0/250 [00:00<?, ?it/s]"
      ]
     },
     "metadata": {},
     "output_type": "display_data"
    },
    {
     "name": "stdout",
     "output_type": "stream",
     "text": [
      "DEP - Epoch 7, Loss: 1.2458, Val Accuracy: 0.6210\n"
     ]
    },
    {
     "data": {
      "application/vnd.jupyter.widget-view+json": {
       "model_id": "26677fb0ba5944faa49299cdb5a59b00",
       "version_major": 2,
       "version_minor": 0
      },
      "text/plain": [
       "DEP Epoch 8:   0%|          | 0/250 [00:00<?, ?it/s]"
      ]
     },
     "metadata": {},
     "output_type": "display_data"
    },
    {
     "name": "stdout",
     "output_type": "stream",
     "text": [
      "DEP - Epoch 8, Loss: 1.1974, Val Accuracy: 0.6225\n"
     ]
    },
    {
     "data": {
      "application/vnd.jupyter.widget-view+json": {
       "model_id": "8248c7155b2844aea505445764e7a83a",
       "version_major": 2,
       "version_minor": 0
      },
      "text/plain": [
       "DEP Epoch 9:   0%|          | 0/250 [00:00<?, ?it/s]"
      ]
     },
     "metadata": {},
     "output_type": "display_data"
    },
    {
     "name": "stdout",
     "output_type": "stream",
     "text": [
      "DEP - Epoch 9, Loss: 1.1564, Val Accuracy: 0.6305\n"
     ]
    },
    {
     "data": {
      "application/vnd.jupyter.widget-view+json": {
       "model_id": "51a2f6203fc740eb89f7c3e4aa26f495",
       "version_major": 2,
       "version_minor": 0
      },
      "text/plain": [
       "DEP Epoch 10:   0%|          | 0/250 [00:00<?, ?it/s]"
      ]
     },
     "metadata": {},
     "output_type": "display_data"
    },
    {
     "name": "stdout",
     "output_type": "stream",
     "text": [
      "DEP - Epoch 10, Loss: 1.1220, Val Accuracy: 0.6365\n",
      "\n",
      "=== Training Nonlinear Probes ===\n"
     ]
    },
    {
     "data": {
      "application/vnd.jupyter.widget-view+json": {
       "model_id": "e2be94d6669747efa5e8da6449ced6c9",
       "version_major": 2,
       "version_minor": 0
      },
      "text/plain": [
       "POS_Nonlinear Epoch 1:   0%|          | 0/250 [00:00<?, ?it/s]"
      ]
     },
     "metadata": {},
     "output_type": "display_data"
    },
    {
     "name": "stdout",
     "output_type": "stream",
     "text": [
      "POS_Nonlinear - Epoch 1, Loss: 1.2973, Val Accuracy: 0.7900\n"
     ]
    },
    {
     "data": {
      "application/vnd.jupyter.widget-view+json": {
       "model_id": "bbd09c87d3844c67a9cb183a7bf07e97",
       "version_major": 2,
       "version_minor": 0
      },
      "text/plain": [
       "POS_Nonlinear Epoch 2:   0%|          | 0/250 [00:00<?, ?it/s]"
      ]
     },
     "metadata": {},
     "output_type": "display_data"
    },
    {
     "name": "stdout",
     "output_type": "stream",
     "text": [
      "POS_Nonlinear - Epoch 2, Loss: 0.5644, Val Accuracy: 0.8415\n"
     ]
    },
    {
     "data": {
      "application/vnd.jupyter.widget-view+json": {
       "model_id": "de19d0839af14fe59a9be2a56852ebb6",
       "version_major": 2,
       "version_minor": 0
      },
      "text/plain": [
       "POS_Nonlinear Epoch 3:   0%|          | 0/250 [00:00<?, ?it/s]"
      ]
     },
     "metadata": {},
     "output_type": "display_data"
    },
    {
     "name": "stdout",
     "output_type": "stream",
     "text": [
      "POS_Nonlinear - Epoch 3, Loss: 0.4226, Val Accuracy: 0.8587\n"
     ]
    },
    {
     "data": {
      "application/vnd.jupyter.widget-view+json": {
       "model_id": "88696985c5aa4a11a10bc382fe167c3d",
       "version_major": 2,
       "version_minor": 0
      },
      "text/plain": [
       "POS_Nonlinear Epoch 4:   0%|          | 0/250 [00:00<?, ?it/s]"
      ]
     },
     "metadata": {},
     "output_type": "display_data"
    },
    {
     "name": "stdout",
     "output_type": "stream",
     "text": [
      "POS_Nonlinear - Epoch 4, Loss: 0.3494, Val Accuracy: 0.8637\n"
     ]
    },
    {
     "data": {
      "application/vnd.jupyter.widget-view+json": {
       "model_id": "8c3496e132e24f218a660f9ddf02893b",
       "version_major": 2,
       "version_minor": 0
      },
      "text/plain": [
       "POS_Nonlinear Epoch 5:   0%|          | 0/250 [00:00<?, ?it/s]"
      ]
     },
     "metadata": {},
     "output_type": "display_data"
    },
    {
     "name": "stdout",
     "output_type": "stream",
     "text": [
      "POS_Nonlinear - Epoch 5, Loss: 0.2974, Val Accuracy: 0.8652\n"
     ]
    },
    {
     "data": {
      "application/vnd.jupyter.widget-view+json": {
       "model_id": "fb3eaae00f9548818980009eeb962852",
       "version_major": 2,
       "version_minor": 0
      },
      "text/plain": [
       "POS_Nonlinear Epoch 6:   0%|          | 0/250 [00:00<?, ?it/s]"
      ]
     },
     "metadata": {},
     "output_type": "display_data"
    },
    {
     "name": "stdout",
     "output_type": "stream",
     "text": [
      "POS_Nonlinear - Epoch 6, Loss: 0.2616, Val Accuracy: 0.8727\n"
     ]
    },
    {
     "data": {
      "application/vnd.jupyter.widget-view+json": {
       "model_id": "099591def68e43739593729d0c7008b0",
       "version_major": 2,
       "version_minor": 0
      },
      "text/plain": [
       "POS_Nonlinear Epoch 7:   0%|          | 0/250 [00:00<?, ?it/s]"
      ]
     },
     "metadata": {},
     "output_type": "display_data"
    },
    {
     "name": "stdout",
     "output_type": "stream",
     "text": [
      "POS_Nonlinear - Epoch 7, Loss: 0.2300, Val Accuracy: 0.8750\n"
     ]
    },
    {
     "data": {
      "application/vnd.jupyter.widget-view+json": {
       "model_id": "fbd3e77d210e49ec84e828f5bb884be9",
       "version_major": 2,
       "version_minor": 0
      },
      "text/plain": [
       "POS_Nonlinear Epoch 8:   0%|          | 0/250 [00:00<?, ?it/s]"
      ]
     },
     "metadata": {},
     "output_type": "display_data"
    },
    {
     "name": "stdout",
     "output_type": "stream",
     "text": [
      "POS_Nonlinear - Epoch 8, Loss: 0.2052, Val Accuracy: 0.8735\n"
     ]
    },
    {
     "data": {
      "application/vnd.jupyter.widget-view+json": {
       "model_id": "11d42ec7c49f44a68d1b81347c5cb9b0",
       "version_major": 2,
       "version_minor": 0
      },
      "text/plain": [
       "POS_Nonlinear Epoch 9:   0%|          | 0/250 [00:00<?, ?it/s]"
      ]
     },
     "metadata": {},
     "output_type": "display_data"
    },
    {
     "name": "stdout",
     "output_type": "stream",
     "text": [
      "POS_Nonlinear - Epoch 9, Loss: 0.1840, Val Accuracy: 0.8783\n"
     ]
    },
    {
     "data": {
      "application/vnd.jupyter.widget-view+json": {
       "model_id": "9a4e1c2fa031433ca69431b147b72183",
       "version_major": 2,
       "version_minor": 0
      },
      "text/plain": [
       "POS_Nonlinear Epoch 10:   0%|          | 0/250 [00:00<?, ?it/s]"
      ]
     },
     "metadata": {},
     "output_type": "display_data"
    },
    {
     "name": "stdout",
     "output_type": "stream",
     "text": [
      "POS_Nonlinear - Epoch 10, Loss: 0.1654, Val Accuracy: 0.8800\n"
     ]
    },
    {
     "data": {
      "application/vnd.jupyter.widget-view+json": {
       "model_id": "d7efed8f8a494945832a033db81dda72",
       "version_major": 2,
       "version_minor": 0
      },
      "text/plain": [
       "DEP_Nonlinear Epoch 1:   0%|          | 0/250 [00:00<?, ?it/s]"
      ]
     },
     "metadata": {},
     "output_type": "display_data"
    },
    {
     "name": "stdout",
     "output_type": "stream",
     "text": [
      "DEP_Nonlinear - Epoch 1, Loss: 2.2222, Val Accuracy: 0.5663\n"
     ]
    },
    {
     "data": {
      "application/vnd.jupyter.widget-view+json": {
       "model_id": "0c3388ed5e934b48a00255d11b6763dc",
       "version_major": 2,
       "version_minor": 0
      },
      "text/plain": [
       "DEP_Nonlinear Epoch 2:   0%|          | 0/250 [00:00<?, ?it/s]"
      ]
     },
     "metadata": {},
     "output_type": "display_data"
    },
    {
     "name": "stdout",
     "output_type": "stream",
     "text": [
      "DEP_Nonlinear - Epoch 2, Loss: 1.3611, Val Accuracy: 0.6227\n"
     ]
    },
    {
     "data": {
      "application/vnd.jupyter.widget-view+json": {
       "model_id": "aa0ccb300bdd4bd5a6cbcc4f3facba79",
       "version_major": 2,
       "version_minor": 0
      },
      "text/plain": [
       "DEP_Nonlinear Epoch 3:   0%|          | 0/250 [00:00<?, ?it/s]"
      ]
     },
     "metadata": {},
     "output_type": "display_data"
    },
    {
     "name": "stdout",
     "output_type": "stream",
     "text": [
      "DEP_Nonlinear - Epoch 3, Loss: 1.1457, Val Accuracy: 0.6525\n"
     ]
    },
    {
     "data": {
      "application/vnd.jupyter.widget-view+json": {
       "model_id": "24e10567f07d4425bf65d9525caf0fa5",
       "version_major": 2,
       "version_minor": 0
      },
      "text/plain": [
       "DEP_Nonlinear Epoch 4:   0%|          | 0/250 [00:00<?, ?it/s]"
      ]
     },
     "metadata": {},
     "output_type": "display_data"
    },
    {
     "name": "stdout",
     "output_type": "stream",
     "text": [
      "DEP_Nonlinear - Epoch 4, Loss: 1.0185, Val Accuracy: 0.6575\n"
     ]
    },
    {
     "data": {
      "application/vnd.jupyter.widget-view+json": {
       "model_id": "efede12ead1b46779db89db9f8c0461a",
       "version_major": 2,
       "version_minor": 0
      },
      "text/plain": [
       "DEP_Nonlinear Epoch 5:   0%|          | 0/250 [00:00<?, ?it/s]"
      ]
     },
     "metadata": {},
     "output_type": "display_data"
    },
    {
     "name": "stdout",
     "output_type": "stream",
     "text": [
      "DEP_Nonlinear - Epoch 5, Loss: 0.9289, Val Accuracy: 0.6702\n"
     ]
    },
    {
     "data": {
      "application/vnd.jupyter.widget-view+json": {
       "model_id": "652099812b294b9196c35bbf09459416",
       "version_major": 2,
       "version_minor": 0
      },
      "text/plain": [
       "DEP_Nonlinear Epoch 6:   0%|          | 0/250 [00:00<?, ?it/s]"
      ]
     },
     "metadata": {},
     "output_type": "display_data"
    },
    {
     "name": "stdout",
     "output_type": "stream",
     "text": [
      "DEP_Nonlinear - Epoch 6, Loss: 0.8544, Val Accuracy: 0.6672\n"
     ]
    },
    {
     "data": {
      "application/vnd.jupyter.widget-view+json": {
       "model_id": "009fa9a210574236b314d4e3bd74817e",
       "version_major": 2,
       "version_minor": 0
      },
      "text/plain": [
       "DEP_Nonlinear Epoch 7:   0%|          | 0/250 [00:00<?, ?it/s]"
      ]
     },
     "metadata": {},
     "output_type": "display_data"
    },
    {
     "name": "stdout",
     "output_type": "stream",
     "text": [
      "DEP_Nonlinear - Epoch 7, Loss: 0.7932, Val Accuracy: 0.6743\n"
     ]
    },
    {
     "data": {
      "application/vnd.jupyter.widget-view+json": {
       "model_id": "d3b0c3e06bc848fea101d75bbc1a5b0a",
       "version_major": 2,
       "version_minor": 0
      },
      "text/plain": [
       "DEP_Nonlinear Epoch 8:   0%|          | 0/250 [00:00<?, ?it/s]"
      ]
     },
     "metadata": {},
     "output_type": "display_data"
    },
    {
     "name": "stdout",
     "output_type": "stream",
     "text": [
      "DEP_Nonlinear - Epoch 8, Loss: 0.7414, Val Accuracy: 0.6725\n"
     ]
    },
    {
     "data": {
      "application/vnd.jupyter.widget-view+json": {
       "model_id": "77ae5b309dbb40ef94c6958748f99670",
       "version_major": 2,
       "version_minor": 0
      },
      "text/plain": [
       "DEP_Nonlinear Epoch 9:   0%|          | 0/250 [00:00<?, ?it/s]"
      ]
     },
     "metadata": {},
     "output_type": "display_data"
    },
    {
     "name": "stdout",
     "output_type": "stream",
     "text": [
      "DEP_Nonlinear - Epoch 9, Loss: 0.6936, Val Accuracy: 0.6733\n"
     ]
    },
    {
     "data": {
      "application/vnd.jupyter.widget-view+json": {
       "model_id": "69861a5979fa4efe9a63b43884c414a0",
       "version_major": 2,
       "version_minor": 0
      },
      "text/plain": [
       "DEP_Nonlinear Epoch 10:   0%|          | 0/250 [00:00<?, ?it/s]"
      ]
     },
     "metadata": {},
     "output_type": "display_data"
    },
    {
     "name": "stdout",
     "output_type": "stream",
     "text": [
      "DEP_Nonlinear - Epoch 10, Loss: 0.6496, Val Accuracy: 0.6752\n",
      "\n",
      "=== Evaluating Random Baselines ===\n",
      "\n",
      "=== Training with Shuffled Labels ===\n"
     ]
    },
    {
     "data": {
      "application/vnd.jupyter.widget-view+json": {
       "model_id": "fcb6f7e6938b43838863a81507b139e6",
       "version_major": 2,
       "version_minor": 0
      },
      "text/plain": [
       "POS_Shuffled Epoch 1:   0%|          | 0/250 [00:00<?, ?it/s]"
      ]
     },
     "metadata": {},
     "output_type": "display_data"
    },
    {
     "name": "stdout",
     "output_type": "stream",
     "text": [
      "POS_Shuffled - Epoch 1, Loss: 2.5739, Val Accuracy: 0.1635\n"
     ]
    },
    {
     "data": {
      "application/vnd.jupyter.widget-view+json": {
       "model_id": "5643b43ef8584a07a28b5236e7bed701",
       "version_major": 2,
       "version_minor": 0
      },
      "text/plain": [
       "POS_Shuffled Epoch 2:   0%|          | 0/250 [00:00<?, ?it/s]"
      ]
     },
     "metadata": {},
     "output_type": "display_data"
    },
    {
     "name": "stdout",
     "output_type": "stream",
     "text": [
      "POS_Shuffled - Epoch 2, Loss: 2.4439, Val Accuracy: 0.1587\n"
     ]
    },
    {
     "data": {
      "application/vnd.jupyter.widget-view+json": {
       "model_id": "7fc29b899fd342d3880c5e96690f9a47",
       "version_major": 2,
       "version_minor": 0
      },
      "text/plain": [
       "POS_Shuffled Epoch 3:   0%|          | 0/250 [00:00<?, ?it/s]"
      ]
     },
     "metadata": {},
     "output_type": "display_data"
    },
    {
     "name": "stdout",
     "output_type": "stream",
     "text": [
      "POS_Shuffled - Epoch 3, Loss: 2.4068, Val Accuracy: 0.1593\n"
     ]
    },
    {
     "data": {
      "application/vnd.jupyter.widget-view+json": {
       "model_id": "779dbcad38794c5d9b5bb135f0ef1cb2",
       "version_major": 2,
       "version_minor": 0
      },
      "text/plain": [
       "POS_Shuffled Epoch 4:   0%|          | 0/250 [00:00<?, ?it/s]"
      ]
     },
     "metadata": {},
     "output_type": "display_data"
    },
    {
     "name": "stdout",
     "output_type": "stream",
     "text": [
      "POS_Shuffled - Epoch 4, Loss: 2.3835, Val Accuracy: 0.1538\n"
     ]
    },
    {
     "data": {
      "application/vnd.jupyter.widget-view+json": {
       "model_id": "342f9ecf2ff544c8b072e493f7ec2eae",
       "version_major": 2,
       "version_minor": 0
      },
      "text/plain": [
       "POS_Shuffled Epoch 5:   0%|          | 0/250 [00:00<?, ?it/s]"
      ]
     },
     "metadata": {},
     "output_type": "display_data"
    },
    {
     "name": "stdout",
     "output_type": "stream",
     "text": [
      "POS_Shuffled - Epoch 5, Loss: 2.3675, Val Accuracy: 0.1488\n"
     ]
    },
    {
     "data": {
      "application/vnd.jupyter.widget-view+json": {
       "model_id": "afd1b25b97864f99b04dce70ba31512f",
       "version_major": 2,
       "version_minor": 0
      },
      "text/plain": [
       "POS_Shuffled Epoch 6:   0%|          | 0/250 [00:00<?, ?it/s]"
      ]
     },
     "metadata": {},
     "output_type": "display_data"
    },
    {
     "name": "stdout",
     "output_type": "stream",
     "text": [
      "POS_Shuffled - Epoch 6, Loss: 2.3547, Val Accuracy: 0.1478\n"
     ]
    },
    {
     "data": {
      "application/vnd.jupyter.widget-view+json": {
       "model_id": "2e12a6ee03bb47c1a5eca5d565568d3e",
       "version_major": 2,
       "version_minor": 0
      },
      "text/plain": [
       "POS_Shuffled Epoch 7:   0%|          | 0/250 [00:00<?, ?it/s]"
      ]
     },
     "metadata": {},
     "output_type": "display_data"
    },
    {
     "name": "stdout",
     "output_type": "stream",
     "text": [
      "POS_Shuffled - Epoch 7, Loss: 2.3449, Val Accuracy: 0.1430\n"
     ]
    },
    {
     "data": {
      "application/vnd.jupyter.widget-view+json": {
       "model_id": "9ce94622e7134750b747d3bd3017e357",
       "version_major": 2,
       "version_minor": 0
      },
      "text/plain": [
       "POS_Shuffled Epoch 8:   0%|          | 0/250 [00:00<?, ?it/s]"
      ]
     },
     "metadata": {},
     "output_type": "display_data"
    },
    {
     "name": "stdout",
     "output_type": "stream",
     "text": [
      "POS_Shuffled - Epoch 8, Loss: 2.3367, Val Accuracy: 0.1392\n"
     ]
    },
    {
     "data": {
      "application/vnd.jupyter.widget-view+json": {
       "model_id": "0d3494720d674ff0ba8ba5fcc49fa21f",
       "version_major": 2,
       "version_minor": 0
      },
      "text/plain": [
       "POS_Shuffled Epoch 9:   0%|          | 0/250 [00:00<?, ?it/s]"
      ]
     },
     "metadata": {},
     "output_type": "display_data"
    },
    {
     "name": "stdout",
     "output_type": "stream",
     "text": [
      "POS_Shuffled - Epoch 9, Loss: 2.3297, Val Accuracy: 0.1455\n"
     ]
    },
    {
     "data": {
      "application/vnd.jupyter.widget-view+json": {
       "model_id": "a758d6af8f034767b91e1665d843cc97",
       "version_major": 2,
       "version_minor": 0
      },
      "text/plain": [
       "POS_Shuffled Epoch 10:   0%|          | 0/250 [00:00<?, ?it/s]"
      ]
     },
     "metadata": {},
     "output_type": "display_data"
    },
    {
     "name": "stdout",
     "output_type": "stream",
     "text": [
      "POS_Shuffled - Epoch 10, Loss: 2.3237, Val Accuracy: 0.1452\n"
     ]
    },
    {
     "data": {
      "application/vnd.jupyter.widget-view+json": {
       "model_id": "154713d1048643019fcc15f5d894745b",
       "version_major": 2,
       "version_minor": 0
      },
      "text/plain": [
       "DEP_Shuffled Epoch 1:   0%|          | 0/250 [00:00<?, ?it/s]"
      ]
     },
     "metadata": {},
     "output_type": "display_data"
    },
    {
     "name": "stdout",
     "output_type": "stream",
     "text": [
      "DEP_Shuffled - Epoch 1, Loss: 3.4184, Val Accuracy: 0.1318\n"
     ]
    },
    {
     "data": {
      "application/vnd.jupyter.widget-view+json": {
       "model_id": "184b133ae2254755ac88c6247b971733",
       "version_major": 2,
       "version_minor": 0
      },
      "text/plain": [
       "DEP_Shuffled Epoch 2:   0%|          | 0/250 [00:00<?, ?it/s]"
      ]
     },
     "metadata": {},
     "output_type": "display_data"
    },
    {
     "name": "stdout",
     "output_type": "stream",
     "text": [
      "DEP_Shuffled - Epoch 2, Loss: 3.1800, Val Accuracy: 0.1238\n"
     ]
    },
    {
     "data": {
      "application/vnd.jupyter.widget-view+json": {
       "model_id": "535d9b1b3c3b4aa19cb27752b0e8fbab",
       "version_major": 2,
       "version_minor": 0
      },
      "text/plain": [
       "DEP_Shuffled Epoch 3:   0%|          | 0/250 [00:00<?, ?it/s]"
      ]
     },
     "metadata": {},
     "output_type": "display_data"
    },
    {
     "name": "stdout",
     "output_type": "stream",
     "text": [
      "DEP_Shuffled - Epoch 3, Loss: 3.1088, Val Accuracy: 0.1187\n"
     ]
    },
    {
     "data": {
      "application/vnd.jupyter.widget-view+json": {
       "model_id": "2311c4bc02f0476999d866910c2da5a5",
       "version_major": 2,
       "version_minor": 0
      },
      "text/plain": [
       "DEP_Shuffled Epoch 4:   0%|          | 0/250 [00:00<?, ?it/s]"
      ]
     },
     "metadata": {},
     "output_type": "display_data"
    },
    {
     "name": "stdout",
     "output_type": "stream",
     "text": [
      "DEP_Shuffled - Epoch 4, Loss: 3.0640, Val Accuracy: 0.1150\n"
     ]
    },
    {
     "data": {
      "application/vnd.jupyter.widget-view+json": {
       "model_id": "9bb352c8783040c79e945a85ce93c333",
       "version_major": 2,
       "version_minor": 0
      },
      "text/plain": [
       "DEP_Shuffled Epoch 5:   0%|          | 0/250 [00:00<?, ?it/s]"
      ]
     },
     "metadata": {},
     "output_type": "display_data"
    },
    {
     "name": "stdout",
     "output_type": "stream",
     "text": [
      "DEP_Shuffled - Epoch 5, Loss: 3.0305, Val Accuracy: 0.1168\n"
     ]
    },
    {
     "data": {
      "application/vnd.jupyter.widget-view+json": {
       "model_id": "39ce4535fff149c99cd33090a2ff361c",
       "version_major": 2,
       "version_minor": 0
      },
      "text/plain": [
       "DEP_Shuffled Epoch 6:   0%|          | 0/250 [00:00<?, ?it/s]"
      ]
     },
     "metadata": {},
     "output_type": "display_data"
    },
    {
     "name": "stdout",
     "output_type": "stream",
     "text": [
      "DEP_Shuffled - Epoch 6, Loss: 3.0038, Val Accuracy: 0.1135\n"
     ]
    },
    {
     "data": {
      "application/vnd.jupyter.widget-view+json": {
       "model_id": "e559e4a1309f4cd2b675e0c57ca4168a",
       "version_major": 2,
       "version_minor": 0
      },
      "text/plain": [
       "DEP_Shuffled Epoch 7:   0%|          | 0/250 [00:00<?, ?it/s]"
      ]
     },
     "metadata": {},
     "output_type": "display_data"
    },
    {
     "name": "stdout",
     "output_type": "stream",
     "text": [
      "DEP_Shuffled - Epoch 7, Loss: 2.9820, Val Accuracy: 0.1075\n"
     ]
    },
    {
     "data": {
      "application/vnd.jupyter.widget-view+json": {
       "model_id": "7202002f852c4e358d99a806bb77ce3a",
       "version_major": 2,
       "version_minor": 0
      },
      "text/plain": [
       "DEP_Shuffled Epoch 8:   0%|          | 0/250 [00:00<?, ?it/s]"
      ]
     },
     "metadata": {},
     "output_type": "display_data"
    },
    {
     "name": "stdout",
     "output_type": "stream",
     "text": [
      "DEP_Shuffled - Epoch 8, Loss: 2.9637, Val Accuracy: 0.1105\n"
     ]
    },
    {
     "data": {
      "application/vnd.jupyter.widget-view+json": {
       "model_id": "ed6507f7262749388c5abe7da5d6e5d2",
       "version_major": 2,
       "version_minor": 0
      },
      "text/plain": [
       "DEP_Shuffled Epoch 9:   0%|          | 0/250 [00:00<?, ?it/s]"
      ]
     },
     "metadata": {},
     "output_type": "display_data"
    },
    {
     "name": "stdout",
     "output_type": "stream",
     "text": [
      "DEP_Shuffled - Epoch 9, Loss: 2.9477, Val Accuracy: 0.1040\n"
     ]
    },
    {
     "data": {
      "application/vnd.jupyter.widget-view+json": {
       "model_id": "51ff1cd82efa4a15b690bd86f7b2ebbf",
       "version_major": 2,
       "version_minor": 0
      },
      "text/plain": [
       "DEP_Shuffled Epoch 10:   0%|          | 0/250 [00:00<?, ?it/s]"
      ]
     },
     "metadata": {},
     "output_type": "display_data"
    },
    {
     "name": "stdout",
     "output_type": "stream",
     "text": [
      "DEP_Shuffled - Epoch 10, Loss: 2.9338, Val Accuracy: 0.1088\n",
      "\n",
      "=== Training with Random Representations ===\n"
     ]
    },
    {
     "data": {
      "application/vnd.jupyter.widget-view+json": {
       "model_id": "db81a414f70b44258cf98692ce8f6cfd",
       "version_major": 2,
       "version_minor": 0
      },
      "text/plain": [
       "POS_RandomRep Epoch 1:   0%|          | 0/250 [00:00<?, ?it/s]"
      ]
     },
     "metadata": {},
     "output_type": "display_data"
    },
    {
     "name": "stdout",
     "output_type": "stream",
     "text": [
      "POS_RandomRep - Epoch 1, Loss: 2.8681, Val Accuracy: 0.1065\n"
     ]
    },
    {
     "data": {
      "application/vnd.jupyter.widget-view+json": {
       "model_id": "cb3b9f3c914344f0ac8177927e95de97",
       "version_major": 2,
       "version_minor": 0
      },
      "text/plain": [
       "POS_RandomRep Epoch 2:   0%|          | 0/250 [00:00<?, ?it/s]"
      ]
     },
     "metadata": {},
     "output_type": "display_data"
    },
    {
     "name": "stdout",
     "output_type": "stream",
     "text": [
      "POS_RandomRep - Epoch 2, Loss: 2.6296, Val Accuracy: 0.1192\n"
     ]
    },
    {
     "data": {
      "application/vnd.jupyter.widget-view+json": {
       "model_id": "80b9687922594f5b91e3339a3ed5ee04",
       "version_major": 2,
       "version_minor": 0
      },
      "text/plain": [
       "POS_RandomRep Epoch 3:   0%|          | 0/250 [00:00<?, ?it/s]"
      ]
     },
     "metadata": {},
     "output_type": "display_data"
    },
    {
     "name": "stdout",
     "output_type": "stream",
     "text": [
      "POS_RandomRep - Epoch 3, Loss: 2.5183, Val Accuracy: 0.1250\n"
     ]
    },
    {
     "data": {
      "application/vnd.jupyter.widget-view+json": {
       "model_id": "fd304237c0644b95a85ed279d784ccab",
       "version_major": 2,
       "version_minor": 0
      },
      "text/plain": [
       "POS_RandomRep Epoch 4:   0%|          | 0/250 [00:00<?, ?it/s]"
      ]
     },
     "metadata": {},
     "output_type": "display_data"
    },
    {
     "name": "stdout",
     "output_type": "stream",
     "text": [
      "POS_RandomRep - Epoch 4, Loss: 2.4560, Val Accuracy: 0.1315\n"
     ]
    },
    {
     "data": {
      "application/vnd.jupyter.widget-view+json": {
       "model_id": "06d4f2e62dbe4a389d22336ac100e5e2",
       "version_major": 2,
       "version_minor": 0
      },
      "text/plain": [
       "POS_RandomRep Epoch 5:   0%|          | 0/250 [00:00<?, ?it/s]"
      ]
     },
     "metadata": {},
     "output_type": "display_data"
    },
    {
     "name": "stdout",
     "output_type": "stream",
     "text": [
      "POS_RandomRep - Epoch 5, Loss: 2.4179, Val Accuracy: 0.1395\n"
     ]
    },
    {
     "data": {
      "application/vnd.jupyter.widget-view+json": {
       "model_id": "b352e5ef224a4d0da9945b8375d2ae06",
       "version_major": 2,
       "version_minor": 0
      },
      "text/plain": [
       "POS_RandomRep Epoch 6:   0%|          | 0/250 [00:00<?, ?it/s]"
      ]
     },
     "metadata": {},
     "output_type": "display_data"
    },
    {
     "name": "stdout",
     "output_type": "stream",
     "text": [
      "POS_RandomRep - Epoch 6, Loss: 2.3918, Val Accuracy: 0.1440\n"
     ]
    },
    {
     "data": {
      "application/vnd.jupyter.widget-view+json": {
       "model_id": "8294152acfec4503b01efc4c5142e975",
       "version_major": 2,
       "version_minor": 0
      },
      "text/plain": [
       "POS_RandomRep Epoch 7:   0%|          | 0/250 [00:00<?, ?it/s]"
      ]
     },
     "metadata": {},
     "output_type": "display_data"
    },
    {
     "name": "stdout",
     "output_type": "stream",
     "text": [
      "POS_RandomRep - Epoch 7, Loss: 2.3738, Val Accuracy: 0.1472\n"
     ]
    },
    {
     "data": {
      "application/vnd.jupyter.widget-view+json": {
       "model_id": "3d64e7add2e6470c97cc48256e1da613",
       "version_major": 2,
       "version_minor": 0
      },
      "text/plain": [
       "POS_RandomRep Epoch 8:   0%|          | 0/250 [00:00<?, ?it/s]"
      ]
     },
     "metadata": {},
     "output_type": "display_data"
    },
    {
     "name": "stdout",
     "output_type": "stream",
     "text": [
      "POS_RandomRep - Epoch 8, Loss: 2.3611, Val Accuracy: 0.1470\n"
     ]
    },
    {
     "data": {
      "application/vnd.jupyter.widget-view+json": {
       "model_id": "4e6f554f62dd4b70bb6bd4dae2c25c67",
       "version_major": 2,
       "version_minor": 0
      },
      "text/plain": [
       "POS_RandomRep Epoch 9:   0%|          | 0/250 [00:00<?, ?it/s]"
      ]
     },
     "metadata": {},
     "output_type": "display_data"
    },
    {
     "name": "stdout",
     "output_type": "stream",
     "text": [
      "POS_RandomRep - Epoch 9, Loss: 2.3515, Val Accuracy: 0.1532\n"
     ]
    },
    {
     "data": {
      "application/vnd.jupyter.widget-view+json": {
       "model_id": "ada60eb279da4a0ba8996c85a5e3891a",
       "version_major": 2,
       "version_minor": 0
      },
      "text/plain": [
       "POS_RandomRep Epoch 10:   0%|          | 0/250 [00:00<?, ?it/s]"
      ]
     },
     "metadata": {},
     "output_type": "display_data"
    },
    {
     "name": "stdout",
     "output_type": "stream",
     "text": [
      "POS_RandomRep - Epoch 10, Loss: 2.3442, Val Accuracy: 0.1538\n"
     ]
    },
    {
     "data": {
      "application/vnd.jupyter.widget-view+json": {
       "model_id": "b53785910b44456cb0a6fca6de47b731",
       "version_major": 2,
       "version_minor": 0
      },
      "text/plain": [
       "DEP_RandomRep Epoch 1:   0%|          | 0/250 [00:00<?, ?it/s]"
      ]
     },
     "metadata": {},
     "output_type": "display_data"
    },
    {
     "name": "stdout",
     "output_type": "stream",
     "text": [
      "DEP_RandomRep - Epoch 1, Loss: 3.8207, Val Accuracy: 0.0597\n"
     ]
    },
    {
     "data": {
      "application/vnd.jupyter.widget-view+json": {
       "model_id": "1f839cfc32064b13a478e7455c07ddf7",
       "version_major": 2,
       "version_minor": 0
      },
      "text/plain": [
       "DEP_RandomRep Epoch 2:   0%|          | 0/250 [00:00<?, ?it/s]"
      ]
     },
     "metadata": {},
     "output_type": "display_data"
    },
    {
     "name": "stdout",
     "output_type": "stream",
     "text": [
      "DEP_RandomRep - Epoch 2, Loss: 3.4696, Val Accuracy: 0.0613\n"
     ]
    },
    {
     "data": {
      "application/vnd.jupyter.widget-view+json": {
       "model_id": "9b9aad8082284af2bf592022bf22c8a3",
       "version_major": 2,
       "version_minor": 0
      },
      "text/plain": [
       "DEP_RandomRep Epoch 3:   0%|          | 0/250 [00:00<?, ?it/s]"
      ]
     },
     "metadata": {},
     "output_type": "display_data"
    },
    {
     "name": "stdout",
     "output_type": "stream",
     "text": [
      "DEP_RandomRep - Epoch 3, Loss: 3.2674, Val Accuracy: 0.0625\n"
     ]
    },
    {
     "data": {
      "application/vnd.jupyter.widget-view+json": {
       "model_id": "5bb5a1fa2cdc497485ce44df8e1d3425",
       "version_major": 2,
       "version_minor": 0
      },
      "text/plain": [
       "DEP_RandomRep Epoch 4:   0%|          | 0/250 [00:00<?, ?it/s]"
      ]
     },
     "metadata": {},
     "output_type": "display_data"
    },
    {
     "name": "stdout",
     "output_type": "stream",
     "text": [
      "DEP_RandomRep - Epoch 4, Loss: 3.1435, Val Accuracy: 0.0640\n"
     ]
    },
    {
     "data": {
      "application/vnd.jupyter.widget-view+json": {
       "model_id": "35f5592e45394b3d8593a67281f06985",
       "version_major": 2,
       "version_minor": 0
      },
      "text/plain": [
       "DEP_RandomRep Epoch 5:   0%|          | 0/250 [00:00<?, ?it/s]"
      ]
     },
     "metadata": {},
     "output_type": "display_data"
    },
    {
     "name": "stdout",
     "output_type": "stream",
     "text": [
      "DEP_RandomRep - Epoch 5, Loss: 3.0629, Val Accuracy: 0.0642\n"
     ]
    },
    {
     "data": {
      "application/vnd.jupyter.widget-view+json": {
       "model_id": "183c066ea5c545a6b004b6ac71e5a6ef",
       "version_major": 2,
       "version_minor": 0
      },
      "text/plain": [
       "DEP_RandomRep Epoch 6:   0%|          | 0/250 [00:00<?, ?it/s]"
      ]
     },
     "metadata": {},
     "output_type": "display_data"
    },
    {
     "name": "stdout",
     "output_type": "stream",
     "text": [
      "DEP_RandomRep - Epoch 6, Loss: 3.0076, Val Accuracy: 0.0658\n"
     ]
    },
    {
     "data": {
      "application/vnd.jupyter.widget-view+json": {
       "model_id": "65122ec48f214d7c9fee25216d98db8e",
       "version_major": 2,
       "version_minor": 0
      },
      "text/plain": [
       "DEP_RandomRep Epoch 7:   0%|          | 0/250 [00:00<?, ?it/s]"
      ]
     },
     "metadata": {},
     "output_type": "display_data"
    },
    {
     "name": "stdout",
     "output_type": "stream",
     "text": [
      "DEP_RandomRep - Epoch 7, Loss: 2.9674, Val Accuracy: 0.0667\n"
     ]
    },
    {
     "data": {
      "application/vnd.jupyter.widget-view+json": {
       "model_id": "49e43c3ea1b347f4aacd98180c86ce7f",
       "version_major": 2,
       "version_minor": 0
      },
      "text/plain": [
       "DEP_RandomRep Epoch 8:   0%|          | 0/250 [00:00<?, ?it/s]"
      ]
     },
     "metadata": {},
     "output_type": "display_data"
    },
    {
     "name": "stdout",
     "output_type": "stream",
     "text": [
      "DEP_RandomRep - Epoch 8, Loss: 2.9371, Val Accuracy: 0.0675\n"
     ]
    },
    {
     "data": {
      "application/vnd.jupyter.widget-view+json": {
       "model_id": "9cc98c6c83e14d96a1ca1df380e1e6df",
       "version_major": 2,
       "version_minor": 0
      },
      "text/plain": [
       "DEP_RandomRep Epoch 9:   0%|          | 0/250 [00:00<?, ?it/s]"
      ]
     },
     "metadata": {},
     "output_type": "display_data"
    },
    {
     "name": "stdout",
     "output_type": "stream",
     "text": [
      "DEP_RandomRep - Epoch 9, Loss: 2.9120, Val Accuracy: 0.0665\n"
     ]
    },
    {
     "data": {
      "application/vnd.jupyter.widget-view+json": {
       "model_id": "790f1bd3f50d4bc9a187785aca1a1b0c",
       "version_major": 2,
       "version_minor": 0
      },
      "text/plain": [
       "DEP_RandomRep Epoch 10:   0%|          | 0/250 [00:00<?, ?it/s]"
      ]
     },
     "metadata": {},
     "output_type": "display_data"
    },
    {
     "name": "stdout",
     "output_type": "stream",
     "text": [
      "DEP_RandomRep - Epoch 10, Loss: 2.8918, Val Accuracy: 0.0667\n",
      "\n",
      "=== Evaluation on Test Set ===\n",
      "\n",
      "Results Summary:\n",
      "------------------------------------------------------------\n",
      "Task       Method          Accuracy  \n",
      "------------------------------------------------------------\n",
      "POS        linear          0.8363\n",
      "POS        nonlinear       0.8800\n",
      "POS        random          0.0608\n",
      "POS        shuffled        0.1452\n",
      "POS        random_rep      0.1538\n",
      "DEP        linear          0.6365\n",
      "DEP        nonlinear       0.6752\n",
      "DEP        random          0.0237\n",
      "DEP        shuffled        0.1088\n",
      "DEP        random_rep      0.0667\n",
      "Train set: 16000 samples\n",
      "Test set: 4000 samples\n",
      "\n",
      "=== Training Main Probes ===\n"
     ]
    },
    {
     "data": {
      "application/vnd.jupyter.widget-view+json": {
       "model_id": "2a2a6022f0f74b04927456b74e81672a",
       "version_major": 2,
       "version_minor": 0
      },
      "text/plain": [
       "POS Epoch 1:   0%|          | 0/250 [00:00<?, ?it/s]"
      ]
     },
     "metadata": {},
     "output_type": "display_data"
    },
    {
     "name": "stdout",
     "output_type": "stream",
     "text": [
      "POS - Epoch 1, Loss: 1.8676, Val Accuracy: 0.6940\n"
     ]
    },
    {
     "data": {
      "application/vnd.jupyter.widget-view+json": {
       "model_id": "7f1c8a7db0bb4ff893c2f744e23051f5",
       "version_major": 2,
       "version_minor": 0
      },
      "text/plain": [
       "POS Epoch 2:   0%|          | 0/250 [00:00<?, ?it/s]"
      ]
     },
     "metadata": {},
     "output_type": "display_data"
    },
    {
     "name": "stdout",
     "output_type": "stream",
     "text": [
      "POS - Epoch 2, Loss: 1.1546, Val Accuracy: 0.7515\n"
     ]
    },
    {
     "data": {
      "application/vnd.jupyter.widget-view+json": {
       "model_id": "abbafaaece79449fa07c7f5e7ce34b3b",
       "version_major": 2,
       "version_minor": 0
      },
      "text/plain": [
       "POS Epoch 3:   0%|          | 0/250 [00:00<?, ?it/s]"
      ]
     },
     "metadata": {},
     "output_type": "display_data"
    },
    {
     "name": "stdout",
     "output_type": "stream",
     "text": [
      "POS - Epoch 3, Loss: 0.9169, Val Accuracy: 0.7850\n"
     ]
    },
    {
     "data": {
      "application/vnd.jupyter.widget-view+json": {
       "model_id": "ca229f8b7b3e45459de16cffda938409",
       "version_major": 2,
       "version_minor": 0
      },
      "text/plain": [
       "POS Epoch 4:   0%|          | 0/250 [00:00<?, ?it/s]"
      ]
     },
     "metadata": {},
     "output_type": "display_data"
    },
    {
     "name": "stdout",
     "output_type": "stream",
     "text": [
      "POS - Epoch 4, Loss: 0.7901, Val Accuracy: 0.7980\n"
     ]
    },
    {
     "data": {
      "application/vnd.jupyter.widget-view+json": {
       "model_id": "8fd28e7c4c7f4b43b364b51214f2344c",
       "version_major": 2,
       "version_minor": 0
      },
      "text/plain": [
       "POS Epoch 5:   0%|          | 0/250 [00:00<?, ?it/s]"
      ]
     },
     "metadata": {},
     "output_type": "display_data"
    },
    {
     "name": "stdout",
     "output_type": "stream",
     "text": [
      "POS - Epoch 5, Loss: 0.7086, Val Accuracy: 0.8117\n"
     ]
    },
    {
     "data": {
      "application/vnd.jupyter.widget-view+json": {
       "model_id": "1ae7d7cb36574b7eaf8d0904be02dc35",
       "version_major": 2,
       "version_minor": 0
      },
      "text/plain": [
       "POS Epoch 6:   0%|          | 0/250 [00:00<?, ?it/s]"
      ]
     },
     "metadata": {},
     "output_type": "display_data"
    },
    {
     "name": "stdout",
     "output_type": "stream",
     "text": [
      "POS - Epoch 6, Loss: 0.6507, Val Accuracy: 0.8213\n"
     ]
    },
    {
     "data": {
      "application/vnd.jupyter.widget-view+json": {
       "model_id": "6d5f497fb0ff4c1faff3567b5748ca47",
       "version_major": 2,
       "version_minor": 0
      },
      "text/plain": [
       "POS Epoch 7:   0%|          | 0/250 [00:00<?, ?it/s]"
      ]
     },
     "metadata": {},
     "output_type": "display_data"
    },
    {
     "name": "stdout",
     "output_type": "stream",
     "text": [
      "POS - Epoch 7, Loss: 0.6067, Val Accuracy: 0.8282\n"
     ]
    },
    {
     "data": {
      "application/vnd.jupyter.widget-view+json": {
       "model_id": "18afd93261754ccc9a157243bfc4b5a1",
       "version_major": 2,
       "version_minor": 0
      },
      "text/plain": [
       "POS Epoch 8:   0%|          | 0/250 [00:00<?, ?it/s]"
      ]
     },
     "metadata": {},
     "output_type": "display_data"
    },
    {
     "name": "stdout",
     "output_type": "stream",
     "text": [
      "POS - Epoch 8, Loss: 0.5722, Val Accuracy: 0.8350\n"
     ]
    },
    {
     "data": {
      "application/vnd.jupyter.widget-view+json": {
       "model_id": "9c548c4404db42958e51793a4f5ad003",
       "version_major": 2,
       "version_minor": 0
      },
      "text/plain": [
       "POS Epoch 9:   0%|          | 0/250 [00:00<?, ?it/s]"
      ]
     },
     "metadata": {},
     "output_type": "display_data"
    },
    {
     "name": "stdout",
     "output_type": "stream",
     "text": [
      "POS - Epoch 9, Loss: 0.5437, Val Accuracy: 0.8390\n"
     ]
    },
    {
     "data": {
      "application/vnd.jupyter.widget-view+json": {
       "model_id": "f017d3d9ef0448ea92085120f3fd1644",
       "version_major": 2,
       "version_minor": 0
      },
      "text/plain": [
       "POS Epoch 10:   0%|          | 0/250 [00:00<?, ?it/s]"
      ]
     },
     "metadata": {},
     "output_type": "display_data"
    },
    {
     "name": "stdout",
     "output_type": "stream",
     "text": [
      "POS - Epoch 10, Loss: 0.5199, Val Accuracy: 0.8420\n"
     ]
    },
    {
     "data": {
      "application/vnd.jupyter.widget-view+json": {
       "model_id": "b5cfeb1bf4a648e6888cec007b828b4d",
       "version_major": 2,
       "version_minor": 0
      },
      "text/plain": [
       "DEP Epoch 1:   0%|          | 0/250 [00:00<?, ?it/s]"
      ]
     },
     "metadata": {},
     "output_type": "display_data"
    },
    {
     "name": "stdout",
     "output_type": "stream",
     "text": [
      "DEP - Epoch 1, Loss: 2.7457, Val Accuracy: 0.4735\n"
     ]
    },
    {
     "data": {
      "application/vnd.jupyter.widget-view+json": {
       "model_id": "d1c8724612994cebbce2417e18d1b250",
       "version_major": 2,
       "version_minor": 0
      },
      "text/plain": [
       "DEP Epoch 2:   0%|          | 0/250 [00:00<?, ?it/s]"
      ]
     },
     "metadata": {},
     "output_type": "display_data"
    },
    {
     "name": "stdout",
     "output_type": "stream",
     "text": [
      "DEP - Epoch 2, Loss: 1.9190, Val Accuracy: 0.5310\n"
     ]
    },
    {
     "data": {
      "application/vnd.jupyter.widget-view+json": {
       "model_id": "f28a23829c7f4d5bbb22f8e98341244b",
       "version_major": 2,
       "version_minor": 0
      },
      "text/plain": [
       "DEP Epoch 3:   0%|          | 0/250 [00:00<?, ?it/s]"
      ]
     },
     "metadata": {},
     "output_type": "display_data"
    },
    {
     "name": "stdout",
     "output_type": "stream",
     "text": [
      "DEP - Epoch 3, Loss: 1.6392, Val Accuracy: 0.5562\n"
     ]
    },
    {
     "data": {
      "application/vnd.jupyter.widget-view+json": {
       "model_id": "1b40d2b7007440b7b57d8dfe934670d3",
       "version_major": 2,
       "version_minor": 0
      },
      "text/plain": [
       "DEP Epoch 4:   0%|          | 0/250 [00:00<?, ?it/s]"
      ]
     },
     "metadata": {},
     "output_type": "display_data"
    },
    {
     "name": "stdout",
     "output_type": "stream",
     "text": [
      "DEP - Epoch 4, Loss: 1.4819, Val Accuracy: 0.5745\n"
     ]
    },
    {
     "data": {
      "application/vnd.jupyter.widget-view+json": {
       "model_id": "f8bcd30bfc20460da663332db892315b",
       "version_major": 2,
       "version_minor": 0
      },
      "text/plain": [
       "DEP Epoch 5:   0%|          | 0/250 [00:00<?, ?it/s]"
      ]
     },
     "metadata": {},
     "output_type": "display_data"
    },
    {
     "name": "stdout",
     "output_type": "stream",
     "text": [
      "DEP - Epoch 5, Loss: 1.3766, Val Accuracy: 0.5878\n"
     ]
    },
    {
     "data": {
      "application/vnd.jupyter.widget-view+json": {
       "model_id": "24c05a93edf141a1b160bc990fcb9a77",
       "version_major": 2,
       "version_minor": 0
      },
      "text/plain": [
       "DEP Epoch 6:   0%|          | 0/250 [00:00<?, ?it/s]"
      ]
     },
     "metadata": {},
     "output_type": "display_data"
    },
    {
     "name": "stdout",
     "output_type": "stream",
     "text": [
      "DEP - Epoch 6, Loss: 1.2993, Val Accuracy: 0.6020\n"
     ]
    },
    {
     "data": {
      "application/vnd.jupyter.widget-view+json": {
       "model_id": "9151720be73d4321831b7a222adba51a",
       "version_major": 2,
       "version_minor": 0
      },
      "text/plain": [
       "DEP Epoch 7:   0%|          | 0/250 [00:00<?, ?it/s]"
      ]
     },
     "metadata": {},
     "output_type": "display_data"
    },
    {
     "name": "stdout",
     "output_type": "stream",
     "text": [
      "DEP - Epoch 7, Loss: 1.2387, Val Accuracy: 0.6105\n"
     ]
    },
    {
     "data": {
      "application/vnd.jupyter.widget-view+json": {
       "model_id": "bb27faffd62847b6ace2fb0a46ec7ce2",
       "version_major": 2,
       "version_minor": 0
      },
      "text/plain": [
       "DEP Epoch 8:   0%|          | 0/250 [00:00<?, ?it/s]"
      ]
     },
     "metadata": {},
     "output_type": "display_data"
    },
    {
     "name": "stdout",
     "output_type": "stream",
     "text": [
      "DEP - Epoch 8, Loss: 1.1903, Val Accuracy: 0.6152\n"
     ]
    },
    {
     "data": {
      "application/vnd.jupyter.widget-view+json": {
       "model_id": "37be09413296442eac3d5c79b93848f1",
       "version_major": 2,
       "version_minor": 0
      },
      "text/plain": [
       "DEP Epoch 9:   0%|          | 0/250 [00:00<?, ?it/s]"
      ]
     },
     "metadata": {},
     "output_type": "display_data"
    },
    {
     "name": "stdout",
     "output_type": "stream",
     "text": [
      "DEP - Epoch 9, Loss: 1.1492, Val Accuracy: 0.6252\n"
     ]
    },
    {
     "data": {
      "application/vnd.jupyter.widget-view+json": {
       "model_id": "f6d80f4439f74dd19b18a6827757e0b2",
       "version_major": 2,
       "version_minor": 0
      },
      "text/plain": [
       "DEP Epoch 10:   0%|          | 0/250 [00:00<?, ?it/s]"
      ]
     },
     "metadata": {},
     "output_type": "display_data"
    },
    {
     "name": "stdout",
     "output_type": "stream",
     "text": [
      "DEP - Epoch 10, Loss: 1.1146, Val Accuracy: 0.6288\n",
      "\n",
      "=== Training Nonlinear Probes ===\n"
     ]
    },
    {
     "data": {
      "application/vnd.jupyter.widget-view+json": {
       "model_id": "c9b13f0f935c4a5a84886e24238d4175",
       "version_major": 2,
       "version_minor": 0
      },
      "text/plain": [
       "POS_Nonlinear Epoch 1:   0%|          | 0/250 [00:00<?, ?it/s]"
      ]
     },
     "metadata": {},
     "output_type": "display_data"
    },
    {
     "name": "stdout",
     "output_type": "stream",
     "text": [
      "POS_Nonlinear - Epoch 1, Loss: 1.3077, Val Accuracy: 0.7880\n"
     ]
    },
    {
     "data": {
      "application/vnd.jupyter.widget-view+json": {
       "model_id": "5e8e67b9212a419482db77a384f145fc",
       "version_major": 2,
       "version_minor": 0
      },
      "text/plain": [
       "POS_Nonlinear Epoch 2:   0%|          | 0/250 [00:00<?, ?it/s]"
      ]
     },
     "metadata": {},
     "output_type": "display_data"
    },
    {
     "name": "stdout",
     "output_type": "stream",
     "text": [
      "POS_Nonlinear - Epoch 2, Loss: 0.5710, Val Accuracy: 0.8403\n"
     ]
    },
    {
     "data": {
      "application/vnd.jupyter.widget-view+json": {
       "model_id": "f80ce0f1e3724ef787c3c30bd23b1688",
       "version_major": 2,
       "version_minor": 0
      },
      "text/plain": [
       "POS_Nonlinear Epoch 3:   0%|          | 0/250 [00:00<?, ?it/s]"
      ]
     },
     "metadata": {},
     "output_type": "display_data"
    },
    {
     "name": "stdout",
     "output_type": "stream",
     "text": [
      "POS_Nonlinear - Epoch 3, Loss: 0.4264, Val Accuracy: 0.8630\n"
     ]
    },
    {
     "data": {
      "application/vnd.jupyter.widget-view+json": {
       "model_id": "e564ecc11fb14585aee37fa442c87ea4",
       "version_major": 2,
       "version_minor": 0
      },
      "text/plain": [
       "POS_Nonlinear Epoch 4:   0%|          | 0/250 [00:00<?, ?it/s]"
      ]
     },
     "metadata": {},
     "output_type": "display_data"
    },
    {
     "name": "stdout",
     "output_type": "stream",
     "text": [
      "POS_Nonlinear - Epoch 4, Loss: 0.3528, Val Accuracy: 0.8695\n"
     ]
    },
    {
     "data": {
      "application/vnd.jupyter.widget-view+json": {
       "model_id": "d384de9005474f43b0184c44c013fdfb",
       "version_major": 2,
       "version_minor": 0
      },
      "text/plain": [
       "POS_Nonlinear Epoch 5:   0%|          | 0/250 [00:00<?, ?it/s]"
      ]
     },
     "metadata": {},
     "output_type": "display_data"
    },
    {
     "name": "stdout",
     "output_type": "stream",
     "text": [
      "POS_Nonlinear - Epoch 5, Loss: 0.3040, Val Accuracy: 0.8780\n"
     ]
    },
    {
     "data": {
      "application/vnd.jupyter.widget-view+json": {
       "model_id": "e927d79a355c46038a06fbc8d5a75d08",
       "version_major": 2,
       "version_minor": 0
      },
      "text/plain": [
       "POS_Nonlinear Epoch 6:   0%|          | 0/250 [00:00<?, ?it/s]"
      ]
     },
     "metadata": {},
     "output_type": "display_data"
    },
    {
     "name": "stdout",
     "output_type": "stream",
     "text": [
      "POS_Nonlinear - Epoch 6, Loss: 0.2656, Val Accuracy: 0.8783\n"
     ]
    },
    {
     "data": {
      "application/vnd.jupyter.widget-view+json": {
       "model_id": "f72dd42dde424febbb01357ffc5fe023",
       "version_major": 2,
       "version_minor": 0
      },
      "text/plain": [
       "POS_Nonlinear Epoch 7:   0%|          | 0/250 [00:00<?, ?it/s]"
      ]
     },
     "metadata": {},
     "output_type": "display_data"
    },
    {
     "name": "stdout",
     "output_type": "stream",
     "text": [
      "POS_Nonlinear - Epoch 7, Loss: 0.2355, Val Accuracy: 0.8802\n"
     ]
    },
    {
     "data": {
      "application/vnd.jupyter.widget-view+json": {
       "model_id": "6081a9a7dd7b4921b955ec779b0a4dc5",
       "version_major": 2,
       "version_minor": 0
      },
      "text/plain": [
       "POS_Nonlinear Epoch 8:   0%|          | 0/250 [00:00<?, ?it/s]"
      ]
     },
     "metadata": {},
     "output_type": "display_data"
    },
    {
     "name": "stdout",
     "output_type": "stream",
     "text": [
      "POS_Nonlinear - Epoch 8, Loss: 0.2104, Val Accuracy: 0.8827\n"
     ]
    },
    {
     "data": {
      "application/vnd.jupyter.widget-view+json": {
       "model_id": "b8aaf1b5349941c498c684993bc7dee2",
       "version_major": 2,
       "version_minor": 0
      },
      "text/plain": [
       "POS_Nonlinear Epoch 9:   0%|          | 0/250 [00:00<?, ?it/s]"
      ]
     },
     "metadata": {},
     "output_type": "display_data"
    },
    {
     "name": "stdout",
     "output_type": "stream",
     "text": [
      "POS_Nonlinear - Epoch 9, Loss: 0.1891, Val Accuracy: 0.8888\n"
     ]
    },
    {
     "data": {
      "application/vnd.jupyter.widget-view+json": {
       "model_id": "3ca32589ceb94ba795ec203f0d84acd8",
       "version_major": 2,
       "version_minor": 0
      },
      "text/plain": [
       "POS_Nonlinear Epoch 10:   0%|          | 0/250 [00:00<?, ?it/s]"
      ]
     },
     "metadata": {},
     "output_type": "display_data"
    },
    {
     "name": "stdout",
     "output_type": "stream",
     "text": [
      "POS_Nonlinear - Epoch 10, Loss: 0.1696, Val Accuracy: 0.8882\n"
     ]
    },
    {
     "data": {
      "application/vnd.jupyter.widget-view+json": {
       "model_id": "a0f8f196f7774c6486a05516780245e1",
       "version_major": 2,
       "version_minor": 0
      },
      "text/plain": [
       "DEP_Nonlinear Epoch 1:   0%|          | 0/250 [00:00<?, ?it/s]"
      ]
     },
     "metadata": {},
     "output_type": "display_data"
    },
    {
     "name": "stdout",
     "output_type": "stream",
     "text": [
      "DEP_Nonlinear - Epoch 1, Loss: 2.2068, Val Accuracy: 0.5600\n"
     ]
    },
    {
     "data": {
      "application/vnd.jupyter.widget-view+json": {
       "model_id": "2e57e3b24cdd4cd7ac2505b586f0f499",
       "version_major": 2,
       "version_minor": 0
      },
      "text/plain": [
       "DEP_Nonlinear Epoch 2:   0%|          | 0/250 [00:00<?, ?it/s]"
      ]
     },
     "metadata": {},
     "output_type": "display_data"
    },
    {
     "name": "stdout",
     "output_type": "stream",
     "text": [
      "DEP_Nonlinear - Epoch 2, Loss: 1.3454, Val Accuracy: 0.6102\n"
     ]
    },
    {
     "data": {
      "application/vnd.jupyter.widget-view+json": {
       "model_id": "9e4b91b11643452a8720539c9b87e1d9",
       "version_major": 2,
       "version_minor": 0
      },
      "text/plain": [
       "DEP_Nonlinear Epoch 3:   0%|          | 0/250 [00:00<?, ?it/s]"
      ]
     },
     "metadata": {},
     "output_type": "display_data"
    },
    {
     "name": "stdout",
     "output_type": "stream",
     "text": [
      "DEP_Nonlinear - Epoch 3, Loss: 1.1330, Val Accuracy: 0.6385\n"
     ]
    },
    {
     "data": {
      "application/vnd.jupyter.widget-view+json": {
       "model_id": "7213eefb94664926b66e07e328da75dd",
       "version_major": 2,
       "version_minor": 0
      },
      "text/plain": [
       "DEP_Nonlinear Epoch 4:   0%|          | 0/250 [00:00<?, ?it/s]"
      ]
     },
     "metadata": {},
     "output_type": "display_data"
    },
    {
     "name": "stdout",
     "output_type": "stream",
     "text": [
      "DEP_Nonlinear - Epoch 4, Loss: 1.0071, Val Accuracy: 0.6530\n"
     ]
    },
    {
     "data": {
      "application/vnd.jupyter.widget-view+json": {
       "model_id": "bec149d7549c4c19955e6fc256a1e566",
       "version_major": 2,
       "version_minor": 0
      },
      "text/plain": [
       "DEP_Nonlinear Epoch 5:   0%|          | 0/250 [00:00<?, ?it/s]"
      ]
     },
     "metadata": {},
     "output_type": "display_data"
    },
    {
     "name": "stdout",
     "output_type": "stream",
     "text": [
      "DEP_Nonlinear - Epoch 5, Loss: 0.9190, Val Accuracy: 0.6565\n"
     ]
    },
    {
     "data": {
      "application/vnd.jupyter.widget-view+json": {
       "model_id": "388ffd04fcde42ca8df8121683880a1b",
       "version_major": 2,
       "version_minor": 0
      },
      "text/plain": [
       "DEP_Nonlinear Epoch 6:   0%|          | 0/250 [00:00<?, ?it/s]"
      ]
     },
     "metadata": {},
     "output_type": "display_data"
    },
    {
     "name": "stdout",
     "output_type": "stream",
     "text": [
      "DEP_Nonlinear - Epoch 6, Loss: 0.8455, Val Accuracy: 0.6635\n"
     ]
    },
    {
     "data": {
      "application/vnd.jupyter.widget-view+json": {
       "model_id": "99eb132aa8fe40f7b99635606cfd7518",
       "version_major": 2,
       "version_minor": 0
      },
      "text/plain": [
       "DEP_Nonlinear Epoch 7:   0%|          | 0/250 [00:00<?, ?it/s]"
      ]
     },
     "metadata": {},
     "output_type": "display_data"
    },
    {
     "name": "stdout",
     "output_type": "stream",
     "text": [
      "DEP_Nonlinear - Epoch 7, Loss: 0.7875, Val Accuracy: 0.6628\n"
     ]
    },
    {
     "data": {
      "application/vnd.jupyter.widget-view+json": {
       "model_id": "7379764774d2448680e89ac0bfffee13",
       "version_major": 2,
       "version_minor": 0
      },
      "text/plain": [
       "DEP_Nonlinear Epoch 8:   0%|          | 0/250 [00:00<?, ?it/s]"
      ]
     },
     "metadata": {},
     "output_type": "display_data"
    },
    {
     "name": "stdout",
     "output_type": "stream",
     "text": [
      "DEP_Nonlinear - Epoch 8, Loss: 0.7351, Val Accuracy: 0.6672\n"
     ]
    },
    {
     "data": {
      "application/vnd.jupyter.widget-view+json": {
       "model_id": "32c7b1e19ab94b72bfd0d595a6c2e632",
       "version_major": 2,
       "version_minor": 0
      },
      "text/plain": [
       "DEP_Nonlinear Epoch 9:   0%|          | 0/250 [00:00<?, ?it/s]"
      ]
     },
     "metadata": {},
     "output_type": "display_data"
    },
    {
     "name": "stdout",
     "output_type": "stream",
     "text": [
      "DEP_Nonlinear - Epoch 9, Loss: 0.6892, Val Accuracy: 0.6643\n"
     ]
    },
    {
     "data": {
      "application/vnd.jupyter.widget-view+json": {
       "model_id": "fb9c34d1a3104f508e20147e5c7c7dba",
       "version_major": 2,
       "version_minor": 0
      },
      "text/plain": [
       "DEP_Nonlinear Epoch 10:   0%|          | 0/250 [00:00<?, ?it/s]"
      ]
     },
     "metadata": {},
     "output_type": "display_data"
    },
    {
     "name": "stdout",
     "output_type": "stream",
     "text": [
      "DEP_Nonlinear - Epoch 10, Loss: 0.6451, Val Accuracy: 0.6740\n",
      "\n",
      "=== Evaluating Random Baselines ===\n",
      "\n",
      "=== Training with Shuffled Labels ===\n"
     ]
    },
    {
     "data": {
      "application/vnd.jupyter.widget-view+json": {
       "model_id": "07b65210e246498db06dabaf9503cb5f",
       "version_major": 2,
       "version_minor": 0
      },
      "text/plain": [
       "POS_Shuffled Epoch 1:   0%|          | 0/250 [00:00<?, ?it/s]"
      ]
     },
     "metadata": {},
     "output_type": "display_data"
    },
    {
     "name": "stdout",
     "output_type": "stream",
     "text": [
      "POS_Shuffled - Epoch 1, Loss: 2.5812, Val Accuracy: 0.1540\n"
     ]
    },
    {
     "data": {
      "application/vnd.jupyter.widget-view+json": {
       "model_id": "11d89f5743a24033923b9ea657720b2d",
       "version_major": 2,
       "version_minor": 0
      },
      "text/plain": [
       "POS_Shuffled Epoch 2:   0%|          | 0/250 [00:00<?, ?it/s]"
      ]
     },
     "metadata": {},
     "output_type": "display_data"
    },
    {
     "name": "stdout",
     "output_type": "stream",
     "text": [
      "POS_Shuffled - Epoch 2, Loss: 2.4499, Val Accuracy: 0.1655\n"
     ]
    },
    {
     "data": {
      "application/vnd.jupyter.widget-view+json": {
       "model_id": "d31aa51120f242759a0eb42ec4da5379",
       "version_major": 2,
       "version_minor": 0
      },
      "text/plain": [
       "POS_Shuffled Epoch 3:   0%|          | 0/250 [00:00<?, ?it/s]"
      ]
     },
     "metadata": {},
     "output_type": "display_data"
    },
    {
     "name": "stdout",
     "output_type": "stream",
     "text": [
      "POS_Shuffled - Epoch 3, Loss: 2.4121, Val Accuracy: 0.1605\n"
     ]
    },
    {
     "data": {
      "application/vnd.jupyter.widget-view+json": {
       "model_id": "5f72d9ebf2c24ca181eb3953ee279c11",
       "version_major": 2,
       "version_minor": 0
      },
      "text/plain": [
       "POS_Shuffled Epoch 4:   0%|          | 0/250 [00:00<?, ?it/s]"
      ]
     },
     "metadata": {},
     "output_type": "display_data"
    },
    {
     "name": "stdout",
     "output_type": "stream",
     "text": [
      "POS_Shuffled - Epoch 4, Loss: 2.3888, Val Accuracy: 0.1570\n"
     ]
    },
    {
     "data": {
      "application/vnd.jupyter.widget-view+json": {
       "model_id": "ddf73b42de7f451a83179d64046f6133",
       "version_major": 2,
       "version_minor": 0
      },
      "text/plain": [
       "POS_Shuffled Epoch 5:   0%|          | 0/250 [00:00<?, ?it/s]"
      ]
     },
     "metadata": {},
     "output_type": "display_data"
    },
    {
     "name": "stdout",
     "output_type": "stream",
     "text": [
      "POS_Shuffled - Epoch 5, Loss: 2.3718, Val Accuracy: 0.1575\n"
     ]
    },
    {
     "data": {
      "application/vnd.jupyter.widget-view+json": {
       "model_id": "bf6a6af20cd547e984a89da18dbfcf1c",
       "version_major": 2,
       "version_minor": 0
      },
      "text/plain": [
       "POS_Shuffled Epoch 6:   0%|          | 0/250 [00:00<?, ?it/s]"
      ]
     },
     "metadata": {},
     "output_type": "display_data"
    },
    {
     "name": "stdout",
     "output_type": "stream",
     "text": [
      "POS_Shuffled - Epoch 6, Loss: 2.3591, Val Accuracy: 0.1570\n"
     ]
    },
    {
     "data": {
      "application/vnd.jupyter.widget-view+json": {
       "model_id": "be43636b174d4a8fa6a19ac776ef2c7a",
       "version_major": 2,
       "version_minor": 0
      },
      "text/plain": [
       "POS_Shuffled Epoch 7:   0%|          | 0/250 [00:00<?, ?it/s]"
      ]
     },
     "metadata": {},
     "output_type": "display_data"
    },
    {
     "name": "stdout",
     "output_type": "stream",
     "text": [
      "POS_Shuffled - Epoch 7, Loss: 2.3483, Val Accuracy: 0.1542\n"
     ]
    },
    {
     "data": {
      "application/vnd.jupyter.widget-view+json": {
       "model_id": "a85d5338264e465286a148a81309ef64",
       "version_major": 2,
       "version_minor": 0
      },
      "text/plain": [
       "POS_Shuffled Epoch 8:   0%|          | 0/250 [00:00<?, ?it/s]"
      ]
     },
     "metadata": {},
     "output_type": "display_data"
    },
    {
     "name": "stdout",
     "output_type": "stream",
     "text": [
      "POS_Shuffled - Epoch 8, Loss: 2.3401, Val Accuracy: 0.1542\n"
     ]
    },
    {
     "data": {
      "application/vnd.jupyter.widget-view+json": {
       "model_id": "3d9b8086fb1e4498a09054463111fce3",
       "version_major": 2,
       "version_minor": 0
      },
      "text/plain": [
       "POS_Shuffled Epoch 9:   0%|          | 0/250 [00:00<?, ?it/s]"
      ]
     },
     "metadata": {},
     "output_type": "display_data"
    },
    {
     "name": "stdout",
     "output_type": "stream",
     "text": [
      "POS_Shuffled - Epoch 9, Loss: 2.3331, Val Accuracy: 0.1525\n"
     ]
    },
    {
     "data": {
      "application/vnd.jupyter.widget-view+json": {
       "model_id": "c11d67acc4044539a8994c88f8b0fcc8",
       "version_major": 2,
       "version_minor": 0
      },
      "text/plain": [
       "POS_Shuffled Epoch 10:   0%|          | 0/250 [00:00<?, ?it/s]"
      ]
     },
     "metadata": {},
     "output_type": "display_data"
    },
    {
     "name": "stdout",
     "output_type": "stream",
     "text": [
      "POS_Shuffled - Epoch 10, Loss: 2.3272, Val Accuracy: 0.1565\n"
     ]
    },
    {
     "data": {
      "application/vnd.jupyter.widget-view+json": {
       "model_id": "0c704c96c66d46edb23aab21650a42ed",
       "version_major": 2,
       "version_minor": 0
      },
      "text/plain": [
       "DEP_Shuffled Epoch 1:   0%|          | 0/250 [00:00<?, ?it/s]"
      ]
     },
     "metadata": {},
     "output_type": "display_data"
    },
    {
     "name": "stdout",
     "output_type": "stream",
     "text": [
      "DEP_Shuffled - Epoch 1, Loss: 3.4016, Val Accuracy: 0.0915\n"
     ]
    },
    {
     "data": {
      "application/vnd.jupyter.widget-view+json": {
       "model_id": "5f5dae65babe49fab7863bb9142c43f8",
       "version_major": 2,
       "version_minor": 0
      },
      "text/plain": [
       "DEP_Shuffled Epoch 2:   0%|          | 0/250 [00:00<?, ?it/s]"
      ]
     },
     "metadata": {},
     "output_type": "display_data"
    },
    {
     "name": "stdout",
     "output_type": "stream",
     "text": [
      "DEP_Shuffled - Epoch 2, Loss: 3.1710, Val Accuracy: 0.1025\n"
     ]
    },
    {
     "data": {
      "application/vnd.jupyter.widget-view+json": {
       "model_id": "6fddd4538a194902943b5e386e8395ce",
       "version_major": 2,
       "version_minor": 0
      },
      "text/plain": [
       "DEP_Shuffled Epoch 3:   0%|          | 0/250 [00:00<?, ?it/s]"
      ]
     },
     "metadata": {},
     "output_type": "display_data"
    },
    {
     "name": "stdout",
     "output_type": "stream",
     "text": [
      "DEP_Shuffled - Epoch 3, Loss: 3.1014, Val Accuracy: 0.0985\n"
     ]
    },
    {
     "data": {
      "application/vnd.jupyter.widget-view+json": {
       "model_id": "a3cb657f198c4404ba6cbffba832ed87",
       "version_major": 2,
       "version_minor": 0
      },
      "text/plain": [
       "DEP_Shuffled Epoch 4:   0%|          | 0/250 [00:00<?, ?it/s]"
      ]
     },
     "metadata": {},
     "output_type": "display_data"
    },
    {
     "name": "stdout",
     "output_type": "stream",
     "text": [
      "DEP_Shuffled - Epoch 4, Loss: 3.0569, Val Accuracy: 0.1050\n"
     ]
    },
    {
     "data": {
      "application/vnd.jupyter.widget-view+json": {
       "model_id": "12f5f6e358e446b4b0fb1db950952f6f",
       "version_major": 2,
       "version_minor": 0
      },
      "text/plain": [
       "DEP_Shuffled Epoch 5:   0%|          | 0/250 [00:00<?, ?it/s]"
      ]
     },
     "metadata": {},
     "output_type": "display_data"
    },
    {
     "name": "stdout",
     "output_type": "stream",
     "text": [
      "DEP_Shuffled - Epoch 5, Loss: 3.0237, Val Accuracy: 0.1082\n"
     ]
    },
    {
     "data": {
      "application/vnd.jupyter.widget-view+json": {
       "model_id": "b644bb551a2c45dfa05a705a528b3642",
       "version_major": 2,
       "version_minor": 0
      },
      "text/plain": [
       "DEP_Shuffled Epoch 6:   0%|          | 0/250 [00:00<?, ?it/s]"
      ]
     },
     "metadata": {},
     "output_type": "display_data"
    },
    {
     "name": "stdout",
     "output_type": "stream",
     "text": [
      "DEP_Shuffled - Epoch 6, Loss: 2.9975, Val Accuracy: 0.1075\n"
     ]
    },
    {
     "data": {
      "application/vnd.jupyter.widget-view+json": {
       "model_id": "f54e952d16094395aa5cc0f298ffcd88",
       "version_major": 2,
       "version_minor": 0
      },
      "text/plain": [
       "DEP_Shuffled Epoch 7:   0%|          | 0/250 [00:00<?, ?it/s]"
      ]
     },
     "metadata": {},
     "output_type": "display_data"
    },
    {
     "name": "stdout",
     "output_type": "stream",
     "text": [
      "DEP_Shuffled - Epoch 7, Loss: 2.9764, Val Accuracy: 0.1095\n"
     ]
    },
    {
     "data": {
      "application/vnd.jupyter.widget-view+json": {
       "model_id": "d65790f11858469ebbf13e11e4674dc5",
       "version_major": 2,
       "version_minor": 0
      },
      "text/plain": [
       "DEP_Shuffled Epoch 8:   0%|          | 0/250 [00:00<?, ?it/s]"
      ]
     },
     "metadata": {},
     "output_type": "display_data"
    },
    {
     "name": "stdout",
     "output_type": "stream",
     "text": [
      "DEP_Shuffled - Epoch 8, Loss: 2.9580, Val Accuracy: 0.1075\n"
     ]
    },
    {
     "data": {
      "application/vnd.jupyter.widget-view+json": {
       "model_id": "f8934a66bfe646518239b4ed1ef09643",
       "version_major": 2,
       "version_minor": 0
      },
      "text/plain": [
       "DEP_Shuffled Epoch 9:   0%|          | 0/250 [00:00<?, ?it/s]"
      ]
     },
     "metadata": {},
     "output_type": "display_data"
    },
    {
     "name": "stdout",
     "output_type": "stream",
     "text": [
      "DEP_Shuffled - Epoch 9, Loss: 2.9421, Val Accuracy: 0.1060\n"
     ]
    },
    {
     "data": {
      "application/vnd.jupyter.widget-view+json": {
       "model_id": "f38acb971efc4897b0d2889f6c3722ae",
       "version_major": 2,
       "version_minor": 0
      },
      "text/plain": [
       "DEP_Shuffled Epoch 10:   0%|          | 0/250 [00:00<?, ?it/s]"
      ]
     },
     "metadata": {},
     "output_type": "display_data"
    },
    {
     "name": "stdout",
     "output_type": "stream",
     "text": [
      "DEP_Shuffled - Epoch 10, Loss: 2.9283, Val Accuracy: 0.1147\n",
      "\n",
      "=== Training with Random Representations ===\n"
     ]
    },
    {
     "data": {
      "application/vnd.jupyter.widget-view+json": {
       "model_id": "7dc8233c1aa6417e90ad6edea27e8234",
       "version_major": 2,
       "version_minor": 0
      },
      "text/plain": [
       "POS_RandomRep Epoch 1:   0%|          | 0/250 [00:00<?, ?it/s]"
      ]
     },
     "metadata": {},
     "output_type": "display_data"
    },
    {
     "name": "stdout",
     "output_type": "stream",
     "text": [
      "POS_RandomRep - Epoch 1, Loss: 2.8579, Val Accuracy: 0.1060\n"
     ]
    },
    {
     "data": {
      "application/vnd.jupyter.widget-view+json": {
       "model_id": "7250689ce4494c258f88496b580041d5",
       "version_major": 2,
       "version_minor": 0
      },
      "text/plain": [
       "POS_RandomRep Epoch 2:   0%|          | 0/250 [00:00<?, ?it/s]"
      ]
     },
     "metadata": {},
     "output_type": "display_data"
    },
    {
     "name": "stdout",
     "output_type": "stream",
     "text": [
      "POS_RandomRep - Epoch 2, Loss: 2.6209, Val Accuracy: 0.1258\n"
     ]
    },
    {
     "data": {
      "application/vnd.jupyter.widget-view+json": {
       "model_id": "ff7df69fbd2946e0a9532ed6ecae8f0d",
       "version_major": 2,
       "version_minor": 0
      },
      "text/plain": [
       "POS_RandomRep Epoch 3:   0%|          | 0/250 [00:00<?, ?it/s]"
      ]
     },
     "metadata": {},
     "output_type": "display_data"
    },
    {
     "name": "stdout",
     "output_type": "stream",
     "text": [
      "POS_RandomRep - Epoch 3, Loss: 2.5105, Val Accuracy: 0.1297\n"
     ]
    },
    {
     "data": {
      "application/vnd.jupyter.widget-view+json": {
       "model_id": "1fecd00fe609460790b708fe45058834",
       "version_major": 2,
       "version_minor": 0
      },
      "text/plain": [
       "POS_RandomRep Epoch 4:   0%|          | 0/250 [00:00<?, ?it/s]"
      ]
     },
     "metadata": {},
     "output_type": "display_data"
    },
    {
     "name": "stdout",
     "output_type": "stream",
     "text": [
      "POS_RandomRep - Epoch 4, Loss: 2.4495, Val Accuracy: 0.1400\n"
     ]
    },
    {
     "data": {
      "application/vnd.jupyter.widget-view+json": {
       "model_id": "c03f7cf9b12d4cdd9e494425dfb6dcd6",
       "version_major": 2,
       "version_minor": 0
      },
      "text/plain": [
       "POS_RandomRep Epoch 5:   0%|          | 0/250 [00:00<?, ?it/s]"
      ]
     },
     "metadata": {},
     "output_type": "display_data"
    },
    {
     "name": "stdout",
     "output_type": "stream",
     "text": [
      "POS_RandomRep - Epoch 5, Loss: 2.4128, Val Accuracy: 0.1425\n"
     ]
    },
    {
     "data": {
      "application/vnd.jupyter.widget-view+json": {
       "model_id": "80c22c3de2094e81ab5e30d46b40392a",
       "version_major": 2,
       "version_minor": 0
      },
      "text/plain": [
       "POS_RandomRep Epoch 6:   0%|          | 0/250 [00:00<?, ?it/s]"
      ]
     },
     "metadata": {},
     "output_type": "display_data"
    },
    {
     "name": "stdout",
     "output_type": "stream",
     "text": [
      "POS_RandomRep - Epoch 6, Loss: 2.3889, Val Accuracy: 0.1447\n"
     ]
    },
    {
     "data": {
      "application/vnd.jupyter.widget-view+json": {
       "model_id": "c7acca3970b448638ec8fb679bf79d12",
       "version_major": 2,
       "version_minor": 0
      },
      "text/plain": [
       "POS_RandomRep Epoch 7:   0%|          | 0/250 [00:00<?, ?it/s]"
      ]
     },
     "metadata": {},
     "output_type": "display_data"
    },
    {
     "name": "stdout",
     "output_type": "stream",
     "text": [
      "POS_RandomRep - Epoch 7, Loss: 2.3717, Val Accuracy: 0.1500\n"
     ]
    },
    {
     "data": {
      "application/vnd.jupyter.widget-view+json": {
       "model_id": "96eab822a0554a52ac48df54870f88ed",
       "version_major": 2,
       "version_minor": 0
      },
      "text/plain": [
       "POS_RandomRep Epoch 8:   0%|          | 0/250 [00:00<?, ?it/s]"
      ]
     },
     "metadata": {},
     "output_type": "display_data"
    },
    {
     "name": "stdout",
     "output_type": "stream",
     "text": [
      "POS_RandomRep - Epoch 8, Loss: 2.3596, Val Accuracy: 0.1580\n"
     ]
    },
    {
     "data": {
      "application/vnd.jupyter.widget-view+json": {
       "model_id": "45511492eb65402f896b3c5debcca1c5",
       "version_major": 2,
       "version_minor": 0
      },
      "text/plain": [
       "POS_RandomRep Epoch 9:   0%|          | 0/250 [00:00<?, ?it/s]"
      ]
     },
     "metadata": {},
     "output_type": "display_data"
    },
    {
     "name": "stdout",
     "output_type": "stream",
     "text": [
      "POS_RandomRep - Epoch 9, Loss: 2.3499, Val Accuracy: 0.1573\n"
     ]
    },
    {
     "data": {
      "application/vnd.jupyter.widget-view+json": {
       "model_id": "5ca7bc7d5f5b44629ce65e36a4f57c73",
       "version_major": 2,
       "version_minor": 0
      },
      "text/plain": [
       "POS_RandomRep Epoch 10:   0%|          | 0/250 [00:00<?, ?it/s]"
      ]
     },
     "metadata": {},
     "output_type": "display_data"
    },
    {
     "name": "stdout",
     "output_type": "stream",
     "text": [
      "POS_RandomRep - Epoch 10, Loss: 2.3436, Val Accuracy: 0.1600\n"
     ]
    },
    {
     "data": {
      "application/vnd.jupyter.widget-view+json": {
       "model_id": "9fa6839c646b4e3aa56b1caee937d971",
       "version_major": 2,
       "version_minor": 0
      },
      "text/plain": [
       "DEP_RandomRep Epoch 1:   0%|          | 0/250 [00:00<?, ?it/s]"
      ]
     },
     "metadata": {},
     "output_type": "display_data"
    },
    {
     "name": "stdout",
     "output_type": "stream",
     "text": [
      "DEP_RandomRep - Epoch 1, Loss: 3.8413, Val Accuracy: 0.0622\n"
     ]
    },
    {
     "data": {
      "application/vnd.jupyter.widget-view+json": {
       "model_id": "1a6c7c3c2b2442b89316cb68c811aac6",
       "version_major": 2,
       "version_minor": 0
      },
      "text/plain": [
       "DEP_RandomRep Epoch 2:   0%|          | 0/250 [00:00<?, ?it/s]"
      ]
     },
     "metadata": {},
     "output_type": "display_data"
    },
    {
     "name": "stdout",
     "output_type": "stream",
     "text": [
      "DEP_RandomRep - Epoch 2, Loss: 3.4887, Val Accuracy: 0.0728\n"
     ]
    },
    {
     "data": {
      "application/vnd.jupyter.widget-view+json": {
       "model_id": "415bbf66274c43a69250cfe9ccfd670b",
       "version_major": 2,
       "version_minor": 0
      },
      "text/plain": [
       "DEP_RandomRep Epoch 3:   0%|          | 0/250 [00:00<?, ?it/s]"
      ]
     },
     "metadata": {},
     "output_type": "display_data"
    },
    {
     "name": "stdout",
     "output_type": "stream",
     "text": [
      "DEP_RandomRep - Epoch 3, Loss: 3.2849, Val Accuracy: 0.0745\n"
     ]
    },
    {
     "data": {
      "application/vnd.jupyter.widget-view+json": {
       "model_id": "678c06599a644583abe282e7796e861f",
       "version_major": 2,
       "version_minor": 0
      },
      "text/plain": [
       "DEP_RandomRep Epoch 4:   0%|          | 0/250 [00:00<?, ?it/s]"
      ]
     },
     "metadata": {},
     "output_type": "display_data"
    },
    {
     "name": "stdout",
     "output_type": "stream",
     "text": [
      "DEP_RandomRep - Epoch 4, Loss: 3.1597, Val Accuracy: 0.0763\n"
     ]
    },
    {
     "data": {
      "application/vnd.jupyter.widget-view+json": {
       "model_id": "ff362afaafad4dc599f2e4600d636b95",
       "version_major": 2,
       "version_minor": 0
      },
      "text/plain": [
       "DEP_RandomRep Epoch 5:   0%|          | 0/250 [00:00<?, ?it/s]"
      ]
     },
     "metadata": {},
     "output_type": "display_data"
    },
    {
     "name": "stdout",
     "output_type": "stream",
     "text": [
      "DEP_RandomRep - Epoch 5, Loss: 3.0771, Val Accuracy: 0.0733\n"
     ]
    },
    {
     "data": {
      "application/vnd.jupyter.widget-view+json": {
       "model_id": "4ad94ca134a84f678d977e32393313da",
       "version_major": 2,
       "version_minor": 0
      },
      "text/plain": [
       "DEP_RandomRep Epoch 6:   0%|          | 0/250 [00:00<?, ?it/s]"
      ]
     },
     "metadata": {},
     "output_type": "display_data"
    },
    {
     "name": "stdout",
     "output_type": "stream",
     "text": [
      "DEP_RandomRep - Epoch 6, Loss: 3.0210, Val Accuracy: 0.0763\n"
     ]
    },
    {
     "data": {
      "application/vnd.jupyter.widget-view+json": {
       "model_id": "b02201d6cb064d98871a3ba9ab26292b",
       "version_major": 2,
       "version_minor": 0
      },
      "text/plain": [
       "DEP_RandomRep Epoch 7:   0%|          | 0/250 [00:00<?, ?it/s]"
      ]
     },
     "metadata": {},
     "output_type": "display_data"
    },
    {
     "name": "stdout",
     "output_type": "stream",
     "text": [
      "DEP_RandomRep - Epoch 7, Loss: 2.9805, Val Accuracy: 0.0770\n"
     ]
    },
    {
     "data": {
      "application/vnd.jupyter.widget-view+json": {
       "model_id": "463a0f1116464d1f959d78810eb56477",
       "version_major": 2,
       "version_minor": 0
      },
      "text/plain": [
       "DEP_RandomRep Epoch 8:   0%|          | 0/250 [00:00<?, ?it/s]"
      ]
     },
     "metadata": {},
     "output_type": "display_data"
    },
    {
     "name": "stdout",
     "output_type": "stream",
     "text": [
      "DEP_RandomRep - Epoch 8, Loss: 2.9484, Val Accuracy: 0.0772\n"
     ]
    },
    {
     "data": {
      "application/vnd.jupyter.widget-view+json": {
       "model_id": "6d9ccd1f17d14e088877da7c63c2194b",
       "version_major": 2,
       "version_minor": 0
      },
      "text/plain": [
       "DEP_RandomRep Epoch 9:   0%|          | 0/250 [00:00<?, ?it/s]"
      ]
     },
     "metadata": {},
     "output_type": "display_data"
    },
    {
     "name": "stdout",
     "output_type": "stream",
     "text": [
      "DEP_RandomRep - Epoch 9, Loss: 2.9231, Val Accuracy: 0.0780\n"
     ]
    },
    {
     "data": {
      "application/vnd.jupyter.widget-view+json": {
       "model_id": "56c5ceefb8b54a89b6dee427595dfd0a",
       "version_major": 2,
       "version_minor": 0
      },
      "text/plain": [
       "DEP_RandomRep Epoch 10:   0%|          | 0/250 [00:00<?, ?it/s]"
      ]
     },
     "metadata": {},
     "output_type": "display_data"
    },
    {
     "name": "stdout",
     "output_type": "stream",
     "text": [
      "DEP_RandomRep - Epoch 10, Loss: 2.9035, Val Accuracy: 0.0787\n",
      "\n",
      "=== Evaluation on Test Set ===\n",
      "\n",
      "Results Summary:\n",
      "------------------------------------------------------------\n",
      "Task       Method          Accuracy  \n",
      "------------------------------------------------------------\n",
      "POS        linear          0.8420\n",
      "POS        nonlinear       0.8882\n",
      "POS        random          0.0658\n",
      "POS        shuffled        0.1565\n",
      "POS        random_rep      0.1600\n",
      "DEP        linear          0.6288\n",
      "DEP        nonlinear       0.6740\n",
      "DEP        random          0.0223\n",
      "DEP        shuffled        0.1147\n",
      "DEP        random_rep      0.0787\n"
     ]
    }
   ],
   "source": [
    "from sklearn.preprocessing import LabelEncoder\n",
    "\n",
    "def get_data_for_model(model_name):\n",
    "    df = embedding_data[model_name]['csv']\n",
    "    X = torch.stack(df['embedding'].tolist())\n",
    "    \n",
    "    le_pos = LabelEncoder().fit(df[\"pos\"])\n",
    "    le_dep = LabelEncoder().fit(df[\"dep\"])\n",
    "    \n",
    "    y_pos = torch.tensor(le_pos.transform(df['pos'].values))\n",
    "    y_dep = torch.tensor(le_dep.transform(df['dep'].values))\n",
    "    return df, X, le_pos, le_dep, y_pos, y_dep\n",
    "\n",
    "def run_for_model(model_name):\n",
    "    df, X, le_pos, le_dep, y_pos, y_dep = get_data_for_model(model_name)\n",
    "    results, probes = run_all_probes_and_controls(X, y_pos, y_dep, le_pos, le_dep)\n",
    "    return results, probes\n",
    "\n",
    "eval_results = {}\n",
    "probes = {}\n",
    "for model_name in embedding_data.keys():\n",
    "    results, probes = run_for_model('MiniLM')\n",
    "    eval_results[model_name] = results\n",
    "    probes[model_name] = probes"
   ]
  },
  {
   "cell_type": "code",
   "execution_count": 46,
   "id": "2af71daa-0f7b-4d36-84eb-8b50149e4046",
   "metadata": {},
   "outputs": [
    {
     "data": {
      "text/plain": [
       "{'E5': {'POS': {'linear': 0.840499997138977,\n",
       "   'nonlinear': 0.8847500085830688,\n",
       "   'random': 0.060750000178813934,\n",
       "   'shuffled': 0.13324999809265137,\n",
       "   'random_rep': 0.15424999594688416},\n",
       "  'DEP': {'linear': 0.6455000042915344,\n",
       "   'nonlinear': 0.6767500042915344,\n",
       "   'random': 0.02250000089406967,\n",
       "   'shuffled': 0.12549999356269836,\n",
       "   'random_rep': 0.08299999684095383}},\n",
       " 'MPNET': {'POS': {'linear': 0.8362500071525574,\n",
       "   'nonlinear': 0.8799999952316284,\n",
       "   'random': 0.060750000178813934,\n",
       "   'shuffled': 0.14524999260902405,\n",
       "   'random_rep': 0.1537500023841858},\n",
       "  'DEP': {'linear': 0.6365000009536743,\n",
       "   'nonlinear': 0.6752499938011169,\n",
       "   'random': 0.023749999701976776,\n",
       "   'shuffled': 0.10875000059604645,\n",
       "   'random_rep': 0.06674999743700027}},\n",
       " 'MiniLM': {'POS': {'linear': 0.8420000076293945,\n",
       "   'nonlinear': 0.8882499933242798,\n",
       "   'random': 0.06575000286102295,\n",
       "   'shuffled': 0.15649999678134918,\n",
       "   'random_rep': 0.1599999964237213},\n",
       "  'DEP': {'linear': 0.6287500262260437,\n",
       "   'nonlinear': 0.6740000247955322,\n",
       "   'random': 0.02225000038743019,\n",
       "   'shuffled': 0.11474999785423279,\n",
       "   'random_rep': 0.07874999940395355}}}"
      ]
     },
     "execution_count": 46,
     "metadata": {},
     "output_type": "execute_result"
    }
   ],
   "source": [
    "eval_results"
   ]
  },
  {
   "cell_type": "code",
   "execution_count": 47,
   "id": "cd67e515-f863-4c9c-9ba0-c4087efe148b",
   "metadata": {},
   "outputs": [
    {
     "data": {
      "image/png": "[encoded data removed]",
      "text/plain": [
       "<Figure size 1000x600 with 1 Axes>"
      ]
     },
     "metadata": {},
     "output_type": "display_data"
    },
    {
     "data": {
      "image/png": "[encoded data removed]",
      "text/plain": [
       "<Figure size 1000x600 with 1 Axes>"
      ]
     },
     "metadata": {},
     "output_type": "display_data"
    }
   ],
   "source": [
    "import seaborn as sns\n",
    "import matplotlib.pyplot as plt\n",
    "import pandas as pd\n",
    "\n",
    "# Convert to DataFrame\n",
    "records = []\n",
    "for model, tagsets in eval_results.items():\n",
    "    for tag, values in tagsets.items():\n",
    "        for val_type, acc in values.items():\n",
    "            records.append({'Model': model, 'Tag': tag, 'Type': val_type, 'Accuracy': acc})\n",
    "\n",
    "df = pd.DataFrame.from_records(records)\n",
    "\n",
    "# Set seaborn style\n",
    "sns.set(style=\"whitegrid\")\n",
    "\n",
    "# Function to plot a grouped bar chart for POS or DEP\n",
    "def plot_seaborn_bar(tag_type):\n",
    "    plt.figure(figsize=(10, 6))\n",
    "    subset = df[df['Tag'] == tag_type]\n",
    "    ax = sns.barplot(data=subset, x='Model', y='Accuracy', hue='Type')\n",
    "    ax.set_title(f'{tag_type} Accuracies by Model and Type')\n",
    "    plt.xticks(rotation=45)\n",
    "    plt.tight_layout()\n",
    "    plt.show()\n",
    "\n",
    "# Plot POS and DEP\n",
    "plot_seaborn_bar('POS')\n",
    "plot_seaborn_bar('DEP')\n"
   ]
  },
  {
   "cell_type": "code",
   "execution_count": 55,
   "id": "d343efe1-a7df-47a0-b665-255913402616",
   "metadata": {},
   "outputs": [
    {
     "name": "stdout",
     "output_type": "stream",
     "text": [
      "U matrix shape: (17, 17)\n",
      "Sigma (singular values) shape: (17,)\n",
      "VT matrix shape: (17, 384)\n"
     ]
    }
   ],
   "source": [
    "import torch\n",
    "import numpy as np\n",
    "\n",
    "pos_model = probes_minilm['pos_linear']\n",
    "weights_matrix = pos_model.linear.weight.detach().cpu().numpy()  # shape: (n_classes, d_embeddings)\n",
    "\n",
    "U, sigma, VT = np.linalg.svd(weights_matrix, full_matrices=False)\n",
    "\n",
    "print(\"U matrix shape:\", U.shape)\n",
    "print(\"Sigma (singular values) shape:\", sigma.shape)\n",
    "print(\"VT matrix shape:\", VT.shape)"
   ]
  },
  {
   "cell_type": "code",
   "execution_count": 62,
   "id": "be2d44f2-f5b5-4f31-b724-87dbe38981a3",
   "metadata": {},
   "outputs": [
    {
     "data": {
      "image/png": "[encoded data removed]",
      "text/plain": [
       "<Figure size 1300x900 with 2 Axes>"
      ]
     },
     "metadata": {},
     "output_type": "display_data"
    }
   ],
   "source": [
    "## Cosine similarity heatmap\n",
    "\n",
    "from sklearn.metrics.pairwise import cosine_similarity\n",
    "import seaborn as sns\n",
    "import matplotlib.pyplot as plt\n",
    "\n",
    "cos_sim = cosine_similarity(weights_matrix, VT[:17, :])\n",
    "\n",
    "plt.figure(figsize=(13, 9))\n",
    "sns.heatmap(cos_sim, annot=True, fmt=\".2f\", cmap=\"coolwarm\", xticklabels=[f\"SV {i+1}\" for i in range(17)], yticklabels=le_pos.classes_)\n",
    "plt.title(\"Cosine Similarity Between Probe Weights and Singular Vectors\")\n",
    "plt.xlabel(\"Singular Vectors\")\n",
    "plt.ylabel(\"Probe Weights\")\n",
    "plt.show()"
   ]
  },
  {
   "cell_type": "code",
   "execution_count": null,
   "id": "cec91253-fdf2-4959-9eda-58df3d8b443b",
   "metadata": {},
   "outputs": [],
   "source": []
  }
 ],
 "metadata": {
  "kernelspec": {
   "display_name": "Python 3 (ipykernel)",
   "language": "python",
   "name": "python3"
  },
  "language_info": {
   "codemirror_mode": {
    "name": "ipython",
    "version": 3
   },
   "file_extension": ".py",
   "mimetype": "text/x-python",
   "name": "python",
   "nbconvert_exporter": "python",
   "pygments_lexer": "ipython3",
   "version": "3.13.3"
  }
 },
 "nbformat": 4,
 "nbformat_minor": 5
}
