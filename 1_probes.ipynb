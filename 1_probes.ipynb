{
 "cells": [
  {
   "cell_type": "code",
   "execution_count": 2,
   "id": "e47c1942-f490-404b-8edd-1ef66208310e",
   "metadata": {},
   "outputs": [],
   "source": [
    "import os\n",
    "import json\n",
    "import pickle\n",
    "import numpy as np\n",
    "import pandas as pd\n",
    "import matplotlib.pyplot as plt\n",
    "import seaborn as sns\n",
    "from tqdm.notebook import tqdm\n",
    "import wandb\n",
    "\n",
    "import torch\n",
    "import torch.nn as nn\n",
    "import torch.optim as optim\n",
    "from torch.utils.data import TensorDataset, DataLoader\n",
    "from sklearn.preprocessing import LabelEncoder\n",
    "from sklearn.metrics import confusion_matrix, classification_report\n",
    "from sklearn.manifold import TSNE\n",
    "\n",
    "os.environ['WANDB_DIR'] = 'wb_logs'\n",
    "# Set plot style\n",
    "plt.style.use('ggplot')\n",
    "sns.set(font_scale=1.2)\n",
    "sns.set_style(\"whitegrid\")"
   ]
  },
  {
   "cell_type": "markdown",
   "id": "c9ffb914-c87a-4240-8c1b-accc3e7c7601",
   "metadata": {},
   "source": [
    "## 1. Probe Models\n",
    "\n",
    "We've trained two types of probes:\n",
    "\n",
    "1. **Linear Probe**: A simple linear layer that predicts linguistic features\n",
    "2. **Non-linear Probe**: A two-layer neural network with ReLU activation\n",
    "\n",
    "These probes will be trained to predict:\n",
    "- Part-of-speech (POS) tags\n",
    "- Dependency relations"
   ]
  },
  {
   "cell_type": "code",
   "execution_count": 3,
   "id": "f1c64ed8-8032-4b97-9c70-92f76b0498ee",
   "metadata": {},
   "outputs": [],
   "source": [
    "class LinearProbe(nn.Module):\n",
    "    def __init__(self, input_dim, output_dim):\n",
    "        super().__init__()\n",
    "        self.linear = nn.Linear(input_dim, output_dim)\n",
    "\n",
    "    def forward(self, x):\n",
    "        return self.linear(x)\n",
    "\n",
    "\n",
    "class NonlinearProbe(nn.Module):\n",
    "    def __init__(self, input_dim, output_dim, hidden_dim=128):\n",
    "        super().__init__()\n",
    "        self.network = nn.Sequential(\n",
    "            nn.Linear(input_dim, hidden_dim),\n",
    "            nn.ReLU(),\n",
    "            nn.Linear(hidden_dim, output_dim)\n",
    "        )\n",
    "\n",
    "    def forward(self, x):\n",
    "        return self.network(x)\n",
    "\n",
    "\n",
    "# Define a random baseline probe for comparison\n",
    "class RandomPredictionProbe(nn.Module):\n",
    "    def __init__(self, n_classes):\n",
    "        super().__init__()\n",
    "        self.n_classes = n_classes\n",
    "\n",
    "    def forward(self, x):\n",
    "        return torch.randint(0, self.n_classes, (x.size(0),), device=x.device)"
   ]
  },
  {
   "cell_type": "markdown",
   "id": "ea75151c-7271-4393-ad58-8290e3b1e616",
   "metadata": {},
   "source": [
    "## 2. Evaluation Functions"
   ]
  },
  {
   "cell_type": "code",
   "execution_count": null,
   "id": "2d7b21b3-92f8-4268-b51b-dfa8a303e485",
   "metadata": {
    "scrolled": true
   },
   "outputs": [],
   "source": [
    "def load_embedding_artifacts():\n",
    "    embedding_artifact_names = {\n",
    "        \"E5\": \"mech_decomp/mechanistic-decomposition-sentence-embeddings/embeddings-multilingual-e5-large:latest\",\n",
    "        \"MPNET\": \"mech_decomp/mechanistic-decomposition-sentence-embeddings/embeddings-all-mpnet-base-v2:latest\",\n",
    "        \"MiniLM\": 'mech_decomp/mechanistic-decomposition-sentence-embeddings/embeddings-all-MiniLM-L6-v2:latest',\n",
    "    }\n",
    "\n",
    "    embedding_dirs = {}\n",
    "    for name, artifact_path in embedding_artifact_names.items():\n",
    "        run = wandb.init(project=\"mechanistic-decomposition-sentence-embeddings\", reinit=True)\n",
    "        artifact = run.use_artifact(artifact_path, type=\"embeddings\")\n",
    "        artifact_dir = artifact.download()\n",
    "        embedding_dirs[name] = artifact_dir\n",
    "        run.finish()\n",
    "\n",
    "    return embedding_dirs\n",
    "\n",
    "# Usage\n",
    "embedding_dirs = load_embedding_artifacts()\n",
    "print(embedding_dirs)"
   ]
  },
  {
   "cell_type": "code",
   "execution_count": 7,
   "id": "3d6aced1-d362-4f82-ab01-946a58441f35",
   "metadata": {},
   "outputs": [],
   "source": [
    "import os\n",
    "import glob\n",
    "import pandas as pd\n",
    "import pickle\n",
    "\n",
    "def load_embeddings_from_dirs(embedding_dirs):\n",
    "    \"\"\"\n",
    "    Loads both CSV and pickle files for each embedding model from their respective artifact directories.\n",
    "    \n",
    "    Returns a dict of the form:\n",
    "    {\n",
    "        \"E5\": {\"csv\": df, \"pkl\": embeddings},\n",
    "        \"GTE\": {\"csv\": df, \"pkl\": embeddings},\n",
    "        ...\n",
    "    }\n",
    "    \"\"\"\n",
    "    all_embeddings = {}\n",
    "\n",
    "    for name, dir_path in embedding_dirs.items():\n",
    "        # Find the CSV file\n",
    "        csv_files = glob.glob(os.path.join(dir_path, \"*.csv\"))\n",
    "        pkl_files = glob.glob(os.path.join(dir_path, \"*.pkl\"))\n",
    "\n",
    "        if not csv_files:\n",
    "            raise FileNotFoundError(f\"No CSV file found in {dir_path}\")\n",
    "        if not pkl_files:\n",
    "            raise FileNotFoundError(f\"No pickle file found in {dir_path}\")\n",
    "\n",
    "        csv_path = csv_files[0]\n",
    "        pkl_path = pkl_files[0]\n",
    "\n",
    "        df = pd.read_csv(csv_path)\n",
    "        with open(pkl_path, \"rb\") as f:\n",
    "            embeddings = pickle.load(f)\n",
    "\n",
    "        df['embedding'] = [embeddings[idx] for idx in df['embedding_idx']]\n",
    "\n",
    "        all_embeddings[name] = {\"csv\": df, \"pkl\": embeddings}\n",
    "\n",
    "    return all_embeddings\n",
    "\n",
    "embedding_data = load_embeddings_from_dirs(embedding_dirs)"
   ]
  },
  {
   "cell_type": "code",
   "execution_count": 34,
   "id": "c9308767-744d-4bab-9e30-144b9a74f26e",
   "metadata": {},
   "outputs": [],
   "source": [
    "def evaluate_probe(model, X, y):\n",
    "    \"\"\"Evaluate a classification probe.\"\"\"\n",
    "    model.eval()\n",
    "    with torch.no_grad():\n",
    "        if isinstance(model, RandomPredictionProbe):\n",
    "            preds = model(X)\n",
    "        else:\n",
    "            preds = model(X).argmax(dim=1)\n",
    "        accuracy = (preds == y).float().mean().item()\n",
    "    return accuracy\n",
    "\n",
    "def train_probe(model, X, y, task_name=\"TASK\", epochs=10, output_dir=\"trained_models\"):\n",
    "    \"\"\"Train a classification probe.\"\"\"\n",
    "    model.train()\n",
    "    loss_fn = nn.CrossEntropyLoss()\n",
    "    optimizer = optim.Adam(model.parameters(), lr=1e-3)\n",
    "    dataset = TensorDataset(X, y)\n",
    "    loader = DataLoader(dataset, batch_size=64, shuffle=True)\n",
    "\n",
    "    for epoch in range(epochs):\n",
    "        total_loss = 0\n",
    "        for xb, yb in tqdm(loader, desc=f\"{task_name} Epoch {epoch+1}\"):\n",
    "            optimizer.zero_grad()\n",
    "            logits = model(xb)\n",
    "            loss = loss_fn(logits, yb)\n",
    "            loss.backward()\n",
    "            optimizer.step()\n",
    "            total_loss += loss.item()\n",
    "        print(f\"{task_name} - Epoch {epoch+1}, Loss: {total_loss:.4f}\")\n",
    "    return model\n",
    "\n",
    "def run_all_probes_and_controls(X, y_pos, y_dep, le_pos, le_dep, hidden_dim=128):\n",
    "    \"\"\"Run all probes and control experiments.\"\"\"\n",
    "    results = {}\n",
    "\n",
    "    # === Main Probes ===\n",
    "    print(\"\\n=== Training Main Probes ===\")\n",
    "    pos_model = train_probe(LinearProbe(X.shape[1], len(le_pos.classes_)), X, y_pos, \"POS\")\n",
    "    dep_model = train_probe(LinearProbe(X.shape[1], len(le_dep.classes_)), X, y_dep, \"DEP\")\n",
    "\n",
    "    # === Nonlinear Probes ===\n",
    "    print(\"\\n=== Training Nonlinear Probes ===\")\n",
    "    pos_nonlinear = train_probe(NonlinearProbe(X.shape[1], len(le_pos.classes_), hidden_dim=hidden_dim), X, y_pos, \"POS_Nonlinear\")\n",
    "    dep_nonlinear = train_probe(NonlinearProbe(X.shape[1], len(le_dep.classes_), hidden_dim=hidden_dim), X, y_dep, \"DEP_Nonlinear\")\n",
    "\n",
    "    # === Random Baselines ===\n",
    "    print(\"\\n=== Evaluating Random Baselines ===\")\n",
    "    pos_random = RandomPredictionProbe(len(le_pos.classes_))\n",
    "    dep_random = RandomPredictionProbe(len(le_dep.classes_))\n",
    "\n",
    "    # === Shuffled Labels ===\n",
    "    print(\"\\n=== Training with Shuffled Labels ===\")\n",
    "    pos_shuffled = train_probe(LinearProbe(X.shape[1], len(le_pos.classes_)), X, y_pos[torch.randperm(len(y_pos))], \"POS_Shuffled\")\n",
    "    dep_shuffled = train_probe(LinearProbe(X.shape[1], len(le_dep.classes_)), X, y_dep[torch.randperm(len(y_dep))], \"DEP_Shuffled\")\n",
    "\n",
    "    # === Random Representations ===\n",
    "    print(\"\\n=== Training with Random Representations ===\")\n",
    "    X_rand = torch.randn_like(X)\n",
    "    pos_randrep = train_probe(LinearProbe(X.shape[1], len(le_pos.classes_)), X_rand, y_pos, \"POS_RandomRep\")\n",
    "    dep_randrep = train_probe(LinearProbe(X.shape[1], len(le_dep.classes_)), X_rand, y_dep, \"DEP_RandomRep\")\n",
    "\n",
    "    # === Evaluation ===\n",
    "    print(\"\\n=== Evaluation ===\")\n",
    "    results = {\n",
    "        \"POS\": {\n",
    "            \"linear\": evaluate_probe(pos_model, X, y_pos),\n",
    "            \"nonlinear\": evaluate_probe(pos_nonlinear, X, y_pos),\n",
    "            \"random\": evaluate_probe(pos_random, X, y_pos),\n",
    "            \"shuffled\": evaluate_probe(pos_shuffled, X, y_pos),\n",
    "            \"random_rep\": evaluate_probe(pos_randrep, X, y_pos)\n",
    "        },\n",
    "        \"DEP\": {\n",
    "            \"linear\": evaluate_probe(dep_model, X, y_dep),\n",
    "            \"nonlinear\": evaluate_probe(dep_nonlinear, X, y_dep),\n",
    "            \"random\": evaluate_probe(dep_random, X, y_dep),\n",
    "            \"shuffled\": evaluate_probe(dep_shuffled, X, y_dep),\n",
    "            \"random_rep\": evaluate_probe(dep_randrep, X, y_dep)\n",
    "        }\n",
    "    }\n",
    "    return results"
   ]
  },
  {
   "cell_type": "code",
   "execution_count": 40,
   "id": "50a40f26-0696-46f8-9c0c-ddc12df5b9c4",
   "metadata": {},
   "outputs": [
    {
     "name": "stdout",
     "output_type": "stream",
     "text": [
      "\n",
      "=== Training Main Probes ===\n"
     ]
    },
    {
     "data": {
      "application/vnd.jupyter.widget-view+json": {
       "model_id": "d9cc641a36bf42f6bdbef3333f1a90bb",
       "version_major": 2,
       "version_minor": 0
      },
      "text/plain": [
       "POS Epoch 1:   0%|          | 0/313 [00:00<?, ?it/s]"
      ]
     },
     "metadata": {},
     "output_type": "display_data"
    },
    {
     "name": "stdout",
     "output_type": "stream",
     "text": [
      "POS - Epoch 1, Loss: 548.4200\n"
     ]
    },
    {
     "data": {
      "application/vnd.jupyter.widget-view+json": {
       "model_id": "903f2423a84e4bb0ba1fdec92e0b3b9d",
       "version_major": 2,
       "version_minor": 0
      },
      "text/plain": [
       "POS Epoch 2:   0%|          | 0/313 [00:00<?, ?it/s]"
      ]
     },
     "metadata": {},
     "output_type": "display_data"
    },
    {
     "name": "stdout",
     "output_type": "stream",
     "text": [
      "POS - Epoch 2, Loss: 329.5692\n"
     ]
    },
    {
     "data": {
      "application/vnd.jupyter.widget-view+json": {
       "model_id": "93f9f5510820492ea5b70e87ecf9fd33",
       "version_major": 2,
       "version_minor": 0
      },
      "text/plain": [
       "POS Epoch 3:   0%|          | 0/313 [00:00<?, ?it/s]"
      ]
     },
     "metadata": {},
     "output_type": "display_data"
    },
    {
     "name": "stdout",
     "output_type": "stream",
     "text": [
      "POS - Epoch 3, Loss: 262.0455\n"
     ]
    },
    {
     "data": {
      "application/vnd.jupyter.widget-view+json": {
       "model_id": "ba65b2d7b0924f328afa73f3412109f1",
       "version_major": 2,
       "version_minor": 0
      },
      "text/plain": [
       "POS Epoch 4:   0%|          | 0/313 [00:00<?, ?it/s]"
      ]
     },
     "metadata": {},
     "output_type": "display_data"
    },
    {
     "name": "stdout",
     "output_type": "stream",
     "text": [
      "POS - Epoch 4, Loss: 226.8589\n"
     ]
    },
    {
     "data": {
      "application/vnd.jupyter.widget-view+json": {
       "model_id": "a8cf4e358291469d8b809a98fe41d6e0",
       "version_major": 2,
       "version_minor": 0
      },
      "text/plain": [
       "POS Epoch 5:   0%|          | 0/313 [00:00<?, ?it/s]"
      ]
     },
     "metadata": {},
     "output_type": "display_data"
    },
    {
     "name": "stdout",
     "output_type": "stream",
     "text": [
      "POS - Epoch 5, Loss: 204.3096\n"
     ]
    },
    {
     "data": {
      "application/vnd.jupyter.widget-view+json": {
       "model_id": "8830ce6979374aafb10fbe919305dc3d",
       "version_major": 2,
       "version_minor": 0
      },
      "text/plain": [
       "POS Epoch 6:   0%|          | 0/313 [00:00<?, ?it/s]"
      ]
     },
     "metadata": {},
     "output_type": "display_data"
    },
    {
     "name": "stdout",
     "output_type": "stream",
     "text": [
      "POS - Epoch 6, Loss: 188.4598\n"
     ]
    },
    {
     "data": {
      "application/vnd.jupyter.widget-view+json": {
       "model_id": "2f0d116e46634f7c9b7c38eba8ab6710",
       "version_major": 2,
       "version_minor": 0
      },
      "text/plain": [
       "POS Epoch 7:   0%|          | 0/313 [00:00<?, ?it/s]"
      ]
     },
     "metadata": {},
     "output_type": "display_data"
    },
    {
     "name": "stdout",
     "output_type": "stream",
     "text": [
      "POS - Epoch 7, Loss: 176.3210\n"
     ]
    },
    {
     "data": {
      "application/vnd.jupyter.widget-view+json": {
       "model_id": "79abd8c78ef746f7b769139e3f2cd28a",
       "version_major": 2,
       "version_minor": 0
      },
      "text/plain": [
       "POS Epoch 8:   0%|          | 0/313 [00:00<?, ?it/s]"
      ]
     },
     "metadata": {},
     "output_type": "display_data"
    },
    {
     "name": "stdout",
     "output_type": "stream",
     "text": [
      "POS - Epoch 8, Loss: 166.8084\n"
     ]
    },
    {
     "data": {
      "application/vnd.jupyter.widget-view+json": {
       "model_id": "a914b86755244c81bdce1f5c47bd273a",
       "version_major": 2,
       "version_minor": 0
      },
      "text/plain": [
       "POS Epoch 9:   0%|          | 0/313 [00:00<?, ?it/s]"
      ]
     },
     "metadata": {},
     "output_type": "display_data"
    },
    {
     "name": "stdout",
     "output_type": "stream",
     "text": [
      "POS - Epoch 9, Loss: 158.8670\n"
     ]
    },
    {
     "data": {
      "application/vnd.jupyter.widget-view+json": {
       "model_id": "b1400f445e484753bb4701f4af9b9ee2",
       "version_major": 2,
       "version_minor": 0
      },
      "text/plain": [
       "POS Epoch 10:   0%|          | 0/313 [00:00<?, ?it/s]"
      ]
     },
     "metadata": {},
     "output_type": "display_data"
    },
    {
     "name": "stdout",
     "output_type": "stream",
     "text": [
      "POS - Epoch 10, Loss: 152.5399\n"
     ]
    },
    {
     "data": {
      "application/vnd.jupyter.widget-view+json": {
       "model_id": "6eb106fbdc714185bb52dd0c48e77553",
       "version_major": 2,
       "version_minor": 0
      },
      "text/plain": [
       "DEP Epoch 1:   0%|          | 0/313 [00:00<?, ?it/s]"
      ]
     },
     "metadata": {},
     "output_type": "display_data"
    },
    {
     "name": "stdout",
     "output_type": "stream",
     "text": [
      "DEP - Epoch 1, Loss: 818.4853\n"
     ]
    },
    {
     "data": {
      "application/vnd.jupyter.widget-view+json": {
       "model_id": "467650b5891c441ab129ffa67211167f",
       "version_major": 2,
       "version_minor": 0
      },
      "text/plain": [
       "DEP Epoch 2:   0%|          | 0/313 [00:00<?, ?it/s]"
      ]
     },
     "metadata": {},
     "output_type": "display_data"
    },
    {
     "name": "stdout",
     "output_type": "stream",
     "text": [
      "DEP - Epoch 2, Loss: 567.3391\n"
     ]
    },
    {
     "data": {
      "application/vnd.jupyter.widget-view+json": {
       "model_id": "f1986fb6c1e54d3c881e8ce9cc420e87",
       "version_major": 2,
       "version_minor": 0
      },
      "text/plain": [
       "DEP Epoch 3:   0%|          | 0/313 [00:00<?, ?it/s]"
      ]
     },
     "metadata": {},
     "output_type": "display_data"
    },
    {
     "name": "stdout",
     "output_type": "stream",
     "text": [
      "DEP - Epoch 3, Loss: 487.3757\n"
     ]
    },
    {
     "data": {
      "application/vnd.jupyter.widget-view+json": {
       "model_id": "add93ecd97a3405eb7f3f657cb4e7525",
       "version_major": 2,
       "version_minor": 0
      },
      "text/plain": [
       "DEP Epoch 4:   0%|          | 0/313 [00:00<?, ?it/s]"
      ]
     },
     "metadata": {},
     "output_type": "display_data"
    },
    {
     "name": "stdout",
     "output_type": "stream",
     "text": [
      "DEP - Epoch 4, Loss: 443.1394\n"
     ]
    },
    {
     "data": {
      "application/vnd.jupyter.widget-view+json": {
       "model_id": "2d27346b0e2344f38bcff76ea8434929",
       "version_major": 2,
       "version_minor": 0
      },
      "text/plain": [
       "DEP Epoch 5:   0%|          | 0/313 [00:00<?, ?it/s]"
      ]
     },
     "metadata": {},
     "output_type": "display_data"
    },
    {
     "name": "stdout",
     "output_type": "stream",
     "text": [
      "DEP - Epoch 5, Loss: 413.2562\n"
     ]
    },
    {
     "data": {
      "application/vnd.jupyter.widget-view+json": {
       "model_id": "641d85d5fb9840ffa5351906948abe7f",
       "version_major": 2,
       "version_minor": 0
      },
      "text/plain": [
       "DEP Epoch 6:   0%|          | 0/313 [00:00<?, ?it/s]"
      ]
     },
     "metadata": {},
     "output_type": "display_data"
    },
    {
     "name": "stdout",
     "output_type": "stream",
     "text": [
      "DEP - Epoch 6, Loss: 391.6468\n"
     ]
    },
    {
     "data": {
      "application/vnd.jupyter.widget-view+json": {
       "model_id": "77fae70d046d43a18b28998eb384be81",
       "version_major": 2,
       "version_minor": 0
      },
      "text/plain": [
       "DEP Epoch 7:   0%|          | 0/313 [00:00<?, ?it/s]"
      ]
     },
     "metadata": {},
     "output_type": "display_data"
    },
    {
     "name": "stdout",
     "output_type": "stream",
     "text": [
      "DEP - Epoch 7, Loss: 374.8837\n"
     ]
    },
    {
     "data": {
      "application/vnd.jupyter.widget-view+json": {
       "model_id": "30cd628d83af4154abef601870547de9",
       "version_major": 2,
       "version_minor": 0
      },
      "text/plain": [
       "DEP Epoch 8:   0%|          | 0/313 [00:00<?, ?it/s]"
      ]
     },
     "metadata": {},
     "output_type": "display_data"
    },
    {
     "name": "stdout",
     "output_type": "stream",
     "text": [
      "DEP - Epoch 8, Loss: 361.3603\n"
     ]
    },
    {
     "data": {
      "application/vnd.jupyter.widget-view+json": {
       "model_id": "c7addb8eed924daba38620d9f527d0db",
       "version_major": 2,
       "version_minor": 0
      },
      "text/plain": [
       "DEP Epoch 9:   0%|          | 0/313 [00:00<?, ?it/s]"
      ]
     },
     "metadata": {},
     "output_type": "display_data"
    },
    {
     "name": "stdout",
     "output_type": "stream",
     "text": [
      "DEP - Epoch 9, Loss: 350.1651\n"
     ]
    },
    {
     "data": {
      "application/vnd.jupyter.widget-view+json": {
       "model_id": "e7f62584b4274688a9eddbe055d5ea09",
       "version_major": 2,
       "version_minor": 0
      },
      "text/plain": [
       "DEP Epoch 10:   0%|          | 0/313 [00:00<?, ?it/s]"
      ]
     },
     "metadata": {},
     "output_type": "display_data"
    },
    {
     "name": "stdout",
     "output_type": "stream",
     "text": [
      "DEP - Epoch 10, Loss: 340.6088\n",
      "\n",
      "=== Training Nonlinear Probes ===\n"
     ]
    },
    {
     "data": {
      "application/vnd.jupyter.widget-view+json": {
       "model_id": "b84a4db5c0c24cd2adf0957a8e6e5020",
       "version_major": 2,
       "version_minor": 0
      },
      "text/plain": [
       "POS_Nonlinear Epoch 1:   0%|          | 0/313 [00:00<?, ?it/s]"
      ]
     },
     "metadata": {},
     "output_type": "display_data"
    },
    {
     "name": "stdout",
     "output_type": "stream",
     "text": [
      "POS_Nonlinear - Epoch 1, Loss: 368.7969\n"
     ]
    },
    {
     "data": {
      "application/vnd.jupyter.widget-view+json": {
       "model_id": "d5fb560f030349ae90eceac0f43d5649",
       "version_major": 2,
       "version_minor": 0
      },
      "text/plain": [
       "POS_Nonlinear Epoch 2:   0%|          | 0/313 [00:00<?, ?it/s]"
      ]
     },
     "metadata": {},
     "output_type": "display_data"
    },
    {
     "name": "stdout",
     "output_type": "stream",
     "text": [
      "POS_Nonlinear - Epoch 2, Loss: 160.3974\n"
     ]
    },
    {
     "data": {
      "application/vnd.jupyter.widget-view+json": {
       "model_id": "4e41173fc2164efd950dcbdf998d8864",
       "version_major": 2,
       "version_minor": 0
      },
      "text/plain": [
       "POS_Nonlinear Epoch 3:   0%|          | 0/313 [00:00<?, ?it/s]"
      ]
     },
     "metadata": {},
     "output_type": "display_data"
    },
    {
     "name": "stdout",
     "output_type": "stream",
     "text": [
      "POS_Nonlinear - Epoch 3, Loss: 123.0365\n"
     ]
    },
    {
     "data": {
      "application/vnd.jupyter.widget-view+json": {
       "model_id": "731b8b45b25f46e68467ce4bdf4dc726",
       "version_major": 2,
       "version_minor": 0
      },
      "text/plain": [
       "POS_Nonlinear Epoch 4:   0%|          | 0/313 [00:00<?, ?it/s]"
      ]
     },
     "metadata": {},
     "output_type": "display_data"
    },
    {
     "name": "stdout",
     "output_type": "stream",
     "text": [
      "POS_Nonlinear - Epoch 4, Loss: 102.5806\n"
     ]
    },
    {
     "data": {
      "application/vnd.jupyter.widget-view+json": {
       "model_id": "579f8553c7e2438d8596bcf5b75ad1aa",
       "version_major": 2,
       "version_minor": 0
      },
      "text/plain": [
       "POS_Nonlinear Epoch 5:   0%|          | 0/313 [00:00<?, ?it/s]"
      ]
     },
     "metadata": {},
     "output_type": "display_data"
    },
    {
     "name": "stdout",
     "output_type": "stream",
     "text": [
      "POS_Nonlinear - Epoch 5, Loss: 89.1288\n"
     ]
    },
    {
     "data": {
      "application/vnd.jupyter.widget-view+json": {
       "model_id": "0e01bb08e435428e9badb9937314f3c7",
       "version_major": 2,
       "version_minor": 0
      },
      "text/plain": [
       "POS_Nonlinear Epoch 6:   0%|          | 0/313 [00:00<?, ?it/s]"
      ]
     },
     "metadata": {},
     "output_type": "display_data"
    },
    {
     "name": "stdout",
     "output_type": "stream",
     "text": [
      "POS_Nonlinear - Epoch 6, Loss: 78.1786\n"
     ]
    },
    {
     "data": {
      "application/vnd.jupyter.widget-view+json": {
       "model_id": "a009cf9642c0401b8509040408f4b5af",
       "version_major": 2,
       "version_minor": 0
      },
      "text/plain": [
       "POS_Nonlinear Epoch 7:   0%|          | 0/313 [00:00<?, ?it/s]"
      ]
     },
     "metadata": {},
     "output_type": "display_data"
    },
    {
     "name": "stdout",
     "output_type": "stream",
     "text": [
      "POS_Nonlinear - Epoch 7, Loss: 69.7319\n"
     ]
    },
    {
     "data": {
      "application/vnd.jupyter.widget-view+json": {
       "model_id": "590785fe1b5940dba34c9990d8afc884",
       "version_major": 2,
       "version_minor": 0
      },
      "text/plain": [
       "POS_Nonlinear Epoch 8:   0%|          | 0/313 [00:00<?, ?it/s]"
      ]
     },
     "metadata": {},
     "output_type": "display_data"
    },
    {
     "name": "stdout",
     "output_type": "stream",
     "text": [
      "POS_Nonlinear - Epoch 8, Loss: 62.3757\n"
     ]
    },
    {
     "data": {
      "application/vnd.jupyter.widget-view+json": {
       "model_id": "95421c92ccb441e99999973a93171d14",
       "version_major": 2,
       "version_minor": 0
      },
      "text/plain": [
       "POS_Nonlinear Epoch 9:   0%|          | 0/313 [00:00<?, ?it/s]"
      ]
     },
     "metadata": {},
     "output_type": "display_data"
    },
    {
     "name": "stdout",
     "output_type": "stream",
     "text": [
      "POS_Nonlinear - Epoch 9, Loss: 55.8719\n"
     ]
    },
    {
     "data": {
      "application/vnd.jupyter.widget-view+json": {
       "model_id": "4f2f76cf814a4c2e9550ba31fd4b025a",
       "version_major": 2,
       "version_minor": 0
      },
      "text/plain": [
       "POS_Nonlinear Epoch 10:   0%|          | 0/313 [00:00<?, ?it/s]"
      ]
     },
     "metadata": {},
     "output_type": "display_data"
    },
    {
     "name": "stdout",
     "output_type": "stream",
     "text": [
      "POS_Nonlinear - Epoch 10, Loss: 50.4192\n"
     ]
    },
    {
     "data": {
      "application/vnd.jupyter.widget-view+json": {
       "model_id": "c4f8eecb43df43e488448e3873016a3b",
       "version_major": 2,
       "version_minor": 0
      },
      "text/plain": [
       "DEP_Nonlinear Epoch 1:   0%|          | 0/313 [00:00<?, ?it/s]"
      ]
     },
     "metadata": {},
     "output_type": "display_data"
    },
    {
     "name": "stdout",
     "output_type": "stream",
     "text": [
      "DEP_Nonlinear - Epoch 1, Loss: 651.2633\n"
     ]
    },
    {
     "data": {
      "application/vnd.jupyter.widget-view+json": {
       "model_id": "a3010ea0f8e340618b93195c1bbd9836",
       "version_major": 2,
       "version_minor": 0
      },
      "text/plain": [
       "DEP_Nonlinear Epoch 2:   0%|          | 0/313 [00:00<?, ?it/s]"
      ]
     },
     "metadata": {},
     "output_type": "display_data"
    },
    {
     "name": "stdout",
     "output_type": "stream",
     "text": [
      "DEP_Nonlinear - Epoch 2, Loss: 401.0246\n"
     ]
    },
    {
     "data": {
      "application/vnd.jupyter.widget-view+json": {
       "model_id": "b8a0d6240ff940e692949a5d93b2e206",
       "version_major": 2,
       "version_minor": 0
      },
      "text/plain": [
       "DEP_Nonlinear Epoch 3:   0%|          | 0/313 [00:00<?, ?it/s]"
      ]
     },
     "metadata": {},
     "output_type": "display_data"
    },
    {
     "name": "stdout",
     "output_type": "stream",
     "text": [
      "DEP_Nonlinear - Epoch 3, Loss: 341.6737\n"
     ]
    },
    {
     "data": {
      "application/vnd.jupyter.widget-view+json": {
       "model_id": "e0acded9d2384ce396c091646967b91a",
       "version_major": 2,
       "version_minor": 0
      },
      "text/plain": [
       "DEP_Nonlinear Epoch 4:   0%|          | 0/313 [00:00<?, ?it/s]"
      ]
     },
     "metadata": {},
     "output_type": "display_data"
    },
    {
     "name": "stdout",
     "output_type": "stream",
     "text": [
      "DEP_Nonlinear - Epoch 4, Loss: 306.1494\n"
     ]
    },
    {
     "data": {
      "application/vnd.jupyter.widget-view+json": {
       "model_id": "b3790849970f476d9b878c306c75be1f",
       "version_major": 2,
       "version_minor": 0
      },
      "text/plain": [
       "DEP_Nonlinear Epoch 5:   0%|          | 0/313 [00:00<?, ?it/s]"
      ]
     },
     "metadata": {},
     "output_type": "display_data"
    },
    {
     "name": "stdout",
     "output_type": "stream",
     "text": [
      "DEP_Nonlinear - Epoch 5, Loss: 281.2933\n"
     ]
    },
    {
     "data": {
      "application/vnd.jupyter.widget-view+json": {
       "model_id": "e9bf6adf8b794fd397acb29a05b9e58f",
       "version_major": 2,
       "version_minor": 0
      },
      "text/plain": [
       "DEP_Nonlinear Epoch 6:   0%|          | 0/313 [00:00<?, ?it/s]"
      ]
     },
     "metadata": {},
     "output_type": "display_data"
    },
    {
     "name": "stdout",
     "output_type": "stream",
     "text": [
      "DEP_Nonlinear - Epoch 6, Loss: 260.1518\n"
     ]
    },
    {
     "data": {
      "application/vnd.jupyter.widget-view+json": {
       "model_id": "b0211cfb2c5b4fc78da148c5286b4e7d",
       "version_major": 2,
       "version_minor": 0
      },
      "text/plain": [
       "DEP_Nonlinear Epoch 7:   0%|          | 0/313 [00:00<?, ?it/s]"
      ]
     },
     "metadata": {},
     "output_type": "display_data"
    },
    {
     "name": "stdout",
     "output_type": "stream",
     "text": [
      "DEP_Nonlinear - Epoch 7, Loss: 243.2079\n"
     ]
    },
    {
     "data": {
      "application/vnd.jupyter.widget-view+json": {
       "model_id": "4e46b22d2d9e4d1e86b3c7afb8d2f3f3",
       "version_major": 2,
       "version_minor": 0
      },
      "text/plain": [
       "DEP_Nonlinear Epoch 8:   0%|          | 0/313 [00:00<?, ?it/s]"
      ]
     },
     "metadata": {},
     "output_type": "display_data"
    },
    {
     "name": "stdout",
     "output_type": "stream",
     "text": [
      "DEP_Nonlinear - Epoch 8, Loss: 228.0192\n"
     ]
    },
    {
     "data": {
      "application/vnd.jupyter.widget-view+json": {
       "model_id": "9c08e68d88da416e80f956f0065f10cc",
       "version_major": 2,
       "version_minor": 0
      },
      "text/plain": [
       "DEP_Nonlinear Epoch 9:   0%|          | 0/313 [00:00<?, ?it/s]"
      ]
     },
     "metadata": {},
     "output_type": "display_data"
    },
    {
     "name": "stdout",
     "output_type": "stream",
     "text": [
      "DEP_Nonlinear - Epoch 9, Loss: 214.4438\n"
     ]
    },
    {
     "data": {
      "application/vnd.jupyter.widget-view+json": {
       "model_id": "f5582d9f678d40cfbc17721c87a150a5",
       "version_major": 2,
       "version_minor": 0
      },
      "text/plain": [
       "DEP_Nonlinear Epoch 10:   0%|          | 0/313 [00:00<?, ?it/s]"
      ]
     },
     "metadata": {},
     "output_type": "display_data"
    },
    {
     "name": "stdout",
     "output_type": "stream",
     "text": [
      "DEP_Nonlinear - Epoch 10, Loss: 200.9223\n",
      "\n",
      "=== Evaluating Random Baselines ===\n",
      "\n",
      "=== Training with Shuffled Labels ===\n"
     ]
    },
    {
     "data": {
      "application/vnd.jupyter.widget-view+json": {
       "model_id": "69bb2653a93d40aab49b52528e54c7b5",
       "version_major": 2,
       "version_minor": 0
      },
      "text/plain": [
       "POS_Shuffled Epoch 1:   0%|          | 0/313 [00:00<?, ?it/s]"
      ]
     },
     "metadata": {},
     "output_type": "display_data"
    },
    {
     "name": "stdout",
     "output_type": "stream",
     "text": [
      "POS_Shuffled - Epoch 1, Loss: 802.4601\n"
     ]
    },
    {
     "data": {
      "application/vnd.jupyter.widget-view+json": {
       "model_id": "33b9e8beb1f54502bce8b59a330e2628",
       "version_major": 2,
       "version_minor": 0
      },
      "text/plain": [
       "POS_Shuffled Epoch 2:   0%|          | 0/313 [00:00<?, ?it/s]"
      ]
     },
     "metadata": {},
     "output_type": "display_data"
    },
    {
     "name": "stdout",
     "output_type": "stream",
     "text": [
      "POS_Shuffled - Epoch 2, Loss: 765.5885\n"
     ]
    },
    {
     "data": {
      "application/vnd.jupyter.widget-view+json": {
       "model_id": "4d1d85e6aea042b68040ed61ba1cc303",
       "version_major": 2,
       "version_minor": 0
      },
      "text/plain": [
       "POS_Shuffled Epoch 3:   0%|          | 0/313 [00:00<?, ?it/s]"
      ]
     },
     "metadata": {},
     "output_type": "display_data"
    },
    {
     "name": "stdout",
     "output_type": "stream",
     "text": [
      "POS_Shuffled - Epoch 3, Loss: 755.5485\n"
     ]
    },
    {
     "data": {
      "application/vnd.jupyter.widget-view+json": {
       "model_id": "bff0389bf38e4c60a3c2486f3d92aa60",
       "version_major": 2,
       "version_minor": 0
      },
      "text/plain": [
       "POS_Shuffled Epoch 4:   0%|          | 0/313 [00:00<?, ?it/s]"
      ]
     },
     "metadata": {},
     "output_type": "display_data"
    },
    {
     "name": "stdout",
     "output_type": "stream",
     "text": [
      "POS_Shuffled - Epoch 4, Loss: 749.3731\n"
     ]
    },
    {
     "data": {
      "application/vnd.jupyter.widget-view+json": {
       "model_id": "28c23377b7b74432bfe3011c49265868",
       "version_major": 2,
       "version_minor": 0
      },
      "text/plain": [
       "POS_Shuffled Epoch 5:   0%|          | 0/313 [00:00<?, ?it/s]"
      ]
     },
     "metadata": {},
     "output_type": "display_data"
    },
    {
     "name": "stdout",
     "output_type": "stream",
     "text": [
      "POS_Shuffled - Epoch 5, Loss: 745.1387\n"
     ]
    },
    {
     "data": {
      "application/vnd.jupyter.widget-view+json": {
       "model_id": "2bab8721d14e4deda104188122ca36bf",
       "version_major": 2,
       "version_minor": 0
      },
      "text/plain": [
       "POS_Shuffled Epoch 6:   0%|          | 0/313 [00:00<?, ?it/s]"
      ]
     },
     "metadata": {},
     "output_type": "display_data"
    },
    {
     "name": "stdout",
     "output_type": "stream",
     "text": [
      "POS_Shuffled - Epoch 6, Loss: 742.1445\n"
     ]
    },
    {
     "data": {
      "application/vnd.jupyter.widget-view+json": {
       "model_id": "473a09b18c184539ab744f31c44fdc94",
       "version_major": 2,
       "version_minor": 0
      },
      "text/plain": [
       "POS_Shuffled Epoch 7:   0%|          | 0/313 [00:00<?, ?it/s]"
      ]
     },
     "metadata": {},
     "output_type": "display_data"
    },
    {
     "name": "stdout",
     "output_type": "stream",
     "text": [
      "POS_Shuffled - Epoch 7, Loss: 739.5969\n"
     ]
    },
    {
     "data": {
      "application/vnd.jupyter.widget-view+json": {
       "model_id": "647c82383eff4c4fbf1d6ada58a40baa",
       "version_major": 2,
       "version_minor": 0
      },
      "text/plain": [
       "POS_Shuffled Epoch 8:   0%|          | 0/313 [00:00<?, ?it/s]"
      ]
     },
     "metadata": {},
     "output_type": "display_data"
    },
    {
     "name": "stdout",
     "output_type": "stream",
     "text": [
      "POS_Shuffled - Epoch 8, Loss: 737.5231\n"
     ]
    },
    {
     "data": {
      "application/vnd.jupyter.widget-view+json": {
       "model_id": "520c672e9b374768887fb7de8fae3809",
       "version_major": 2,
       "version_minor": 0
      },
      "text/plain": [
       "POS_Shuffled Epoch 9:   0%|          | 0/313 [00:00<?, ?it/s]"
      ]
     },
     "metadata": {},
     "output_type": "display_data"
    },
    {
     "name": "stdout",
     "output_type": "stream",
     "text": [
      "POS_Shuffled - Epoch 9, Loss: 735.8184\n"
     ]
    },
    {
     "data": {
      "application/vnd.jupyter.widget-view+json": {
       "model_id": "e6ac31f751f34ee4ac910b053ab90a76",
       "version_major": 2,
       "version_minor": 0
      },
      "text/plain": [
       "POS_Shuffled Epoch 10:   0%|          | 0/313 [00:00<?, ?it/s]"
      ]
     },
     "metadata": {},
     "output_type": "display_data"
    },
    {
     "name": "stdout",
     "output_type": "stream",
     "text": [
      "POS_Shuffled - Epoch 10, Loss: 734.3892\n"
     ]
    },
    {
     "data": {
      "application/vnd.jupyter.widget-view+json": {
       "model_id": "f3d4046b48fa4497acd30f9be08a825f",
       "version_major": 2,
       "version_minor": 0
      },
      "text/plain": [
       "DEP_Shuffled Epoch 1:   0%|          | 0/313 [00:00<?, ?it/s]"
      ]
     },
     "metadata": {},
     "output_type": "display_data"
    },
    {
     "name": "stdout",
     "output_type": "stream",
     "text": [
      "DEP_Shuffled - Epoch 1, Loss: 1059.7855\n"
     ]
    },
    {
     "data": {
      "application/vnd.jupyter.widget-view+json": {
       "model_id": "3676017c553e4a59b67f234c7839fcdf",
       "version_major": 2,
       "version_minor": 0
      },
      "text/plain": [
       "DEP_Shuffled Epoch 2:   0%|          | 0/313 [00:00<?, ?it/s]"
      ]
     },
     "metadata": {},
     "output_type": "display_data"
    },
    {
     "name": "stdout",
     "output_type": "stream",
     "text": [
      "DEP_Shuffled - Epoch 2, Loss: 991.1378\n"
     ]
    },
    {
     "data": {
      "application/vnd.jupyter.widget-view+json": {
       "model_id": "c37c53427f8a4b6683a0d27124e2270a",
       "version_major": 2,
       "version_minor": 0
      },
      "text/plain": [
       "DEP_Shuffled Epoch 3:   0%|          | 0/313 [00:00<?, ?it/s]"
      ]
     },
     "metadata": {},
     "output_type": "display_data"
    },
    {
     "name": "stdout",
     "output_type": "stream",
     "text": [
      "DEP_Shuffled - Epoch 3, Loss: 971.5602\n"
     ]
    },
    {
     "data": {
      "application/vnd.jupyter.widget-view+json": {
       "model_id": "62a8560702a94757955424dc3e51e299",
       "version_major": 2,
       "version_minor": 0
      },
      "text/plain": [
       "DEP_Shuffled Epoch 4:   0%|          | 0/313 [00:00<?, ?it/s]"
      ]
     },
     "metadata": {},
     "output_type": "display_data"
    },
    {
     "name": "stdout",
     "output_type": "stream",
     "text": [
      "DEP_Shuffled - Epoch 4, Loss: 959.1766\n"
     ]
    },
    {
     "data": {
      "application/vnd.jupyter.widget-view+json": {
       "model_id": "140799d968c44ae880afd91c716af816",
       "version_major": 2,
       "version_minor": 0
      },
      "text/plain": [
       "DEP_Shuffled Epoch 5:   0%|          | 0/313 [00:00<?, ?it/s]"
      ]
     },
     "metadata": {},
     "output_type": "display_data"
    },
    {
     "name": "stdout",
     "output_type": "stream",
     "text": [
      "DEP_Shuffled - Epoch 5, Loss: 950.1606\n"
     ]
    },
    {
     "data": {
      "application/vnd.jupyter.widget-view+json": {
       "model_id": "ca20914381ef43a6ad508b6d3e0ccfc4",
       "version_major": 2,
       "version_minor": 0
      },
      "text/plain": [
       "DEP_Shuffled Epoch 6:   0%|          | 0/313 [00:00<?, ?it/s]"
      ]
     },
     "metadata": {},
     "output_type": "display_data"
    },
    {
     "name": "stdout",
     "output_type": "stream",
     "text": [
      "DEP_Shuffled - Epoch 6, Loss: 943.2922\n"
     ]
    },
    {
     "data": {
      "application/vnd.jupyter.widget-view+json": {
       "model_id": "ecd697eed81445d285442c31f8b993ce",
       "version_major": 2,
       "version_minor": 0
      },
      "text/plain": [
       "DEP_Shuffled Epoch 7:   0%|          | 0/313 [00:00<?, ?it/s]"
      ]
     },
     "metadata": {},
     "output_type": "display_data"
    },
    {
     "name": "stdout",
     "output_type": "stream",
     "text": [
      "DEP_Shuffled - Epoch 7, Loss: 937.2462\n"
     ]
    },
    {
     "data": {
      "application/vnd.jupyter.widget-view+json": {
       "model_id": "1fccecae1b424b5a9f9621a0ffac0a60",
       "version_major": 2,
       "version_minor": 0
      },
      "text/plain": [
       "DEP_Shuffled Epoch 8:   0%|          | 0/313 [00:00<?, ?it/s]"
      ]
     },
     "metadata": {},
     "output_type": "display_data"
    },
    {
     "name": "stdout",
     "output_type": "stream",
     "text": [
      "DEP_Shuffled - Epoch 8, Loss: 932.3708\n"
     ]
    },
    {
     "data": {
      "application/vnd.jupyter.widget-view+json": {
       "model_id": "6e9b899385464bd5965416258bd6263d",
       "version_major": 2,
       "version_minor": 0
      },
      "text/plain": [
       "DEP_Shuffled Epoch 9:   0%|          | 0/313 [00:00<?, ?it/s]"
      ]
     },
     "metadata": {},
     "output_type": "display_data"
    },
    {
     "name": "stdout",
     "output_type": "stream",
     "text": [
      "DEP_Shuffled - Epoch 9, Loss: 928.1890\n"
     ]
    },
    {
     "data": {
      "application/vnd.jupyter.widget-view+json": {
       "model_id": "2ced1116bee0440c867db5299a05d082",
       "version_major": 2,
       "version_minor": 0
      },
      "text/plain": [
       "DEP_Shuffled Epoch 10:   0%|          | 0/313 [00:00<?, ?it/s]"
      ]
     },
     "metadata": {},
     "output_type": "display_data"
    },
    {
     "name": "stdout",
     "output_type": "stream",
     "text": [
      "DEP_Shuffled - Epoch 10, Loss: 924.7328\n",
      "\n",
      "=== Training with Random Representations ===\n"
     ]
    },
    {
     "data": {
      "application/vnd.jupyter.widget-view+json": {
       "model_id": "ee94c0c086fa4647baec1cce07a6e31a",
       "version_major": 2,
       "version_minor": 0
      },
      "text/plain": [
       "POS_RandomRep Epoch 1:   0%|          | 0/313 [00:00<?, ?it/s]"
      ]
     },
     "metadata": {},
     "output_type": "display_data"
    },
    {
     "name": "stdout",
     "output_type": "stream",
     "text": [
      "POS_RandomRep - Epoch 1, Loss: 889.5548\n"
     ]
    },
    {
     "data": {
      "application/vnd.jupyter.widget-view+json": {
       "model_id": "74be68cfbbdc44a1b1ebe64dbdfcf145",
       "version_major": 2,
       "version_minor": 0
      },
      "text/plain": [
       "POS_RandomRep Epoch 2:   0%|          | 0/313 [00:00<?, ?it/s]"
      ]
     },
     "metadata": {},
     "output_type": "display_data"
    },
    {
     "name": "stdout",
     "output_type": "stream",
     "text": [
      "POS_RandomRep - Epoch 2, Loss: 814.7979\n"
     ]
    },
    {
     "data": {
      "application/vnd.jupyter.widget-view+json": {
       "model_id": "5f61c982c389495d97c4e6d5d17d58ed",
       "version_major": 2,
       "version_minor": 0
      },
      "text/plain": [
       "POS_RandomRep Epoch 3:   0%|          | 0/313 [00:00<?, ?it/s]"
      ]
     },
     "metadata": {},
     "output_type": "display_data"
    },
    {
     "name": "stdout",
     "output_type": "stream",
     "text": [
      "POS_RandomRep - Epoch 3, Loss: 782.8947\n"
     ]
    },
    {
     "data": {
      "application/vnd.jupyter.widget-view+json": {
       "model_id": "218bcdd767514150b66162958f52145d",
       "version_major": 2,
       "version_minor": 0
      },
      "text/plain": [
       "POS_RandomRep Epoch 4:   0%|          | 0/313 [00:00<?, ?it/s]"
      ]
     },
     "metadata": {},
     "output_type": "display_data"
    },
    {
     "name": "stdout",
     "output_type": "stream",
     "text": [
      "POS_RandomRep - Epoch 4, Loss: 766.4986\n"
     ]
    },
    {
     "data": {
      "application/vnd.jupyter.widget-view+json": {
       "model_id": "6e36ed7cbdfc4844b7cbb2dddd57acd2",
       "version_major": 2,
       "version_minor": 0
      },
      "text/plain": [
       "POS_RandomRep Epoch 5:   0%|          | 0/313 [00:00<?, ?it/s]"
      ]
     },
     "metadata": {},
     "output_type": "display_data"
    },
    {
     "name": "stdout",
     "output_type": "stream",
     "text": [
      "POS_RandomRep - Epoch 5, Loss: 756.6359\n"
     ]
    },
    {
     "data": {
      "application/vnd.jupyter.widget-view+json": {
       "model_id": "ee93cc5ac6fc447589337908c20cb806",
       "version_major": 2,
       "version_minor": 0
      },
      "text/plain": [
       "POS_RandomRep Epoch 6:   0%|          | 0/313 [00:00<?, ?it/s]"
      ]
     },
     "metadata": {},
     "output_type": "display_data"
    },
    {
     "name": "stdout",
     "output_type": "stream",
     "text": [
      "POS_RandomRep - Epoch 6, Loss: 750.5804\n"
     ]
    },
    {
     "data": {
      "application/vnd.jupyter.widget-view+json": {
       "model_id": "2f64a98e94fc4e3b9a0581f6f2a89796",
       "version_major": 2,
       "version_minor": 0
      },
      "text/plain": [
       "POS_RandomRep Epoch 7:   0%|          | 0/313 [00:00<?, ?it/s]"
      ]
     },
     "metadata": {},
     "output_type": "display_data"
    },
    {
     "name": "stdout",
     "output_type": "stream",
     "text": [
      "POS_RandomRep - Epoch 7, Loss: 746.6458\n"
     ]
    },
    {
     "data": {
      "application/vnd.jupyter.widget-view+json": {
       "model_id": "60000bb144344b319c4a4de85d569c31",
       "version_major": 2,
       "version_minor": 0
      },
      "text/plain": [
       "POS_RandomRep Epoch 8:   0%|          | 0/313 [00:00<?, ?it/s]"
      ]
     },
     "metadata": {},
     "output_type": "display_data"
    },
    {
     "name": "stdout",
     "output_type": "stream",
     "text": [
      "POS_RandomRep - Epoch 8, Loss: 743.8714\n"
     ]
    },
    {
     "data": {
      "application/vnd.jupyter.widget-view+json": {
       "model_id": "18e50a20676945918b6b2ecef0718cda",
       "version_major": 2,
       "version_minor": 0
      },
      "text/plain": [
       "POS_RandomRep Epoch 9:   0%|          | 0/313 [00:00<?, ?it/s]"
      ]
     },
     "metadata": {},
     "output_type": "display_data"
    },
    {
     "name": "stdout",
     "output_type": "stream",
     "text": [
      "POS_RandomRep - Epoch 9, Loss: 742.0528\n"
     ]
    },
    {
     "data": {
      "application/vnd.jupyter.widget-view+json": {
       "model_id": "49fd6513db6f4d3291387810b056eb92",
       "version_major": 2,
       "version_minor": 0
      },
      "text/plain": [
       "POS_RandomRep Epoch 10:   0%|          | 0/313 [00:00<?, ?it/s]"
      ]
     },
     "metadata": {},
     "output_type": "display_data"
    },
    {
     "name": "stdout",
     "output_type": "stream",
     "text": [
      "POS_RandomRep - Epoch 10, Loss: 740.5730\n"
     ]
    },
    {
     "data": {
      "application/vnd.jupyter.widget-view+json": {
       "model_id": "ebac8a890ab447adb652513ae480edc6",
       "version_major": 2,
       "version_minor": 0
      },
      "text/plain": [
       "DEP_RandomRep Epoch 1:   0%|          | 0/313 [00:00<?, ?it/s]"
      ]
     },
     "metadata": {},
     "output_type": "display_data"
    },
    {
     "name": "stdout",
     "output_type": "stream",
     "text": [
      "DEP_RandomRep - Epoch 1, Loss: 1194.7710\n"
     ]
    },
    {
     "data": {
      "application/vnd.jupyter.widget-view+json": {
       "model_id": "d1f0841d661040afa194d4aa4bd80620",
       "version_major": 2,
       "version_minor": 0
      },
      "text/plain": [
       "DEP_RandomRep Epoch 2:   0%|          | 0/313 [00:00<?, ?it/s]"
      ]
     },
     "metadata": {},
     "output_type": "display_data"
    },
    {
     "name": "stdout",
     "output_type": "stream",
     "text": [
      "DEP_RandomRep - Epoch 2, Loss: 1081.3114\n"
     ]
    },
    {
     "data": {
      "application/vnd.jupyter.widget-view+json": {
       "model_id": "5b6aed41cea04d7bac50584cea9ab6b1",
       "version_major": 2,
       "version_minor": 0
      },
      "text/plain": [
       "DEP_RandomRep Epoch 3:   0%|          | 0/313 [00:00<?, ?it/s]"
      ]
     },
     "metadata": {},
     "output_type": "display_data"
    },
    {
     "name": "stdout",
     "output_type": "stream",
     "text": [
      "DEP_RandomRep - Epoch 3, Loss: 1020.7341\n"
     ]
    },
    {
     "data": {
      "application/vnd.jupyter.widget-view+json": {
       "model_id": "80438594a80a4519a7f7b04f49a1fa32",
       "version_major": 2,
       "version_minor": 0
      },
      "text/plain": [
       "DEP_RandomRep Epoch 4:   0%|          | 0/313 [00:00<?, ?it/s]"
      ]
     },
     "metadata": {},
     "output_type": "display_data"
    },
    {
     "name": "stdout",
     "output_type": "stream",
     "text": [
      "DEP_RandomRep - Epoch 4, Loss: 986.0984\n"
     ]
    },
    {
     "data": {
      "application/vnd.jupyter.widget-view+json": {
       "model_id": "5a39f266800b4a21aa08265899036b23",
       "version_major": 2,
       "version_minor": 0
      },
      "text/plain": [
       "DEP_RandomRep Epoch 5:   0%|          | 0/313 [00:00<?, ?it/s]"
      ]
     },
     "metadata": {},
     "output_type": "display_data"
    },
    {
     "name": "stdout",
     "output_type": "stream",
     "text": [
      "DEP_RandomRep - Epoch 5, Loss: 964.5232\n"
     ]
    },
    {
     "data": {
      "application/vnd.jupyter.widget-view+json": {
       "model_id": "c67aa38d7037434d9f5fb56554856b4c",
       "version_major": 2,
       "version_minor": 0
      },
      "text/plain": [
       "DEP_RandomRep Epoch 6:   0%|          | 0/313 [00:00<?, ?it/s]"
      ]
     },
     "metadata": {},
     "output_type": "display_data"
    },
    {
     "name": "stdout",
     "output_type": "stream",
     "text": [
      "DEP_RandomRep - Epoch 6, Loss: 949.9521\n"
     ]
    },
    {
     "data": {
      "application/vnd.jupyter.widget-view+json": {
       "model_id": "0a3919ffa85b4fb898ce298ce4c6fac4",
       "version_major": 2,
       "version_minor": 0
      },
      "text/plain": [
       "DEP_RandomRep Epoch 7:   0%|          | 0/313 [00:00<?, ?it/s]"
      ]
     },
     "metadata": {},
     "output_type": "display_data"
    },
    {
     "name": "stdout",
     "output_type": "stream",
     "text": [
      "DEP_RandomRep - Epoch 7, Loss: 939.8588\n"
     ]
    },
    {
     "data": {
      "application/vnd.jupyter.widget-view+json": {
       "model_id": "5813878e1d5d4608b65de80f7983ea3e",
       "version_major": 2,
       "version_minor": 0
      },
      "text/plain": [
       "DEP_RandomRep Epoch 8:   0%|          | 0/313 [00:00<?, ?it/s]"
      ]
     },
     "metadata": {},
     "output_type": "display_data"
    },
    {
     "name": "stdout",
     "output_type": "stream",
     "text": [
      "DEP_RandomRep - Epoch 8, Loss: 932.0826\n"
     ]
    },
    {
     "data": {
      "application/vnd.jupyter.widget-view+json": {
       "model_id": "756276e895ce443c82bd2cffec3a8e14",
       "version_major": 2,
       "version_minor": 0
      },
      "text/plain": [
       "DEP_RandomRep Epoch 9:   0%|          | 0/313 [00:00<?, ?it/s]"
      ]
     },
     "metadata": {},
     "output_type": "display_data"
    },
    {
     "name": "stdout",
     "output_type": "stream",
     "text": [
      "DEP_RandomRep - Epoch 9, Loss: 926.5737\n"
     ]
    },
    {
     "data": {
      "application/vnd.jupyter.widget-view+json": {
       "model_id": "0ef6be2654e94ac49b1539ee0df4d520",
       "version_major": 2,
       "version_minor": 0
      },
      "text/plain": [
       "DEP_RandomRep Epoch 10:   0%|          | 0/313 [00:00<?, ?it/s]"
      ]
     },
     "metadata": {},
     "output_type": "display_data"
    },
    {
     "name": "stdout",
     "output_type": "stream",
     "text": [
      "DEP_RandomRep - Epoch 10, Loss: 922.1986\n",
      "\n",
      "=== Evaluation ===\n",
      "\n",
      "=== Training Main Probes ===\n"
     ]
    },
    {
     "data": {
      "application/vnd.jupyter.widget-view+json": {
       "model_id": "e418d861f02249fb9b94d32ac0323436",
       "version_major": 2,
       "version_minor": 0
      },
      "text/plain": [
       "POS Epoch 1:   0%|          | 0/313 [00:00<?, ?it/s]"
      ]
     },
     "metadata": {},
     "output_type": "display_data"
    },
    {
     "name": "stdout",
     "output_type": "stream",
     "text": [
      "POS - Epoch 1, Loss: 549.2254\n"
     ]
    },
    {
     "data": {
      "application/vnd.jupyter.widget-view+json": {
       "model_id": "95c63be6c85849188c212e450fc624b4",
       "version_major": 2,
       "version_minor": 0
      },
      "text/plain": [
       "POS Epoch 2:   0%|          | 0/313 [00:00<?, ?it/s]"
      ]
     },
     "metadata": {},
     "output_type": "display_data"
    },
    {
     "name": "stdout",
     "output_type": "stream",
     "text": [
      "POS - Epoch 2, Loss: 329.2583\n"
     ]
    },
    {
     "data": {
      "application/vnd.jupyter.widget-view+json": {
       "model_id": "4ad3d64fa4324bc8a7c40186b656974c",
       "version_major": 2,
       "version_minor": 0
      },
      "text/plain": [
       "POS Epoch 3:   0%|          | 0/313 [00:00<?, ?it/s]"
      ]
     },
     "metadata": {},
     "output_type": "display_data"
    },
    {
     "name": "stdout",
     "output_type": "stream",
     "text": [
      "POS - Epoch 3, Loss: 261.7842\n"
     ]
    },
    {
     "data": {
      "application/vnd.jupyter.widget-view+json": {
       "model_id": "a1fc1e760ff345739c586685a23e22e5",
       "version_major": 2,
       "version_minor": 0
      },
      "text/plain": [
       "POS Epoch 4:   0%|          | 0/313 [00:00<?, ?it/s]"
      ]
     },
     "metadata": {},
     "output_type": "display_data"
    },
    {
     "name": "stdout",
     "output_type": "stream",
     "text": [
      "POS - Epoch 4, Loss: 226.5307\n"
     ]
    },
    {
     "data": {
      "application/vnd.jupyter.widget-view+json": {
       "model_id": "a600bd96a5804a26a3a9e213629d0f6a",
       "version_major": 2,
       "version_minor": 0
      },
      "text/plain": [
       "POS Epoch 5:   0%|          | 0/313 [00:00<?, ?it/s]"
      ]
     },
     "metadata": {},
     "output_type": "display_data"
    },
    {
     "name": "stdout",
     "output_type": "stream",
     "text": [
      "POS - Epoch 5, Loss: 204.0443\n"
     ]
    },
    {
     "data": {
      "application/vnd.jupyter.widget-view+json": {
       "model_id": "c139e26c26e9488bb4d96f45e03bf857",
       "version_major": 2,
       "version_minor": 0
      },
      "text/plain": [
       "POS Epoch 6:   0%|          | 0/313 [00:00<?, ?it/s]"
      ]
     },
     "metadata": {},
     "output_type": "display_data"
    },
    {
     "name": "stdout",
     "output_type": "stream",
     "text": [
      "POS - Epoch 6, Loss: 188.0707\n"
     ]
    },
    {
     "data": {
      "application/vnd.jupyter.widget-view+json": {
       "model_id": "3290b53cdb5c454495cff8567caa9426",
       "version_major": 2,
       "version_minor": 0
      },
      "text/plain": [
       "POS Epoch 7:   0%|          | 0/313 [00:00<?, ?it/s]"
      ]
     },
     "metadata": {},
     "output_type": "display_data"
    },
    {
     "name": "stdout",
     "output_type": "stream",
     "text": [
      "POS - Epoch 7, Loss: 176.1713\n"
     ]
    },
    {
     "data": {
      "application/vnd.jupyter.widget-view+json": {
       "model_id": "dff4343af4534b57a4a61284ff145162",
       "version_major": 2,
       "version_minor": 0
      },
      "text/plain": [
       "POS Epoch 8:   0%|          | 0/313 [00:00<?, ?it/s]"
      ]
     },
     "metadata": {},
     "output_type": "display_data"
    },
    {
     "name": "stdout",
     "output_type": "stream",
     "text": [
      "POS - Epoch 8, Loss: 166.6423\n"
     ]
    },
    {
     "data": {
      "application/vnd.jupyter.widget-view+json": {
       "model_id": "ecf46e1b9cf54c439acc471aeaf69464",
       "version_major": 2,
       "version_minor": 0
      },
      "text/plain": [
       "POS Epoch 9:   0%|          | 0/313 [00:00<?, ?it/s]"
      ]
     },
     "metadata": {},
     "output_type": "display_data"
    },
    {
     "name": "stdout",
     "output_type": "stream",
     "text": [
      "POS - Epoch 9, Loss: 159.0808\n"
     ]
    },
    {
     "data": {
      "application/vnd.jupyter.widget-view+json": {
       "model_id": "5527fea653c64de09befb2007cac303e",
       "version_major": 2,
       "version_minor": 0
      },
      "text/plain": [
       "POS Epoch 10:   0%|          | 0/313 [00:00<?, ?it/s]"
      ]
     },
     "metadata": {},
     "output_type": "display_data"
    },
    {
     "name": "stdout",
     "output_type": "stream",
     "text": [
      "POS - Epoch 10, Loss: 152.4194\n"
     ]
    },
    {
     "data": {
      "application/vnd.jupyter.widget-view+json": {
       "model_id": "dce5656783124639b1b2b7863bd315c4",
       "version_major": 2,
       "version_minor": 0
      },
      "text/plain": [
       "DEP Epoch 1:   0%|          | 0/313 [00:00<?, ?it/s]"
      ]
     },
     "metadata": {},
     "output_type": "display_data"
    },
    {
     "name": "stdout",
     "output_type": "stream",
     "text": [
      "DEP - Epoch 1, Loss: 814.9438\n"
     ]
    },
    {
     "data": {
      "application/vnd.jupyter.widget-view+json": {
       "model_id": "b97dabd75bee457e84efa74b958df0e2",
       "version_major": 2,
       "version_minor": 0
      },
      "text/plain": [
       "DEP Epoch 2:   0%|          | 0/313 [00:00<?, ?it/s]"
      ]
     },
     "metadata": {},
     "output_type": "display_data"
    },
    {
     "name": "stdout",
     "output_type": "stream",
     "text": [
      "DEP - Epoch 2, Loss: 566.3759\n"
     ]
    },
    {
     "data": {
      "application/vnd.jupyter.widget-view+json": {
       "model_id": "ef1d855d9a9d47c793a0febffd18f1e2",
       "version_major": 2,
       "version_minor": 0
      },
      "text/plain": [
       "DEP Epoch 3:   0%|          | 0/313 [00:00<?, ?it/s]"
      ]
     },
     "metadata": {},
     "output_type": "display_data"
    },
    {
     "name": "stdout",
     "output_type": "stream",
     "text": [
      "DEP - Epoch 3, Loss: 486.7947\n"
     ]
    },
    {
     "data": {
      "application/vnd.jupyter.widget-view+json": {
       "model_id": "6d4d8300491a476fbe649744d8bf90de",
       "version_major": 2,
       "version_minor": 0
      },
      "text/plain": [
       "DEP Epoch 4:   0%|          | 0/313 [00:00<?, ?it/s]"
      ]
     },
     "metadata": {},
     "output_type": "display_data"
    },
    {
     "name": "stdout",
     "output_type": "stream",
     "text": [
      "DEP - Epoch 4, Loss: 442.9735\n"
     ]
    },
    {
     "data": {
      "application/vnd.jupyter.widget-view+json": {
       "model_id": "4c992c34a38d4cdbbfc2b0115b0f813c",
       "version_major": 2,
       "version_minor": 0
      },
      "text/plain": [
       "DEP Epoch 5:   0%|          | 0/313 [00:00<?, ?it/s]"
      ]
     },
     "metadata": {},
     "output_type": "display_data"
    },
    {
     "name": "stdout",
     "output_type": "stream",
     "text": [
      "DEP - Epoch 5, Loss: 413.4483\n"
     ]
    },
    {
     "data": {
      "application/vnd.jupyter.widget-view+json": {
       "model_id": "81bb271434dc47dbb718fb1a3a6c8195",
       "version_major": 2,
       "version_minor": 0
      },
      "text/plain": [
       "DEP Epoch 6:   0%|          | 0/313 [00:00<?, ?it/s]"
      ]
     },
     "metadata": {},
     "output_type": "display_data"
    },
    {
     "name": "stdout",
     "output_type": "stream",
     "text": [
      "DEP - Epoch 6, Loss: 391.8295\n"
     ]
    },
    {
     "data": {
      "application/vnd.jupyter.widget-view+json": {
       "model_id": "bff19f413b05430da33ad48b4e56f36a",
       "version_major": 2,
       "version_minor": 0
      },
      "text/plain": [
       "DEP Epoch 7:   0%|          | 0/313 [00:00<?, ?it/s]"
      ]
     },
     "metadata": {},
     "output_type": "display_data"
    },
    {
     "name": "stdout",
     "output_type": "stream",
     "text": [
      "DEP - Epoch 7, Loss: 374.7754\n"
     ]
    },
    {
     "data": {
      "application/vnd.jupyter.widget-view+json": {
       "model_id": "ef40d40cca894b61ba9e745f0d3306d3",
       "version_major": 2,
       "version_minor": 0
      },
      "text/plain": [
       "DEP Epoch 8:   0%|          | 0/313 [00:00<?, ?it/s]"
      ]
     },
     "metadata": {},
     "output_type": "display_data"
    },
    {
     "name": "stdout",
     "output_type": "stream",
     "text": [
      "DEP - Epoch 8, Loss: 361.2519\n"
     ]
    },
    {
     "data": {
      "application/vnd.jupyter.widget-view+json": {
       "model_id": "9d6e6e0948b74dcba1134466e6d292f2",
       "version_major": 2,
       "version_minor": 0
      },
      "text/plain": [
       "DEP Epoch 9:   0%|          | 0/313 [00:00<?, ?it/s]"
      ]
     },
     "metadata": {},
     "output_type": "display_data"
    },
    {
     "name": "stdout",
     "output_type": "stream",
     "text": [
      "DEP - Epoch 9, Loss: 350.2356\n"
     ]
    },
    {
     "data": {
      "application/vnd.jupyter.widget-view+json": {
       "model_id": "778c5ebd3d0a476b9246ec7ddd596bcc",
       "version_major": 2,
       "version_minor": 0
      },
      "text/plain": [
       "DEP Epoch 10:   0%|          | 0/313 [00:00<?, ?it/s]"
      ]
     },
     "metadata": {},
     "output_type": "display_data"
    },
    {
     "name": "stdout",
     "output_type": "stream",
     "text": [
      "DEP - Epoch 10, Loss: 340.8957\n",
      "\n",
      "=== Training Nonlinear Probes ===\n"
     ]
    },
    {
     "data": {
      "application/vnd.jupyter.widget-view+json": {
       "model_id": "c0a36d112d8747e893640d74f110e82b",
       "version_major": 2,
       "version_minor": 0
      },
      "text/plain": [
       "POS_Nonlinear Epoch 1:   0%|          | 0/313 [00:00<?, ?it/s]"
      ]
     },
     "metadata": {},
     "output_type": "display_data"
    },
    {
     "name": "stdout",
     "output_type": "stream",
     "text": [
      "POS_Nonlinear - Epoch 1, Loss: 369.6404\n"
     ]
    },
    {
     "data": {
      "application/vnd.jupyter.widget-view+json": {
       "model_id": "d72759bbc92f49178c03381e3ba542d1",
       "version_major": 2,
       "version_minor": 0
      },
      "text/plain": [
       "POS_Nonlinear Epoch 2:   0%|          | 0/313 [00:00<?, ?it/s]"
      ]
     },
     "metadata": {},
     "output_type": "display_data"
    },
    {
     "name": "stdout",
     "output_type": "stream",
     "text": [
      "POS_Nonlinear - Epoch 2, Loss: 161.3056\n"
     ]
    },
    {
     "data": {
      "application/vnd.jupyter.widget-view+json": {
       "model_id": "a2ed76f0eb5046f2b7ae57fa6949c7ac",
       "version_major": 2,
       "version_minor": 0
      },
      "text/plain": [
       "POS_Nonlinear Epoch 3:   0%|          | 0/313 [00:00<?, ?it/s]"
      ]
     },
     "metadata": {},
     "output_type": "display_data"
    },
    {
     "name": "stdout",
     "output_type": "stream",
     "text": [
      "POS_Nonlinear - Epoch 3, Loss: 122.5102\n"
     ]
    },
    {
     "data": {
      "application/vnd.jupyter.widget-view+json": {
       "model_id": "55f1a6903a6849f4a4116fbe30856735",
       "version_major": 2,
       "version_minor": 0
      },
      "text/plain": [
       "POS_Nonlinear Epoch 4:   0%|          | 0/313 [00:00<?, ?it/s]"
      ]
     },
     "metadata": {},
     "output_type": "display_data"
    },
    {
     "name": "stdout",
     "output_type": "stream",
     "text": [
      "POS_Nonlinear - Epoch 4, Loss: 101.9778\n"
     ]
    },
    {
     "data": {
      "application/vnd.jupyter.widget-view+json": {
       "model_id": "31ad44850d7a4a5b97c3d91d3a06ad77",
       "version_major": 2,
       "version_minor": 0
      },
      "text/plain": [
       "POS_Nonlinear Epoch 5:   0%|          | 0/313 [00:00<?, ?it/s]"
      ]
     },
     "metadata": {},
     "output_type": "display_data"
    },
    {
     "name": "stdout",
     "output_type": "stream",
     "text": [
      "POS_Nonlinear - Epoch 5, Loss: 88.1286\n"
     ]
    },
    {
     "data": {
      "application/vnd.jupyter.widget-view+json": {
       "model_id": "80b2fb628cbd47c080aaf9f753c5a9f7",
       "version_major": 2,
       "version_minor": 0
      },
      "text/plain": [
       "POS_Nonlinear Epoch 6:   0%|          | 0/313 [00:00<?, ?it/s]"
      ]
     },
     "metadata": {},
     "output_type": "display_data"
    },
    {
     "name": "stdout",
     "output_type": "stream",
     "text": [
      "POS_Nonlinear - Epoch 6, Loss: 77.4188\n"
     ]
    },
    {
     "data": {
      "application/vnd.jupyter.widget-view+json": {
       "model_id": "1574a67c80004d4180eab4dfc96237ed",
       "version_major": 2,
       "version_minor": 0
      },
      "text/plain": [
       "POS_Nonlinear Epoch 7:   0%|          | 0/313 [00:00<?, ?it/s]"
      ]
     },
     "metadata": {},
     "output_type": "display_data"
    },
    {
     "name": "stdout",
     "output_type": "stream",
     "text": [
      "POS_Nonlinear - Epoch 7, Loss: 68.8625\n"
     ]
    },
    {
     "data": {
      "application/vnd.jupyter.widget-view+json": {
       "model_id": "3fc57321d0af48a6a477281ba6b034d1",
       "version_major": 2,
       "version_minor": 0
      },
      "text/plain": [
       "POS_Nonlinear Epoch 8:   0%|          | 0/313 [00:00<?, ?it/s]"
      ]
     },
     "metadata": {},
     "output_type": "display_data"
    },
    {
     "name": "stdout",
     "output_type": "stream",
     "text": [
      "POS_Nonlinear - Epoch 8, Loss: 62.0282\n"
     ]
    },
    {
     "data": {
      "application/vnd.jupyter.widget-view+json": {
       "model_id": "c56bdb27c2c44863bbcd6c3b575fdeaf",
       "version_major": 2,
       "version_minor": 0
      },
      "text/plain": [
       "POS_Nonlinear Epoch 9:   0%|          | 0/313 [00:00<?, ?it/s]"
      ]
     },
     "metadata": {},
     "output_type": "display_data"
    },
    {
     "name": "stdout",
     "output_type": "stream",
     "text": [
      "POS_Nonlinear - Epoch 9, Loss: 55.5479\n"
     ]
    },
    {
     "data": {
      "application/vnd.jupyter.widget-view+json": {
       "model_id": "fec00bc0e1cf4b0bb48b70bfd850b56b",
       "version_major": 2,
       "version_minor": 0
      },
      "text/plain": [
       "POS_Nonlinear Epoch 10:   0%|          | 0/313 [00:00<?, ?it/s]"
      ]
     },
     "metadata": {},
     "output_type": "display_data"
    },
    {
     "name": "stdout",
     "output_type": "stream",
     "text": [
      "POS_Nonlinear - Epoch 10, Loss: 49.9184\n"
     ]
    },
    {
     "data": {
      "application/vnd.jupyter.widget-view+json": {
       "model_id": "d2cee74d65f54e3db3b8aceca2a52c58",
       "version_major": 2,
       "version_minor": 0
      },
      "text/plain": [
       "DEP_Nonlinear Epoch 1:   0%|          | 0/313 [00:00<?, ?it/s]"
      ]
     },
     "metadata": {},
     "output_type": "display_data"
    },
    {
     "name": "stdout",
     "output_type": "stream",
     "text": [
      "DEP_Nonlinear - Epoch 1, Loss: 651.6563\n"
     ]
    },
    {
     "data": {
      "application/vnd.jupyter.widget-view+json": {
       "model_id": "6f4ffbc25bb349b08bd475089e4e80b1",
       "version_major": 2,
       "version_minor": 0
      },
      "text/plain": [
       "DEP_Nonlinear Epoch 2:   0%|          | 0/313 [00:00<?, ?it/s]"
      ]
     },
     "metadata": {},
     "output_type": "display_data"
    },
    {
     "name": "stdout",
     "output_type": "stream",
     "text": [
      "DEP_Nonlinear - Epoch 2, Loss: 401.1614\n"
     ]
    },
    {
     "data": {
      "application/vnd.jupyter.widget-view+json": {
       "model_id": "6bbeabaa12934faaa95f8c81a6f0d03e",
       "version_major": 2,
       "version_minor": 0
      },
      "text/plain": [
       "DEP_Nonlinear Epoch 3:   0%|          | 0/313 [00:00<?, ?it/s]"
      ]
     },
     "metadata": {},
     "output_type": "display_data"
    },
    {
     "name": "stdout",
     "output_type": "stream",
     "text": [
      "DEP_Nonlinear - Epoch 3, Loss: 342.0195\n"
     ]
    },
    {
     "data": {
      "application/vnd.jupyter.widget-view+json": {
       "model_id": "e53265928bcb41f9805ab62e22b8c500",
       "version_major": 2,
       "version_minor": 0
      },
      "text/plain": [
       "DEP_Nonlinear Epoch 4:   0%|          | 0/313 [00:00<?, ?it/s]"
      ]
     },
     "metadata": {},
     "output_type": "display_data"
    },
    {
     "name": "stdout",
     "output_type": "stream",
     "text": [
      "DEP_Nonlinear - Epoch 4, Loss: 306.5831\n"
     ]
    },
    {
     "data": {
      "application/vnd.jupyter.widget-view+json": {
       "model_id": "daa8324eb0f9465b8bc88215388d9f26",
       "version_major": 2,
       "version_minor": 0
      },
      "text/plain": [
       "DEP_Nonlinear Epoch 5:   0%|          | 0/313 [00:00<?, ?it/s]"
      ]
     },
     "metadata": {},
     "output_type": "display_data"
    },
    {
     "name": "stdout",
     "output_type": "stream",
     "text": [
      "DEP_Nonlinear - Epoch 5, Loss: 281.4541\n"
     ]
    },
    {
     "data": {
      "application/vnd.jupyter.widget-view+json": {
       "model_id": "fd8c1942e5354412bccc985286bd236a",
       "version_major": 2,
       "version_minor": 0
      },
      "text/plain": [
       "DEP_Nonlinear Epoch 6:   0%|          | 0/313 [00:00<?, ?it/s]"
      ]
     },
     "metadata": {},
     "output_type": "display_data"
    },
    {
     "name": "stdout",
     "output_type": "stream",
     "text": [
      "DEP_Nonlinear - Epoch 6, Loss: 260.6233\n"
     ]
    },
    {
     "data": {
      "application/vnd.jupyter.widget-view+json": {
       "model_id": "e58abf65b1824b928ee7ff214ffe6e58",
       "version_major": 2,
       "version_minor": 0
      },
      "text/plain": [
       "DEP_Nonlinear Epoch 7:   0%|          | 0/313 [00:00<?, ?it/s]"
      ]
     },
     "metadata": {},
     "output_type": "display_data"
    },
    {
     "name": "stdout",
     "output_type": "stream",
     "text": [
      "DEP_Nonlinear - Epoch 7, Loss: 243.4364\n"
     ]
    },
    {
     "data": {
      "application/vnd.jupyter.widget-view+json": {
       "model_id": "5608b699012a4d58bc7bb605bfed32a0",
       "version_major": 2,
       "version_minor": 0
      },
      "text/plain": [
       "DEP_Nonlinear Epoch 8:   0%|          | 0/313 [00:00<?, ?it/s]"
      ]
     },
     "metadata": {},
     "output_type": "display_data"
    },
    {
     "name": "stdout",
     "output_type": "stream",
     "text": [
      "DEP_Nonlinear - Epoch 8, Loss: 227.9329\n"
     ]
    },
    {
     "data": {
      "application/vnd.jupyter.widget-view+json": {
       "model_id": "30e931727a4f4826928d1c63fc50ff91",
       "version_major": 2,
       "version_minor": 0
      },
      "text/plain": [
       "DEP_Nonlinear Epoch 9:   0%|          | 0/313 [00:00<?, ?it/s]"
      ]
     },
     "metadata": {},
     "output_type": "display_data"
    },
    {
     "name": "stdout",
     "output_type": "stream",
     "text": [
      "DEP_Nonlinear - Epoch 9, Loss: 213.8755\n"
     ]
    },
    {
     "data": {
      "application/vnd.jupyter.widget-view+json": {
       "model_id": "8ec52b8b2d1e49dd8d7b2095dadf1b18",
       "version_major": 2,
       "version_minor": 0
      },
      "text/plain": [
       "DEP_Nonlinear Epoch 10:   0%|          | 0/313 [00:00<?, ?it/s]"
      ]
     },
     "metadata": {},
     "output_type": "display_data"
    },
    {
     "name": "stdout",
     "output_type": "stream",
     "text": [
      "DEP_Nonlinear - Epoch 10, Loss: 201.2770\n",
      "\n",
      "=== Evaluating Random Baselines ===\n",
      "\n",
      "=== Training with Shuffled Labels ===\n"
     ]
    },
    {
     "data": {
      "application/vnd.jupyter.widget-view+json": {
       "model_id": "388e3cbd9f714de9bf59ca00efa5d2d2",
       "version_major": 2,
       "version_minor": 0
      },
      "text/plain": [
       "POS_Shuffled Epoch 1:   0%|          | 0/313 [00:00<?, ?it/s]"
      ]
     },
     "metadata": {},
     "output_type": "display_data"
    },
    {
     "name": "stdout",
     "output_type": "stream",
     "text": [
      "POS_Shuffled - Epoch 1, Loss: 802.3080\n"
     ]
    },
    {
     "data": {
      "application/vnd.jupyter.widget-view+json": {
       "model_id": "6b57b7e8a4b44879b0083ce35fc1e074",
       "version_major": 2,
       "version_minor": 0
      },
      "text/plain": [
       "POS_Shuffled Epoch 2:   0%|          | 0/313 [00:00<?, ?it/s]"
      ]
     },
     "metadata": {},
     "output_type": "display_data"
    },
    {
     "name": "stdout",
     "output_type": "stream",
     "text": [
      "POS_Shuffled - Epoch 2, Loss: 765.3717\n"
     ]
    },
    {
     "data": {
      "application/vnd.jupyter.widget-view+json": {
       "model_id": "05ddbcd20bd94db49643f52ea3b65442",
       "version_major": 2,
       "version_minor": 0
      },
      "text/plain": [
       "POS_Shuffled Epoch 3:   0%|          | 0/313 [00:00<?, ?it/s]"
      ]
     },
     "metadata": {},
     "output_type": "display_data"
    },
    {
     "name": "stdout",
     "output_type": "stream",
     "text": [
      "POS_Shuffled - Epoch 3, Loss: 755.3201\n"
     ]
    },
    {
     "data": {
      "application/vnd.jupyter.widget-view+json": {
       "model_id": "d394550a5d4c43d4bbc9892acc41d1ab",
       "version_major": 2,
       "version_minor": 0
      },
      "text/plain": [
       "POS_Shuffled Epoch 4:   0%|          | 0/313 [00:00<?, ?it/s]"
      ]
     },
     "metadata": {},
     "output_type": "display_data"
    },
    {
     "name": "stdout",
     "output_type": "stream",
     "text": [
      "POS_Shuffled - Epoch 4, Loss: 749.2883\n"
     ]
    },
    {
     "data": {
      "application/vnd.jupyter.widget-view+json": {
       "model_id": "19759db0eb82494d867b9b42f70d87f1",
       "version_major": 2,
       "version_minor": 0
      },
      "text/plain": [
       "POS_Shuffled Epoch 5:   0%|          | 0/313 [00:00<?, ?it/s]"
      ]
     },
     "metadata": {},
     "output_type": "display_data"
    },
    {
     "name": "stdout",
     "output_type": "stream",
     "text": [
      "POS_Shuffled - Epoch 5, Loss: 745.0436\n"
     ]
    },
    {
     "data": {
      "application/vnd.jupyter.widget-view+json": {
       "model_id": "99bd1ba7e4a047dea547cf14f246f093",
       "version_major": 2,
       "version_minor": 0
      },
      "text/plain": [
       "POS_Shuffled Epoch 6:   0%|          | 0/313 [00:00<?, ?it/s]"
      ]
     },
     "metadata": {},
     "output_type": "display_data"
    },
    {
     "name": "stdout",
     "output_type": "stream",
     "text": [
      "POS_Shuffled - Epoch 6, Loss: 741.7136\n"
     ]
    },
    {
     "data": {
      "application/vnd.jupyter.widget-view+json": {
       "model_id": "c81509bed0de4395a1994f445ab2ec42",
       "version_major": 2,
       "version_minor": 0
      },
      "text/plain": [
       "POS_Shuffled Epoch 7:   0%|          | 0/313 [00:00<?, ?it/s]"
      ]
     },
     "metadata": {},
     "output_type": "display_data"
    },
    {
     "name": "stdout",
     "output_type": "stream",
     "text": [
      "POS_Shuffled - Epoch 7, Loss: 739.2019\n"
     ]
    },
    {
     "data": {
      "application/vnd.jupyter.widget-view+json": {
       "model_id": "b50b2ed3c9be48259238e01238ed1358",
       "version_major": 2,
       "version_minor": 0
      },
      "text/plain": [
       "POS_Shuffled Epoch 8:   0%|          | 0/313 [00:00<?, ?it/s]"
      ]
     },
     "metadata": {},
     "output_type": "display_data"
    },
    {
     "name": "stdout",
     "output_type": "stream",
     "text": [
      "POS_Shuffled - Epoch 8, Loss: 737.1752\n"
     ]
    },
    {
     "data": {
      "application/vnd.jupyter.widget-view+json": {
       "model_id": "de4ec5a5dea042ba92b65d419c3ae9e6",
       "version_major": 2,
       "version_minor": 0
      },
      "text/plain": [
       "POS_Shuffled Epoch 9:   0%|          | 0/313 [00:00<?, ?it/s]"
      ]
     },
     "metadata": {},
     "output_type": "display_data"
    },
    {
     "name": "stdout",
     "output_type": "stream",
     "text": [
      "POS_Shuffled - Epoch 9, Loss: 735.4632\n"
     ]
    },
    {
     "data": {
      "application/vnd.jupyter.widget-view+json": {
       "model_id": "5aabb82bba6842b0a790b124e6513988",
       "version_major": 2,
       "version_minor": 0
      },
      "text/plain": [
       "POS_Shuffled Epoch 10:   0%|          | 0/313 [00:00<?, ?it/s]"
      ]
     },
     "metadata": {},
     "output_type": "display_data"
    },
    {
     "name": "stdout",
     "output_type": "stream",
     "text": [
      "POS_Shuffled - Epoch 10, Loss: 734.1184\n"
     ]
    },
    {
     "data": {
      "application/vnd.jupyter.widget-view+json": {
       "model_id": "b323ba322cab46bc9fc509f0ac7bf3ac",
       "version_major": 2,
       "version_minor": 0
      },
      "text/plain": [
       "DEP_Shuffled Epoch 1:   0%|          | 0/313 [00:00<?, ?it/s]"
      ]
     },
     "metadata": {},
     "output_type": "display_data"
    },
    {
     "name": "stdout",
     "output_type": "stream",
     "text": [
      "DEP_Shuffled - Epoch 1, Loss: 1058.9765\n"
     ]
    },
    {
     "data": {
      "application/vnd.jupyter.widget-view+json": {
       "model_id": "6d3dfe2d0fa7445abdb76a449ed0743c",
       "version_major": 2,
       "version_minor": 0
      },
      "text/plain": [
       "DEP_Shuffled Epoch 2:   0%|          | 0/313 [00:00<?, ?it/s]"
      ]
     },
     "metadata": {},
     "output_type": "display_data"
    },
    {
     "name": "stdout",
     "output_type": "stream",
     "text": [
      "DEP_Shuffled - Epoch 2, Loss: 991.6725\n"
     ]
    },
    {
     "data": {
      "application/vnd.jupyter.widget-view+json": {
       "model_id": "ac2c864c25f443c18bc9b99ec73bef9f",
       "version_major": 2,
       "version_minor": 0
      },
      "text/plain": [
       "DEP_Shuffled Epoch 3:   0%|          | 0/313 [00:00<?, ?it/s]"
      ]
     },
     "metadata": {},
     "output_type": "display_data"
    },
    {
     "name": "stdout",
     "output_type": "stream",
     "text": [
      "DEP_Shuffled - Epoch 3, Loss: 972.3151\n"
     ]
    },
    {
     "data": {
      "application/vnd.jupyter.widget-view+json": {
       "model_id": "27be56ee085941a79c464498927431ff",
       "version_major": 2,
       "version_minor": 0
      },
      "text/plain": [
       "DEP_Shuffled Epoch 4:   0%|          | 0/313 [00:00<?, ?it/s]"
      ]
     },
     "metadata": {},
     "output_type": "display_data"
    },
    {
     "name": "stdout",
     "output_type": "stream",
     "text": [
      "DEP_Shuffled - Epoch 4, Loss: 960.1184\n"
     ]
    },
    {
     "data": {
      "application/vnd.jupyter.widget-view+json": {
       "model_id": "4e78b66266724f669d87482f27bc5f3b",
       "version_major": 2,
       "version_minor": 0
      },
      "text/plain": [
       "DEP_Shuffled Epoch 5:   0%|          | 0/313 [00:00<?, ?it/s]"
      ]
     },
     "metadata": {},
     "output_type": "display_data"
    },
    {
     "name": "stdout",
     "output_type": "stream",
     "text": [
      "DEP_Shuffled - Epoch 5, Loss: 951.0040\n"
     ]
    },
    {
     "data": {
      "application/vnd.jupyter.widget-view+json": {
       "model_id": "0cc011784bb9467dbd619a8f0f7f2d01",
       "version_major": 2,
       "version_minor": 0
      },
      "text/plain": [
       "DEP_Shuffled Epoch 6:   0%|          | 0/313 [00:00<?, ?it/s]"
      ]
     },
     "metadata": {},
     "output_type": "display_data"
    },
    {
     "name": "stdout",
     "output_type": "stream",
     "text": [
      "DEP_Shuffled - Epoch 6, Loss: 944.1665\n"
     ]
    },
    {
     "data": {
      "application/vnd.jupyter.widget-view+json": {
       "model_id": "6a81c82bb0654f55933c2dc0ecce8888",
       "version_major": 2,
       "version_minor": 0
      },
      "text/plain": [
       "DEP_Shuffled Epoch 7:   0%|          | 0/313 [00:00<?, ?it/s]"
      ]
     },
     "metadata": {},
     "output_type": "display_data"
    },
    {
     "name": "stdout",
     "output_type": "stream",
     "text": [
      "DEP_Shuffled - Epoch 7, Loss: 938.4050\n"
     ]
    },
    {
     "data": {
      "application/vnd.jupyter.widget-view+json": {
       "model_id": "088346e2f0bc4ead894940fb326dab19",
       "version_major": 2,
       "version_minor": 0
      },
      "text/plain": [
       "DEP_Shuffled Epoch 8:   0%|          | 0/313 [00:00<?, ?it/s]"
      ]
     },
     "metadata": {},
     "output_type": "display_data"
    },
    {
     "name": "stdout",
     "output_type": "stream",
     "text": [
      "DEP_Shuffled - Epoch 8, Loss: 933.6081\n"
     ]
    },
    {
     "data": {
      "application/vnd.jupyter.widget-view+json": {
       "model_id": "28a58017db1d4dc6b8be8d2507a09aaf",
       "version_major": 2,
       "version_minor": 0
      },
      "text/plain": [
       "DEP_Shuffled Epoch 9:   0%|          | 0/313 [00:00<?, ?it/s]"
      ]
     },
     "metadata": {},
     "output_type": "display_data"
    },
    {
     "name": "stdout",
     "output_type": "stream",
     "text": [
      "DEP_Shuffled - Epoch 9, Loss: 929.3688\n"
     ]
    },
    {
     "data": {
      "application/vnd.jupyter.widget-view+json": {
       "model_id": "6467ca1da3e94ef2b7de2e91c53825af",
       "version_major": 2,
       "version_minor": 0
      },
      "text/plain": [
       "DEP_Shuffled Epoch 10:   0%|          | 0/313 [00:00<?, ?it/s]"
      ]
     },
     "metadata": {},
     "output_type": "display_data"
    },
    {
     "name": "stdout",
     "output_type": "stream",
     "text": [
      "DEP_Shuffled - Epoch 10, Loss: 925.8312\n",
      "\n",
      "=== Training with Random Representations ===\n"
     ]
    },
    {
     "data": {
      "application/vnd.jupyter.widget-view+json": {
       "model_id": "ddd4c35d1a11463aa9fcff111355a6a4",
       "version_major": 2,
       "version_minor": 0
      },
      "text/plain": [
       "POS_RandomRep Epoch 1:   0%|          | 0/313 [00:00<?, ?it/s]"
      ]
     },
     "metadata": {},
     "output_type": "display_data"
    },
    {
     "name": "stdout",
     "output_type": "stream",
     "text": [
      "POS_RandomRep - Epoch 1, Loss: 888.6582\n"
     ]
    },
    {
     "data": {
      "application/vnd.jupyter.widget-view+json": {
       "model_id": "fa5a9908931f4ee3a9bbc66b8a4d8bf1",
       "version_major": 2,
       "version_minor": 0
      },
      "text/plain": [
       "POS_RandomRep Epoch 2:   0%|          | 0/313 [00:00<?, ?it/s]"
      ]
     },
     "metadata": {},
     "output_type": "display_data"
    },
    {
     "name": "stdout",
     "output_type": "stream",
     "text": [
      "POS_RandomRep - Epoch 2, Loss: 813.1272\n"
     ]
    },
    {
     "data": {
      "application/vnd.jupyter.widget-view+json": {
       "model_id": "889e16ff8c80414bbce17ef4940cd405",
       "version_major": 2,
       "version_minor": 0
      },
      "text/plain": [
       "POS_RandomRep Epoch 3:   0%|          | 0/313 [00:00<?, ?it/s]"
      ]
     },
     "metadata": {},
     "output_type": "display_data"
    },
    {
     "name": "stdout",
     "output_type": "stream",
     "text": [
      "POS_RandomRep - Epoch 3, Loss: 781.3028\n"
     ]
    },
    {
     "data": {
      "application/vnd.jupyter.widget-view+json": {
       "model_id": "f05de3f0b2584be381c9ac70cccb6249",
       "version_major": 2,
       "version_minor": 0
      },
      "text/plain": [
       "POS_RandomRep Epoch 4:   0%|          | 0/313 [00:00<?, ?it/s]"
      ]
     },
     "metadata": {},
     "output_type": "display_data"
    },
    {
     "name": "stdout",
     "output_type": "stream",
     "text": [
      "POS_RandomRep - Epoch 4, Loss: 765.1972\n"
     ]
    },
    {
     "data": {
      "application/vnd.jupyter.widget-view+json": {
       "model_id": "f730810a1ff64b358b6eb8a7f0b083aa",
       "version_major": 2,
       "version_minor": 0
      },
      "text/plain": [
       "POS_RandomRep Epoch 5:   0%|          | 0/313 [00:00<?, ?it/s]"
      ]
     },
     "metadata": {},
     "output_type": "display_data"
    },
    {
     "name": "stdout",
     "output_type": "stream",
     "text": [
      "POS_RandomRep - Epoch 5, Loss: 756.0542\n"
     ]
    },
    {
     "data": {
      "application/vnd.jupyter.widget-view+json": {
       "model_id": "7d095cf282a14d289a8721e5cc8b89d6",
       "version_major": 2,
       "version_minor": 0
      },
      "text/plain": [
       "POS_RandomRep Epoch 6:   0%|          | 0/313 [00:00<?, ?it/s]"
      ]
     },
     "metadata": {},
     "output_type": "display_data"
    },
    {
     "name": "stdout",
     "output_type": "stream",
     "text": [
      "POS_RandomRep - Epoch 6, Loss: 750.1360\n"
     ]
    },
    {
     "data": {
      "application/vnd.jupyter.widget-view+json": {
       "model_id": "21853595f8d44156bdc2202ffc26a06b",
       "version_major": 2,
       "version_minor": 0
      },
      "text/plain": [
       "POS_RandomRep Epoch 7:   0%|          | 0/313 [00:00<?, ?it/s]"
      ]
     },
     "metadata": {},
     "output_type": "display_data"
    },
    {
     "name": "stdout",
     "output_type": "stream",
     "text": [
      "POS_RandomRep - Epoch 7, Loss: 746.3247\n"
     ]
    },
    {
     "data": {
      "application/vnd.jupyter.widget-view+json": {
       "model_id": "f181396962284cada3a40d4678f5534b",
       "version_major": 2,
       "version_minor": 0
      },
      "text/plain": [
       "POS_RandomRep Epoch 8:   0%|          | 0/313 [00:00<?, ?it/s]"
      ]
     },
     "metadata": {},
     "output_type": "display_data"
    },
    {
     "name": "stdout",
     "output_type": "stream",
     "text": [
      "POS_RandomRep - Epoch 8, Loss: 743.6014\n"
     ]
    },
    {
     "data": {
      "application/vnd.jupyter.widget-view+json": {
       "model_id": "6eb3596c889b400bb9f19386e5752e42",
       "version_major": 2,
       "version_minor": 0
      },
      "text/plain": [
       "POS_RandomRep Epoch 9:   0%|          | 0/313 [00:00<?, ?it/s]"
      ]
     },
     "metadata": {},
     "output_type": "display_data"
    },
    {
     "name": "stdout",
     "output_type": "stream",
     "text": [
      "POS_RandomRep - Epoch 9, Loss: 741.9140\n"
     ]
    },
    {
     "data": {
      "application/vnd.jupyter.widget-view+json": {
       "model_id": "6fc139e9b2754f6aa38c53699ebc84f3",
       "version_major": 2,
       "version_minor": 0
      },
      "text/plain": [
       "POS_RandomRep Epoch 10:   0%|          | 0/313 [00:00<?, ?it/s]"
      ]
     },
     "metadata": {},
     "output_type": "display_data"
    },
    {
     "name": "stdout",
     "output_type": "stream",
     "text": [
      "POS_RandomRep - Epoch 10, Loss: 740.3489\n"
     ]
    },
    {
     "data": {
      "application/vnd.jupyter.widget-view+json": {
       "model_id": "09d1b5bd4d5c47a8ba57951ec2fb1367",
       "version_major": 2,
       "version_minor": 0
      },
      "text/plain": [
       "DEP_RandomRep Epoch 1:   0%|          | 0/313 [00:00<?, ?it/s]"
      ]
     },
     "metadata": {},
     "output_type": "display_data"
    },
    {
     "name": "stdout",
     "output_type": "stream",
     "text": [
      "DEP_RandomRep - Epoch 1, Loss: 1190.3623\n"
     ]
    },
    {
     "data": {
      "application/vnd.jupyter.widget-view+json": {
       "model_id": "022318599b6246bb9249adf9398507fb",
       "version_major": 2,
       "version_minor": 0
      },
      "text/plain": [
       "DEP_RandomRep Epoch 2:   0%|          | 0/313 [00:00<?, ?it/s]"
      ]
     },
     "metadata": {},
     "output_type": "display_data"
    },
    {
     "name": "stdout",
     "output_type": "stream",
     "text": [
      "DEP_RandomRep - Epoch 2, Loss: 1077.5805\n"
     ]
    },
    {
     "data": {
      "application/vnd.jupyter.widget-view+json": {
       "model_id": "9bb9bba7e6704dfeab4892816e13f1b3",
       "version_major": 2,
       "version_minor": 0
      },
      "text/plain": [
       "DEP_RandomRep Epoch 3:   0%|          | 0/313 [00:00<?, ?it/s]"
      ]
     },
     "metadata": {},
     "output_type": "display_data"
    },
    {
     "name": "stdout",
     "output_type": "stream",
     "text": [
      "DEP_RandomRep - Epoch 3, Loss: 1017.8803\n"
     ]
    },
    {
     "data": {
      "application/vnd.jupyter.widget-view+json": {
       "model_id": "36e9bee550be457695267f3686fdeafe",
       "version_major": 2,
       "version_minor": 0
      },
      "text/plain": [
       "DEP_RandomRep Epoch 4:   0%|          | 0/313 [00:00<?, ?it/s]"
      ]
     },
     "metadata": {},
     "output_type": "display_data"
    },
    {
     "name": "stdout",
     "output_type": "stream",
     "text": [
      "DEP_RandomRep - Epoch 4, Loss: 984.0134\n"
     ]
    },
    {
     "data": {
      "application/vnd.jupyter.widget-view+json": {
       "model_id": "2383d54aa7eb49a998e368eec9148f1f",
       "version_major": 2,
       "version_minor": 0
      },
      "text/plain": [
       "DEP_RandomRep Epoch 5:   0%|          | 0/313 [00:00<?, ?it/s]"
      ]
     },
     "metadata": {},
     "output_type": "display_data"
    },
    {
     "name": "stdout",
     "output_type": "stream",
     "text": [
      "DEP_RandomRep - Epoch 5, Loss: 962.8227\n"
     ]
    },
    {
     "data": {
      "application/vnd.jupyter.widget-view+json": {
       "model_id": "7ebf7b29f1ca465aae3a022e9ea86e82",
       "version_major": 2,
       "version_minor": 0
      },
      "text/plain": [
       "DEP_RandomRep Epoch 6:   0%|          | 0/313 [00:00<?, ?it/s]"
      ]
     },
     "metadata": {},
     "output_type": "display_data"
    },
    {
     "name": "stdout",
     "output_type": "stream",
     "text": [
      "DEP_RandomRep - Epoch 6, Loss: 948.4319\n"
     ]
    },
    {
     "data": {
      "application/vnd.jupyter.widget-view+json": {
       "model_id": "d15b0a1ac197425ab34e6088cbb76fdc",
       "version_major": 2,
       "version_minor": 0
      },
      "text/plain": [
       "DEP_RandomRep Epoch 7:   0%|          | 0/313 [00:00<?, ?it/s]"
      ]
     },
     "metadata": {},
     "output_type": "display_data"
    },
    {
     "name": "stdout",
     "output_type": "stream",
     "text": [
      "DEP_RandomRep - Epoch 7, Loss: 938.3497\n"
     ]
    },
    {
     "data": {
      "application/vnd.jupyter.widget-view+json": {
       "model_id": "99a699ea2ec342dcaad8e0e02519259b",
       "version_major": 2,
       "version_minor": 0
      },
      "text/plain": [
       "DEP_RandomRep Epoch 8:   0%|          | 0/313 [00:00<?, ?it/s]"
      ]
     },
     "metadata": {},
     "output_type": "display_data"
    },
    {
     "name": "stdout",
     "output_type": "stream",
     "text": [
      "DEP_RandomRep - Epoch 8, Loss: 930.5803\n"
     ]
    },
    {
     "data": {
      "application/vnd.jupyter.widget-view+json": {
       "model_id": "4f1b238c357b4427b721318e8cdf2937",
       "version_major": 2,
       "version_minor": 0
      },
      "text/plain": [
       "DEP_RandomRep Epoch 9:   0%|          | 0/313 [00:00<?, ?it/s]"
      ]
     },
     "metadata": {},
     "output_type": "display_data"
    },
    {
     "name": "stdout",
     "output_type": "stream",
     "text": [
      "DEP_RandomRep - Epoch 9, Loss: 924.9278\n"
     ]
    },
    {
     "data": {
      "application/vnd.jupyter.widget-view+json": {
       "model_id": "f4192ada78824c0fa427d084bc47316f",
       "version_major": 2,
       "version_minor": 0
      },
      "text/plain": [
       "DEP_RandomRep Epoch 10:   0%|          | 0/313 [00:00<?, ?it/s]"
      ]
     },
     "metadata": {},
     "output_type": "display_data"
    },
    {
     "name": "stdout",
     "output_type": "stream",
     "text": [
      "DEP_RandomRep - Epoch 10, Loss: 920.6478\n",
      "\n",
      "=== Evaluation ===\n",
      "\n",
      "=== Training Main Probes ===\n"
     ]
    },
    {
     "data": {
      "application/vnd.jupyter.widget-view+json": {
       "model_id": "1476ece3c2d6487cb834a0bb7bd1b72f",
       "version_major": 2,
       "version_minor": 0
      },
      "text/plain": [
       "POS Epoch 1:   0%|          | 0/313 [00:00<?, ?it/s]"
      ]
     },
     "metadata": {},
     "output_type": "display_data"
    },
    {
     "name": "stdout",
     "output_type": "stream",
     "text": [
      "POS - Epoch 1, Loss: 548.0290\n"
     ]
    },
    {
     "data": {
      "application/vnd.jupyter.widget-view+json": {
       "model_id": "5a6c62f78ea445a09fcbb3231970f7a1",
       "version_major": 2,
       "version_minor": 0
      },
      "text/plain": [
       "POS Epoch 2:   0%|          | 0/313 [00:00<?, ?it/s]"
      ]
     },
     "metadata": {},
     "output_type": "display_data"
    },
    {
     "name": "stdout",
     "output_type": "stream",
     "text": [
      "POS - Epoch 2, Loss: 329.3627\n"
     ]
    },
    {
     "data": {
      "application/vnd.jupyter.widget-view+json": {
       "model_id": "cc8a6ab7aafa49098462db50b9f02df9",
       "version_major": 2,
       "version_minor": 0
      },
      "text/plain": [
       "POS Epoch 3:   0%|          | 0/313 [00:00<?, ?it/s]"
      ]
     },
     "metadata": {},
     "output_type": "display_data"
    },
    {
     "name": "stdout",
     "output_type": "stream",
     "text": [
      "POS - Epoch 3, Loss: 262.1760\n"
     ]
    },
    {
     "data": {
      "application/vnd.jupyter.widget-view+json": {
       "model_id": "222f2e0a97824052acae73defb6b0a6e",
       "version_major": 2,
       "version_minor": 0
      },
      "text/plain": [
       "POS Epoch 4:   0%|          | 0/313 [00:00<?, ?it/s]"
      ]
     },
     "metadata": {},
     "output_type": "display_data"
    },
    {
     "name": "stdout",
     "output_type": "stream",
     "text": [
      "POS - Epoch 4, Loss: 226.8136\n"
     ]
    },
    {
     "data": {
      "application/vnd.jupyter.widget-view+json": {
       "model_id": "ed606c3686434bda8df3427e62b6227e",
       "version_major": 2,
       "version_minor": 0
      },
      "text/plain": [
       "POS Epoch 5:   0%|          | 0/313 [00:00<?, ?it/s]"
      ]
     },
     "metadata": {},
     "output_type": "display_data"
    },
    {
     "name": "stdout",
     "output_type": "stream",
     "text": [
      "POS - Epoch 5, Loss: 204.5287\n"
     ]
    },
    {
     "data": {
      "application/vnd.jupyter.widget-view+json": {
       "model_id": "4b0d42c5330a4e5e8943826bf2e12e26",
       "version_major": 2,
       "version_minor": 0
      },
      "text/plain": [
       "POS Epoch 6:   0%|          | 0/313 [00:00<?, ?it/s]"
      ]
     },
     "metadata": {},
     "output_type": "display_data"
    },
    {
     "name": "stdout",
     "output_type": "stream",
     "text": [
      "POS - Epoch 6, Loss: 188.7257\n"
     ]
    },
    {
     "data": {
      "application/vnd.jupyter.widget-view+json": {
       "model_id": "d445e380ee594e92adf2ae65c537f039",
       "version_major": 2,
       "version_minor": 0
      },
      "text/plain": [
       "POS Epoch 7:   0%|          | 0/313 [00:00<?, ?it/s]"
      ]
     },
     "metadata": {},
     "output_type": "display_data"
    },
    {
     "name": "stdout",
     "output_type": "stream",
     "text": [
      "POS - Epoch 7, Loss: 176.4539\n"
     ]
    },
    {
     "data": {
      "application/vnd.jupyter.widget-view+json": {
       "model_id": "fbdb2c5cc11141c99e4af8287ffb9c6a",
       "version_major": 2,
       "version_minor": 0
      },
      "text/plain": [
       "POS Epoch 8:   0%|          | 0/313 [00:00<?, ?it/s]"
      ]
     },
     "metadata": {},
     "output_type": "display_data"
    },
    {
     "name": "stdout",
     "output_type": "stream",
     "text": [
      "POS - Epoch 8, Loss: 167.0953\n"
     ]
    },
    {
     "data": {
      "application/vnd.jupyter.widget-view+json": {
       "model_id": "4da04de371ef4684b50a9e68ce95275a",
       "version_major": 2,
       "version_minor": 0
      },
      "text/plain": [
       "POS Epoch 9:   0%|          | 0/313 [00:00<?, ?it/s]"
      ]
     },
     "metadata": {},
     "output_type": "display_data"
    },
    {
     "name": "stdout",
     "output_type": "stream",
     "text": [
      "POS - Epoch 9, Loss: 159.1105\n"
     ]
    },
    {
     "data": {
      "application/vnd.jupyter.widget-view+json": {
       "model_id": "f82d7611a546457189684018148cc455",
       "version_major": 2,
       "version_minor": 0
      },
      "text/plain": [
       "POS Epoch 10:   0%|          | 0/313 [00:00<?, ?it/s]"
      ]
     },
     "metadata": {},
     "output_type": "display_data"
    },
    {
     "name": "stdout",
     "output_type": "stream",
     "text": [
      "POS - Epoch 10, Loss: 152.6236\n"
     ]
    },
    {
     "data": {
      "application/vnd.jupyter.widget-view+json": {
       "model_id": "8161fa9ef6fb41a2a743dde2d798644e",
       "version_major": 2,
       "version_minor": 0
      },
      "text/plain": [
       "DEP Epoch 1:   0%|          | 0/313 [00:00<?, ?it/s]"
      ]
     },
     "metadata": {},
     "output_type": "display_data"
    },
    {
     "name": "stdout",
     "output_type": "stream",
     "text": [
      "DEP - Epoch 1, Loss: 821.1873\n"
     ]
    },
    {
     "data": {
      "application/vnd.jupyter.widget-view+json": {
       "model_id": "82d77c8beaf24810b1ddf94c236eb0f0",
       "version_major": 2,
       "version_minor": 0
      },
      "text/plain": [
       "DEP Epoch 2:   0%|          | 0/313 [00:00<?, ?it/s]"
      ]
     },
     "metadata": {},
     "output_type": "display_data"
    },
    {
     "name": "stdout",
     "output_type": "stream",
     "text": [
      "DEP - Epoch 2, Loss: 567.9483\n"
     ]
    },
    {
     "data": {
      "application/vnd.jupyter.widget-view+json": {
       "model_id": "c87f3323c16942d2b787ce9c8a4a7dc5",
       "version_major": 2,
       "version_minor": 0
      },
      "text/plain": [
       "DEP Epoch 3:   0%|          | 0/313 [00:00<?, ?it/s]"
      ]
     },
     "metadata": {},
     "output_type": "display_data"
    },
    {
     "name": "stdout",
     "output_type": "stream",
     "text": [
      "DEP - Epoch 3, Loss: 487.3494\n"
     ]
    },
    {
     "data": {
      "application/vnd.jupyter.widget-view+json": {
       "model_id": "3b199120f8604e1aaadcfc88bbf539db",
       "version_major": 2,
       "version_minor": 0
      },
      "text/plain": [
       "DEP Epoch 4:   0%|          | 0/313 [00:00<?, ?it/s]"
      ]
     },
     "metadata": {},
     "output_type": "display_data"
    },
    {
     "name": "stdout",
     "output_type": "stream",
     "text": [
      "DEP - Epoch 4, Loss: 442.8308\n"
     ]
    },
    {
     "data": {
      "application/vnd.jupyter.widget-view+json": {
       "model_id": "5f2e8f7abcd5443e9f0d233ecff4426c",
       "version_major": 2,
       "version_minor": 0
      },
      "text/plain": [
       "DEP Epoch 5:   0%|          | 0/313 [00:00<?, ?it/s]"
      ]
     },
     "metadata": {},
     "output_type": "display_data"
    },
    {
     "name": "stdout",
     "output_type": "stream",
     "text": [
      "DEP - Epoch 5, Loss: 413.4047\n"
     ]
    },
    {
     "data": {
      "application/vnd.jupyter.widget-view+json": {
       "model_id": "6a68a1c5d3334718aea8879fc93f50dd",
       "version_major": 2,
       "version_minor": 0
      },
      "text/plain": [
       "DEP Epoch 6:   0%|          | 0/313 [00:00<?, ?it/s]"
      ]
     },
     "metadata": {},
     "output_type": "display_data"
    },
    {
     "name": "stdout",
     "output_type": "stream",
     "text": [
      "DEP - Epoch 6, Loss: 392.0617\n"
     ]
    },
    {
     "data": {
      "application/vnd.jupyter.widget-view+json": {
       "model_id": "808ec5c34c58488c814c8f09fbd30f20",
       "version_major": 2,
       "version_minor": 0
      },
      "text/plain": [
       "DEP Epoch 7:   0%|          | 0/313 [00:00<?, ?it/s]"
      ]
     },
     "metadata": {},
     "output_type": "display_data"
    },
    {
     "name": "stdout",
     "output_type": "stream",
     "text": [
      "DEP - Epoch 7, Loss: 375.1501\n"
     ]
    },
    {
     "data": {
      "application/vnd.jupyter.widget-view+json": {
       "model_id": "273bd50e50ae4381a93e11f9fdc9e186",
       "version_major": 2,
       "version_minor": 0
      },
      "text/plain": [
       "DEP Epoch 8:   0%|          | 0/313 [00:00<?, ?it/s]"
      ]
     },
     "metadata": {},
     "output_type": "display_data"
    },
    {
     "name": "stdout",
     "output_type": "stream",
     "text": [
      "DEP - Epoch 8, Loss: 361.6373\n"
     ]
    },
    {
     "data": {
      "application/vnd.jupyter.widget-view+json": {
       "model_id": "1819f70b121c478589854e7b7259dc40",
       "version_major": 2,
       "version_minor": 0
      },
      "text/plain": [
       "DEP Epoch 9:   0%|          | 0/313 [00:00<?, ?it/s]"
      ]
     },
     "metadata": {},
     "output_type": "display_data"
    },
    {
     "name": "stdout",
     "output_type": "stream",
     "text": [
      "DEP - Epoch 9, Loss: 350.3656\n"
     ]
    },
    {
     "data": {
      "application/vnd.jupyter.widget-view+json": {
       "model_id": "5870254354db42458602877cd16c2229",
       "version_major": 2,
       "version_minor": 0
      },
      "text/plain": [
       "DEP Epoch 10:   0%|          | 0/313 [00:00<?, ?it/s]"
      ]
     },
     "metadata": {},
     "output_type": "display_data"
    },
    {
     "name": "stdout",
     "output_type": "stream",
     "text": [
      "DEP - Epoch 10, Loss: 340.8327\n",
      "\n",
      "=== Training Nonlinear Probes ===\n"
     ]
    },
    {
     "data": {
      "application/vnd.jupyter.widget-view+json": {
       "model_id": "86a4ed35d87140a58980b15bf96a13e8",
       "version_major": 2,
       "version_minor": 0
      },
      "text/plain": [
       "POS_Nonlinear Epoch 1:   0%|          | 0/313 [00:00<?, ?it/s]"
      ]
     },
     "metadata": {},
     "output_type": "display_data"
    },
    {
     "name": "stdout",
     "output_type": "stream",
     "text": [
      "POS_Nonlinear - Epoch 1, Loss: 368.9252\n"
     ]
    },
    {
     "data": {
      "application/vnd.jupyter.widget-view+json": {
       "model_id": "5685fbc59ac04ee5a534b1d9da9f9896",
       "version_major": 2,
       "version_minor": 0
      },
      "text/plain": [
       "POS_Nonlinear Epoch 2:   0%|          | 0/313 [00:00<?, ?it/s]"
      ]
     },
     "metadata": {},
     "output_type": "display_data"
    },
    {
     "name": "stdout",
     "output_type": "stream",
     "text": [
      "POS_Nonlinear - Epoch 2, Loss: 161.6502\n"
     ]
    },
    {
     "data": {
      "application/vnd.jupyter.widget-view+json": {
       "model_id": "e498ebff8e01431183a50c7c4e47c6ae",
       "version_major": 2,
       "version_minor": 0
      },
      "text/plain": [
       "POS_Nonlinear Epoch 3:   0%|          | 0/313 [00:00<?, ?it/s]"
      ]
     },
     "metadata": {},
     "output_type": "display_data"
    },
    {
     "name": "stdout",
     "output_type": "stream",
     "text": [
      "POS_Nonlinear - Epoch 3, Loss: 123.5942\n"
     ]
    },
    {
     "data": {
      "application/vnd.jupyter.widget-view+json": {
       "model_id": "8c4ddf084b944d189f6d66417ac6a404",
       "version_major": 2,
       "version_minor": 0
      },
      "text/plain": [
       "POS_Nonlinear Epoch 4:   0%|          | 0/313 [00:00<?, ?it/s]"
      ]
     },
     "metadata": {},
     "output_type": "display_data"
    },
    {
     "name": "stdout",
     "output_type": "stream",
     "text": [
      "POS_Nonlinear - Epoch 4, Loss: 103.3949\n"
     ]
    },
    {
     "data": {
      "application/vnd.jupyter.widget-view+json": {
       "model_id": "6bf0772e563345afb5433d2efcabcbb5",
       "version_major": 2,
       "version_minor": 0
      },
      "text/plain": [
       "POS_Nonlinear Epoch 5:   0%|          | 0/313 [00:00<?, ?it/s]"
      ]
     },
     "metadata": {},
     "output_type": "display_data"
    },
    {
     "name": "stdout",
     "output_type": "stream",
     "text": [
      "POS_Nonlinear - Epoch 5, Loss: 89.6048\n"
     ]
    },
    {
     "data": {
      "application/vnd.jupyter.widget-view+json": {
       "model_id": "2d9b3b17f2dd4ec8888ea18b636eb019",
       "version_major": 2,
       "version_minor": 0
      },
      "text/plain": [
       "POS_Nonlinear Epoch 6:   0%|          | 0/313 [00:00<?, ?it/s]"
      ]
     },
     "metadata": {},
     "output_type": "display_data"
    },
    {
     "name": "stdout",
     "output_type": "stream",
     "text": [
      "POS_Nonlinear - Epoch 6, Loss: 79.1142\n"
     ]
    },
    {
     "data": {
      "application/vnd.jupyter.widget-view+json": {
       "model_id": "c65817714d7241ca9358a3787c1c89c3",
       "version_major": 2,
       "version_minor": 0
      },
      "text/plain": [
       "POS_Nonlinear Epoch 7:   0%|          | 0/313 [00:00<?, ?it/s]"
      ]
     },
     "metadata": {},
     "output_type": "display_data"
    },
    {
     "name": "stdout",
     "output_type": "stream",
     "text": [
      "POS_Nonlinear - Epoch 7, Loss: 70.8179\n"
     ]
    },
    {
     "data": {
      "application/vnd.jupyter.widget-view+json": {
       "model_id": "71037c174c274f19a044cfd492651d49",
       "version_major": 2,
       "version_minor": 0
      },
      "text/plain": [
       "POS_Nonlinear Epoch 8:   0%|          | 0/313 [00:00<?, ?it/s]"
      ]
     },
     "metadata": {},
     "output_type": "display_data"
    },
    {
     "name": "stdout",
     "output_type": "stream",
     "text": [
      "POS_Nonlinear - Epoch 8, Loss: 63.5696\n"
     ]
    },
    {
     "data": {
      "application/vnd.jupyter.widget-view+json": {
       "model_id": "ae9e0e57bb7e4a7592a7113da77f8a8f",
       "version_major": 2,
       "version_minor": 0
      },
      "text/plain": [
       "POS_Nonlinear Epoch 9:   0%|          | 0/313 [00:00<?, ?it/s]"
      ]
     },
     "metadata": {},
     "output_type": "display_data"
    },
    {
     "name": "stdout",
     "output_type": "stream",
     "text": [
      "POS_Nonlinear - Epoch 9, Loss: 57.3476\n"
     ]
    },
    {
     "data": {
      "application/vnd.jupyter.widget-view+json": {
       "model_id": "053dd20c74f94328b7853f32b68849a4",
       "version_major": 2,
       "version_minor": 0
      },
      "text/plain": [
       "POS_Nonlinear Epoch 10:   0%|          | 0/313 [00:00<?, ?it/s]"
      ]
     },
     "metadata": {},
     "output_type": "display_data"
    },
    {
     "name": "stdout",
     "output_type": "stream",
     "text": [
      "POS_Nonlinear - Epoch 10, Loss: 51.6134\n"
     ]
    },
    {
     "data": {
      "application/vnd.jupyter.widget-view+json": {
       "model_id": "229563a4eba54ccbb19e73fdf69fe59a",
       "version_major": 2,
       "version_minor": 0
      },
      "text/plain": [
       "DEP_Nonlinear Epoch 1:   0%|          | 0/313 [00:00<?, ?it/s]"
      ]
     },
     "metadata": {},
     "output_type": "display_data"
    },
    {
     "name": "stdout",
     "output_type": "stream",
     "text": [
      "DEP_Nonlinear - Epoch 1, Loss: 653.4545\n"
     ]
    },
    {
     "data": {
      "application/vnd.jupyter.widget-view+json": {
       "model_id": "60f9c9edf1874cc394cdef249b3676fa",
       "version_major": 2,
       "version_minor": 0
      },
      "text/plain": [
       "DEP_Nonlinear Epoch 2:   0%|          | 0/313 [00:00<?, ?it/s]"
      ]
     },
     "metadata": {},
     "output_type": "display_data"
    },
    {
     "name": "stdout",
     "output_type": "stream",
     "text": [
      "DEP_Nonlinear - Epoch 2, Loss: 402.2122\n"
     ]
    },
    {
     "data": {
      "application/vnd.jupyter.widget-view+json": {
       "model_id": "a32c8d7a2ead4434a832388180993e0f",
       "version_major": 2,
       "version_minor": 0
      },
      "text/plain": [
       "DEP_Nonlinear Epoch 3:   0%|          | 0/313 [00:00<?, ?it/s]"
      ]
     },
     "metadata": {},
     "output_type": "display_data"
    },
    {
     "name": "stdout",
     "output_type": "stream",
     "text": [
      "DEP_Nonlinear - Epoch 3, Loss: 342.7625\n"
     ]
    },
    {
     "data": {
      "application/vnd.jupyter.widget-view+json": {
       "model_id": "53ac39ba09ee4defa48dca8f21082115",
       "version_major": 2,
       "version_minor": 0
      },
      "text/plain": [
       "DEP_Nonlinear Epoch 4:   0%|          | 0/313 [00:00<?, ?it/s]"
      ]
     },
     "metadata": {},
     "output_type": "display_data"
    },
    {
     "name": "stdout",
     "output_type": "stream",
     "text": [
      "DEP_Nonlinear - Epoch 4, Loss: 306.9267\n"
     ]
    },
    {
     "data": {
      "application/vnd.jupyter.widget-view+json": {
       "model_id": "e8f9cc7f204c470dba8a890272ba705f",
       "version_major": 2,
       "version_minor": 0
      },
      "text/plain": [
       "DEP_Nonlinear Epoch 5:   0%|          | 0/313 [00:00<?, ?it/s]"
      ]
     },
     "metadata": {},
     "output_type": "display_data"
    },
    {
     "name": "stdout",
     "output_type": "stream",
     "text": [
      "DEP_Nonlinear - Epoch 5, Loss: 281.8065\n"
     ]
    },
    {
     "data": {
      "application/vnd.jupyter.widget-view+json": {
       "model_id": "f4d5cd7928de48768513bdbb5d2f1950",
       "version_major": 2,
       "version_minor": 0
      },
      "text/plain": [
       "DEP_Nonlinear Epoch 6:   0%|          | 0/313 [00:00<?, ?it/s]"
      ]
     },
     "metadata": {},
     "output_type": "display_data"
    },
    {
     "name": "stdout",
     "output_type": "stream",
     "text": [
      "DEP_Nonlinear - Epoch 6, Loss: 261.4118\n"
     ]
    },
    {
     "data": {
      "application/vnd.jupyter.widget-view+json": {
       "model_id": "d6312d226f1c4b0aaf0a3ef8347fd8c9",
       "version_major": 2,
       "version_minor": 0
      },
      "text/plain": [
       "DEP_Nonlinear Epoch 7:   0%|          | 0/313 [00:00<?, ?it/s]"
      ]
     },
     "metadata": {},
     "output_type": "display_data"
    },
    {
     "name": "stdout",
     "output_type": "stream",
     "text": [
      "DEP_Nonlinear - Epoch 7, Loss: 243.8535\n"
     ]
    },
    {
     "data": {
      "application/vnd.jupyter.widget-view+json": {
       "model_id": "772e5b58c12145e69684d52d168ed52a",
       "version_major": 2,
       "version_minor": 0
      },
      "text/plain": [
       "DEP_Nonlinear Epoch 8:   0%|          | 0/313 [00:00<?, ?it/s]"
      ]
     },
     "metadata": {},
     "output_type": "display_data"
    },
    {
     "name": "stdout",
     "output_type": "stream",
     "text": [
      "DEP_Nonlinear - Epoch 8, Loss: 228.2443\n"
     ]
    },
    {
     "data": {
      "application/vnd.jupyter.widget-view+json": {
       "model_id": "2c59686a322848c1bdec01e561098a9d",
       "version_major": 2,
       "version_minor": 0
      },
      "text/plain": [
       "DEP_Nonlinear Epoch 9:   0%|          | 0/313 [00:00<?, ?it/s]"
      ]
     },
     "metadata": {},
     "output_type": "display_data"
    },
    {
     "name": "stdout",
     "output_type": "stream",
     "text": [
      "DEP_Nonlinear - Epoch 9, Loss: 214.8067\n"
     ]
    },
    {
     "data": {
      "application/vnd.jupyter.widget-view+json": {
       "model_id": "f20171e3cdec4f5cb0dd1831f24ca1bc",
       "version_major": 2,
       "version_minor": 0
      },
      "text/plain": [
       "DEP_Nonlinear Epoch 10:   0%|          | 0/313 [00:00<?, ?it/s]"
      ]
     },
     "metadata": {},
     "output_type": "display_data"
    },
    {
     "name": "stdout",
     "output_type": "stream",
     "text": [
      "DEP_Nonlinear - Epoch 10, Loss: 202.1121\n",
      "\n",
      "=== Evaluating Random Baselines ===\n",
      "\n",
      "=== Training with Shuffled Labels ===\n"
     ]
    },
    {
     "data": {
      "application/vnd.jupyter.widget-view+json": {
       "model_id": "c8e85ead8fa14f64a7210567e075a839",
       "version_major": 2,
       "version_minor": 0
      },
      "text/plain": [
       "POS_Shuffled Epoch 1:   0%|          | 0/313 [00:00<?, ?it/s]"
      ]
     },
     "metadata": {},
     "output_type": "display_data"
    },
    {
     "name": "stdout",
     "output_type": "stream",
     "text": [
      "POS_Shuffled - Epoch 1, Loss: 802.4607\n"
     ]
    },
    {
     "data": {
      "application/vnd.jupyter.widget-view+json": {
       "model_id": "2f86b6f2a560482cb5dc75d7d726dc5c",
       "version_major": 2,
       "version_minor": 0
      },
      "text/plain": [
       "POS_Shuffled Epoch 2:   0%|          | 0/313 [00:00<?, ?it/s]"
      ]
     },
     "metadata": {},
     "output_type": "display_data"
    },
    {
     "name": "stdout",
     "output_type": "stream",
     "text": [
      "POS_Shuffled - Epoch 2, Loss: 765.8382\n"
     ]
    },
    {
     "data": {
      "application/vnd.jupyter.widget-view+json": {
       "model_id": "7e90758ca2c54ba5957c710457973145",
       "version_major": 2,
       "version_minor": 0
      },
      "text/plain": [
       "POS_Shuffled Epoch 3:   0%|          | 0/313 [00:00<?, ?it/s]"
      ]
     },
     "metadata": {},
     "output_type": "display_data"
    },
    {
     "name": "stdout",
     "output_type": "stream",
     "text": [
      "POS_Shuffled - Epoch 3, Loss: 755.6298\n"
     ]
    },
    {
     "data": {
      "application/vnd.jupyter.widget-view+json": {
       "model_id": "3b36c4f5355147e3b6f32b2fc5a943b3",
       "version_major": 2,
       "version_minor": 0
      },
      "text/plain": [
       "POS_Shuffled Epoch 4:   0%|          | 0/313 [00:00<?, ?it/s]"
      ]
     },
     "metadata": {},
     "output_type": "display_data"
    },
    {
     "name": "stdout",
     "output_type": "stream",
     "text": [
      "POS_Shuffled - Epoch 4, Loss: 749.6172\n"
     ]
    },
    {
     "data": {
      "application/vnd.jupyter.widget-view+json": {
       "model_id": "9eb40acaf17449bd8abc674a81015d83",
       "version_major": 2,
       "version_minor": 0
      },
      "text/plain": [
       "POS_Shuffled Epoch 5:   0%|          | 0/313 [00:00<?, ?it/s]"
      ]
     },
     "metadata": {},
     "output_type": "display_data"
    },
    {
     "name": "stdout",
     "output_type": "stream",
     "text": [
      "POS_Shuffled - Epoch 5, Loss: 745.2518\n"
     ]
    },
    {
     "data": {
      "application/vnd.jupyter.widget-view+json": {
       "model_id": "4efeee255294455a8efd6a6cf9d627c6",
       "version_major": 2,
       "version_minor": 0
      },
      "text/plain": [
       "POS_Shuffled Epoch 6:   0%|          | 0/313 [00:00<?, ?it/s]"
      ]
     },
     "metadata": {},
     "output_type": "display_data"
    },
    {
     "name": "stdout",
     "output_type": "stream",
     "text": [
      "POS_Shuffled - Epoch 6, Loss: 741.9754\n"
     ]
    },
    {
     "data": {
      "application/vnd.jupyter.widget-view+json": {
       "model_id": "68d184bf60d94e6fafb0f5f8835491f2",
       "version_major": 2,
       "version_minor": 0
      },
      "text/plain": [
       "POS_Shuffled Epoch 7:   0%|          | 0/313 [00:00<?, ?it/s]"
      ]
     },
     "metadata": {},
     "output_type": "display_data"
    },
    {
     "name": "stdout",
     "output_type": "stream",
     "text": [
      "POS_Shuffled - Epoch 7, Loss: 739.5127\n"
     ]
    },
    {
     "data": {
      "application/vnd.jupyter.widget-view+json": {
       "model_id": "674115e87e884c09a179dc6898105329",
       "version_major": 2,
       "version_minor": 0
      },
      "text/plain": [
       "POS_Shuffled Epoch 8:   0%|          | 0/313 [00:00<?, ?it/s]"
      ]
     },
     "metadata": {},
     "output_type": "display_data"
    },
    {
     "name": "stdout",
     "output_type": "stream",
     "text": [
      "POS_Shuffled - Epoch 8, Loss: 737.5172\n"
     ]
    },
    {
     "data": {
      "application/vnd.jupyter.widget-view+json": {
       "model_id": "a588ff81821743fe8030f2e7c9a776fe",
       "version_major": 2,
       "version_minor": 0
      },
      "text/plain": [
       "POS_Shuffled Epoch 9:   0%|          | 0/313 [00:00<?, ?it/s]"
      ]
     },
     "metadata": {},
     "output_type": "display_data"
    },
    {
     "name": "stdout",
     "output_type": "stream",
     "text": [
      "POS_Shuffled - Epoch 9, Loss: 735.6286\n"
     ]
    },
    {
     "data": {
      "application/vnd.jupyter.widget-view+json": {
       "model_id": "cb85e2fcd22d45bbb9fe718d1fec9729",
       "version_major": 2,
       "version_minor": 0
      },
      "text/plain": [
       "POS_Shuffled Epoch 10:   0%|          | 0/313 [00:00<?, ?it/s]"
      ]
     },
     "metadata": {},
     "output_type": "display_data"
    },
    {
     "name": "stdout",
     "output_type": "stream",
     "text": [
      "POS_Shuffled - Epoch 10, Loss: 734.3533\n"
     ]
    },
    {
     "data": {
      "application/vnd.jupyter.widget-view+json": {
       "model_id": "0350d4c585554aeb93b6dcec66a06e5c",
       "version_major": 2,
       "version_minor": 0
      },
      "text/plain": [
       "DEP_Shuffled Epoch 1:   0%|          | 0/313 [00:00<?, ?it/s]"
      ]
     },
     "metadata": {},
     "output_type": "display_data"
    },
    {
     "name": "stdout",
     "output_type": "stream",
     "text": [
      "DEP_Shuffled - Epoch 1, Loss: 1057.2542\n"
     ]
    },
    {
     "data": {
      "application/vnd.jupyter.widget-view+json": {
       "model_id": "39e0a464501e412198b39e61ea51474d",
       "version_major": 2,
       "version_minor": 0
      },
      "text/plain": [
       "DEP_Shuffled Epoch 2:   0%|          | 0/313 [00:00<?, ?it/s]"
      ]
     },
     "metadata": {},
     "output_type": "display_data"
    },
    {
     "name": "stdout",
     "output_type": "stream",
     "text": [
      "DEP_Shuffled - Epoch 2, Loss: 990.5268\n"
     ]
    },
    {
     "data": {
      "application/vnd.jupyter.widget-view+json": {
       "model_id": "c2b711e930c1443aa375b592118cd52f",
       "version_major": 2,
       "version_minor": 0
      },
      "text/plain": [
       "DEP_Shuffled Epoch 3:   0%|          | 0/313 [00:00<?, ?it/s]"
      ]
     },
     "metadata": {},
     "output_type": "display_data"
    },
    {
     "name": "stdout",
     "output_type": "stream",
     "text": [
      "DEP_Shuffled - Epoch 3, Loss: 971.4463\n"
     ]
    },
    {
     "data": {
      "application/vnd.jupyter.widget-view+json": {
       "model_id": "6dfb1ea2a7df41f482e69c83371e69dd",
       "version_major": 2,
       "version_minor": 0
      },
      "text/plain": [
       "DEP_Shuffled Epoch 4:   0%|          | 0/313 [00:00<?, ?it/s]"
      ]
     },
     "metadata": {},
     "output_type": "display_data"
    },
    {
     "name": "stdout",
     "output_type": "stream",
     "text": [
      "DEP_Shuffled - Epoch 4, Loss: 959.4751\n"
     ]
    },
    {
     "data": {
      "application/vnd.jupyter.widget-view+json": {
       "model_id": "b6e4a793ba6646e1ad2e5fa5b78bb418",
       "version_major": 2,
       "version_minor": 0
      },
      "text/plain": [
       "DEP_Shuffled Epoch 5:   0%|          | 0/313 [00:00<?, ?it/s]"
      ]
     },
     "metadata": {},
     "output_type": "display_data"
    },
    {
     "name": "stdout",
     "output_type": "stream",
     "text": [
      "DEP_Shuffled - Epoch 5, Loss: 950.7672\n"
     ]
    },
    {
     "data": {
      "application/vnd.jupyter.widget-view+json": {
       "model_id": "4bcee014b4a54d748bd8151e2fe8069f",
       "version_major": 2,
       "version_minor": 0
      },
      "text/plain": [
       "DEP_Shuffled Epoch 6:   0%|          | 0/313 [00:00<?, ?it/s]"
      ]
     },
     "metadata": {},
     "output_type": "display_data"
    },
    {
     "name": "stdout",
     "output_type": "stream",
     "text": [
      "DEP_Shuffled - Epoch 6, Loss: 943.9114\n"
     ]
    },
    {
     "data": {
      "application/vnd.jupyter.widget-view+json": {
       "model_id": "bd904188035a4ce5a4b161e0f0a670df",
       "version_major": 2,
       "version_minor": 0
      },
      "text/plain": [
       "DEP_Shuffled Epoch 7:   0%|          | 0/313 [00:00<?, ?it/s]"
      ]
     },
     "metadata": {},
     "output_type": "display_data"
    },
    {
     "name": "stdout",
     "output_type": "stream",
     "text": [
      "DEP_Shuffled - Epoch 7, Loss: 938.6183\n"
     ]
    },
    {
     "data": {
      "application/vnd.jupyter.widget-view+json": {
       "model_id": "06c09a14bb294d9fb9c0e582a8f81513",
       "version_major": 2,
       "version_minor": 0
      },
      "text/plain": [
       "DEP_Shuffled Epoch 8:   0%|          | 0/313 [00:00<?, ?it/s]"
      ]
     },
     "metadata": {},
     "output_type": "display_data"
    },
    {
     "name": "stdout",
     "output_type": "stream",
     "text": [
      "DEP_Shuffled - Epoch 8, Loss: 933.7465\n"
     ]
    },
    {
     "data": {
      "application/vnd.jupyter.widget-view+json": {
       "model_id": "82e8e1f0a4744e67ae2e674544cf3bf8",
       "version_major": 2,
       "version_minor": 0
      },
      "text/plain": [
       "DEP_Shuffled Epoch 9:   0%|          | 0/313 [00:00<?, ?it/s]"
      ]
     },
     "metadata": {},
     "output_type": "display_data"
    },
    {
     "name": "stdout",
     "output_type": "stream",
     "text": [
      "DEP_Shuffled - Epoch 9, Loss: 929.9255\n"
     ]
    },
    {
     "data": {
      "application/vnd.jupyter.widget-view+json": {
       "model_id": "8b2aefe80fa347009f777102f3944fa3",
       "version_major": 2,
       "version_minor": 0
      },
      "text/plain": [
       "DEP_Shuffled Epoch 10:   0%|          | 0/313 [00:00<?, ?it/s]"
      ]
     },
     "metadata": {},
     "output_type": "display_data"
    },
    {
     "name": "stdout",
     "output_type": "stream",
     "text": [
      "DEP_Shuffled - Epoch 10, Loss: 926.5881\n",
      "\n",
      "=== Training with Random Representations ===\n"
     ]
    },
    {
     "data": {
      "application/vnd.jupyter.widget-view+json": {
       "model_id": "da5e474ef53a4b9d8f7bdc71fdf69ded",
       "version_major": 2,
       "version_minor": 0
      },
      "text/plain": [
       "POS_RandomRep Epoch 1:   0%|          | 0/313 [00:00<?, ?it/s]"
      ]
     },
     "metadata": {},
     "output_type": "display_data"
    },
    {
     "name": "stdout",
     "output_type": "stream",
     "text": [
      "POS_RandomRep - Epoch 1, Loss: 890.5978\n"
     ]
    },
    {
     "data": {
      "application/vnd.jupyter.widget-view+json": {
       "model_id": "40c37e5d9e2747f38066cef3029d7389",
       "version_major": 2,
       "version_minor": 0
      },
      "text/plain": [
       "POS_RandomRep Epoch 2:   0%|          | 0/313 [00:00<?, ?it/s]"
      ]
     },
     "metadata": {},
     "output_type": "display_data"
    },
    {
     "name": "stdout",
     "output_type": "stream",
     "text": [
      "POS_RandomRep - Epoch 2, Loss: 816.1929\n"
     ]
    },
    {
     "data": {
      "application/vnd.jupyter.widget-view+json": {
       "model_id": "5b442f9c0f624eb0b26891b74fcf74ef",
       "version_major": 2,
       "version_minor": 0
      },
      "text/plain": [
       "POS_RandomRep Epoch 3:   0%|          | 0/313 [00:00<?, ?it/s]"
      ]
     },
     "metadata": {},
     "output_type": "display_data"
    },
    {
     "name": "stdout",
     "output_type": "stream",
     "text": [
      "POS_RandomRep - Epoch 3, Loss: 784.3690\n"
     ]
    },
    {
     "data": {
      "application/vnd.jupyter.widget-view+json": {
       "model_id": "9d8a3887ccb341608c95a1885b614ebe",
       "version_major": 2,
       "version_minor": 0
      },
      "text/plain": [
       "POS_RandomRep Epoch 4:   0%|          | 0/313 [00:00<?, ?it/s]"
      ]
     },
     "metadata": {},
     "output_type": "display_data"
    },
    {
     "name": "stdout",
     "output_type": "stream",
     "text": [
      "POS_RandomRep - Epoch 4, Loss: 767.8704\n"
     ]
    },
    {
     "data": {
      "application/vnd.jupyter.widget-view+json": {
       "model_id": "db0d8ca23e0f4149bae83b15f007c1f3",
       "version_major": 2,
       "version_minor": 0
      },
      "text/plain": [
       "POS_RandomRep Epoch 5:   0%|          | 0/313 [00:00<?, ?it/s]"
      ]
     },
     "metadata": {},
     "output_type": "display_data"
    },
    {
     "name": "stdout",
     "output_type": "stream",
     "text": [
      "POS_RandomRep - Epoch 5, Loss: 757.9313\n"
     ]
    },
    {
     "data": {
      "application/vnd.jupyter.widget-view+json": {
       "model_id": "b4fc924aad7a4a6c8aa5ce5d924a730f",
       "version_major": 2,
       "version_minor": 0
      },
      "text/plain": [
       "POS_RandomRep Epoch 6:   0%|          | 0/313 [00:00<?, ?it/s]"
      ]
     },
     "metadata": {},
     "output_type": "display_data"
    },
    {
     "name": "stdout",
     "output_type": "stream",
     "text": [
      "POS_RandomRep - Epoch 6, Loss: 751.7626\n"
     ]
    },
    {
     "data": {
      "application/vnd.jupyter.widget-view+json": {
       "model_id": "187668a7c12646e39e49b69e258847de",
       "version_major": 2,
       "version_minor": 0
      },
      "text/plain": [
       "POS_RandomRep Epoch 7:   0%|          | 0/313 [00:00<?, ?it/s]"
      ]
     },
     "metadata": {},
     "output_type": "display_data"
    },
    {
     "name": "stdout",
     "output_type": "stream",
     "text": [
      "POS_RandomRep - Epoch 7, Loss: 747.8715\n"
     ]
    },
    {
     "data": {
      "application/vnd.jupyter.widget-view+json": {
       "model_id": "fd78dfa6aa824d5781c99497456a2161",
       "version_major": 2,
       "version_minor": 0
      },
      "text/plain": [
       "POS_RandomRep Epoch 8:   0%|          | 0/313 [00:00<?, ?it/s]"
      ]
     },
     "metadata": {},
     "output_type": "display_data"
    },
    {
     "name": "stdout",
     "output_type": "stream",
     "text": [
      "POS_RandomRep - Epoch 8, Loss: 745.4562\n"
     ]
    },
    {
     "data": {
      "application/vnd.jupyter.widget-view+json": {
       "model_id": "e721870843aa4512aa4ca5e1d28b7c43",
       "version_major": 2,
       "version_minor": 0
      },
      "text/plain": [
       "POS_RandomRep Epoch 9:   0%|          | 0/313 [00:00<?, ?it/s]"
      ]
     },
     "metadata": {},
     "output_type": "display_data"
    },
    {
     "name": "stdout",
     "output_type": "stream",
     "text": [
      "POS_RandomRep - Epoch 9, Loss: 743.3679\n"
     ]
    },
    {
     "data": {
      "application/vnd.jupyter.widget-view+json": {
       "model_id": "df85fec7ab7449b08293cc2eb6a5719b",
       "version_major": 2,
       "version_minor": 0
      },
      "text/plain": [
       "POS_RandomRep Epoch 10:   0%|          | 0/313 [00:00<?, ?it/s]"
      ]
     },
     "metadata": {},
     "output_type": "display_data"
    },
    {
     "name": "stdout",
     "output_type": "stream",
     "text": [
      "POS_RandomRep - Epoch 10, Loss: 741.8321\n"
     ]
    },
    {
     "data": {
      "application/vnd.jupyter.widget-view+json": {
       "model_id": "5455306b7da5475894bf307fbd44ac5d",
       "version_major": 2,
       "version_minor": 0
      },
      "text/plain": [
       "DEP_RandomRep Epoch 1:   0%|          | 0/313 [00:00<?, ?it/s]"
      ]
     },
     "metadata": {},
     "output_type": "display_data"
    },
    {
     "name": "stdout",
     "output_type": "stream",
     "text": [
      "DEP_RandomRep - Epoch 1, Loss: 1191.4801\n"
     ]
    },
    {
     "data": {
      "application/vnd.jupyter.widget-view+json": {
       "model_id": "77b5ba722e2c4118960ea1f2dde538ab",
       "version_major": 2,
       "version_minor": 0
      },
      "text/plain": [
       "DEP_RandomRep Epoch 2:   0%|          | 0/313 [00:00<?, ?it/s]"
      ]
     },
     "metadata": {},
     "output_type": "display_data"
    },
    {
     "name": "stdout",
     "output_type": "stream",
     "text": [
      "DEP_RandomRep - Epoch 2, Loss: 1077.9637\n"
     ]
    },
    {
     "data": {
      "application/vnd.jupyter.widget-view+json": {
       "model_id": "a67a1fa8bda6454080744b664aaebd1b",
       "version_major": 2,
       "version_minor": 0
      },
      "text/plain": [
       "DEP_RandomRep Epoch 3:   0%|          | 0/313 [00:00<?, ?it/s]"
      ]
     },
     "metadata": {},
     "output_type": "display_data"
    },
    {
     "name": "stdout",
     "output_type": "stream",
     "text": [
      "DEP_RandomRep - Epoch 3, Loss: 1017.8725\n"
     ]
    },
    {
     "data": {
      "application/vnd.jupyter.widget-view+json": {
       "model_id": "9ca71d97c3f8402986aa42ab6ff71fb2",
       "version_major": 2,
       "version_minor": 0
      },
      "text/plain": [
       "DEP_RandomRep Epoch 4:   0%|          | 0/313 [00:00<?, ?it/s]"
      ]
     },
     "metadata": {},
     "output_type": "display_data"
    },
    {
     "name": "stdout",
     "output_type": "stream",
     "text": [
      "DEP_RandomRep - Epoch 4, Loss: 983.8388\n"
     ]
    },
    {
     "data": {
      "application/vnd.jupyter.widget-view+json": {
       "model_id": "a296f25311af4a728dd9a4eb80f59137",
       "version_major": 2,
       "version_minor": 0
      },
      "text/plain": [
       "DEP_RandomRep Epoch 5:   0%|          | 0/313 [00:00<?, ?it/s]"
      ]
     },
     "metadata": {},
     "output_type": "display_data"
    },
    {
     "name": "stdout",
     "output_type": "stream",
     "text": [
      "DEP_RandomRep - Epoch 5, Loss: 962.6060\n"
     ]
    },
    {
     "data": {
      "application/vnd.jupyter.widget-view+json": {
       "model_id": "915de9fda15040f3a4f0367e5c9f9095",
       "version_major": 2,
       "version_minor": 0
      },
      "text/plain": [
       "DEP_RandomRep Epoch 6:   0%|          | 0/313 [00:00<?, ?it/s]"
      ]
     },
     "metadata": {},
     "output_type": "display_data"
    },
    {
     "name": "stdout",
     "output_type": "stream",
     "text": [
      "DEP_RandomRep - Epoch 6, Loss: 948.5642\n"
     ]
    },
    {
     "data": {
      "application/vnd.jupyter.widget-view+json": {
       "model_id": "8e10fea86d8440a98cc0f8fd34b40590",
       "version_major": 2,
       "version_minor": 0
      },
      "text/plain": [
       "DEP_RandomRep Epoch 7:   0%|          | 0/313 [00:00<?, ?it/s]"
      ]
     },
     "metadata": {},
     "output_type": "display_data"
    },
    {
     "name": "stdout",
     "output_type": "stream",
     "text": [
      "DEP_RandomRep - Epoch 7, Loss: 938.5358\n"
     ]
    },
    {
     "data": {
      "application/vnd.jupyter.widget-view+json": {
       "model_id": "972be58e1a34410a99f1cb852462b79f",
       "version_major": 2,
       "version_minor": 0
      },
      "text/plain": [
       "DEP_RandomRep Epoch 8:   0%|          | 0/313 [00:00<?, ?it/s]"
      ]
     },
     "metadata": {},
     "output_type": "display_data"
    },
    {
     "name": "stdout",
     "output_type": "stream",
     "text": [
      "DEP_RandomRep - Epoch 8, Loss: 931.0081\n"
     ]
    },
    {
     "data": {
      "application/vnd.jupyter.widget-view+json": {
       "model_id": "bccf1ac4ce284a2385eead54c38955e1",
       "version_major": 2,
       "version_minor": 0
      },
      "text/plain": [
       "DEP_RandomRep Epoch 9:   0%|          | 0/313 [00:00<?, ?it/s]"
      ]
     },
     "metadata": {},
     "output_type": "display_data"
    },
    {
     "name": "stdout",
     "output_type": "stream",
     "text": [
      "DEP_RandomRep - Epoch 9, Loss: 925.4913\n"
     ]
    },
    {
     "data": {
      "application/vnd.jupyter.widget-view+json": {
       "model_id": "2fcb9ec7adb14963adad15dbe233afa7",
       "version_major": 2,
       "version_minor": 0
      },
      "text/plain": [
       "DEP_RandomRep Epoch 10:   0%|          | 0/313 [00:00<?, ?it/s]"
      ]
     },
     "metadata": {},
     "output_type": "display_data"
    },
    {
     "name": "stdout",
     "output_type": "stream",
     "text": [
      "DEP_RandomRep - Epoch 10, Loss: 920.8966\n",
      "\n",
      "=== Evaluation ===\n"
     ]
    }
   ],
   "source": [
    "from sklearn.preprocessing import LabelEncoder\n",
    "\n",
    "def get_data_for_model(model_name):\n",
    "    df = embedding_data[model_name]['csv']\n",
    "    X = torch.stack(df['embedding'].tolist())\n",
    "    \n",
    "    le_pos = LabelEncoder().fit(df[\"pos\"])\n",
    "    le_dep = LabelEncoder().fit(df[\"dep\"])\n",
    "    \n",
    "    y_pos = torch.tensor(le_pos.transform(df['pos'].values))\n",
    "    y_dep = torch.tensor(le_dep.transform(df['dep'].values))\n",
    "    return df, X, le_pos, le_dep, y_pos, y_dep\n",
    "\n",
    "def run_for_model(model_name):\n",
    "    df, X, le_pos, le_dep, y_pos, y_dep = get_data_for_model(model_name)\n",
    "    results = run_all_probes_and_controls(X, y_pos, y_dep, le_pos, le_dep)\n",
    "    return results\n",
    "\n",
    "eval_results = {}\n",
    "for model_name in embedding_data.keys():\n",
    "    results = run_for_model('MiniLM')\n",
    "    eval_results[model_name] = results"
   ]
  },
  {
   "cell_type": "code",
   "execution_count": 41,
   "id": "2af71daa-0f7b-4d36-84eb-8b50149e4046",
   "metadata": {},
   "outputs": [
    {
     "data": {
      "text/plain": [
       "{'E5': {'POS': {'linear': 0.8740000128746033,\n",
       "   'nonlinear': 0.9588500261306763,\n",
       "   'random': 0.057349998503923416,\n",
       "   'shuffled': 0.14824999868869781,\n",
       "   'random_rep': 0.20194999873638153},\n",
       "  'DEP': {'linear': 0.7067999839782715,\n",
       "   'nonlinear': 0.8324999809265137,\n",
       "   'random': 0.021400000900030136,\n",
       "   'shuffled': 0.12540000677108765,\n",
       "   'random_rep': 0.1010499969124794}},\n",
       " 'MPNET': {'POS': {'linear': 0.8727499842643738,\n",
       "   'nonlinear': 0.9635999798774719,\n",
       "   'random': 0.05894999951124191,\n",
       "   'shuffled': 0.1606999933719635,\n",
       "   'random_rep': 0.19550000131130219},\n",
       "  'DEP': {'linear': 0.7092499732971191,\n",
       "   'nonlinear': 0.82955002784729,\n",
       "   'random': 0.021849999204277992,\n",
       "   'shuffled': 0.13075000047683716,\n",
       "   'random_rep': 0.12004999816417694}},\n",
       " 'MiniLM': {'POS': {'linear': 0.8736000061035156,\n",
       "   'nonlinear': 0.9613500237464905,\n",
       "   'random': 0.05739999935030937,\n",
       "   'shuffled': 0.15684999525547028,\n",
       "   'random_rep': 0.19619999825954437},\n",
       "  'DEP': {'linear': 0.7089999914169312,\n",
       "   'nonlinear': 0.8331000208854675,\n",
       "   'random': 0.022050000727176666,\n",
       "   'shuffled': 0.12555000185966492,\n",
       "   'random_rep': 0.1034500002861023}}}"
      ]
     },
     "execution_count": 41,
     "metadata": {},
     "output_type": "execute_result"
    }
   ],
   "source": [
    "eval_results"
   ]
  },
  {
   "cell_type": "code",
   "execution_count": 43,
   "id": "cd67e515-f863-4c9c-9ba0-c4087efe148b",
   "metadata": {},
   "outputs": [
    {
     "data": {
      "image/png": "[encoded data removed]",
      "text/plain": [
       "<Figure size 1000x600 with 1 Axes>"
      ]
     },
     "metadata": {},
     "output_type": "display_data"
    },
    {
     "data": {
      "image/png": "[encoded data removed]",
      "text/plain": [
       "<Figure size 1000x600 with 1 Axes>"
      ]
     },
     "metadata": {},
     "output_type": "display_data"
    }
   ],
   "source": [
    "import seaborn as sns\n",
    "import matplotlib.pyplot as plt\n",
    "import pandas as pd\n",
    "\n",
    "# Convert to DataFrame\n",
    "records = []\n",
    "for model, tagsets in eval_results.items():\n",
    "    for tag, values in tagsets.items():\n",
    "        for val_type, acc in values.items():\n",
    "            records.append({'Model': model, 'Tag': tag, 'Type': val_type, 'Accuracy': acc})\n",
    "\n",
    "df = pd.DataFrame.from_records(records)\n",
    "\n",
    "# Set seaborn style\n",
    "sns.set(style=\"whitegrid\")\n",
    "\n",
    "# Function to plot a grouped bar chart for POS or DEP\n",
    "def plot_seaborn_bar(tag_type):\n",
    "    plt.figure(figsize=(10, 6))\n",
    "    subset = df[df['Tag'] == tag_type]\n",
    "    ax = sns.barplot(data=subset, x='Model', y='Accuracy', hue='Type')\n",
    "    ax.set_title(f'{tag_type} Accuracies by Model and Type')\n",
    "    plt.xticks(rotation=45)\n",
    "    plt.tight_layout()\n",
    "    plt.show()\n",
    "\n",
    "# Plot POS and DEP\n",
    "plot_seaborn_bar('POS')\n",
    "plot_seaborn_bar('DEP')\n"
   ]
  },
  {
   "cell_type": "code",
   "execution_count": null,
   "id": "37b91fcc-6cc8-4074-8403-15985e172a46",
   "metadata": {},
   "outputs": [],
   "source": []
  }
 ],
 "metadata": {
  "kernelspec": {
   "display_name": "Python 3 (ipykernel)",
   "language": "python",
   "name": "python3"
  },
  "language_info": {
   "codemirror_mode": {
    "name": "ipython",
    "version": 3
   },
   "file_extension": ".py",
   "mimetype": "text/x-python",
   "name": "python",
   "nbconvert_exporter": "python",
   "pygments_lexer": "ipython3",
   "version": "3.13.3"
  }
 },
 "nbformat": 4,
 "nbformat_minor": 5
}
