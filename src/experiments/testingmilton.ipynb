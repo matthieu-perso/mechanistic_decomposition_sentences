{
 "cells": [
  {
   "cell_type": "markdown",
   "id": "59341f21",
   "metadata": {},
   "source": [
    "### Libraries"
   ]
  },
  {
   "cell_type": "code",
   "execution_count": 1,
   "id": "b3c3cef3-5f11-4772-b00a-935e7f01e129",
   "metadata": {},
   "outputs": [],
   "source": [
    "import json\n",
    "import torch\n",
    "\n",
    "import numpy as np\n",
    "import pandas as pd\n",
    "import matplotlib.pyplot as plt\n",
    "\n",
    "from sklearn.preprocessing import OneHotEncoder\n",
    "from sklearn.manifold import TSNE\n",
    "from sklearn.metrics import accuracy_score\n",
    "from sklearn.model_selection import train_test_split, cross_val_score\n",
    "from sklearn.neural_network import MLPClassifier\n",
    "from sklearn.linear_model import LogisticRegression\n",
    "\n"
   ]
  },
  {
   "cell_type": "markdown",
   "id": "0c0adae0",
   "metadata": {},
   "source": [
    "### Models"
   ]
  },
  {
   "cell_type": "code",
   "execution_count": 2,
   "id": "3d3c2066",
   "metadata": {},
   "outputs": [],
   "source": [
    "\n",
    "MODELS = [\n",
    "    \"Alibaba-NLP/gte-large-en-v1.5\",\n",
    "    \"intfloat/multilingual-e5-large\",\n",
    "    \"sentence-transformers/all-mpnet-base-v2\",\n",
    "    \"sentence-transformers/all-MiniLM-L6-v2\"\n",
    "]\n",
    "\n",
    "DATA_PATH = '../data/sentence-embeddings'\n",
    "RELATIONS_JSON_PATH = '../data/relations.json'"
   ]
  },
  {
   "cell_type": "code",
   "execution_count": 8,
   "id": "4c6db848-6e01-4555-b0c0-4141aab51dc7",
   "metadata": {},
   "outputs": [],
   "source": []
  },
  {
   "cell_type": "markdown",
   "id": "f8e178bd",
   "metadata": {},
   "source": [
    "### Obtaining Relation Lookup"
   ]
  },
  {
   "cell_type": "code",
   "execution_count": 3,
   "id": "2ce1c6d0",
   "metadata": {},
   "outputs": [],
   "source": [
    "with open(RELATIONS_JSON_PATH, 'r') as f:\n",
    "    relations = json.load(f)['spatial_relations']"
   ]
  },
  {
   "cell_type": "code",
   "execution_count": 4,
   "id": "13dd5040-8f7d-4046-a718-ffcd6eaf621b",
   "metadata": {},
   "outputs": [],
   "source": [
    "def get_relations_lookup(relations):\n",
    "    relations_lookup = {}\n",
    "    for category, category_pairs in relations.items():\n",
    "        for first, second in category_pairs:\n",
    "            relations_lookup[first] = {'category': category, 'opposite': second, 'position': 0}\n",
    "            relations_lookup[second] = {'category': category, 'opposite': first, 'position': 1}\n",
    "    return relations_lookup\n",
    "\n",
    "relations_lookup = get_relations_lookup(relations)"
   ]
  },
  {
   "cell_type": "markdown",
   "id": "096b4c9c",
   "metadata": {},
   "source": [
    "### Load embeddings for model"
   ]
  },
  {
   "cell_type": "code",
   "execution_count": 5,
   "id": "1931dbfc-63ae-45fc-b782-0533ef235dd0",
   "metadata": {},
   "outputs": [],
   "source": [
    "def load_embeddings_for_model(model_name, relations_lookup):\n",
    "    embeddings = []\n",
    "    labels = []\n",
    "    raw_data = torch.load(f'{DATA_PATH}/{model_name.replace(\"/\", \"_\")}.pt', weights_only=False)\n",
    "    for data_point in raw_data:\n",
    "        embeddings.append(data_point['embedding'])\n",
    "        labels.append(data_point['relation'])\n",
    "    return np.array(embeddings), np.array(labels).reshape(-1, 1)"
   ]
  },
  {
   "cell_type": "markdown",
   "id": "fa97e405",
   "metadata": {},
   "source": [
    "### A naive test\n",
    "Here we train probes for each model, using a simple MLP classifier. "
   ]
  },
  {
   "cell_type": "code",
   "execution_count": 6,
   "id": "fd5ca67f-05f5-4ed5-a72e-30397f85e958",
   "metadata": {},
   "outputs": [
    {
     "name": "stdout",
     "output_type": "stream",
     "text": [
      "Training probe for Alibaba-NLP/gte-large-en-v1.5...\n"
     ]
    },
    {
     "ename": "UnpicklingError",
     "evalue": "invalid load key, 'v'.",
     "output_type": "error",
     "traceback": [
      "\u001b[0;31m---------------------------------------------------------------------------\u001b[0m",
      "\u001b[0;31mUnpicklingError\u001b[0m                           Traceback (most recent call last)",
      "Cell \u001b[0;32mIn[6], line 7\u001b[0m\n\u001b[1;32m      5\u001b[0m \u001b[38;5;28;01mfor\u001b[39;00m model_name \u001b[38;5;129;01min\u001b[39;00m MODELS:\n\u001b[1;32m      6\u001b[0m     \u001b[38;5;28mprint\u001b[39m(\u001b[38;5;124mf\u001b[39m\u001b[38;5;124m\"\u001b[39m\u001b[38;5;124mTraining probe for \u001b[39m\u001b[38;5;132;01m{\u001b[39;00mmodel_name\u001b[38;5;132;01m}\u001b[39;00m\u001b[38;5;124m...\u001b[39m\u001b[38;5;124m\"\u001b[39m)\n\u001b[0;32m----> 7\u001b[0m     X, y \u001b[38;5;241m=\u001b[39m \u001b[43mload_embeddings_for_model\u001b[49m\u001b[43m(\u001b[49m\u001b[43mmodel_name\u001b[49m\u001b[43m,\u001b[49m\u001b[43m \u001b[49m\u001b[43mrelations_lookup\u001b[49m\u001b[43m)\u001b[49m\n\u001b[1;32m      8\u001b[0m     y_encoded \u001b[38;5;241m=\u001b[39m one_hot_encoder\u001b[38;5;241m.\u001b[39mfit_transform(y)\u001b[38;5;241m.\u001b[39mtodense()\n\u001b[1;32m      9\u001b[0m     X_train, X_test, y_train, y_test \u001b[38;5;241m=\u001b[39m train_test_split(X, y_encoded, test_size\u001b[38;5;241m=\u001b[39m\u001b[38;5;241m0.2\u001b[39m) \n",
      "Cell \u001b[0;32mIn[5], line 4\u001b[0m, in \u001b[0;36mload_embeddings_for_model\u001b[0;34m(model_name, relations_lookup)\u001b[0m\n\u001b[1;32m      2\u001b[0m embeddings \u001b[38;5;241m=\u001b[39m []\n\u001b[1;32m      3\u001b[0m labels \u001b[38;5;241m=\u001b[39m []\n\u001b[0;32m----> 4\u001b[0m raw_data \u001b[38;5;241m=\u001b[39m \u001b[43mtorch\u001b[49m\u001b[38;5;241;43m.\u001b[39;49m\u001b[43mload\u001b[49m\u001b[43m(\u001b[49m\u001b[38;5;124;43mf\u001b[39;49m\u001b[38;5;124;43m'\u001b[39;49m\u001b[38;5;132;43;01m{\u001b[39;49;00m\u001b[43mDATA_PATH\u001b[49m\u001b[38;5;132;43;01m}\u001b[39;49;00m\u001b[38;5;124;43m/\u001b[39;49m\u001b[38;5;132;43;01m{\u001b[39;49;00m\u001b[43mmodel_name\u001b[49m\u001b[38;5;241;43m.\u001b[39;49m\u001b[43mreplace\u001b[49m\u001b[43m(\u001b[49m\u001b[38;5;124;43m\"\u001b[39;49m\u001b[38;5;124;43m/\u001b[39;49m\u001b[38;5;124;43m\"\u001b[39;49m\u001b[43m,\u001b[49m\u001b[38;5;250;43m \u001b[39;49m\u001b[38;5;124;43m\"\u001b[39;49m\u001b[38;5;124;43m_\u001b[39;49m\u001b[38;5;124;43m\"\u001b[39;49m\u001b[43m)\u001b[49m\u001b[38;5;132;43;01m}\u001b[39;49;00m\u001b[38;5;124;43m.pt\u001b[39;49m\u001b[38;5;124;43m'\u001b[39;49m\u001b[43m,\u001b[49m\u001b[43m \u001b[49m\u001b[43mweights_only\u001b[49m\u001b[38;5;241;43m=\u001b[39;49m\u001b[38;5;28;43;01mFalse\u001b[39;49;00m\u001b[43m)\u001b[49m\n\u001b[1;32m      5\u001b[0m \u001b[38;5;28;01mfor\u001b[39;00m data_point \u001b[38;5;129;01min\u001b[39;00m raw_data:\n\u001b[1;32m      6\u001b[0m     embeddings\u001b[38;5;241m.\u001b[39mappend(data_point[\u001b[38;5;124m'\u001b[39m\u001b[38;5;124membedding\u001b[39m\u001b[38;5;124m'\u001b[39m])\n",
      "File \u001b[0;32m~/.pyenv/versions/3.10.0/lib/python3.10/site-packages/torch/serialization.py:1114\u001b[0m, in \u001b[0;36mload\u001b[0;34m(f, map_location, pickle_module, weights_only, mmap, **pickle_load_args)\u001b[0m\n\u001b[1;32m   1112\u001b[0m     \u001b[38;5;28;01mexcept\u001b[39;00m \u001b[38;5;167;01mRuntimeError\u001b[39;00m \u001b[38;5;28;01mas\u001b[39;00m e:\n\u001b[1;32m   1113\u001b[0m         \u001b[38;5;28;01mraise\u001b[39;00m pickle\u001b[38;5;241m.\u001b[39mUnpicklingError(_get_wo_message(\u001b[38;5;28mstr\u001b[39m(e))) \u001b[38;5;28;01mfrom\u001b[39;00m \u001b[38;5;28;01mNone\u001b[39;00m\n\u001b[0;32m-> 1114\u001b[0m \u001b[38;5;28;01mreturn\u001b[39;00m \u001b[43m_legacy_load\u001b[49m\u001b[43m(\u001b[49m\n\u001b[1;32m   1115\u001b[0m \u001b[43m    \u001b[49m\u001b[43mopened_file\u001b[49m\u001b[43m,\u001b[49m\u001b[43m \u001b[49m\u001b[43mmap_location\u001b[49m\u001b[43m,\u001b[49m\u001b[43m \u001b[49m\u001b[43mpickle_module\u001b[49m\u001b[43m,\u001b[49m\u001b[43m \u001b[49m\u001b[38;5;241;43m*\u001b[39;49m\u001b[38;5;241;43m*\u001b[39;49m\u001b[43mpickle_load_args\u001b[49m\n\u001b[1;32m   1116\u001b[0m \u001b[43m\u001b[49m\u001b[43m)\u001b[49m\n",
      "File \u001b[0;32m~/.pyenv/versions/3.10.0/lib/python3.10/site-packages/torch/serialization.py:1338\u001b[0m, in \u001b[0;36m_legacy_load\u001b[0;34m(f, map_location, pickle_module, **pickle_load_args)\u001b[0m\n\u001b[1;32m   1332\u001b[0m \u001b[38;5;28;01mif\u001b[39;00m \u001b[38;5;129;01mnot\u001b[39;00m \u001b[38;5;28mhasattr\u001b[39m(f, \u001b[38;5;124m'\u001b[39m\u001b[38;5;124mreadinto\u001b[39m\u001b[38;5;124m'\u001b[39m) \u001b[38;5;129;01mand\u001b[39;00m (\u001b[38;5;241m3\u001b[39m, \u001b[38;5;241m8\u001b[39m, \u001b[38;5;241m0\u001b[39m) \u001b[38;5;241m<\u001b[39m\u001b[38;5;241m=\u001b[39m sys\u001b[38;5;241m.\u001b[39mversion_info \u001b[38;5;241m<\u001b[39m (\u001b[38;5;241m3\u001b[39m, \u001b[38;5;241m8\u001b[39m, \u001b[38;5;241m2\u001b[39m):\n\u001b[1;32m   1333\u001b[0m     \u001b[38;5;28;01mraise\u001b[39;00m \u001b[38;5;167;01mRuntimeError\u001b[39;00m(\n\u001b[1;32m   1334\u001b[0m         \u001b[38;5;124m\"\u001b[39m\u001b[38;5;124mtorch.load does not work with file-like objects that do not implement readinto on Python 3.8.0 and 3.8.1. \u001b[39m\u001b[38;5;124m\"\u001b[39m\n\u001b[1;32m   1335\u001b[0m         \u001b[38;5;124mf\u001b[39m\u001b[38;5;124m'\u001b[39m\u001b[38;5;124mReceived object of type \u001b[39m\u001b[38;5;124m\"\u001b[39m\u001b[38;5;132;01m{\u001b[39;00m\u001b[38;5;28mtype\u001b[39m(f)\u001b[38;5;132;01m}\u001b[39;00m\u001b[38;5;124m\"\u001b[39m\u001b[38;5;124m. Please update to Python 3.8.2 or newer to restore this \u001b[39m\u001b[38;5;124m'\u001b[39m\n\u001b[1;32m   1336\u001b[0m         \u001b[38;5;124m\"\u001b[39m\u001b[38;5;124mfunctionality.\u001b[39m\u001b[38;5;124m\"\u001b[39m)\n\u001b[0;32m-> 1338\u001b[0m magic_number \u001b[38;5;241m=\u001b[39m \u001b[43mpickle_module\u001b[49m\u001b[38;5;241;43m.\u001b[39;49m\u001b[43mload\u001b[49m\u001b[43m(\u001b[49m\u001b[43mf\u001b[49m\u001b[43m,\u001b[49m\u001b[43m \u001b[49m\u001b[38;5;241;43m*\u001b[39;49m\u001b[38;5;241;43m*\u001b[39;49m\u001b[43mpickle_load_args\u001b[49m\u001b[43m)\u001b[49m\n\u001b[1;32m   1339\u001b[0m \u001b[38;5;28;01mif\u001b[39;00m magic_number \u001b[38;5;241m!=\u001b[39m MAGIC_NUMBER:\n\u001b[1;32m   1340\u001b[0m     \u001b[38;5;28;01mraise\u001b[39;00m \u001b[38;5;167;01mRuntimeError\u001b[39;00m(\u001b[38;5;124m\"\u001b[39m\u001b[38;5;124mInvalid magic number; corrupt file?\u001b[39m\u001b[38;5;124m\"\u001b[39m)\n",
      "\u001b[0;31mUnpicklingError\u001b[0m: invalid load key, 'v'."
     ]
    }
   ],
   "source": [
    "results = {}\n",
    "models = {}\n",
    "one_hot_encoder = OneHotEncoder()\n",
    "\n",
    "for model_name in MODELS:\n",
    "    print(f\"Training probe for {model_name}...\")\n",
    "    X, y = load_embeddings_for_model(model_name, relations_lookup)\n",
    "    y_encoded = one_hot_encoder.fit_transform(y).todense()\n",
    "    X_train, X_test, y_train, y_test = train_test_split(X, y_encoded, test_size=0.2) \n",
    "\n",
    "    y_train = np.asarray(y_train)\n",
    "    y_test = np.asarray(y_test)\n",
    "    \n",
    "    # Train probe\n",
    "    clf = MLPClassifier(activation='identity')\n",
    "    clf.fit(X_train, y_train)\n",
    "    models[model_name] = clf\n",
    "\n",
    "    y_pred = clf.predict(X_test)    \n",
    "    accuracy = accuracy_score(y_test, y_pred)\n",
    "    results[model_name] = accuracy\n",
    "    print(f\"Accuracy for {model_name}: {accuracy:.2f}\")"
   ]
  },
  {
   "cell_type": "markdown",
   "id": "703f9093",
   "metadata": {},
   "source": [
    "### Code for training probe"
   ]
  },
  {
   "cell_type": "markdown",
   "id": "29417bdc",
   "metadata": {},
   "source": [
    "#### Train logistic regression "
   ]
  },
  {
   "cell_type": "code",
   "execution_count": 13,
   "id": "3ec76081",
   "metadata": {},
   "outputs": [],
   "source": [
    "def train_logistic_probe(X, y):\n",
    "    # LogisticRegression expects 1D labels for multi-class classification.\n",
    "    # We'll flatten y (assuming it's a column vector of labels).\n",
    "    y_flat = y.flatten()\n",
    "    X_train, X_test, y_train, y_test = train_test_split(X, y_flat, test_size=0.2, random_state=42)\n",
    "    \n",
    "    clf = LogisticRegression(max_iter=1000, random_state=42)\n",
    "    clf.fit(X_train, y_train)\n",
    "    train_acc = clf.score(X_train, y_train)\n",
    "    test_acc = clf.score(X_test, y_test)\n",
    "    return train_acc, test_acc"
   ]
  },
  {
   "cell_type": "code",
   "execution_count": 14,
   "id": "87f0b2cf",
   "metadata": {},
   "outputs": [],
   "source": [
    "def train_probe(X, y, shuffle_labels=False):\n",
    "    # Optionally shuffle labels to break any true correspondence\n",
    "    if shuffle_labels:\n",
    "        y = np.copy(y)\n",
    "        y = np.random.permutation(y)\n",
    "    \n",
    "    one_hot_encoder = OneHotEncoder()\n",
    "    # Convert to a NumPy array rather than a np.matrix\n",
    "    y_encoded = one_hot_encoder.fit_transform(y).toarray()\n",
    "    X_train, X_test, y_train, y_test = train_test_split(X, y_encoded, test_size=0.2, random_state=42)\n",
    "    \n",
    "    # Train a linear classifier (MLP with identity activation acts linearly)\n",
    "    clf = MLPClassifier(activation='identity', max_iter=500, random_state=42) # the number of layers in mlp is by default 100\n",
    "    clf.fit(X_train, y_train)\n",
    "    y_pred = clf.predict(X_test)\n",
    "    accuracy = accuracy_score(y_test, y_pred)\n",
    "    return accuracy"
   ]
  },
  {
   "cell_type": "code",
   "execution_count": 15,
   "id": "5f68ea23",
   "metadata": {},
   "outputs": [],
   "source": [
    "# Function for MLP probe with identity activation\n",
    "def train_mlp_probe(X, y, hidden_layer_sizes=(100,)):\n",
    "    one_hot_encoder = OneHotEncoder()\n",
    "    y_encoded = one_hot_encoder.fit_transform(y).toarray()\n",
    "    X_train, X_test, y_train, y_test = train_test_split(X, y_encoded, test_size=0.2, random_state=42)\n",
    "    clf = MLPClassifier(hidden_layer_sizes=hidden_layer_sizes, activation='identity', \n",
    "                          max_iter=500, random_state=42)\n",
    "    clf.fit(X_train, y_train)\n",
    "    y_pred = clf.predict(X_test)\n",
    "    accuracy = accuracy_score(y_test, y_pred)\n",
    "    return accuracy\n"
   ]
  },
  {
   "cell_type": "markdown",
   "id": "43878422",
   "metadata": {},
   "source": [
    "### Random labels"
   ]
  },
  {
   "cell_type": "markdown",
   "id": "8ad9d5fb",
   "metadata": {},
   "source": [
    "We shuffle the training labels (spatial relation categories) among the examples, breaking the true mapping between sentences and relations. We then train a probe on the sentence embeddings with these random labels. Since the labels are random, any structure the probe finds would be spurious (the embedding has no systematic correlation with a random label assignment). "
   ]
  },
  {
   "cell_type": "code",
   "execution_count": 21,
   "id": "a551636f-2844-451d-9d4c-c547fb132aac",
   "metadata": {},
   "outputs": [
    {
     "name": "stdout",
     "output_type": "stream",
     "text": [
      "Accuracy with true labels for Alibaba-NLP/gte-large-en-v1.5: 0.99\n",
      "Accuracy with shuffled labels (random baseline) for Alibaba-NLP/gte-large-en-v1.5: 0.00\n"
     ]
    }
   ],
   "source": [
    "\n",
    "\n",
    "# Evaluate probes on real labels and on shuffled labels for one model (e.g., Alibaba-NLP/gte-large-en-v1.5)\n",
    "model_name = \"Alibaba-NLP/gte-large-en-v1.5\"\n",
    "X, y = load_embeddings_for_model(model_name, relations_lookup)\n",
    "\n",
    "# Accuracy with true labels\n",
    "accuracy_true = train_probe(X, y, shuffle_labels=False)\n",
    "print(f\"Accuracy with true labels for {model_name}: {accuracy_true:.2f}\")\n",
    "\n",
    "# Accuracy with shuffled labels (random baseline)\n",
    "accuracy_shuffled = train_probe(X, y, shuffle_labels=True)\n",
    "print(f\"Accuracy with shuffled labels (random baseline) for {model_name}: {accuracy_shuffled:.2f}\")"
   ]
  },
  {
   "cell_type": "markdown",
   "id": "9937226c",
   "metadata": {},
   "source": [
    "### Random embedding: \n",
    "Here we keep the true labels unaltered but replace each sentence’s embedding with a random vector. This tests whether the original task can be solved without the actual embedding information – essentially measuring the task’s baseline difficulty and checking for any dataset biases. "
   ]
  },
  {
   "cell_type": "code",
   "execution_count": 22,
   "id": "65331ca9",
   "metadata": {},
   "outputs": [
    {
     "name": "stdout",
     "output_type": "stream",
     "text": [
      "Original embeddings shape: (142100, 1024)\n",
      "Random embeddings shape: (142100, 1024)\n",
      "Accuracy with random embeddings for Alibaba-NLP/gte-large-en-v1.5: 0.00\n",
      "Accuracy with embeddings for Alibaba-NLP/gte-large-en-v1.5: 0.99\n"
     ]
    }
   ],
   "source": [
    "\n",
    "# Choose one model for demonstration (e.g., Alibaba-NLP/gte-large-en-v1.5)\n",
    "model_name = \"Alibaba-NLP/gte-large-en-v1.5\"\n",
    "\n",
    "# Load real embeddings and labels\n",
    "X, y = load_embeddings_for_model(model_name, relations_lookup)\n",
    "print(\"Original embeddings shape:\", X.shape)\n",
    "\n",
    "# Generate random embeddings with the same shape as X\n",
    "np.random.seed(42)  # for reproducibility\n",
    "X_random = np.random.normal(loc=0.0, scale=1.0, size=X.shape)\n",
    "print(\"Random embeddings shape:\", X_random.shape)\n",
    "\n",
    "# Evaluate the probe on random embeddings (with true labels)\n",
    "accuracy_random = train_probe(X_random, y, shuffle_labels=False)\n",
    "print(f\"Accuracy with random embeddings for {model_name}: {accuracy_random:.2f}\")\n",
    "\n",
    "accuracy_not_random = train_probe(X,y, shuffle_labels=False)\n",
    "print(f\"Accuracy with embeddings for {model_name}: {accuracy_not_random:.2f}\")"
   ]
  },
  {
   "cell_type": "markdown",
   "id": "523395af",
   "metadata": {},
   "source": [
    "#### Varying MLP size"
   ]
  },
  {
   "cell_type": "markdown",
   "id": "f4395e06",
   "metadata": {},
   "source": [
    "Is our probe too expressive? "
   ]
  },
  {
   "cell_type": "code",
   "execution_count": 16,
   "id": "28085d71",
   "metadata": {},
   "outputs": [
    {
     "name": "stdout",
     "output_type": "stream",
     "text": [
      "Embeddings shape: (142100, 1024)\n",
      "Hidden layer size 1: Test Accuracy = 0.002\n"
     ]
    },
    {
     "name": "stderr",
     "output_type": "stream",
     "text": [
      "/Users/miltonlin/Documents/GitHub/spatial_geometry/venv/lib/python3.10/site-packages/sklearn/neural_network/_multilayer_perceptron.py:691: ConvergenceWarning: Stochastic Optimizer: Maximum iterations (500) reached and the optimization hasn't converged yet.\n",
      "  warnings.warn(\n"
     ]
    },
    {
     "name": "stdout",
     "output_type": "stream",
     "text": [
      "Hidden layer size 6: Test Accuracy = 0.833\n",
      "Hidden layer size 11: Test Accuracy = 0.978\n",
      "Hidden layer size 16: Test Accuracy = 0.991\n",
      "Hidden layer size 21: Test Accuracy = 0.984\n",
      "Hidden layer size 26: Test Accuracy = 0.993\n",
      "Hidden layer size 31: Test Accuracy = 0.995\n",
      "Hidden layer size 36: Test Accuracy = 0.996\n",
      "Hidden layer size 41: Test Accuracy = 0.993\n",
      "Hidden layer size 46: Test Accuracy = 0.995\n",
      "Hidden layer size 51: Test Accuracy = 0.995\n",
      "Hidden layer size 56: Test Accuracy = 0.995\n",
      "Hidden layer size 61: Test Accuracy = 0.993\n",
      "Hidden layer size 66: Test Accuracy = 0.996\n",
      "Hidden layer size 71: Test Accuracy = 0.994\n",
      "Hidden layer size 76: Test Accuracy = 0.994\n",
      "Hidden layer size 81: Test Accuracy = 0.995\n",
      "Hidden layer size 86: Test Accuracy = 0.994\n",
      "Hidden layer size 91: Test Accuracy = 0.993\n",
      "Hidden layer size 96: Test Accuracy = 0.993\n",
      "\n",
      "Summary of Probe Accuracies:\n",
      "    Hidden_Size  Test_Accuracy\n",
      "0             1       0.001970\n",
      "1             6       0.832829\n",
      "2            11       0.978395\n",
      "3            16       0.991344\n",
      "4            21       0.984025\n",
      "5            26       0.992892\n",
      "6            31       0.995004\n",
      "7            36       0.995531\n",
      "8            41       0.992716\n",
      "9            46       0.994898\n",
      "10           51       0.995004\n",
      "11           56       0.994898\n",
      "12           61       0.993103\n",
      "13           66       0.995637\n",
      "14           71       0.994089\n",
      "15           76       0.993913\n",
      "16           81       0.995144\n",
      "17           86       0.993878\n",
      "18           91       0.993490\n",
      "19           96       0.993490\n"
     ]
    },
    {
     "data": {
      "image/png": "[encoded data removed]",
      "text/plain": [
       "<Figure size 800x600 with 1 Axes>"
      ]
     },
     "metadata": {},
     "output_type": "display_data"
    }
   ],
   "source": [
    "\n",
    "# Load embeddings and labels for our selected model\n",
    "model_name = MODELS[0]\n",
    "X, y = load_embeddings_for_model(model_name, relations_lookup)\n",
    "print(\"Embeddings shape:\", X.shape)\n",
    "\n",
    "# Experiment: Vary number of neurons in a single hidden layer from 1 to 100 in steps of 5.\n",
    "hidden_sizes = list(range(1, 101, 5))\n",
    "results = []\n",
    "\n",
    "for size in hidden_sizes:\n",
    "    # Here hidden_layer_sizes=(size,) means one layer with 'size' neurons.\n",
    "    acc = train_mlp_probe(X, y, hidden_layer_sizes=(size,))\n",
    "    results.append({\"Hidden_Size\": size, \"Test_Accuracy\": acc})\n",
    "    print(f\"Hidden layer size {size}: Test Accuracy = {acc:.3f}\")\n",
    "\n",
    "# Convert results to a DataFrame and plot\n",
    "results_df = pd.DataFrame(results)\n",
    "print(\"\\nSummary of Probe Accuracies:\")\n",
    "print(results_df)\n",
    "\n",
    "plt.figure(figsize=(8, 6))\n",
    "plt.plot(results_df[\"Hidden_Size\"], results_df[\"Test_Accuracy\"], marker='o', linestyle='-')\n",
    "plt.title(\"Test Accuracy vs. Number of Neurons (Single Linear Layer)\")\n",
    "plt.xlabel(\"Number of Neurons\")\n",
    "plt.ylabel(\"Test Accuracy\")\n",
    "plt.grid(True)\n",
    "plt.show()"
   ]
  },
  {
   "cell_type": "markdown",
   "id": "e0d0f2cd",
   "metadata": {},
   "source": [
    "Now we do it for model of smaller sizes"
   ]
  },
  {
   "cell_type": "code",
   "execution_count": 17,
   "id": "83c27a66",
   "metadata": {},
   "outputs": [
    {
     "name": "stdout",
     "output_type": "stream",
     "text": [
      "Embeddings shape: (142100, 1024)\n",
      "Hidden layer size 1: Test Accuracy = 0.002\n"
     ]
    },
    {
     "name": "stderr",
     "output_type": "stream",
     "text": [
      "/Users/miltonlin/Documents/GitHub/spatial_geometry/venv/lib/python3.10/site-packages/sklearn/neural_network/_multilayer_perceptron.py:691: ConvergenceWarning: Stochastic Optimizer: Maximum iterations (500) reached and the optimization hasn't converged yet.\n",
      "  warnings.warn(\n"
     ]
    },
    {
     "name": "stdout",
     "output_type": "stream",
     "text": [
      "Hidden layer size 2: Test Accuracy = 0.053\n",
      "Hidden layer size 3: Test Accuracy = 0.202\n"
     ]
    },
    {
     "name": "stderr",
     "output_type": "stream",
     "text": [
      "/Users/miltonlin/Documents/GitHub/spatial_geometry/venv/lib/python3.10/site-packages/sklearn/neural_network/_multilayer_perceptron.py:691: ConvergenceWarning: Stochastic Optimizer: Maximum iterations (500) reached and the optimization hasn't converged yet.\n",
      "  warnings.warn(\n"
     ]
    },
    {
     "name": "stdout",
     "output_type": "stream",
     "text": [
      "Hidden layer size 4: Test Accuracy = 0.450\n",
      "Hidden layer size 5: Test Accuracy = 0.708\n"
     ]
    },
    {
     "name": "stderr",
     "output_type": "stream",
     "text": [
      "/Users/miltonlin/Documents/GitHub/spatial_geometry/venv/lib/python3.10/site-packages/sklearn/neural_network/_multilayer_perceptron.py:691: ConvergenceWarning: Stochastic Optimizer: Maximum iterations (500) reached and the optimization hasn't converged yet.\n",
      "  warnings.warn(\n"
     ]
    },
    {
     "name": "stdout",
     "output_type": "stream",
     "text": [
      "Hidden layer size 6: Test Accuracy = 0.833\n",
      "Hidden layer size 7: Test Accuracy = 0.908\n",
      "Hidden layer size 8: Test Accuracy = 0.952\n",
      "Hidden layer size 9: Test Accuracy = 0.965\n",
      "Hidden layer size 10: Test Accuracy = 0.975\n",
      "Hidden layer size 11: Test Accuracy = 0.978\n",
      "Hidden layer size 12: Test Accuracy = 0.981\n",
      "Hidden layer size 13: Test Accuracy = 0.985\n",
      "Hidden layer size 14: Test Accuracy = 0.987\n",
      "Hidden layer size 15: Test Accuracy = 0.991\n",
      "Hidden layer size 16: Test Accuracy = 0.991\n",
      "Hidden layer size 17: Test Accuracy = 0.988\n",
      "Hidden layer size 18: Test Accuracy = 0.993\n",
      "Hidden layer size 19: Test Accuracy = 0.993\n",
      "\n",
      "Summary of Probe Accuracies:\n",
      "    Hidden_Size  Test_Accuracy\n",
      "0             1       0.001970\n",
      "1             2       0.052604\n",
      "2             3       0.202393\n",
      "3             4       0.449789\n",
      "4             5       0.708128\n",
      "5             6       0.832829\n",
      "6             7       0.908128\n",
      "7             8       0.951795\n",
      "8             9       0.965165\n",
      "9            10       0.975405\n",
      "10           11       0.978395\n",
      "11           12       0.981422\n",
      "12           13       0.985081\n",
      "13           14       0.986559\n",
      "14           15       0.990922\n",
      "15           16       0.991344\n",
      "16           17       0.988494\n",
      "17           18       0.992822\n",
      "18           19       0.992752\n"
     ]
    },
    {
     "data": {
      "image/png": "[encoded data removed]",
      "text/plain": [
       "<Figure size 800x600 with 1 Axes>"
      ]
     },
     "metadata": {},
     "output_type": "display_data"
    }
   ],
   "source": [
    "\n",
    "# Load embeddings and labels for our selected model\n",
    "model_name = MODELS[0]\n",
    "X, y = load_embeddings_for_model(model_name, relations_lookup)\n",
    "print(\"Embeddings shape:\", X.shape)\n",
    "\n",
    "# Experiment: Vary number of neurons in a single hidden layer from 1 to 100 in steps of 5.\n",
    "hidden_sizes = list(range(5, 20, 1))\n",
    "results = []\n",
    "\n",
    "for size in hidden_sizes:\n",
    "    # Here hidden_layer_sizes=(size,) means one layer with 'size' neurons.\n",
    "    acc = train_mlp_probe(X, y, hidden_layer_sizes=(size,))\n",
    "    results.append({\"Hidden_Size\": size, \"Test_Accuracy\": acc})\n",
    "    print(f\"Hidden layer size {size}: Test Accuracy = {acc:.3f}\")\n",
    "\n",
    "# Convert results to a DataFrame and plot\n",
    "results_df = pd.DataFrame(results)\n",
    "print(\"\\nSummary of Probe Accuracies:\")\n",
    "print(results_df)\n",
    "\n",
    "plt.figure(figsize=(8, 6))\n",
    "plt.plot(results_df[\"Hidden_Size\"], results_df[\"Test_Accuracy\"], marker='o', linestyle='-')\n",
    "plt.title(\"Test Accuracy vs. Number of Neurons (Single Linear Layer)\")\n",
    "plt.xlabel(\"Number of Neurons\")\n",
    "plt.ylabel(\"Test Accuracy\")\n",
    "plt.grid(True)\n",
    "plt.show()"
   ]
  },
  {
   "cell_type": "markdown",
   "id": "cdcf73ff",
   "metadata": {},
   "source": [
    "### Number of labels"
   ]
  },
  {
   "cell_type": "code",
   "execution_count": 23,
   "id": "d527f9bd",
   "metadata": {},
   "outputs": [
    {
     "name": "stderr",
     "output_type": "stream",
     "text": [
      "/Users/miltonlin/Documents/GitHub/spatial_geometry/venv/lib/python3.10/site-packages/tqdm/auto.py:21: TqdmWarning: IProgress not found. Please update jupyter and ipywidgets. See https://ipywidgets.readthedocs.io/en/stable/user_install.html\n",
      "  from .autonotebook import tqdm as notebook_tqdm\n"
     ]
    },
    {
     "name": "stdout",
     "output_type": "stream",
     "text": [
      "Number of unique relation labels: 58\n",
      "Label frequencies:\n",
      "  above: 2450\n",
      "  over: 2450\n",
      "  on top of: 2450\n",
      "  higher than: 2450\n",
      "  elevated above: 2450\n",
      "  to the left of: 2450\n",
      "  in front of: 2450\n",
      "  ahead of: 2450\n",
      "  before: 2450\n",
      "  inside: 2450\n",
      "  within: 2450\n",
      "  enclosed in: 2450\n",
      "  close to: 2450\n",
      "  near: 2450\n",
      "  next to: 2450\n",
      "  adjacent to: 2450\n",
      "  beside: 2450\n",
      "  on: 2450\n",
      "  attached to: 2450\n",
      "  stuck to: 2450\n",
      "  connected to: 2450\n",
      "  facing: 2450\n",
      "  pointing toward: 2450\n",
      "  oriented toward: 2450\n",
      "  diagonally above-left: 2450\n",
      "  diagonally above-right: 2450\n",
      "  perpendicular to: 2450\n",
      "  equidistant from: 2450\n",
      "  at 45 degrees to: 2450\n",
      "  below: 2450\n",
      "  under: 2450\n",
      "  beneath: 2450\n",
      "  lower than: 2450\n",
      "  dropped below: 2450\n",
      "  to the right of: 2450\n",
      "  behind: 2450\n",
      "  at the back of: 2450\n",
      "  after: 2450\n",
      "  outside: 2450\n",
      "  beyond: 2450\n",
      "  excluded from: 2450\n",
      "  far from: 2450\n",
      "  distant from: 2450\n",
      "  away from: 2450\n",
      "  opposite from: 2450\n",
      "  apart from: 2450\n",
      "  off: 2450\n",
      "  detached from: 2450\n",
      "  separated from: 2450\n",
      "  disconnected from: 2450\n",
      "  back to: 2450\n",
      "  pointing away from: 2450\n",
      "  oriented away from: 2450\n",
      "  diagonally below-right: 2450\n",
      "  diagonally below-left: 2450\n",
      "  parallel to: 2450\n",
      "  closer to: 2450\n",
      "  at 225 degrees to: 2450\n"
     ]
    }
   ],
   "source": [
    "from datasets import load_dataset\n",
    "from collections import Counter\n",
    "\n",
    "# Load the dataset (train split)\n",
    "dataset = load_dataset(\"viknat/spatial-geometry\", split=\"train\")\n",
    "\n",
    "# Extract all relation labels\n",
    "labels = [entry[\"relation\"] for entry in dataset]\n",
    "\n",
    "# Count unique labels and their frequency\n",
    "label_counts = Counter(labels)\n",
    "\n",
    "print(f\"Number of unique relation labels: {len(label_counts)}\")\n",
    "print(\"Label frequencies:\")\n",
    "for label, count in label_counts.items():\n",
    "    print(f\"  {label}: {count}\")\n"
   ]
  },
  {
   "cell_type": "markdown",
   "id": "b2c836f6",
   "metadata": {},
   "source": [
    "### Control tasks\n",
    "Control tasks are designed so that the output (label) is determined solely by a surface-level property (e.g., the subject of the sentence) and is random with respect to the true spatial relation. We generate control label: For each example, use the subject as the key and assign a random relation label (from the full set of relation labels). This yields control labels that do not depend on the actual spatial relation but only on the subject identity.\n",
    "\n",
    "Using the same procedure as your original probe training (splitting data, one-hot encoding, training an MLP with identity activation), train a classifier to predict the control labels from the embeddings.\n"
   ]
  },
  {
   "cell_type": "code",
   "execution_count": 19,
   "id": "e56f618c",
   "metadata": {},
   "outputs": [
    {
     "name": "stdout",
     "output_type": "stream",
     "text": [
      "Embeddings shape: (142100, 1024)\n",
      "Accuracy on true labels: 0.99\n",
      "Accuracy on control (random subject-based) labels: 0.98\n",
      "Selectivity (true - control): 0.01\n"
     ]
    }
   ],
   "source": [
    "# For each unique subject, assign a random label from the set of all relation labels.\n",
    "def generate_control_labels(data_path, model_name, relations_lookup):\n",
    "    # Load the data (we assume the same format used for embeddings)\n",
    "    raw_data = torch.load(f'{DATA_PATH}/{model_name.replace(\"/\", \"_\")}.pt', weights_only=False)\n",
    "    control_labels = []\n",
    "    # Extract the set of all possible relation labels from relations_lookup keys\n",
    "    possible_labels = list(relations_lookup.keys())\n",
    "    subject_to_control = {}\n",
    "    \n",
    "    for data_point in raw_data:\n",
    "        subject = data_point['subject']\n",
    "        # If subject not seen before, assign it a random label\n",
    "        if subject not in subject_to_control:\n",
    "            subject_to_control[subject] = np.random.choice(possible_labels)\n",
    "        control_labels.append(subject_to_control[subject])\n",
    "    return np.array(control_labels).reshape(-1, 1)\n",
    "\n",
    "# Function for training a probe (using an MLP with identity activation)\n",
    "def train_probe(X, y):\n",
    "    one_hot_encoder = OneHotEncoder()\n",
    "    y_encoded = one_hot_encoder.fit_transform(y).toarray()\n",
    "    X_train, X_test, y_train, y_test = train_test_split(X, y_encoded, test_size=0.2, random_state=42)\n",
    "    \n",
    "    #our classifier has only 1 layer and 15 neurons\n",
    "    clf = MLPClassifier(hidden_layer_sizes=(15,), activation='identity', max_iter=500, random_state=42)\n",
    "    clf.fit(X_train, y_train)\n",
    "    y_pred = clf.predict(X_test)\n",
    "    accuracy = accuracy_score(y_test, y_pred)\n",
    "    return accuracy\n",
    "\n",
    "# Choose one model for demonstration\n",
    "model_name = \"Alibaba-NLP/gte-large-en-v1.5\"\n",
    "X, y_true = load_embeddings_for_model(model_name, relations_lookup)\n",
    "print(\"Embeddings shape:\", X.shape)\n",
    "\n",
    "# Train a probe on the true linguistic task\n",
    "accuracy_true = train_probe(X, y_true)\n",
    "print(f\"Accuracy on true labels: {accuracy_true:.2f}\")\n",
    "\n",
    "# Generate control labels based on subject (i.e., a random mapping per subject)\n",
    "control_labels = generate_control_labels(DATA_PATH, model_name, relations_lookup)\n",
    "\n",
    "# Train a probe on the control task\n",
    "accuracy_control = train_probe(X, control_labels)\n",
    "print(f\"Accuracy on control (random subject-based) labels: {accuracy_control:.2f}\")\n",
    "\n",
    "# Optionally, compute selectivity as difference in accuracy\n",
    "selectivity = accuracy_true - accuracy_control\n",
    "print(f\"Selectivity (true - control): {selectivity:.2f}\")"
   ]
  },
  {
   "cell_type": "markdown",
   "id": "3c507c9f",
   "metadata": {},
   "source": [
    " probe achieves 99% accuracy on true labels and 98% on control labels. The minimal difference (selectivity of 1%) indicates that the probe is likely exploiting superficial (e.g., word identity) cues that are present in both label assignments."
   ]
  },
  {
   "cell_type": "code",
   "execution_count": null,
   "id": "fa8770f4",
   "metadata": {},
   "outputs": [],
   "source": []
  }
 ],
 "metadata": {
  "kernelspec": {
   "display_name": "venv",
   "language": "python",
   "name": "python3"
  },
  "language_info": {
   "codemirror_mode": {
    "name": "ipython",
    "version": 3
   },
   "file_extension": ".py",
   "mimetype": "text/x-python",
   "name": "python",
   "nbconvert_exporter": "python",
   "pygments_lexer": "ipython3",
   "version": "3.10.0"
  }
 },
 "nbformat": 4,
 "nbformat_minor": 5
}
